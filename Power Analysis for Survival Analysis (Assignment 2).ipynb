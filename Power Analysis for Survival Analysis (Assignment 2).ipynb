{
 "cells": [
  {
   "cell_type": "code",
   "execution_count": 6,
   "metadata": {},
   "outputs": [],
   "source": [
    "library(powerSurvEpi)\n",
    "options(warn=-1)"
   ]
  },
  {
   "cell_type": "markdown",
   "metadata": {},
   "source": [
    "### Univariate Analysis\n",
    "\n",
    "From the paper, \n",
    "\n",
    "| Stages        | No Surgery (%)| Surgery (%)|\n",
    "| ------------- |---------------| -----------|\n",
    "| I             | 66.2          | 33.8       |\n",
    "| II            | 79.7          | 20.3       |\n",
    "| III           | 96.7          | 3.3        |\n",
    "\n",
    "| Stages        | OS - Hazard ratio of surgery | LCSS - Hazard ratio of surgery |\n",
    "| ------------- |------------------------------| -------------------------------|\n",
    "| I             | 0.369                        | 0.335                          |\n",
    "| II            | 0.549                        | 0.506                          |\n",
    "| III           | 0.477                        | 0.456                          |\n",
    "\n",
    "For stage I patients, the cumulative OS rate was 2.9% for no-surgery versus 21.0% for surgery, and the LCSS rate was 8.5% for no-surgery versus 43.2% for the surgery group. \n",
    "\n",
    "For stage II patients, the cumulative OS rate was 2.0% for no-surgery compared to 5.9% for surgery, and the LCSS rate was 5.5% for no-surgery compared to 20.4% for the surgery group. \n",
    "\n",
    "For stage III patients, the cumulative OS rate was 0.9% for no-surgery versus 5.1% for surgery, and the LCSS rate was 3.0% for no-surgery versus 8.0% for the surgery group. \n",
    "\n",
    "Arguments of <b>ssizeCT.default</b>:\n",
    "- power - power to detect the magnitude of the hazard ratio as small as that speciﬁed by RR. \n",
    "- k - ratio of participants in group E (experimental group) compared to group C (control group). \n",
    "- pE - probability of failure in group E (experimental group) over the maximum time period of the study (t years).\n",
    "- pC - probability of failure in group C (control group) over the maximum time period of the study (t years). \n",
    "- RR - postulated hazard ratio. \n",
    "- alpha - type I error rate."
   ]
  },
  {
   "cell_type": "markdown",
   "metadata": {},
   "source": [
    "### Sample size calculation for the Comparison of Survival Curves Between Two Groups under the Cox Proportional-Hazards Model for clinical trials."
   ]
  },
  {
   "cell_type": "code",
   "execution_count": 15,
   "metadata": {},
   "outputs": [
    {
     "data": {
      "text/html": [
       "<dl class=dl-horizontal>\n",
       "\t<dt>nE</dt>\n",
       "\t\t<dd>34</dd>\n",
       "\t<dt>nC</dt>\n",
       "\t\t<dd>66</dd>\n",
       "</dl>\n"
      ],
      "text/latex": [
       "\\begin{description*}\n",
       "\\item[nE] 34\n",
       "\\item[nC] 66\n",
       "\\end{description*}\n"
      ],
      "text/markdown": [
       "nE\n",
       ":   34nC\n",
       ":   66\n",
       "\n"
      ],
      "text/plain": [
       "nE nC \n",
       "34 66 "
      ]
     },
     "metadata": {},
     "output_type": "display_data"
    }
   ],
   "source": [
    "# For stage I OS univariate analysis, experimental group is the group who had surgery\n",
    "ssizeCT.default(power = 0.95, k = 33.8/66.2, pE = (1 - 0.21), pC = (1 - 0.029), RR = 0.369, alpha = 0.05)"
   ]
  },
  {
   "cell_type": "code",
   "execution_count": 17,
   "metadata": {},
   "outputs": [
    {
     "data": {
      "text/html": [
       "<dl class=dl-horizontal>\n",
       "\t<dt>nE</dt>\n",
       "\t\t<dd>34</dd>\n",
       "\t<dt>nC</dt>\n",
       "\t\t<dd>66</dd>\n",
       "</dl>\n"
      ],
      "text/latex": [
       "\\begin{description*}\n",
       "\\item[nE] 34\n",
       "\\item[nC] 66\n",
       "\\end{description*}\n"
      ],
      "text/markdown": [
       "nE\n",
       ":   34nC\n",
       ":   66\n",
       "\n"
      ],
      "text/plain": [
       "nE nC \n",
       "34 66 "
      ]
     },
     "metadata": {},
     "output_type": "display_data"
    }
   ],
   "source": [
    "# For stage I LCSS univariate analysis, experimental group is the group who had surgery\n",
    "ssizeCT.default(power = 0.95, k = 33.8/66.2, pE = (1 - 0.432), pC = (1 - 0.085), RR = 0.335, alpha = 0.05)"
   ]
  },
  {
   "cell_type": "code",
   "execution_count": 25,
   "metadata": {},
   "outputs": [
    {
     "data": {
      "text/html": [
       "<dl class=dl-horizontal>\n",
       "\t<dt>nE</dt>\n",
       "\t\t<dd>69</dd>\n",
       "\t<dt>nC</dt>\n",
       "\t\t<dd>268</dd>\n",
       "</dl>\n"
      ],
      "text/latex": [
       "\\begin{description*}\n",
       "\\item[nE] 69\n",
       "\\item[nC] 268\n",
       "\\end{description*}\n"
      ],
      "text/markdown": [
       "nE\n",
       ":   69nC\n",
       ":   268\n",
       "\n"
      ],
      "text/plain": [
       " nE  nC \n",
       " 69 268 "
      ]
     },
     "metadata": {},
     "output_type": "display_data"
    }
   ],
   "source": [
    "# For stage II OS univariate analysis, experimental group is the group who had surgery\n",
    "ssizeCT.default(power = 0.95, k = 20.3/79.7, pE = (1 - 0.059), pC = (1 - 0.02), RR = 0.549, alpha = 0.05)"
   ]
  },
  {
   "cell_type": "code",
   "execution_count": 23,
   "metadata": {},
   "outputs": [
    {
     "data": {
      "text/html": [
       "<dl class=dl-horizontal>\n",
       "\t<dt>nE</dt>\n",
       "\t\t<dd>60</dd>\n",
       "\t<dt>nC</dt>\n",
       "\t\t<dd>233</dd>\n",
       "</dl>\n"
      ],
      "text/latex": [
       "\\begin{description*}\n",
       "\\item[nE] 60\n",
       "\\item[nC] 233\n",
       "\\end{description*}\n"
      ],
      "text/markdown": [
       "nE\n",
       ":   60nC\n",
       ":   233\n",
       "\n"
      ],
      "text/plain": [
       " nE  nC \n",
       " 60 233 "
      ]
     },
     "metadata": {},
     "output_type": "display_data"
    }
   ],
   "source": [
    "# For stage II LCSS univariate analysis, experimental group is the group who had surgery\n",
    "ssizeCT.default(power = 0.95, k = 20.3/79.7, pE = (1 - 0.204), pC = (1 - 0.055), RR = 0.506, alpha = 0.05)"
   ]
  },
  {
   "cell_type": "code",
   "execution_count": 20,
   "metadata": {},
   "outputs": [
    {
     "data": {
      "text/html": [
       "<dl class=dl-horizontal>\n",
       "\t<dt>nE</dt>\n",
       "\t\t<dd>48</dd>\n",
       "\t<dt>nC</dt>\n",
       "\t\t<dd>1405</dd>\n",
       "</dl>\n"
      ],
      "text/latex": [
       "\\begin{description*}\n",
       "\\item[nE] 48\n",
       "\\item[nC] 1405\n",
       "\\end{description*}\n"
      ],
      "text/markdown": [
       "nE\n",
       ":   48nC\n",
       ":   1405\n",
       "\n"
      ],
      "text/plain": [
       "  nE   nC \n",
       "  48 1405 "
      ]
     },
     "metadata": {},
     "output_type": "display_data"
    }
   ],
   "source": [
    "# For stage III OS univariate analysis, experimental group is the group who had surgery\n",
    "ssizeCT.default(power = 0.95, k = 3.3/96.7, pE = (1 - 0.051), pC = (1 - 0.009), RR = 0.477, alpha = 0.05)"
   ]
  },
  {
   "cell_type": "code",
   "execution_count": 21,
   "metadata": {},
   "outputs": [
    {
     "data": {
      "text/html": [
       "<dl class=dl-horizontal>\n",
       "\t<dt>nE</dt>\n",
       "\t\t<dd>46</dd>\n",
       "\t<dt>nC</dt>\n",
       "\t\t<dd>1326</dd>\n",
       "</dl>\n"
      ],
      "text/latex": [
       "\\begin{description*}\n",
       "\\item[nE] 46\n",
       "\\item[nC] 1326\n",
       "\\end{description*}\n"
      ],
      "text/markdown": [
       "nE\n",
       ":   46nC\n",
       ":   1326\n",
       "\n"
      ],
      "text/plain": [
       "  nE   nC \n",
       "  46 1326 "
      ]
     },
     "metadata": {},
     "output_type": "display_data"
    }
   ],
   "source": [
    "# For stage III LCSS univariate analysis, experimental group is the group who had surgery\n",
    "ssizeCT.default(power = 0.95, k = 3.3/96.7, pE = (1 - 0.08), pC = (1 - 0.03), RR = 0.456, alpha = 0.05)"
   ]
  },
  {
   "cell_type": "markdown",
   "metadata": {},
   "source": [
    "### Summary of results\n",
    "\n",
    "<head>\n",
    "<style>\n",
    "table {\n",
    "    font-family: arial, sans-serif;\n",
    "    border-collapse: collapse;\n",
    "    width: 100%;\n",
    "}\n",
    "\n",
    "td, th {\n",
    "    border: 2px solid #dddddd;\n",
    "    text-align: left;\n",
    "    padding: 8px;\n",
    "}\n",
    "\n",
    "tr:nth-child(even) {\n",
    "    background-color: #dddddd;\n",
    "}\n",
    "</style>\n",
    "</head>\n",
    "\n",
    "<body>\n",
    "<table align=\"left\">\n",
    "  <tr>\n",
    "  \t<td><b>Stages</b></td>\n",
    "    <td colspan=\"2\"><b>OS</b></td>\n",
    "    <td colspan=\"2\"><b>LCSS</b></td>\n",
    "  </tr>\n",
    "  <tr>\n",
    "  \t<td></td>\n",
    "    <td>Surgery</td>\n",
    "    <td>No Surgery</td>\n",
    "    <td>Surgery</td>\n",
    "    <td>No Surgery</td>\n",
    "  </tr>\n",
    "  <tr>\n",
    "  \t<td><b>I</b></td>\n",
    "    <td>34(344)</td>\n",
    "    <td>66(674)</td>\n",
    "    <td>34(344)</td>\n",
    "    <td>66(674)</td>\n",
    "  </tr>\n",
    "  <tr>\n",
    "  \t<td><b>II</b></td>\n",
    "    <td bgcolor=\"#F37676\">69(60)</td>\n",
    "    <td bgcolor=\"#F37676\">268(235)</td>\n",
    "    <td>60(60)</td>\n",
    "    <td>233(235)</td>\n",
    "  </tr>\n",
    "  <tr>\n",
    "  \t<td><b>III</b></td>\n",
    "    <td>48(116)</td>\n",
    "    <td>1405(3351)</td>\n",
    "    <td>46(116)</td>\n",
    "    <td>1326(3351)</td>\n",
    "  </tr>\n",
    "</table>\n",
    "</body>"
   ]
  },
  {
   "cell_type": "code",
   "execution_count": null,
   "metadata": {
    "collapsed": true
   },
   "outputs": [],
   "source": []
  },
  {
   "cell_type": "code",
   "execution_count": null,
   "metadata": {
    "collapsed": true
   },
   "outputs": [],
   "source": []
  },
  {
   "cell_type": "code",
   "execution_count": null,
   "metadata": {
    "collapsed": true
   },
   "outputs": [],
   "source": []
  },
  {
   "cell_type": "code",
   "execution_count": null,
   "metadata": {
    "collapsed": true
   },
   "outputs": [],
   "source": []
  }
 ],
 "metadata": {
  "kernelspec": {
   "display_name": "R",
   "language": "R",
   "name": "ir"
  },
  "language_info": {
   "codemirror_mode": "r",
   "file_extension": ".r",
   "mimetype": "text/x-r-source",
   "name": "R",
   "pygments_lexer": "r",
   "version": "3.4.3"
  },
  "varInspector": {
   "cols": {
    "lenName": 16,
    "lenType": 16,
    "lenVar": 40
   },
   "kernels_config": {
    "python": {
     "delete_cmd_postfix": "",
     "delete_cmd_prefix": "del ",
     "library": "var_list.py",
     "varRefreshCmd": "print(var_dic_list())"
    },
    "r": {
     "delete_cmd_postfix": ") ",
     "delete_cmd_prefix": "rm(",
     "library": "var_list.r",
     "varRefreshCmd": "cat(var_dic_list()) "
    }
   },
   "types_to_exclude": [
    "module",
    "function",
    "builtin_function_or_method",
    "instance",
    "_Feature"
   ],
   "window_display": false
  }
 },
 "nbformat": 4,
 "nbformat_minor": 2
}
