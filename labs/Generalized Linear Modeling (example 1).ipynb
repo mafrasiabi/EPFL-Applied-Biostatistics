{
 "cells": [
  {
   "cell_type": "code",
   "execution_count": 1,
   "metadata": {
    "collapsed": true
   },
   "outputs": [],
   "source": [
    "data(\"plasma\", package = \"HSAUR3\") "
   ]
  },
  {
   "cell_type": "code",
   "execution_count": 3,
   "metadata": {},
   "outputs": [
    {
     "data": {
      "text/html": [
       "<table>\n",
       "<thead><tr><th scope=col>fibrinogen</th><th scope=col>globulin</th><th scope=col>ESR</th></tr></thead>\n",
       "<tbody>\n",
       "\t<tr><td>2.52       </td><td>38         </td><td>ESR &lt; 20</td></tr>\n",
       "\t<tr><td>2.56       </td><td>31         </td><td>ESR &lt; 20</td></tr>\n",
       "\t<tr><td>2.19       </td><td>33         </td><td>ESR &lt; 20</td></tr>\n",
       "\t<tr><td>2.18       </td><td>31         </td><td>ESR &lt; 20</td></tr>\n",
       "\t<tr><td>3.41       </td><td>37         </td><td>ESR &lt; 20</td></tr>\n",
       "\t<tr><td>2.46       </td><td>36         </td><td>ESR &lt; 20</td></tr>\n",
       "</tbody>\n",
       "</table>\n"
      ],
      "text/latex": [
       "\\begin{tabular}{r|lll}\n",
       " fibrinogen & globulin & ESR\\\\\n",
       "\\hline\n",
       "\t 2.52     & 38       & ESR < 20\\\\\n",
       "\t 2.56     & 31       & ESR < 20\\\\\n",
       "\t 2.19     & 33       & ESR < 20\\\\\n",
       "\t 2.18     & 31       & ESR < 20\\\\\n",
       "\t 3.41     & 37       & ESR < 20\\\\\n",
       "\t 2.46     & 36       & ESR < 20\\\\\n",
       "\\end{tabular}\n"
      ],
      "text/markdown": [
       "\n",
       "fibrinogen | globulin | ESR | \n",
       "|---|---|---|---|---|---|\n",
       "| 2.52     | 38       | ESR < 20 | \n",
       "| 2.56     | 31       | ESR < 20 | \n",
       "| 2.19     | 33       | ESR < 20 | \n",
       "| 2.18     | 31       | ESR < 20 | \n",
       "| 3.41     | 37       | ESR < 20 | \n",
       "| 2.46     | 36       | ESR < 20 | \n",
       "\n",
       "\n"
      ],
      "text/plain": [
       "  fibrinogen globulin ESR     \n",
       "1 2.52       38       ESR < 20\n",
       "2 2.56       31       ESR < 20\n",
       "3 2.19       33       ESR < 20\n",
       "4 2.18       31       ESR < 20\n",
       "5 3.41       37       ESR < 20\n",
       "6 2.46       36       ESR < 20"
      ]
     },
     "metadata": {},
     "output_type": "display_data"
    }
   ],
   "source": [
    "head(plasma)"
   ]
  },
  {
   "cell_type": "markdown",
   "metadata": {},
   "source": [
    " Here, we will look at **conditional density plots** of the response variable ESR given each each of the (numerical) explanatory variables fibrinogen and gamma globulin change."
   ]
  },
  {
   "cell_type": "code",
   "execution_count": 2,
   "metadata": {},
   "outputs": [
    {
     "data": {
      "image/png": "[encoded data removed]",
      "text/plain": [
       "Plot with title \"\""
      ]
     },
     "metadata": {},
     "output_type": "display_data"
    }
   ],
   "source": [
    "layout(matrix(1:2, nrow = 2)) \n",
    "cdplot(ESR ~ fibrinogen, data = plasma) \n",
    "cdplot(ESR ~ globulin, data = plasma)"
   ]
  },
  {
   "cell_type": "markdown",
   "metadata": {},
   "source": [
    "The conditional density for each ESR category (smaller or larger than 20) is shown in a different shade, with the numerical value on the right hand vertical scale. Here, we can see that higher levels of each protein are associated with ESR values above 20, since the conditional probability for ESR bigger than 20 in both plots is larger as we move to the right of the plot horizontally (larger values of fibrinogen/gamma globulin).\n",
    "\n",
    "Now, fit a logistic regression model to the data with the `glm` function, including only the single variable `fibrinogen`:"
   ]
  },
  {
   "cell_type": "code",
   "execution_count": 4,
   "metadata": {
    "collapsed": true
   },
   "outputs": [],
   "source": [
    "plasma.glm.1 <- glm(ESR ~ fibrinogen, data = plasma, family = binomial())"
   ]
  },
  {
   "cell_type": "markdown",
   "metadata": {},
   "source": [
    "As is the case for the `lm` function, an intercept term is automatically included in the model. The `family` argument for `glm` specifies the distribution of the response - in this case, a binomial distribution. The default **link** function for the binomial family is **logistic**.\n",
    "\n",
    "Apply the `summary` function to your fitted model to obtain a description of the fitting. Is the coefficient for `fibrinogen` significant at the 5% level? Interpret the meaning of this coefficient.\n",
    "\n",
    "You can obtain a 95% confidence interval for the coefficient (make sure to read the help):"
   ]
  },
  {
   "cell_type": "code",
   "execution_count": 5,
   "metadata": {},
   "outputs": [
    {
     "data": {
      "text/plain": [
       "\n",
       "Call:\n",
       "glm(formula = ESR ~ fibrinogen, family = binomial(), data = plasma)\n",
       "\n",
       "Deviance Residuals: \n",
       "    Min       1Q   Median       3Q      Max  \n",
       "-0.9298  -0.5399  -0.4382  -0.3356   2.4794  \n",
       "\n",
       "Coefficients:\n",
       "            Estimate Std. Error z value Pr(>|z|)  \n",
       "(Intercept)  -6.8451     2.7703  -2.471   0.0135 *\n",
       "fibrinogen    1.8271     0.9009   2.028   0.0425 *\n",
       "---\n",
       "Signif. codes:  0 '***' 0.001 '**' 0.01 '*' 0.05 '.' 0.1 ' ' 1\n",
       "\n",
       "(Dispersion parameter for binomial family taken to be 1)\n",
       "\n",
       "    Null deviance: 30.885  on 31  degrees of freedom\n",
       "Residual deviance: 24.840  on 30  degrees of freedom\n",
       "AIC: 28.84\n",
       "\n",
       "Number of Fisher Scoring iterations: 5\n"
      ]
     },
     "metadata": {},
     "output_type": "display_data"
    }
   ],
   "source": [
    "summary(plasma.glm.1)"
   ]
  },
  {
   "cell_type": "code",
   "execution_count": 8,
   "metadata": {},
   "outputs": [
    {
     "name": "stderr",
     "output_type": "stream",
     "text": [
      "Waiting for profiling to be done...\n"
     ]
    },
    {
     "data": {
      "text/html": [
       "<dl class=dl-horizontal>\n",
       "\t<dt>2.5 %</dt>\n",
       "\t\t<dd>-13.6565433585513</dd>\n",
       "\t<dt>97.5 %</dt>\n",
       "\t\t<dd>-2.32729350857072</dd>\n",
       "</dl>\n"
      ],
      "text/latex": [
       "\\begin{description*}\n",
       "\\item[2.5 \\textbackslash{}\\%] -13.6565433585513\n",
       "\\item[97.5 \\textbackslash{}\\%] -2.32729350857072\n",
       "\\end{description*}\n"
      ],
      "text/markdown": [
       "2.5 %\n",
       ":   -13.656543358551397.5 %\n",
       ":   -2.32729350857072\n",
       "\n"
      ],
      "text/plain": [
       "     2.5 %     97.5 % \n",
       "-13.656543  -2.327294 "
      ]
     },
     "metadata": {},
     "output_type": "display_data"
    }
   ],
   "source": [
    "confint(plasma.glm.1, parm = \"(Intercept)\") "
   ]
  },
  {
   "cell_type": "code",
   "execution_count": 9,
   "metadata": {},
   "outputs": [
    {
     "name": "stderr",
     "output_type": "stream",
     "text": [
      "Waiting for profiling to be done...\n"
     ]
    },
    {
     "data": {
      "text/html": [
       "<dl class=dl-horizontal>\n",
       "\t<dt>2.5 %</dt>\n",
       "\t\t<dd>0.338761852359582</dd>\n",
       "\t<dt>97.5 %</dt>\n",
       "\t\t<dd>3.99849210580324</dd>\n",
       "</dl>\n"
      ],
      "text/latex": [
       "\\begin{description*}\n",
       "\\item[2.5 \\textbackslash{}\\%] 0.338761852359582\n",
       "\\item[97.5 \\textbackslash{}\\%] 3.99849210580324\n",
       "\\end{description*}\n"
      ],
      "text/markdown": [
       "2.5 %\n",
       ":   0.33876185235958297.5 %\n",
       ":   3.99849210580324\n",
       "\n"
      ],
      "text/plain": [
       "    2.5 %    97.5 % \n",
       "0.3387619 3.9984921 "
      ]
     },
     "metadata": {},
     "output_type": "display_data"
    }
   ],
   "source": [
    "confint(plasma.glm.1, parm = \"fibrinogen\") "
   ]
  },
  {
   "cell_type": "markdown",
   "metadata": {},
   "source": [
    "Since these values correspond to the **log-odds**, we can get the **odds** by exponentiating the estimate (subsetting `coef` according to the value that we want; here it is for `fibrinogen` and not the intercept) and confidence interval:"
   ]
  },
  {
   "cell_type": "code",
   "execution_count": 10,
   "metadata": {},
   "outputs": [
    {
     "data": {
      "text/html": [
       "<strong>fibrinogen:</strong> 6.21571544855966"
      ],
      "text/latex": [
       "\\textbf{fibrinogen:} 6.21571544855966"
      ],
      "text/markdown": [
       "**fibrinogen:** 6.21571544855966"
      ],
      "text/plain": [
       "fibrinogen \n",
       "  6.215715 "
      ]
     },
     "metadata": {},
     "output_type": "display_data"
    },
    {
     "name": "stderr",
     "output_type": "stream",
     "text": [
      "Waiting for profiling to be done...\n"
     ]
    },
    {
     "data": {
      "text/html": [
       "<dl class=dl-horizontal>\n",
       "\t<dt>2.5 %</dt>\n",
       "\t\t<dd>1.40320913447417</dd>\n",
       "\t<dt>97.5 %</dt>\n",
       "\t\t<dd>54.5158838395011</dd>\n",
       "</dl>\n"
      ],
      "text/latex": [
       "\\begin{description*}\n",
       "\\item[2.5 \\textbackslash{}\\%] 1.40320913447417\n",
       "\\item[97.5 \\textbackslash{}\\%] 54.5158838395011\n",
       "\\end{description*}\n"
      ],
      "text/markdown": [
       "2.5 %\n",
       ":   1.4032091344741797.5 %\n",
       ":   54.5158838395011\n",
       "\n"
      ],
      "text/plain": [
       "    2.5 %    97.5 % \n",
       " 1.403209 54.515884 "
      ]
     },
     "metadata": {},
     "output_type": "display_data"
    }
   ],
   "source": [
    "exp(coef(plasma.glm.1)[\"fibrinogen\"]) \n",
    "exp(confint(plasma.glm.1, parm = \"fibrinogen\"))"
   ]
  },
  {
   "cell_type": "code",
   "execution_count": 11,
   "metadata": {},
   "outputs": [
    {
     "data": {
      "text/html": [
       "<strong>(Intercept):</strong> 0.00106468649274387"
      ],
      "text/latex": [
       "\\textbf{(Intercept):} 0.00106468649274387"
      ],
      "text/markdown": [
       "**(Intercept):** 0.00106468649274387"
      ],
      "text/plain": [
       "(Intercept) \n",
       "0.001064686 "
      ]
     },
     "metadata": {},
     "output_type": "display_data"
    },
    {
     "name": "stderr",
     "output_type": "stream",
     "text": [
      "Waiting for profiling to be done...\n"
     ]
    },
    {
     "data": {
      "text/html": [
       "<dl class=dl-horizontal>\n",
       "\t<dt>2.5 %</dt>\n",
       "\t\t<dd>1.17229949393853e-06</dd>\n",
       "\t<dt>97.5 %</dt>\n",
       "\t\t<dd>0.0975594338671765</dd>\n",
       "</dl>\n"
      ],
      "text/latex": [
       "\\begin{description*}\n",
       "\\item[2.5 \\textbackslash{}\\%] 1.17229949393853e-06\n",
       "\\item[97.5 \\textbackslash{}\\%] 0.0975594338671765\n",
       "\\end{description*}\n"
      ],
      "text/markdown": [
       "2.5 %\n",
       ":   1.17229949393853e-0697.5 %\n",
       ":   0.0975594338671765\n",
       "\n"
      ],
      "text/plain": [
       "       2.5 %       97.5 % \n",
       "1.172299e-06 9.755943e-02 "
      ]
     },
     "metadata": {},
     "output_type": "display_data"
    }
   ],
   "source": [
    "exp(coef(plasma.glm.1)[\"(Intercept)\"]) \n",
    "exp(confint(plasma.glm.1, parm = \"(Intercept)\"))"
   ]
  },
  {
   "cell_type": "code",
   "execution_count": 12,
   "metadata": {
    "collapsed": true
   },
   "outputs": [],
   "source": [
    "plasma.glm.2 <- glm(ESR ~ fibrinogen + globulin, data = plasma, family = binomial())"
   ]
  },
  {
   "cell_type": "code",
   "execution_count": 13,
   "metadata": {},
   "outputs": [
    {
     "data": {
      "text/plain": [
       "\n",
       "Call:\n",
       "glm(formula = ESR ~ fibrinogen + globulin, family = binomial(), \n",
       "    data = plasma)\n",
       "\n",
       "Deviance Residuals: \n",
       "    Min       1Q   Median       3Q      Max  \n",
       "-0.9683  -0.6122  -0.3458  -0.2116   2.2636  \n",
       "\n",
       "Coefficients:\n",
       "            Estimate Std. Error z value Pr(>|z|)  \n",
       "(Intercept) -12.7921     5.7963  -2.207   0.0273 *\n",
       "fibrinogen    1.9104     0.9710   1.967   0.0491 *\n",
       "globulin      0.1558     0.1195   1.303   0.1925  \n",
       "---\n",
       "Signif. codes:  0 '***' 0.001 '**' 0.01 '*' 0.05 '.' 0.1 ' ' 1\n",
       "\n",
       "(Dispersion parameter for binomial family taken to be 1)\n",
       "\n",
       "    Null deviance: 30.885  on 31  degrees of freedom\n",
       "Residual deviance: 22.971  on 29  degrees of freedom\n",
       "AIC: 28.971\n",
       "\n",
       "Number of Fisher Scoring iterations: 5\n"
      ]
     },
     "metadata": {},
     "output_type": "display_data"
    }
   ],
   "source": [
    "summary(plasma.glm.2)"
   ]
  },
  {
   "cell_type": "markdown",
   "metadata": {},
   "source": [
    "You can perform a likelihood ratio (chi-square) test by subtracting the residual deviance of the second (bigger) model from that of the first (smaller) model, then comparing the result to a chi-square distribution with degrees of freedom equal to the difference in degrees of freedom between the two models:"
   ]
  },
  {
   "cell_type": "code",
   "execution_count": 14,
   "metadata": {},
   "outputs": [
    {
     "data": {
      "text/html": [
       "<table>\n",
       "<thead><tr><th scope=col>Resid. Df</th><th scope=col>Resid. Dev</th><th scope=col>Df</th><th scope=col>Deviance</th><th scope=col>Pr(&gt;Chi)</th></tr></thead>\n",
       "<tbody>\n",
       "\t<tr><td>30       </td><td>24.84036 </td><td>NA       </td><td>      NA </td><td>       NA</td></tr>\n",
       "\t<tr><td>29       </td><td>22.97111 </td><td> 1       </td><td>1.869242 </td><td>0.1715619</td></tr>\n",
       "</tbody>\n",
       "</table>\n"
      ],
      "text/latex": [
       "\\begin{tabular}{r|lllll}\n",
       " Resid. Df & Resid. Dev & Df & Deviance & Pr(>Chi)\\\\\n",
       "\\hline\n",
       "\t 30        & 24.84036  & NA        &       NA  &        NA\\\\\n",
       "\t 29        & 22.97111  &  1        & 1.869242  & 0.1715619\\\\\n",
       "\\end{tabular}\n"
      ],
      "text/markdown": [
       "\n",
       "Resid. Df | Resid. Dev | Df | Deviance | Pr(>Chi) | \n",
       "|---|---|\n",
       "| 30        | 24.84036  | NA        |       NA  |        NA | \n",
       "| 29        | 22.97111  |  1        | 1.869242  | 0.1715619 | \n",
       "\n",
       "\n"
      ],
      "text/plain": [
       "  Resid. Df Resid. Dev Df Deviance Pr(>Chi) \n",
       "1 30        24.84036   NA       NA        NA\n",
       "2 29        22.97111    1 1.869242 0.1715619"
      ]
     },
     "metadata": {},
     "output_type": "display_data"
    }
   ],
   "source": [
    "anova(plasma.glm.1, plasma.glm.2, test = \"Chisq\")"
   ]
  },
  {
   "cell_type": "markdown",
   "metadata": {},
   "source": [
    "Here, we see that the `p`-value is large, meaning that we do **not** reject the null hypothesis that the coefficient for `globulin` is zero.\n",
    "\n",
    "Even though we would not include `globulin` in our final model, for purposes of illustration we will use model 2 to obtain predicted values for each observation, then plot these against the values of **both** explanatory variables using the `symbols` to create a **bubbleplot**. The estimated conditional probability of an ESR value larger than 20 is obtained by:"
   ]
  },
  {
   "cell_type": "code",
   "execution_count": 15,
   "metadata": {
    "collapsed": true
   },
   "outputs": [],
   "source": [
    "prob <- predict(plasma.glm.2, type = \"response\")"
   ]
  },
  {
   "cell_type": "markdown",
   "metadata": {},
   "source": [
    "and then assign a larger circle to observations with larger probability:"
   ]
  },
  {
   "cell_type": "code",
   "execution_count": 16,
   "metadata": {},
   "outputs": [
    {
     "data": {
      "image/png": "[encoded data removed]",
      "text/plain": [
       "plot without title"
      ]
     },
     "metadata": {},
     "output_type": "display_data"
    }
   ],
   "source": [
    "plot(globulin ~ fibrinogen, data = plasma, xlim = c(2,6), ylim = c(25,55), pch = \"*\") \n",
    "symbols(plasma$fibrinogen, plasma$globulin, circles = prob, add = TRUE)"
   ]
  },
  {
   "cell_type": "markdown",
   "metadata": {},
   "source": [
    "This plot shows an increasing probability of ESR bigger than 20 (larger circles) with increasing fibrinogen and, to a lesser extent, with increasing gamma globulin."
   ]
  }
 ],
 "metadata": {
  "kernelspec": {
   "display_name": "R",
   "language": "R",
   "name": "ir"
  },
  "language_info": {
   "codemirror_mode": "r",
   "file_extension": ".r",
   "mimetype": "text/x-r-source",
   "name": "R",
   "pygments_lexer": "r",
   "version": "3.4.3"
  }
 },
 "nbformat": 4,
 "nbformat_minor": 2
}
