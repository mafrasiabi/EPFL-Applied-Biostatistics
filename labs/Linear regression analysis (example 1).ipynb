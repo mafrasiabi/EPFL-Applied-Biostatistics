{
 "cells": [
  {
   "cell_type": "markdown",
   "metadata": {},
   "source": [
    "# Linear regression analysis (example 1)"
   ]
  },
  {
   "cell_type": "markdown",
   "metadata": {},
   "source": [
    "### Load packages and datasets"
   ]
  },
  {
   "cell_type": "markdown",
   "metadata": {},
   "source": [
    "We want to use the **hubble** dataset which can be found in the **gamair** package."
   ]
  },
  {
   "cell_type": "code",
   "execution_count": 6,
   "metadata": {},
   "outputs": [
    {
     "data": {
      "text/html": [
       "<ol class=list-inline>\n",
       "\t<li>'gamair'</li>\n",
       "\t<li>'stats'</li>\n",
       "\t<li>'graphics'</li>\n",
       "\t<li>'grDevices'</li>\n",
       "\t<li>'utils'</li>\n",
       "\t<li>'datasets'</li>\n",
       "\t<li>'methods'</li>\n",
       "\t<li>'base'</li>\n",
       "</ol>\n"
      ],
      "text/latex": [
       "\\begin{enumerate*}\n",
       "\\item 'gamair'\n",
       "\\item 'stats'\n",
       "\\item 'graphics'\n",
       "\\item 'grDevices'\n",
       "\\item 'utils'\n",
       "\\item 'datasets'\n",
       "\\item 'methods'\n",
       "\\item 'base'\n",
       "\\end{enumerate*}\n"
      ],
      "text/markdown": [
       "1. 'gamair'\n",
       "2. 'stats'\n",
       "3. 'graphics'\n",
       "4. 'grDevices'\n",
       "5. 'utils'\n",
       "6. 'datasets'\n",
       "7. 'methods'\n",
       "8. 'base'\n",
       "\n",
       "\n"
      ],
      "text/plain": [
       "[1] \"gamair\"    \"stats\"     \"graphics\"  \"grDevices\" \"utils\"     \"datasets\" \n",
       "[7] \"methods\"   \"base\"     "
      ]
     },
     "metadata": {},
     "output_type": "display_data"
    }
   ],
   "source": [
    "# Load gamair package\n",
    "library(gamair)\n",
    "\n",
    "# Verify \n",
    "(.packages())"
   ]
  },
  {
   "cell_type": "code",
   "execution_count": 10,
   "metadata": {
    "collapsed": true
   },
   "outputs": [],
   "source": [
    "# Load the hubble dataset\n",
    "data(hubble)"
   ]
  },
  {
   "cell_type": "code",
   "execution_count": 12,
   "metadata": {
    "scrolled": true
   },
   "outputs": [
    {
     "data": {
      "text/html": [
       "<table>\n",
       "<thead><tr><th scope=col>Galaxy</th><th scope=col>y</th><th scope=col>x</th></tr></thead>\n",
       "<tbody>\n",
       "\t<tr><td>NGC0300 </td><td> 133    </td><td> 2.00   </td></tr>\n",
       "\t<tr><td>NGC0925 </td><td> 664    </td><td> 9.16   </td></tr>\n",
       "\t<tr><td>NGC1326A</td><td>1794    </td><td>16.14   </td></tr>\n",
       "\t<tr><td>NGC1365 </td><td>1594    </td><td>17.95   </td></tr>\n",
       "\t<tr><td>NGC1425 </td><td>1473    </td><td>21.88   </td></tr>\n",
       "\t<tr><td>NGC2403 </td><td> 278    </td><td> 3.22   </td></tr>\n",
       "\t<tr><td>NGC2541 </td><td> 714    </td><td>11.22   </td></tr>\n",
       "\t<tr><td>NGC2090 </td><td> 882    </td><td>11.75   </td></tr>\n",
       "\t<tr><td>NGC3031 </td><td>  80    </td><td> 3.63   </td></tr>\n",
       "\t<tr><td>NGC3198 </td><td> 772    </td><td>13.80   </td></tr>\n",
       "\t<tr><td>NGC3351 </td><td> 642    </td><td>10.00   </td></tr>\n",
       "\t<tr><td>NGC3368 </td><td> 768    </td><td>10.52   </td></tr>\n",
       "\t<tr><td>NGC3621 </td><td> 609    </td><td> 6.64   </td></tr>\n",
       "\t<tr><td>NGC4321 </td><td>1433    </td><td>15.21   </td></tr>\n",
       "\t<tr><td>NGC4414 </td><td> 619    </td><td>17.70   </td></tr>\n",
       "\t<tr><td>NGC4496A</td><td>1424    </td><td>14.86   </td></tr>\n",
       "\t<tr><td>NGC4548 </td><td>1384    </td><td>16.22   </td></tr>\n",
       "\t<tr><td>NGC4535 </td><td>1444    </td><td>15.78   </td></tr>\n",
       "\t<tr><td>NGC4536 </td><td>1423    </td><td>14.93   </td></tr>\n",
       "\t<tr><td>NGC4639 </td><td>1403    </td><td>21.98   </td></tr>\n",
       "\t<tr><td>NGC4725 </td><td>1103    </td><td>12.36   </td></tr>\n",
       "\t<tr><td>IC4182  </td><td> 318    </td><td> 4.49   </td></tr>\n",
       "\t<tr><td>NGC5253 </td><td> 232    </td><td> 3.15   </td></tr>\n",
       "\t<tr><td>NGC7331 </td><td> 999    </td><td>14.72   </td></tr>\n",
       "</tbody>\n",
       "</table>\n"
      ],
      "text/latex": [
       "\\begin{tabular}{r|lll}\n",
       " Galaxy & y & x\\\\\n",
       "\\hline\n",
       "\t NGC0300  &  133     &  2.00   \\\\\n",
       "\t NGC0925  &  664     &  9.16   \\\\\n",
       "\t NGC1326A & 1794     & 16.14   \\\\\n",
       "\t NGC1365  & 1594     & 17.95   \\\\\n",
       "\t NGC1425  & 1473     & 21.88   \\\\\n",
       "\t NGC2403  &  278     &  3.22   \\\\\n",
       "\t NGC2541  &  714     & 11.22   \\\\\n",
       "\t NGC2090  &  882     & 11.75   \\\\\n",
       "\t NGC3031  &   80     &  3.63   \\\\\n",
       "\t NGC3198  &  772     & 13.80   \\\\\n",
       "\t NGC3351  &  642     & 10.00   \\\\\n",
       "\t NGC3368  &  768     & 10.52   \\\\\n",
       "\t NGC3621  &  609     &  6.64   \\\\\n",
       "\t NGC4321  & 1433     & 15.21   \\\\\n",
       "\t NGC4414  &  619     & 17.70   \\\\\n",
       "\t NGC4496A & 1424     & 14.86   \\\\\n",
       "\t NGC4548  & 1384     & 16.22   \\\\\n",
       "\t NGC4535  & 1444     & 15.78   \\\\\n",
       "\t NGC4536  & 1423     & 14.93   \\\\\n",
       "\t NGC4639  & 1403     & 21.98   \\\\\n",
       "\t NGC4725  & 1103     & 12.36   \\\\\n",
       "\t IC4182   &  318     &  4.49   \\\\\n",
       "\t NGC5253  &  232     &  3.15   \\\\\n",
       "\t NGC7331  &  999     & 14.72   \\\\\n",
       "\\end{tabular}\n"
      ],
      "text/markdown": [
       "\n",
       "Galaxy | y | x | \n",
       "|---|---|---|---|---|---|---|---|---|---|---|---|---|---|---|---|---|---|---|---|---|---|---|---|\n",
       "| NGC0300  |  133     |  2.00    | \n",
       "| NGC0925  |  664     |  9.16    | \n",
       "| NGC1326A | 1794     | 16.14    | \n",
       "| NGC1365  | 1594     | 17.95    | \n",
       "| NGC1425  | 1473     | 21.88    | \n",
       "| NGC2403  |  278     |  3.22    | \n",
       "| NGC2541  |  714     | 11.22    | \n",
       "| NGC2090  |  882     | 11.75    | \n",
       "| NGC3031  |   80     |  3.63    | \n",
       "| NGC3198  |  772     | 13.80    | \n",
       "| NGC3351  |  642     | 10.00    | \n",
       "| NGC3368  |  768     | 10.52    | \n",
       "| NGC3621  |  609     |  6.64    | \n",
       "| NGC4321  | 1433     | 15.21    | \n",
       "| NGC4414  |  619     | 17.70    | \n",
       "| NGC4496A | 1424     | 14.86    | \n",
       "| NGC4548  | 1384     | 16.22    | \n",
       "| NGC4535  | 1444     | 15.78    | \n",
       "| NGC4536  | 1423     | 14.93    | \n",
       "| NGC4639  | 1403     | 21.98    | \n",
       "| NGC4725  | 1103     | 12.36    | \n",
       "| IC4182   |  318     |  4.49    | \n",
       "| NGC5253  |  232     |  3.15    | \n",
       "| NGC7331  |  999     | 14.72    | \n",
       "\n",
       "\n"
      ],
      "text/plain": [
       "   Galaxy   y    x    \n",
       "1  NGC0300   133  2.00\n",
       "2  NGC0925   664  9.16\n",
       "3  NGC1326A 1794 16.14\n",
       "4  NGC1365  1594 17.95\n",
       "5  NGC1425  1473 21.88\n",
       "6  NGC2403   278  3.22\n",
       "7  NGC2541   714 11.22\n",
       "8  NGC2090   882 11.75\n",
       "9  NGC3031    80  3.63\n",
       "10 NGC3198   772 13.80\n",
       "11 NGC3351   642 10.00\n",
       "12 NGC3368   768 10.52\n",
       "13 NGC3621   609  6.64\n",
       "14 NGC4321  1433 15.21\n",
       "15 NGC4414   619 17.70\n",
       "16 NGC4496A 1424 14.86\n",
       "17 NGC4548  1384 16.22\n",
       "18 NGC4535  1444 15.78\n",
       "19 NGC4536  1423 14.93\n",
       "20 NGC4639  1403 21.98\n",
       "21 NGC4725  1103 12.36\n",
       "22 IC4182    318  4.49\n",
       "23 NGC5253   232  3.15\n",
       "24 NGC7331   999 14.72"
      ]
     },
     "metadata": {},
     "output_type": "display_data"
    }
   ],
   "source": [
    "# Look at the dataset\n",
    "hubble"
   ]
  },
  {
   "cell_type": "code",
   "execution_count": 14,
   "metadata": {},
   "outputs": [
    {
     "data": {
      "text/html": [
       "<ol class=list-inline>\n",
       "\t<li>'Galaxy'</li>\n",
       "\t<li>'y'</li>\n",
       "\t<li>'x'</li>\n",
       "</ol>\n"
      ],
      "text/latex": [
       "\\begin{enumerate*}\n",
       "\\item 'Galaxy'\n",
       "\\item 'y'\n",
       "\\item 'x'\n",
       "\\end{enumerate*}\n"
      ],
      "text/markdown": [
       "1. 'Galaxy'\n",
       "2. 'y'\n",
       "3. 'x'\n",
       "\n",
       "\n"
      ],
      "text/plain": [
       "[1] \"Galaxy\" \"y\"      \"x\"     "
      ]
     },
     "metadata": {},
     "output_type": "display_data"
    }
   ],
   "source": [
    "# Identify the column names\n",
    "names(hubble)"
   ]
  },
  {
   "cell_type": "markdown",
   "metadata": {},
   "source": [
    "### Scatter plot for visualization"
   ]
  },
  {
   "cell_type": "code",
   "execution_count": 23,
   "metadata": {},
   "outputs": [
    {
     "data": {
      "image/png": "[encoded data removed]",
      "text/plain": [
       "plot without title"
      ]
     },
     "metadata": {},
     "output_type": "display_data"
    }
   ],
   "source": [
    "plot(hubble$x, hubble$y, xlab = 'x (distance)', ylab = 'y (velocity)')"
   ]
  },
  {
   "cell_type": "markdown",
   "metadata": {},
   "source": [
    "We can easily notice a strong correlation between **y** (velocity) and **x** (distance)."
   ]
  },
  {
   "cell_type": "markdown",
   "metadata": {},
   "source": [
    "### Fit a linear model"
   ]
  },
  {
   "cell_type": "markdown",
   "metadata": {},
   "source": [
    "We now fit a linear model of the form y = $\\beta$x to the data, where $\\beta$ is the parameter. In this example we fit without an intercept term ('-1'), as it does not make physical sense in this case."
   ]
  },
  {
   "cell_type": "code",
   "execution_count": 42,
   "metadata": {
    "collapsed": true
   },
   "outputs": [],
   "source": [
    "hubble_model <- lm(y ~ x - 1, data=hubble) "
   ]
  },
  {
   "cell_type": "code",
   "execution_count": 43,
   "metadata": {},
   "outputs": [
    {
     "data": {
      "image/png": "[encoded data removed]",
      "text/plain": [
       "plot without title"
      ]
     },
     "metadata": {},
     "output_type": "display_data"
    }
   ],
   "source": [
    "plot(y ~ x, data = hubble, xlab = 'x (distance)', ylab = 'y (velocity)')\n",
    "abline(hubble_model)"
   ]
  },
  {
   "cell_type": "code",
   "execution_count": 26,
   "metadata": {},
   "outputs": [
    {
     "data": {
      "text/html": [
       "<strong>x:</strong> 76.5811720291694"
      ],
      "text/latex": [
       "\\textbf{x:} 76.5811720291694"
      ],
      "text/markdown": [
       "**x:** 76.5811720291694"
      ],
      "text/plain": [
       "       x \n",
       "76.58117 "
      ]
     },
     "metadata": {},
     "output_type": "display_data"
    }
   ],
   "source": [
    "coef(hubble_model)"
   ]
  },
  {
   "cell_type": "code",
   "execution_count": 34,
   "metadata": {},
   "outputs": [
    {
     "data": {
      "image/png": "[encoded data removed]",
      "text/plain": [
       "Plot with title \"\""
      ]
     },
     "metadata": {},
     "output_type": "display_data"
    }
   ],
   "source": [
    "layout(matrix(1:2,ncol=2))\n",
    "plot(hubble_model, which = 1)\n",
    "plot(hubble_model, which = 2)"
   ]
  },
  {
   "cell_type": "code",
   "execution_count": 36,
   "metadata": {},
   "outputs": [
    {
     "data": {
      "image/png": "[encoded data removed]",
      "text/plain": [
       "Plot with title \"\""
      ]
     },
     "metadata": {},
     "output_type": "display_data"
    }
   ],
   "source": [
    "layout(matrix(1:2,ncol=2))\n",
    "plot(hubble_model, which = 3)\n",
    "plot(hubble_model, which = 4)"
   ]
  },
  {
   "cell_type": "code",
   "execution_count": 37,
   "metadata": {},
   "outputs": [
    {
     "data": {
      "image/png": "[encoded data removed]",
      "text/plain": [
       "Plot with title \"\""
      ]
     },
     "metadata": {},
     "output_type": "display_data"
    }
   ],
   "source": [
    "layout(matrix(1:2,ncol=2))\n",
    "plot(hubble_model, which = 5)\n",
    "plot(hubble_model, which = 6)"
   ]
  },
  {
   "cell_type": "markdown",
   "metadata": {},
   "source": [
    "We can use the estimated coefficient to find an approximate value for the age of the universe. The Hubble constant has units of km^(-1) x sec^(-1) x Mpc^(-1). A mega-parsec (Mpc) is 3.09 x 10^(19) km, so we need to divide the estimated value b1 by this amount to obtain Hubble's constant wiht units of sec^(-1). The approximate age of the universe in seconds will then be the inverse of this calculation (you will want to divide Mpc by the number of seconds in a year to obtain a result in years."
   ]
  },
  {
   "cell_type": "code",
   "execution_count": 47,
   "metadata": {},
   "outputs": [
    {
     "data": {
      "text/html": [
       "12.794888643227"
      ],
      "text/latex": [
       "12.794888643227"
      ],
      "text/markdown": [
       "12.794888643227"
      ],
      "text/plain": [
       "[1] 12.79489"
      ]
     },
     "metadata": {},
     "output_type": "display_data"
    }
   ],
   "source": [
    "# Age of universe, in billions (years)\n",
    "((3.09 * 10^19)/76.58)/(365 * 24 * 60 * 60) / 10^9"
   ]
  },
  {
   "cell_type": "code",
   "execution_count": null,
   "metadata": {
    "collapsed": true
   },
   "outputs": [],
   "source": []
  }
 ],
 "metadata": {
  "kernelspec": {
   "display_name": "R",
   "language": "R",
   "name": "ir"
  },
  "language_info": {
   "codemirror_mode": "r",
   "file_extension": ".r",
   "mimetype": "text/x-r-source",
   "name": "R",
   "pygments_lexer": "r",
   "version": "3.4.3"
  }
 },
 "nbformat": 4,
 "nbformat_minor": 2
}
