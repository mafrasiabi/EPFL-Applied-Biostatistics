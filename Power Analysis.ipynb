{
 "cells": [
  {
   "cell_type": "code",
   "execution_count": 1,
   "metadata": {},
   "outputs": [
    {
     "name": "stderr",
     "output_type": "stream",
     "text": [
      "Installing packages into 'C:/Users/emara/Documents/R/win-library/3.4'\n",
      "(as 'lib' is unspecified)\n"
     ]
    },
    {
     "name": "stdout",
     "output_type": "stream",
     "text": [
      "package 'pwr' successfully unpacked and MD5 sums checked\n",
      "package 'powerSurvEpi' successfully unpacked and MD5 sums checked\n",
      "\n",
      "The downloaded binary packages are in\n",
      "\tC:\\Users\\emara\\AppData\\Local\\Temp\\Rtmpakptij\\downloaded_packages\n"
     ]
    }
   ],
   "source": [
    "install.packages(c(\"pwr\", \"powerSurvEpi\"), repos = \"http://cran.us.r-project.org\")"
   ]
  },
  {
   "cell_type": "code",
   "execution_count": 23,
   "metadata": {},
   "outputs": [
    {
     "name": "stderr",
     "output_type": "stream",
     "text": [
      "Warning message:\n",
      "\"package 'pwr' was built under R version 3.4.4\""
     ]
    }
   ],
   "source": [
    "library(pwr)"
   ]
  },
  {
   "cell_type": "markdown",
   "metadata": {},
   "source": [
    "## Power of a t-test\n",
    "\n",
    "Recall that one use of the t-test is used to test for diﬀerences between two sample means, drawn from two Normal populations with unknown variance. The null hypothesis is that the samples were drawn from a single population. i.e. H0: the sample means are not diﬀerent. "
   ]
  },
  {
   "cell_type": "code",
   "execution_count": 5,
   "metadata": {
    "collapsed": true
   },
   "outputs": [
    {
     "data": {
      "text/plain": [
       "\n",
       "     Two-sample t test power calculation \n",
       "\n",
       "              n = 6\n",
       "          delta = 0.2\n",
       "             sd = 0.1\n",
       "      sig.level = 0.05\n",
       "          power = 0.8764176\n",
       "    alternative = two.sided\n",
       "\n",
       "NOTE: n is number in *each* group\n"
      ]
     },
     "metadata": {},
     "output_type": "display_data"
    }
   ],
   "source": [
    "power.t.test(n=6, delta=0.2, sig.level=0.05, sd=.1, power=NULL)"
   ]
  },
  {
   "cell_type": "markdown",
   "metadata": {},
   "source": [
    "Note that we have left the sig.level argument at its default (0.05). We have speciﬁed the sample size, and the two arguments that contribute to the eﬀect size (delta, the diﬀerence between the means and sd, the common standard deviation. More on eﬀect sizes below). power was set to NULL, as this is the value we are trying to compute. The output is printed, including the estimated power (0.88 in this case).\n"
   ]
  },
  {
   "cell_type": "markdown",
   "metadata": {},
   "source": [
    "### Increasing sample size"
   ]
  },
  {
   "cell_type": "code",
   "execution_count": 9,
   "metadata": {
    "collapsed": true,
    "hide_input": false
   },
   "outputs": [
    {
     "data": {
      "text/plain": [
       "\n",
       "     Two-sample t test power calculation \n",
       "\n",
       "              n = 8\n",
       "          delta = 0.2\n",
       "             sd = 0.1\n",
       "      sig.level = 0.05\n",
       "          power = 0.9602208\n",
       "    alternative = two.sided\n",
       "\n",
       "NOTE: n is number in *each* group\n"
      ]
     },
     "metadata": {},
     "output_type": "display_data"
    },
    {
     "data": {
      "text/plain": [
       "\n",
       "     Two-sample t test power calculation \n",
       "\n",
       "              n = 10\n",
       "          delta = 0.2\n",
       "             sd = 0.1\n",
       "      sig.level = 0.05\n",
       "          power = 0.988179\n",
       "    alternative = two.sided\n",
       "\n",
       "NOTE: n is number in *each* group\n"
      ]
     },
     "metadata": {},
     "output_type": "display_data"
    },
    {
     "data": {
      "text/plain": [
       "\n",
       "     Two-sample t test power calculation \n",
       "\n",
       "              n = 12\n",
       "          delta = 0.2\n",
       "             sd = 0.1\n",
       "      sig.level = 0.05\n",
       "          power = 0.9966948\n",
       "    alternative = two.sided\n",
       "\n",
       "NOTE: n is number in *each* group\n"
      ]
     },
     "metadata": {},
     "output_type": "display_data"
    }
   ],
   "source": [
    "power.t.test(n=8, delta=0.2, sig.level=0.05, sd=.1, power=NULL)\n",
    "power.t.test(n=10, delta=0.2, sig.level=0.05, sd=.1, power=NULL)\n",
    "power.t.test(n=12, delta=0.2, sig.level=0.05, sd=.1, power=NULL)"
   ]
  },
  {
   "cell_type": "markdown",
   "metadata": {},
   "source": [
    "## Power of one-way-ANOVA\n",
    "\n",
    "H0: the mean (average value of the dependent variable) is the same for all groups.  \n",
    "H1: mean is not the same for all groups"
   ]
  },
  {
   "cell_type": "code",
   "execution_count": 20,
   "metadata": {
    "collapsed": true
   },
   "outputs": [
    {
     "data": {
      "text/plain": [
       "\n",
       "     Balanced one-way analysis of variance power calculation \n",
       "\n",
       "         groups = 4\n",
       "              n = 7.885821\n",
       "    between.var = 3\n",
       "     within.var = 5\n",
       "      sig.level = 0.05\n",
       "          power = 0.85\n",
       "\n",
       "NOTE: n is number in each group\n"
      ]
     },
     "metadata": {},
     "output_type": "display_data"
    },
    {
     "data": {
      "text/plain": [
       "\n",
       "     Balanced one-way analysis of variance power calculation \n",
       "\n",
       "         groups = 4\n",
       "              n = 8.91936\n",
       "    between.var = 3\n",
       "     within.var = 5\n",
       "      sig.level = 0.05\n",
       "          power = 0.9\n",
       "\n",
       "NOTE: n is number in each group\n"
      ]
     },
     "metadata": {},
     "output_type": "display_data"
    },
    {
     "data": {
      "text/plain": [
       "\n",
       "     Balanced one-way analysis of variance power calculation \n",
       "\n",
       "         groups = 4\n",
       "              n = 10.57814\n",
       "    between.var = 3\n",
       "     within.var = 5\n",
       "      sig.level = 0.05\n",
       "          power = 0.95\n",
       "\n",
       "NOTE: n is number in each group\n"
      ]
     },
     "metadata": {},
     "output_type": "display_data"
    }
   ],
   "source": [
    "power.anova.test(groups=4, n=NULL, within.var=5, between.var=3, sig.level=0.05, power = 0.85)\n",
    "power.anova.test(groups=4, n=NULL, within.var=5, between.var=3, sig.level=0.05, power = 0.90)\n",
    "power.anova.test(groups=4, n=NULL, within.var=5, between.var=3, sig.level=0.05, power = 0.95)"
   ]
  },
  {
   "cell_type": "markdown",
   "metadata": {},
   "source": [
    "## Power of correlation test\n",
    "\n",
    "H0: true correlation coefficient ρ is equal to 0  \n",
    "H1: ρ ≠ 0"
   ]
  },
  {
   "cell_type": "code",
   "execution_count": 27,
   "metadata": {
    "collapsed": true
   },
   "outputs": [
    {
     "data": {
      "text/plain": [
       "\n",
       "     approximate correlation power calculation (arctangh transformation) \n",
       "\n",
       "              n = 10\n",
       "              r = 0.8\n",
       "      sig.level = 0.05\n",
       "          power = 0.8541282\n",
       "    alternative = two.sided\n"
      ]
     },
     "metadata": {},
     "output_type": "display_data"
    }
   ],
   "source": [
    "pwr.r.test(n = 10, r = 0.80, sig.level = 0.05, power = NULL)"
   ]
  },
  {
   "cell_type": "markdown",
   "metadata": {},
   "source": [
    "### How large the sample size needs to be?"
   ]
  },
  {
   "cell_type": "code",
   "execution_count": 29,
   "metadata": {
    "collapsed": true
   },
   "outputs": [
    {
     "data": {
      "text/plain": [
       "\n",
       "     approximate correlation power calculation (arctangh transformation) \n",
       "\n",
       "              n = 9.912283\n",
       "              r = 0.8\n",
       "      sig.level = 0.05\n",
       "          power = 0.85\n",
       "    alternative = two.sided\n"
      ]
     },
     "metadata": {},
     "output_type": "display_data"
    },
    {
     "data": {
      "text/plain": [
       "\n",
       "     approximate correlation power calculation (arctangh transformation) \n",
       "\n",
       "              n = 20.9763\n",
       "              r = 0.6\n",
       "      sig.level = 0.05\n",
       "          power = 0.85\n",
       "    alternative = two.sided\n"
      ]
     },
     "metadata": {},
     "output_type": "display_data"
    },
    {
     "data": {
      "text/plain": [
       "\n",
       "     approximate correlation power calculation (arctangh transformation) \n",
       "\n",
       "              n = 52.1998\n",
       "              r = 0.4\n",
       "      sig.level = 0.05\n",
       "          power = 0.85\n",
       "    alternative = two.sided\n"
      ]
     },
     "metadata": {},
     "output_type": "display_data"
    }
   ],
   "source": [
    "pwr.r.test(n = NULL, r = 0.80, sig.level = 0.05, power = 0.85)\n",
    "pwr.r.test(n = NULL, r = 0.60, sig.level = 0.05, power = 0.85)\n",
    "pwr.r.test(n = NULL, r = 0.40, sig.level = 0.05, power = 0.85)"
   ]
  },
  {
   "cell_type": "markdown",
   "metadata": {},
   "source": [
    "The lower the population correlation, the higher sample size we require to attain a good power!"
   ]
  },
  {
   "cell_type": "markdown",
   "metadata": {},
   "source": [
    "## Effect Size\n",
    "\n",
    "Increasing the eﬀect size (the standardised “diﬀerence”between treatment groups) results in an increased power. However, calculation of eﬀect sizes varies from test to test, depending on the underlying distribution of the test statistic.   \n",
    "  \n",
    "In the absence of pilot data, Cohen (1988) provides standard measures of eﬀect size, classiﬁed as \"small\", \"medium\", and \"large\" for a variety of tests. These eﬀect sizes are built into the `pwr` package, using the function `cohen.ES`. Although these \"standard\" eﬀect sizes are somewhat arbitrary, they can provide a ﬁrst guide for sample size estimation. "
   ]
  },
  {
   "cell_type": "code",
   "execution_count": 30,
   "metadata": {
    "collapsed": true
   },
   "outputs": [
    {
     "data": {
      "text/plain": [
       "\n",
       "     Conventional effect size from Cohen (1982) \n",
       "\n",
       "           test = r\n",
       "           size = small\n",
       "    effect.size = 0.1\n"
      ]
     },
     "metadata": {},
     "output_type": "display_data"
    },
    {
     "data": {
      "text/plain": [
       "\n",
       "     Conventional effect size from Cohen (1982) \n",
       "\n",
       "           test = r\n",
       "           size = medium\n",
       "    effect.size = 0.3\n"
      ]
     },
     "metadata": {},
     "output_type": "display_data"
    },
    {
     "data": {
      "text/plain": [
       "\n",
       "     Conventional effect size from Cohen (1982) \n",
       "\n",
       "           test = r\n",
       "           size = large\n",
       "    effect.size = 0.5\n"
      ]
     },
     "metadata": {},
     "output_type": "display_data"
    }
   ],
   "source": [
    "cohen.ES(test=\"r\", size=\"small\")\n",
    "cohen.ES(test=\"r\", size=\"medium\")\n",
    "cohen.ES(test=\"r\", size=\"large\")"
   ]
  },
  {
   "cell_type": "code",
   "execution_count": 31,
   "metadata": {
    "collapsed": true
   },
   "outputs": [
    {
     "data": {
      "text/plain": [
       "\n",
       "     Conventional effect size from Cohen (1982) \n",
       "\n",
       "           test = chisq\n",
       "           size = small\n",
       "    effect.size = 0.1\n"
      ]
     },
     "metadata": {},
     "output_type": "display_data"
    },
    {
     "data": {
      "text/plain": [
       "\n",
       "     Conventional effect size from Cohen (1982) \n",
       "\n",
       "           test = chisq\n",
       "           size = medium\n",
       "    effect.size = 0.3\n"
      ]
     },
     "metadata": {},
     "output_type": "display_data"
    },
    {
     "data": {
      "text/plain": [
       "\n",
       "     Conventional effect size from Cohen (1982) \n",
       "\n",
       "           test = chisq\n",
       "           size = large\n",
       "    effect.size = 0.5\n"
      ]
     },
     "metadata": {},
     "output_type": "display_data"
    }
   ],
   "source": [
    "cohen.ES(test=\"chisq\", size=\"small\")\n",
    "cohen.ES(test=\"chisq\", size=\"medium\")\n",
    "cohen.ES(test=\"chisq\", size=\"large\")"
   ]
  },
  {
   "cell_type": "markdown",
   "metadata": {},
   "source": [
    "### How large the sample size needs to be?"
   ]
  },
  {
   "cell_type": "code",
   "execution_count": 34,
   "metadata": {
    "collapsed": true
   },
   "outputs": [
    {
     "data": {
      "text/plain": [
       "\n",
       "     Chi squared power calculation \n",
       "\n",
       "              w = 0.1\n",
       "              N = 1090.256\n",
       "             df = 3\n",
       "      sig.level = 0.05\n",
       "          power = 0.8\n",
       "\n",
       "NOTE: N is the number of observations\n"
      ]
     },
     "metadata": {},
     "output_type": "display_data"
    },
    {
     "data": {
      "text/plain": [
       "\n",
       "     Chi squared power calculation \n",
       "\n",
       "              w = 0.3\n",
       "              N = 121.1396\n",
       "             df = 3\n",
       "      sig.level = 0.05\n",
       "          power = 0.8\n",
       "\n",
       "NOTE: N is the number of observations\n"
      ]
     },
     "metadata": {},
     "output_type": "display_data"
    },
    {
     "data": {
      "text/plain": [
       "\n",
       "     Chi squared power calculation \n",
       "\n",
       "              w = 0.5\n",
       "              N = 43.61025\n",
       "             df = 3\n",
       "      sig.level = 0.05\n",
       "          power = 0.8\n",
       "\n",
       "NOTE: N is the number of observations\n"
      ]
     },
     "metadata": {},
     "output_type": "display_data"
    }
   ],
   "source": [
    "pwr.chisq.test(w = 0.1, N = NULL, df = 3, sig.level = 0.05, power = 0.8)\n",
    "pwr.chisq.test(w = 0.3, N = NULL, df = 3, sig.level = 0.05, power = 0.8)\n",
    "pwr.chisq.test(w = 0.5, N = NULL, df = 3, sig.level = 0.05, power = 0.8)"
   ]
  },
  {
   "cell_type": "markdown",
   "metadata": {},
   "source": [
    "## Power Curves"
   ]
  },
  {
   "cell_type": "markdown",
   "metadata": {},
   "source": [
    "### t-test: vary delta and n "
   ]
  },
  {
   "cell_type": "code",
   "execution_count": 43,
   "metadata": {},
   "outputs": [
    {
     "data": {
      "image/png": "[encoded data removed]",
      "text/plain": [
       "Plot with title \"Power Curve for\n",
       "t-test with varying delta\""
      ]
     },
     "metadata": {},
     "output_type": "display_data"
    }
   ],
   "source": [
    "nvals <- seq(2, 100, length.out=200)\n",
    "\n",
    "deltas <- c(0.1, 0.2, 0.3, 0.4, 0.5, 0.6, 0.7, 0.8, 0.9) \n",
    "\n",
    "plot(nvals, seq(0,1, length.out=length(nvals)), xlab=\"n\", ylab=\"power\", main=\"Power Curve for\\nt-test with varying delta\", type=\"n\") \n",
    "\n",
    "for (i in 1:length(deltas)) { \n",
    "    powvals <- sapply(nvals, function (x) power.t.test(n=x, delta=deltas[i])$power) \n",
    "    lines(nvals, powvals, lwd=2, col=i) \n",
    "}\n",
    "                      \n",
    "legend(\"topleft\", lwd=2, col=1:length(deltas), legend=toString(deltas))\n"
   ]
  },
  {
   "cell_type": "markdown",
   "metadata": {},
   "source": [
    "### anova: vary between-group variance and n "
   ]
  },
  {
   "cell_type": "code",
   "execution_count": 45,
   "metadata": {},
   "outputs": [
    {
     "data": {
      "image/png": "[encoded data removed]",
      "text/plain": [
       "Plot with title \"Power Curve for\n",
       " anova-test with varying between-group variance\""
      ]
     },
     "metadata": {},
     "output_type": "display_data"
    }
   ],
   "source": [
    "nvals <- seq(2, 50, length.out=200)\n",
    "\n",
    "vars <- c(0.1, 0.3, 0.5, 0.7, 0.9, 1.1, 1.3) \n",
    "\n",
    "plot(nvals, seq(0,1, length.out=length(nvals)), xlab=\"n\", ylab=\"power\", main=\"Power Curve for\\n anova-test with varying between-group variance\", type=\"n\") \n",
    "\n",
    "for (i in 1:length(vars)) { \n",
    "    powvals <- sapply(nvals, function (x) power.anova.test(groups=4, n=x, between.var=vars[i], within.var=1, sig.level=0.05)$power) \n",
    "    lines(nvals, powvals, lwd=2, col=i) \n",
    "}\n",
    "                      \n",
    "legend(\"topleft\", lwd=2, col=1:length(vars), legend=toString(vars))"
   ]
  },
  {
   "cell_type": "markdown",
   "metadata": {},
   "source": [
    "## Cox regression"
   ]
  },
  {
   "cell_type": "code",
   "execution_count": 48,
   "metadata": {},
   "outputs": [
    {
     "data": {
      "image/png": "[encoded data removed]",
      "text/plain": [
       "Plot with title \"Bladder Cancer Recurrences\""
      ]
     },
     "metadata": {},
     "output_type": "display_data"
    }
   ],
   "source": [
    "library(survival) \n",
    "tst <-coxph(Surv(stop, event) ~ strata(enum), bladder)\n",
    "plot(survfit(tst), col=1:4, main=\"Bladder Cancer Recurrences\", mark.time=FALSE)"
   ]
  },
  {
   "cell_type": "code",
   "execution_count": 49,
   "metadata": {},
   "outputs": [
    {
     "name": "stderr",
     "output_type": "stream",
     "text": [
      "Warning message:\n",
      "\"package 'powerSurvEpi' was built under R version 3.4.4\""
     ]
    },
    {
     "name": "stdout",
     "output_type": "stream",
     "text": [
      "[1] 0.7507715\n"
     ]
    }
   ],
   "source": [
    "library(powerSurvEpi) \n",
    "bl2 <- bladder[bladder$enum==1|bladder$enum==2,] \n",
    "bl2$enum2 <- ifelse(bl2$enum==1, \"C\", \"E\") \n",
    "bl3 <- bl2[,c(\"stop\", \"event\", \"enum2\")] \n",
    "PCT100 <- powerCT(Surv(stop, event)~enum2, dat=bl3, nE=100, nC=100, RR=1.6) \n",
    "print(PCT100$power)"
   ]
  },
  {
   "cell_type": "code",
   "execution_count": 50,
   "metadata": {},
   "outputs": [
    {
     "name": "stdout",
     "output_type": "stream",
     "text": [
      "[1] 0.8978767\n"
     ]
    }
   ],
   "source": [
    "PCT150 <- powerCT(Surv(stop, event)~enum2, dat=bl3, nE=150, nC=150, RR=1.6) \n",
    "print(PCT150$power)"
   ]
  },
  {
   "cell_type": "code",
   "execution_count": null,
   "metadata": {
    "collapsed": true
   },
   "outputs": [],
   "source": []
  }
 ],
 "metadata": {
  "kernelspec": {
   "display_name": "R",
   "language": "R",
   "name": "ir"
  },
  "language_info": {
   "codemirror_mode": "r",
   "file_extension": ".r",
   "mimetype": "text/x-r-source",
   "name": "R",
   "pygments_lexer": "r",
   "version": "3.4.3"
  },
  "varInspector": {
   "cols": {
    "lenName": 16,
    "lenType": 16,
    "lenVar": 40
   },
   "kernels_config": {
    "python": {
     "delete_cmd_postfix": "",
     "delete_cmd_prefix": "del ",
     "library": "var_list.py",
     "varRefreshCmd": "print(var_dic_list())"
    },
    "r": {
     "delete_cmd_postfix": ") ",
     "delete_cmd_prefix": "rm(",
     "library": "var_list.r",
     "varRefreshCmd": "cat(var_dic_list()) "
    }
   },
   "types_to_exclude": [
    "module",
    "function",
    "builtin_function_or_method",
    "instance",
    "_Feature"
   ],
   "window_display": false
  }
 },
 "nbformat": 4,
 "nbformat_minor": 2
}
