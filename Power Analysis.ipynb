{
 "cells": [
  {
   "cell_type": "code",
   "execution_count": 1,
   "metadata": {},
   "outputs": [
    {
     "name": "stderr",
     "output_type": "stream",
     "text": [
      "Installing packages into 'C:/Users/emara/Documents/R/win-library/3.4'\n",
      "(as 'lib' is unspecified)\n"
     ]
    },
    {
     "name": "stdout",
     "output_type": "stream",
     "text": [
      "package 'pwr' successfully unpacked and MD5 sums checked\n",
      "package 'powerSurvEpi' successfully unpacked and MD5 sums checked\n",
      "\n",
      "The downloaded binary packages are in\n",
      "\tC:\\Users\\emara\\AppData\\Local\\Temp\\Rtmpakptij\\downloaded_packages\n"
     ]
    }
   ],
   "source": [
    "install.packages(c(\"pwr\", \"powerSurvEpi\"), repos = \"http://cran.us.r-project.org\")"
   ]
  },
  {
   "cell_type": "code",
   "execution_count": 1,
   "metadata": {},
   "outputs": [
    {
     "name": "stderr",
     "output_type": "stream",
     "text": [
      "Warning message:\n",
      "\"package 'pwr' was built under R version 3.4.4\""
     ]
    }
   ],
   "source": [
    "library(pwr)"
   ]
  },
  {
   "cell_type": "markdown",
   "metadata": {},
   "source": [
    "## Power of a t-test\n",
    "\n",
    "Recall that one use of the t-test is used to test for diﬀerences between two sample means, drawn from two Normal populations with unknown variance. The null hypothesis is that the samples were drawn from a single population. i.e. H0: the sample means are not diﬀerent. "
   ]
  },
  {
   "cell_type": "code",
   "execution_count": 5,
   "metadata": {
    "collapsed": true
   },
   "outputs": [
    {
     "data": {
      "text/plain": [
       "\n",
       "     Two-sample t test power calculation \n",
       "\n",
       "              n = 6\n",
       "          delta = 0.2\n",
       "             sd = 0.1\n",
       "      sig.level = 0.05\n",
       "          power = 0.8764176\n",
       "    alternative = two.sided\n",
       "\n",
       "NOTE: n is number in *each* group\n"
      ]
     },
     "metadata": {},
     "output_type": "display_data"
    }
   ],
   "source": [
    "power.t.test(n=6, delta=0.2, sig.level=0.05, sd=.1, power=NULL)"
   ]
  },
  {
   "cell_type": "markdown",
   "metadata": {},
   "source": [
    "Note that we have left the sig.level argument at its default (0.05). We have speciﬁed the sample size, and the two arguments that contribute to the eﬀect size (delta, the diﬀerence between the means and sd, the common standard deviation. More on eﬀect sizes below). power was set to NULL, as this is the value we are trying to compute. The output is printed, including the estimated power (0.88 in this case).\n"
   ]
  },
  {
   "cell_type": "markdown",
   "metadata": {},
   "source": [
    "### Increasing sample size"
   ]
  },
  {
   "cell_type": "code",
   "execution_count": 9,
   "metadata": {
    "collapsed": true,
    "hide_input": false
   },
   "outputs": [
    {
     "data": {
      "text/plain": [
       "\n",
       "     Two-sample t test power calculation \n",
       "\n",
       "              n = 8\n",
       "          delta = 0.2\n",
       "             sd = 0.1\n",
       "      sig.level = 0.05\n",
       "          power = 0.9602208\n",
       "    alternative = two.sided\n",
       "\n",
       "NOTE: n is number in *each* group\n"
      ]
     },
     "metadata": {},
     "output_type": "display_data"
    },
    {
     "data": {
      "text/plain": [
       "\n",
       "     Two-sample t test power calculation \n",
       "\n",
       "              n = 10\n",
       "          delta = 0.2\n",
       "             sd = 0.1\n",
       "      sig.level = 0.05\n",
       "          power = 0.988179\n",
       "    alternative = two.sided\n",
       "\n",
       "NOTE: n is number in *each* group\n"
      ]
     },
     "metadata": {},
     "output_type": "display_data"
    },
    {
     "data": {
      "text/plain": [
       "\n",
       "     Two-sample t test power calculation \n",
       "\n",
       "              n = 12\n",
       "          delta = 0.2\n",
       "             sd = 0.1\n",
       "      sig.level = 0.05\n",
       "          power = 0.9966948\n",
       "    alternative = two.sided\n",
       "\n",
       "NOTE: n is number in *each* group\n"
      ]
     },
     "metadata": {},
     "output_type": "display_data"
    }
   ],
   "source": [
    "power.t.test(n=8, delta=0.2, sig.level=0.05, sd=.1, power=NULL)\n",
    "power.t.test(n=10, delta=0.2, sig.level=0.05, sd=.1, power=NULL)\n",
    "power.t.test(n=12, delta=0.2, sig.level=0.05, sd=.1, power=NULL)"
   ]
  },
  {
   "cell_type": "markdown",
   "metadata": {},
   "source": [
    "## Power of one-way-ANOVA\n",
    "\n",
    "H0: the mean (average value of the dependent variable) is the same for all groups.  \n",
    "H1: mean is not the same for all groups"
   ]
  },
  {
   "cell_type": "code",
   "execution_count": 20,
   "metadata": {
    "collapsed": true
   },
   "outputs": [
    {
     "data": {
      "text/plain": [
       "\n",
       "     Balanced one-way analysis of variance power calculation \n",
       "\n",
       "         groups = 4\n",
       "              n = 7.885821\n",
       "    between.var = 3\n",
       "     within.var = 5\n",
       "      sig.level = 0.05\n",
       "          power = 0.85\n",
       "\n",
       "NOTE: n is number in each group\n"
      ]
     },
     "metadata": {},
     "output_type": "display_data"
    },
    {
     "data": {
      "text/plain": [
       "\n",
       "     Balanced one-way analysis of variance power calculation \n",
       "\n",
       "         groups = 4\n",
       "              n = 8.91936\n",
       "    between.var = 3\n",
       "     within.var = 5\n",
       "      sig.level = 0.05\n",
       "          power = 0.9\n",
       "\n",
       "NOTE: n is number in each group\n"
      ]
     },
     "metadata": {},
     "output_type": "display_data"
    },
    {
     "data": {
      "text/plain": [
       "\n",
       "     Balanced one-way analysis of variance power calculation \n",
       "\n",
       "         groups = 4\n",
       "              n = 10.57814\n",
       "    between.var = 3\n",
       "     within.var = 5\n",
       "      sig.level = 0.05\n",
       "          power = 0.95\n",
       "\n",
       "NOTE: n is number in each group\n"
      ]
     },
     "metadata": {},
     "output_type": "display_data"
    }
   ],
   "source": [
    "power.anova.test(groups=4, n=NULL, within.var=5, between.var=3, sig.level=0.05, power = 0.85)\n",
    "power.anova.test(groups=4, n=NULL, within.var=5, between.var=3, sig.level=0.05, power = 0.90)\n",
    "power.anova.test(groups=4, n=NULL, within.var=5, between.var=3, sig.level=0.05, power = 0.95)"
   ]
  },
  {
   "cell_type": "markdown",
   "metadata": {},
   "source": [
    "## Power of correlation test\n",
    "\n",
    "H0: true correlation coefficient ρ is equal to 0  \n",
    "H1: ρ ≠ 0"
   ]
  },
  {
   "cell_type": "code",
   "execution_count": 27,
   "metadata": {
    "collapsed": true
   },
   "outputs": [
    {
     "data": {
      "text/plain": [
       "\n",
       "     approximate correlation power calculation (arctangh transformation) \n",
       "\n",
       "              n = 10\n",
       "              r = 0.8\n",
       "      sig.level = 0.05\n",
       "          power = 0.8541282\n",
       "    alternative = two.sided\n"
      ]
     },
     "metadata": {},
     "output_type": "display_data"
    }
   ],
   "source": [
    "pwr.r.test(n = 10, r = 0.80, sig.level = 0.05, power = NULL)"
   ]
  },
  {
   "cell_type": "markdown",
   "metadata": {},
   "source": [
    "### How large the sample size needs to be?"
   ]
  },
  {
   "cell_type": "code",
   "execution_count": 29,
   "metadata": {
    "collapsed": true
   },
   "outputs": [
    {
     "data": {
      "text/plain": [
       "\n",
       "     approximate correlation power calculation (arctangh transformation) \n",
       "\n",
       "              n = 9.912283\n",
       "              r = 0.8\n",
       "      sig.level = 0.05\n",
       "          power = 0.85\n",
       "    alternative = two.sided\n"
      ]
     },
     "metadata": {},
     "output_type": "display_data"
    },
    {
     "data": {
      "text/plain": [
       "\n",
       "     approximate correlation power calculation (arctangh transformation) \n",
       "\n",
       "              n = 20.9763\n",
       "              r = 0.6\n",
       "      sig.level = 0.05\n",
       "          power = 0.85\n",
       "    alternative = two.sided\n"
      ]
     },
     "metadata": {},
     "output_type": "display_data"
    },
    {
     "data": {
      "text/plain": [
       "\n",
       "     approximate correlation power calculation (arctangh transformation) \n",
       "\n",
       "              n = 52.1998\n",
       "              r = 0.4\n",
       "      sig.level = 0.05\n",
       "          power = 0.85\n",
       "    alternative = two.sided\n"
      ]
     },
     "metadata": {},
     "output_type": "display_data"
    }
   ],
   "source": [
    "pwr.r.test(n = NULL, r = 0.80, sig.level = 0.05, power = 0.85)\n",
    "pwr.r.test(n = NULL, r = 0.60, sig.level = 0.05, power = 0.85)\n",
    "pwr.r.test(n = NULL, r = 0.40, sig.level = 0.05, power = 0.85)"
   ]
  },
  {
   "cell_type": "markdown",
   "metadata": {},
   "source": [
    "The lower the population correlation, the higher sample size we require to attain a good power!"
   ]
  },
  {
   "cell_type": "markdown",
   "metadata": {},
   "source": [
    "## Effect Size\n",
    "\n",
    "Increasing the eﬀect size (the standardised “diﬀerence”between treatment groups) results in an increased power. However, calculation of eﬀect sizes varies from test to test, depending on the underlying distribution of the test statistic.   \n",
    "  \n",
    "In the absence of pilot data, Cohen (1988) provides standard measures of eﬀect size, classiﬁed as \"small\", \"medium\", and \"large\" for a variety of tests. These eﬀect sizes are built into the `pwr` package, using the function `cohen.ES`. Although these \"standard\" eﬀect sizes are somewhat arbitrary, they can provide a ﬁrst guide for sample size estimation. "
   ]
  },
  {
   "cell_type": "code",
   "execution_count": 30,
   "metadata": {
    "collapsed": true
   },
   "outputs": [
    {
     "data": {
      "text/plain": [
       "\n",
       "     Conventional effect size from Cohen (1982) \n",
       "\n",
       "           test = r\n",
       "           size = small\n",
       "    effect.size = 0.1\n"
      ]
     },
     "metadata": {},
     "output_type": "display_data"
    },
    {
     "data": {
      "text/plain": [
       "\n",
       "     Conventional effect size from Cohen (1982) \n",
       "\n",
       "           test = r\n",
       "           size = medium\n",
       "    effect.size = 0.3\n"
      ]
     },
     "metadata": {},
     "output_type": "display_data"
    },
    {
     "data": {
      "text/plain": [
       "\n",
       "     Conventional effect size from Cohen (1982) \n",
       "\n",
       "           test = r\n",
       "           size = large\n",
       "    effect.size = 0.5\n"
      ]
     },
     "metadata": {},
     "output_type": "display_data"
    }
   ],
   "source": [
    "cohen.ES(test=\"r\", size=\"small\")\n",
    "cohen.ES(test=\"r\", size=\"medium\")\n",
    "cohen.ES(test=\"r\", size=\"large\")"
   ]
  },
  {
   "cell_type": "code",
   "execution_count": 31,
   "metadata": {
    "collapsed": true
   },
   "outputs": [
    {
     "data": {
      "text/plain": [
       "\n",
       "     Conventional effect size from Cohen (1982) \n",
       "\n",
       "           test = chisq\n",
       "           size = small\n",
       "    effect.size = 0.1\n"
      ]
     },
     "metadata": {},
     "output_type": "display_data"
    },
    {
     "data": {
      "text/plain": [
       "\n",
       "     Conventional effect size from Cohen (1982) \n",
       "\n",
       "           test = chisq\n",
       "           size = medium\n",
       "    effect.size = 0.3\n"
      ]
     },
     "metadata": {},
     "output_type": "display_data"
    },
    {
     "data": {
      "text/plain": [
       "\n",
       "     Conventional effect size from Cohen (1982) \n",
       "\n",
       "           test = chisq\n",
       "           size = large\n",
       "    effect.size = 0.5\n"
      ]
     },
     "metadata": {},
     "output_type": "display_data"
    }
   ],
   "source": [
    "cohen.ES(test=\"chisq\", size=\"small\")\n",
    "cohen.ES(test=\"chisq\", size=\"medium\")\n",
    "cohen.ES(test=\"chisq\", size=\"large\")"
   ]
  },
  {
   "cell_type": "markdown",
   "metadata": {},
   "source": [
    "### How large the sample size needs to be?"
   ]
  },
  {
   "cell_type": "code",
   "execution_count": 34,
   "metadata": {
    "collapsed": true
   },
   "outputs": [
    {
     "data": {
      "text/plain": [
       "\n",
       "     Chi squared power calculation \n",
       "\n",
       "              w = 0.1\n",
       "              N = 1090.256\n",
       "             df = 3\n",
       "      sig.level = 0.05\n",
       "          power = 0.8\n",
       "\n",
       "NOTE: N is the number of observations\n"
      ]
     },
     "metadata": {},
     "output_type": "display_data"
    },
    {
     "data": {
      "text/plain": [
       "\n",
       "     Chi squared power calculation \n",
       "\n",
       "              w = 0.3\n",
       "              N = 121.1396\n",
       "             df = 3\n",
       "      sig.level = 0.05\n",
       "          power = 0.8\n",
       "\n",
       "NOTE: N is the number of observations\n"
      ]
     },
     "metadata": {},
     "output_type": "display_data"
    },
    {
     "data": {
      "text/plain": [
       "\n",
       "     Chi squared power calculation \n",
       "\n",
       "              w = 0.5\n",
       "              N = 43.61025\n",
       "             df = 3\n",
       "      sig.level = 0.05\n",
       "          power = 0.8\n",
       "\n",
       "NOTE: N is the number of observations\n"
      ]
     },
     "metadata": {},
     "output_type": "display_data"
    }
   ],
   "source": [
    "pwr.chisq.test(w = 0.1, N = NULL, df = 3, sig.level = 0.05, power = 0.8)\n",
    "pwr.chisq.test(w = 0.3, N = NULL, df = 3, sig.level = 0.05, power = 0.8)\n",
    "pwr.chisq.test(w = 0.5, N = NULL, df = 3, sig.level = 0.05, power = 0.8)"
   ]
  },
  {
   "cell_type": "markdown",
   "metadata": {},
   "source": [
    "## Power Curves"
   ]
  },
  {
   "cell_type": "markdown",
   "metadata": {},
   "source": [
    "### t-test: vary delta and n "
   ]
  },
  {
   "cell_type": "code",
   "execution_count": 43,
   "metadata": {},
   "outputs": [
    {
     "data": {
      "image/png": "[encoded data removed]",
      "text/plain": [
       "Plot with title \"Power Curve for\n",
       "t-test with varying delta\""
      ]
     },
     "metadata": {},
     "output_type": "display_data"
    }
   ],
   "source": [
    "nvals <- seq(2, 100, length.out=200)\n",
    "\n",
    "deltas <- c(0.1, 0.2, 0.3, 0.4, 0.5, 0.6, 0.7, 0.8, 0.9) \n",
    "\n",
    "plot(nvals, seq(0,1, length.out=length(nvals)), xlab=\"n\", ylab=\"power\", main=\"Power Curve for\\nt-test with varying delta\", type=\"n\") \n",
    "\n",
    "for (i in 1:length(deltas)) { \n",
    "    powvals <- sapply(nvals, function (x) power.t.test(n=x, delta=deltas[i])$power) \n",
    "    lines(nvals, powvals, lwd=2, col=i) \n",
    "}\n",
    "                      \n",
    "legend(\"topleft\", lwd=2, col=1:length(deltas), legend=toString(deltas))\n"
   ]
  },
  {
   "cell_type": "markdown",
   "metadata": {},
   "source": [
    "### anova: vary between-group variance and n "
   ]
  },
  {
   "cell_type": "code",
   "execution_count": 45,
   "metadata": {},
   "outputs": [
    {
     "data": {
      "image/png": "[encoded data removed]",
      "text/plain": [
       "Plot with title \"Power Curve for\n",
       " anova-test with varying between-group variance\""
      ]
     },
     "metadata": {},
     "output_type": "display_data"
    }
   ],
   "source": [
    "nvals <- seq(2, 50, length.out=200)\n",
    "\n",
    "vars <- c(0.1, 0.3, 0.5, 0.7, 0.9, 1.1, 1.3) \n",
    "\n",
    "plot(nvals, seq(0,1, length.out=length(nvals)), xlab=\"n\", ylab=\"power\", main=\"Power Curve for\\n anova-test with varying between-group variance\", type=\"n\") \n",
    "\n",
    "for (i in 1:length(vars)) { \n",
    "    powvals <- sapply(nvals, function (x) power.anova.test(groups=4, n=x, between.var=vars[i], within.var=1, sig.level=0.05)$power) \n",
    "    lines(nvals, powvals, lwd=2, col=i) \n",
    "}\n",
    "                      \n",
    "legend(\"topleft\", lwd=2, col=1:length(vars), legend=toString(vars))"
   ]
  },
  {
   "cell_type": "markdown",
   "metadata": {},
   "source": [
    "## Cox regression"
   ]
  },
  {
   "cell_type": "code",
   "execution_count": 2,
   "metadata": {},
   "outputs": [
    {
     "data": {
      "image/png": "[encoded data removed]",
      "text/plain": [
       "Plot with title \"Bladder Cancer Recurrences\""
      ]
     },
     "metadata": {},
     "output_type": "display_data"
    }
   ],
   "source": [
    "library(survival) \n",
    "tst <-coxph(Surv(stop, event) ~ strata(enum), bladder)\n",
    "plot(survfit(tst), col=1:4, main=\"Bladder Cancer Recurrences\", mark.time=FALSE)"
   ]
  },
  {
   "cell_type": "code",
   "execution_count": 21,
   "metadata": {
    "collapsed": true
   },
   "outputs": [],
   "source": [
    "help(bladder)"
   ]
  },
  {
   "cell_type": "code",
   "execution_count": 14,
   "metadata": {
    "scrolled": true
   },
   "outputs": [
    {
     "data": {
      "text/html": [
       "<table>\n",
       "<thead><tr><th></th><th scope=col>stop</th><th scope=col>event</th><th scope=col>enum2</th></tr></thead>\n",
       "<tbody>\n",
       "\t<tr><th scope=row>1</th><td> 1</td><td>0 </td><td>C </td></tr>\n",
       "\t<tr><th scope=row>2</th><td> 1</td><td>0 </td><td>E </td></tr>\n",
       "\t<tr><th scope=row>5</th><td> 4</td><td>0 </td><td>C </td></tr>\n",
       "\t<tr><th scope=row>6</th><td> 4</td><td>0 </td><td>E </td></tr>\n",
       "\t<tr><th scope=row>9</th><td> 7</td><td>0 </td><td>C </td></tr>\n",
       "\t<tr><th scope=row>10</th><td> 7</td><td>0 </td><td>E </td></tr>\n",
       "\t<tr><th scope=row>13</th><td>10</td><td>0 </td><td>C </td></tr>\n",
       "\t<tr><th scope=row>14</th><td>10</td><td>0 </td><td>E </td></tr>\n",
       "\t<tr><th scope=row>17</th><td> 6</td><td>1 </td><td>C </td></tr>\n",
       "\t<tr><th scope=row>18</th><td>10</td><td>0 </td><td>E </td></tr>\n",
       "\t<tr><th scope=row>21</th><td>14</td><td>0 </td><td>C </td></tr>\n",
       "\t<tr><th scope=row>22</th><td>14</td><td>0 </td><td>E </td></tr>\n",
       "\t<tr><th scope=row>25</th><td>18</td><td>0 </td><td>C </td></tr>\n",
       "\t<tr><th scope=row>26</th><td>18</td><td>0 </td><td>E </td></tr>\n",
       "\t<tr><th scope=row>29</th><td> 5</td><td>1 </td><td>C </td></tr>\n",
       "\t<tr><th scope=row>30</th><td>18</td><td>0 </td><td>E </td></tr>\n",
       "\t<tr><th scope=row>33</th><td>12</td><td>1 </td><td>C </td></tr>\n",
       "\t<tr><th scope=row>34</th><td>16</td><td>1 </td><td>E </td></tr>\n",
       "\t<tr><th scope=row>37</th><td>23</td><td>0 </td><td>C </td></tr>\n",
       "\t<tr><th scope=row>38</th><td>23</td><td>0 </td><td>E </td></tr>\n",
       "\t<tr><th scope=row>41</th><td>10</td><td>1 </td><td>C </td></tr>\n",
       "\t<tr><th scope=row>42</th><td>15</td><td>1 </td><td>E </td></tr>\n",
       "\t<tr><th scope=row>45</th><td> 3</td><td>1 </td><td>C </td></tr>\n",
       "\t<tr><th scope=row>46</th><td>16</td><td>1 </td><td>E </td></tr>\n",
       "\t<tr><th scope=row>49</th><td> 3</td><td>1 </td><td>C </td></tr>\n",
       "\t<tr><th scope=row>50</th><td> 9</td><td>1 </td><td>E </td></tr>\n",
       "\t<tr><th scope=row>53</th><td> 7</td><td>1 </td><td>C </td></tr>\n",
       "\t<tr><th scope=row>54</th><td>10</td><td>1 </td><td>E </td></tr>\n",
       "\t<tr><th scope=row>57</th><td> 3</td><td>1 </td><td>C </td></tr>\n",
       "\t<tr><th scope=row>58</th><td>15</td><td>1 </td><td>E </td></tr>\n",
       "\t<tr><th scope=row>...</th><td>...</td><td>...</td><td>...</td></tr>\n",
       "\t<tr><th scope=row>281</th><td>24</td><td>1 </td><td>C </td></tr>\n",
       "\t<tr><th scope=row>282</th><td>26</td><td>1 </td><td>E </td></tr>\n",
       "\t<tr><th scope=row>285</th><td>41</td><td>0 </td><td>C </td></tr>\n",
       "\t<tr><th scope=row>286</th><td>41</td><td>0 </td><td>E </td></tr>\n",
       "\t<tr><th scope=row>289</th><td>41</td><td>0 </td><td>C </td></tr>\n",
       "\t<tr><th scope=row>290</th><td>41</td><td>0 </td><td>E </td></tr>\n",
       "\t<tr><th scope=row>293</th><td> 1</td><td>1 </td><td>C </td></tr>\n",
       "\t<tr><th scope=row>294</th><td>27</td><td>1 </td><td>E </td></tr>\n",
       "\t<tr><th scope=row>297</th><td>44</td><td>0 </td><td>C </td></tr>\n",
       "\t<tr><th scope=row>298</th><td>44</td><td>0 </td><td>E </td></tr>\n",
       "\t<tr><th scope=row>301</th><td> 2</td><td>1 </td><td>C </td></tr>\n",
       "\t<tr><th scope=row>302</th><td>20</td><td>1 </td><td>E </td></tr>\n",
       "\t<tr><th scope=row>305</th><td>45</td><td>0 </td><td>C </td></tr>\n",
       "\t<tr><th scope=row>306</th><td>45</td><td>0 </td><td>E </td></tr>\n",
       "\t<tr><th scope=row>309</th><td> 2</td><td>1 </td><td>C </td></tr>\n",
       "\t<tr><th scope=row>310</th><td>46</td><td>0 </td><td>E </td></tr>\n",
       "\t<tr><th scope=row>313</th><td>46</td><td>0 </td><td>C </td></tr>\n",
       "\t<tr><th scope=row>314</th><td>46</td><td>0 </td><td>E </td></tr>\n",
       "\t<tr><th scope=row>317</th><td>49</td><td>0 </td><td>C </td></tr>\n",
       "\t<tr><th scope=row>318</th><td>49</td><td>0 </td><td>E </td></tr>\n",
       "\t<tr><th scope=row>321</th><td>50</td><td>0 </td><td>C </td></tr>\n",
       "\t<tr><th scope=row>322</th><td>50</td><td>0 </td><td>E </td></tr>\n",
       "\t<tr><th scope=row>325</th><td> 4</td><td>1 </td><td>C </td></tr>\n",
       "\t<tr><th scope=row>326</th><td>24</td><td>1 </td><td>E </td></tr>\n",
       "\t<tr><th scope=row>329</th><td>54</td><td>0 </td><td>C </td></tr>\n",
       "\t<tr><th scope=row>330</th><td>54</td><td>0 </td><td>E </td></tr>\n",
       "\t<tr><th scope=row>333</th><td>38</td><td>1 </td><td>C </td></tr>\n",
       "\t<tr><th scope=row>334</th><td>54</td><td>0 </td><td>E </td></tr>\n",
       "\t<tr><th scope=row>337</th><td>59</td><td>0 </td><td>C </td></tr>\n",
       "\t<tr><th scope=row>338</th><td>59</td><td>0 </td><td>E </td></tr>\n",
       "</tbody>\n",
       "</table>\n"
      ],
      "text/latex": [
       "\\begin{tabular}{r|lll}\n",
       "  & stop & event & enum2\\\\\n",
       "\\hline\n",
       "\t1 &  1 & 0  & C \\\\\n",
       "\t2 &  1 & 0  & E \\\\\n",
       "\t5 &  4 & 0  & C \\\\\n",
       "\t6 &  4 & 0  & E \\\\\n",
       "\t9 &  7 & 0  & C \\\\\n",
       "\t10 &  7 & 0  & E \\\\\n",
       "\t13 & 10 & 0  & C \\\\\n",
       "\t14 & 10 & 0  & E \\\\\n",
       "\t17 &  6 & 1  & C \\\\\n",
       "\t18 & 10 & 0  & E \\\\\n",
       "\t21 & 14 & 0  & C \\\\\n",
       "\t22 & 14 & 0  & E \\\\\n",
       "\t25 & 18 & 0  & C \\\\\n",
       "\t26 & 18 & 0  & E \\\\\n",
       "\t29 &  5 & 1  & C \\\\\n",
       "\t30 & 18 & 0  & E \\\\\n",
       "\t33 & 12 & 1  & C \\\\\n",
       "\t34 & 16 & 1  & E \\\\\n",
       "\t37 & 23 & 0  & C \\\\\n",
       "\t38 & 23 & 0  & E \\\\\n",
       "\t41 & 10 & 1  & C \\\\\n",
       "\t42 & 15 & 1  & E \\\\\n",
       "\t45 &  3 & 1  & C \\\\\n",
       "\t46 & 16 & 1  & E \\\\\n",
       "\t49 &  3 & 1  & C \\\\\n",
       "\t50 &  9 & 1  & E \\\\\n",
       "\t53 &  7 & 1  & C \\\\\n",
       "\t54 & 10 & 1  & E \\\\\n",
       "\t57 &  3 & 1  & C \\\\\n",
       "\t58 & 15 & 1  & E \\\\\n",
       "\t... & ... & ... & ...\\\\\n",
       "\t281 & 24 & 1  & C \\\\\n",
       "\t282 & 26 & 1  & E \\\\\n",
       "\t285 & 41 & 0  & C \\\\\n",
       "\t286 & 41 & 0  & E \\\\\n",
       "\t289 & 41 & 0  & C \\\\\n",
       "\t290 & 41 & 0  & E \\\\\n",
       "\t293 &  1 & 1  & C \\\\\n",
       "\t294 & 27 & 1  & E \\\\\n",
       "\t297 & 44 & 0  & C \\\\\n",
       "\t298 & 44 & 0  & E \\\\\n",
       "\t301 &  2 & 1  & C \\\\\n",
       "\t302 & 20 & 1  & E \\\\\n",
       "\t305 & 45 & 0  & C \\\\\n",
       "\t306 & 45 & 0  & E \\\\\n",
       "\t309 &  2 & 1  & C \\\\\n",
       "\t310 & 46 & 0  & E \\\\\n",
       "\t313 & 46 & 0  & C \\\\\n",
       "\t314 & 46 & 0  & E \\\\\n",
       "\t317 & 49 & 0  & C \\\\\n",
       "\t318 & 49 & 0  & E \\\\\n",
       "\t321 & 50 & 0  & C \\\\\n",
       "\t322 & 50 & 0  & E \\\\\n",
       "\t325 &  4 & 1  & C \\\\\n",
       "\t326 & 24 & 1  & E \\\\\n",
       "\t329 & 54 & 0  & C \\\\\n",
       "\t330 & 54 & 0  & E \\\\\n",
       "\t333 & 38 & 1  & C \\\\\n",
       "\t334 & 54 & 0  & E \\\\\n",
       "\t337 & 59 & 0  & C \\\\\n",
       "\t338 & 59 & 0  & E \\\\\n",
       "\\end{tabular}\n"
      ],
      "text/markdown": [
       "\n",
       "| <!--/--> | stop | event | enum2 | \n",
       "|---|---|---|---|---|---|---|---|---|---|---|---|---|---|---|---|---|---|---|---|---|---|---|---|---|---|---|---|---|---|---|---|---|---|---|---|---|---|---|---|---|---|---|---|---|---|---|---|---|---|---|---|---|---|---|---|---|---|---|---|---|\n",
       "| 1 |  1 | 0  | C  | \n",
       "| 2 |  1 | 0  | E  | \n",
       "| 5 |  4 | 0  | C  | \n",
       "| 6 |  4 | 0  | E  | \n",
       "| 9 |  7 | 0  | C  | \n",
       "| 10 |  7 | 0  | E  | \n",
       "| 13 | 10 | 0  | C  | \n",
       "| 14 | 10 | 0  | E  | \n",
       "| 17 |  6 | 1  | C  | \n",
       "| 18 | 10 | 0  | E  | \n",
       "| 21 | 14 | 0  | C  | \n",
       "| 22 | 14 | 0  | E  | \n",
       "| 25 | 18 | 0  | C  | \n",
       "| 26 | 18 | 0  | E  | \n",
       "| 29 |  5 | 1  | C  | \n",
       "| 30 | 18 | 0  | E  | \n",
       "| 33 | 12 | 1  | C  | \n",
       "| 34 | 16 | 1  | E  | \n",
       "| 37 | 23 | 0  | C  | \n",
       "| 38 | 23 | 0  | E  | \n",
       "| 41 | 10 | 1  | C  | \n",
       "| 42 | 15 | 1  | E  | \n",
       "| 45 |  3 | 1  | C  | \n",
       "| 46 | 16 | 1  | E  | \n",
       "| 49 |  3 | 1  | C  | \n",
       "| 50 |  9 | 1  | E  | \n",
       "| 53 |  7 | 1  | C  | \n",
       "| 54 | 10 | 1  | E  | \n",
       "| 57 |  3 | 1  | C  | \n",
       "| 58 | 15 | 1  | E  | \n",
       "| ... | ... | ... | ... | \n",
       "| 281 | 24 | 1  | C  | \n",
       "| 282 | 26 | 1  | E  | \n",
       "| 285 | 41 | 0  | C  | \n",
       "| 286 | 41 | 0  | E  | \n",
       "| 289 | 41 | 0  | C  | \n",
       "| 290 | 41 | 0  | E  | \n",
       "| 293 |  1 | 1  | C  | \n",
       "| 294 | 27 | 1  | E  | \n",
       "| 297 | 44 | 0  | C  | \n",
       "| 298 | 44 | 0  | E  | \n",
       "| 301 |  2 | 1  | C  | \n",
       "| 302 | 20 | 1  | E  | \n",
       "| 305 | 45 | 0  | C  | \n",
       "| 306 | 45 | 0  | E  | \n",
       "| 309 |  2 | 1  | C  | \n",
       "| 310 | 46 | 0  | E  | \n",
       "| 313 | 46 | 0  | C  | \n",
       "| 314 | 46 | 0  | E  | \n",
       "| 317 | 49 | 0  | C  | \n",
       "| 318 | 49 | 0  | E  | \n",
       "| 321 | 50 | 0  | C  | \n",
       "| 322 | 50 | 0  | E  | \n",
       "| 325 |  4 | 1  | C  | \n",
       "| 326 | 24 | 1  | E  | \n",
       "| 329 | 54 | 0  | C  | \n",
       "| 330 | 54 | 0  | E  | \n",
       "| 333 | 38 | 1  | C  | \n",
       "| 334 | 54 | 0  | E  | \n",
       "| 337 | 59 | 0  | C  | \n",
       "| 338 | 59 | 0  | E  | \n",
       "\n",
       "\n"
      ],
      "text/plain": [
       "    stop event enum2\n",
       "1    1   0     C    \n",
       "2    1   0     E    \n",
       "5    4   0     C    \n",
       "6    4   0     E    \n",
       "9    7   0     C    \n",
       "10   7   0     E    \n",
       "13  10   0     C    \n",
       "14  10   0     E    \n",
       "17   6   1     C    \n",
       "18  10   0     E    \n",
       "21  14   0     C    \n",
       "22  14   0     E    \n",
       "25  18   0     C    \n",
       "26  18   0     E    \n",
       "29   5   1     C    \n",
       "30  18   0     E    \n",
       "33  12   1     C    \n",
       "34  16   1     E    \n",
       "37  23   0     C    \n",
       "38  23   0     E    \n",
       "41  10   1     C    \n",
       "42  15   1     E    \n",
       "45   3   1     C    \n",
       "46  16   1     E    \n",
       "49   3   1     C    \n",
       "50   9   1     E    \n",
       "53   7   1     C    \n",
       "54  10   1     E    \n",
       "57   3   1     C    \n",
       "58  15   1     E    \n",
       "... ...  ...   ...  \n",
       "281 24   1     C    \n",
       "282 26   1     E    \n",
       "285 41   0     C    \n",
       "286 41   0     E    \n",
       "289 41   0     C    \n",
       "290 41   0     E    \n",
       "293  1   1     C    \n",
       "294 27   1     E    \n",
       "297 44   0     C    \n",
       "298 44   0     E    \n",
       "301  2   1     C    \n",
       "302 20   1     E    \n",
       "305 45   0     C    \n",
       "306 45   0     E    \n",
       "309  2   1     C    \n",
       "310 46   0     E    \n",
       "313 46   0     C    \n",
       "314 46   0     E    \n",
       "317 49   0     C    \n",
       "318 49   0     E    \n",
       "321 50   0     C    \n",
       "322 50   0     E    \n",
       "325  4   1     C    \n",
       "326 24   1     E    \n",
       "329 54   0     C    \n",
       "330 54   0     E    \n",
       "333 38   1     C    \n",
       "334 54   0     E    \n",
       "337 59   0     C    \n",
       "338 59   0     E    "
      ]
     },
     "metadata": {},
     "output_type": "display_data"
    },
    {
     "name": "stdout",
     "output_type": "stream",
     "text": [
      "[1] 0.7507715\n"
     ]
    }
   ],
   "source": [
    "library(powerSurvEpi) \n",
    "bl2 <- bladder[bladder$enum==1|bladder$enum==2,] \n",
    "\n",
    "# set control and experimental units\n",
    "bl2$enum2 <- ifelse(bl2$enum==1, \"C\", \"E\")\n",
    "bl3 <- bl2[,c(\"stop\", \"event\", \"enum2\")] \n",
    "bl3\n",
    "\n",
    "PCT100 <- powerCT(Surv(stop, event)~enum2, dat=bl3, nE=100, nC=100, RR=1.6) \n",
    "print(PCT100$power)"
   ]
  },
  {
   "cell_type": "code",
   "execution_count": 50,
   "metadata": {},
   "outputs": [
    {
     "name": "stdout",
     "output_type": "stream",
     "text": [
      "[1] 0.8978767\n"
     ]
    }
   ],
   "source": [
    "PCT150 <- powerCT(Surv(stop, event)~enum2, dat=bl3, nE=150, nC=150, RR=1.6) \n",
    "print(PCT150$power)"
   ]
  },
  {
   "cell_type": "code",
   "execution_count": 7,
   "metadata": {},
   "outputs": [
    {
     "data": {
      "text/html": [
       "<table>\n",
       "<thead><tr><th scope=col>id</th><th scope=col>rx</th><th scope=col>number</th><th scope=col>size</th><th scope=col>stop</th><th scope=col>event</th><th scope=col>enum</th></tr></thead>\n",
       "<tbody>\n",
       "\t<tr><td>1 </td><td>1 </td><td>1 </td><td>3 </td><td> 1</td><td>0 </td><td>1 </td></tr>\n",
       "\t<tr><td>1 </td><td>1 </td><td>1 </td><td>3 </td><td> 1</td><td>0 </td><td>2 </td></tr>\n",
       "\t<tr><td>1 </td><td>1 </td><td>1 </td><td>3 </td><td> 1</td><td>0 </td><td>3 </td></tr>\n",
       "\t<tr><td>1 </td><td>1 </td><td>1 </td><td>3 </td><td> 1</td><td>0 </td><td>4 </td></tr>\n",
       "\t<tr><td>2 </td><td>1 </td><td>2 </td><td>1 </td><td> 4</td><td>0 </td><td>1 </td></tr>\n",
       "\t<tr><td>2 </td><td>1 </td><td>2 </td><td>1 </td><td> 4</td><td>0 </td><td>2 </td></tr>\n",
       "\t<tr><td>2 </td><td>1 </td><td>2 </td><td>1 </td><td> 4</td><td>0 </td><td>3 </td></tr>\n",
       "\t<tr><td>2 </td><td>1 </td><td>2 </td><td>1 </td><td> 4</td><td>0 </td><td>4 </td></tr>\n",
       "\t<tr><td>3 </td><td>1 </td><td>1 </td><td>1 </td><td> 7</td><td>0 </td><td>1 </td></tr>\n",
       "\t<tr><td>3 </td><td>1 </td><td>1 </td><td>1 </td><td> 7</td><td>0 </td><td>2 </td></tr>\n",
       "\t<tr><td>3 </td><td>1 </td><td>1 </td><td>1 </td><td> 7</td><td>0 </td><td>3 </td></tr>\n",
       "\t<tr><td>3 </td><td>1 </td><td>1 </td><td>1 </td><td> 7</td><td>0 </td><td>4 </td></tr>\n",
       "\t<tr><td>4 </td><td>1 </td><td>5 </td><td>1 </td><td>10</td><td>0 </td><td>1 </td></tr>\n",
       "\t<tr><td>4 </td><td>1 </td><td>5 </td><td>1 </td><td>10</td><td>0 </td><td>2 </td></tr>\n",
       "\t<tr><td>4 </td><td>1 </td><td>5 </td><td>1 </td><td>10</td><td>0 </td><td>3 </td></tr>\n",
       "\t<tr><td>4 </td><td>1 </td><td>5 </td><td>1 </td><td>10</td><td>0 </td><td>4 </td></tr>\n",
       "\t<tr><td>5 </td><td>1 </td><td>4 </td><td>1 </td><td> 6</td><td>1 </td><td>1 </td></tr>\n",
       "\t<tr><td>5 </td><td>1 </td><td>4 </td><td>1 </td><td>10</td><td>0 </td><td>2 </td></tr>\n",
       "\t<tr><td>5 </td><td>1 </td><td>4 </td><td>1 </td><td>10</td><td>0 </td><td>3 </td></tr>\n",
       "\t<tr><td>5 </td><td>1 </td><td>4 </td><td>1 </td><td>10</td><td>0 </td><td>4 </td></tr>\n",
       "\t<tr><td>6 </td><td>1 </td><td>1 </td><td>1 </td><td>14</td><td>0 </td><td>1 </td></tr>\n",
       "\t<tr><td>6 </td><td>1 </td><td>1 </td><td>1 </td><td>14</td><td>0 </td><td>2 </td></tr>\n",
       "\t<tr><td>6 </td><td>1 </td><td>1 </td><td>1 </td><td>14</td><td>0 </td><td>3 </td></tr>\n",
       "\t<tr><td>6 </td><td>1 </td><td>1 </td><td>1 </td><td>14</td><td>0 </td><td>4 </td></tr>\n",
       "\t<tr><td>7 </td><td>1 </td><td>1 </td><td>1 </td><td>18</td><td>0 </td><td>1 </td></tr>\n",
       "\t<tr><td>7 </td><td>1 </td><td>1 </td><td>1 </td><td>18</td><td>0 </td><td>2 </td></tr>\n",
       "\t<tr><td>7 </td><td>1 </td><td>1 </td><td>1 </td><td>18</td><td>0 </td><td>3 </td></tr>\n",
       "\t<tr><td>7 </td><td>1 </td><td>1 </td><td>1 </td><td>18</td><td>0 </td><td>4 </td></tr>\n",
       "\t<tr><td>8 </td><td>1 </td><td>1 </td><td>3 </td><td> 5</td><td>1 </td><td>1 </td></tr>\n",
       "\t<tr><td>8 </td><td>1 </td><td>1 </td><td>3 </td><td>18</td><td>0 </td><td>2 </td></tr>\n",
       "\t<tr><td>...</td><td>...</td><td>...</td><td>...</td><td>...</td><td>...</td><td>...</td></tr>\n",
       "\t<tr><td>78</td><td>2 </td><td>1 </td><td>4 </td><td>46</td><td>0 </td><td>3 </td></tr>\n",
       "\t<tr><td>78</td><td>2 </td><td>1 </td><td>4 </td><td>46</td><td>0 </td><td>4 </td></tr>\n",
       "\t<tr><td>79</td><td>2 </td><td>1 </td><td>4 </td><td>46</td><td>0 </td><td>1 </td></tr>\n",
       "\t<tr><td>79</td><td>2 </td><td>1 </td><td>4 </td><td>46</td><td>0 </td><td>2 </td></tr>\n",
       "\t<tr><td>79</td><td>2 </td><td>1 </td><td>4 </td><td>46</td><td>0 </td><td>3 </td></tr>\n",
       "\t<tr><td>79</td><td>2 </td><td>1 </td><td>4 </td><td>46</td><td>0 </td><td>4 </td></tr>\n",
       "\t<tr><td>80</td><td>2 </td><td>3 </td><td>3 </td><td>49</td><td>0 </td><td>1 </td></tr>\n",
       "\t<tr><td>80</td><td>2 </td><td>3 </td><td>3 </td><td>49</td><td>0 </td><td>2 </td></tr>\n",
       "\t<tr><td>80</td><td>2 </td><td>3 </td><td>3 </td><td>49</td><td>0 </td><td>3 </td></tr>\n",
       "\t<tr><td>80</td><td>2 </td><td>3 </td><td>3 </td><td>49</td><td>0 </td><td>4 </td></tr>\n",
       "\t<tr><td>81</td><td>2 </td><td>1 </td><td>1 </td><td>50</td><td>0 </td><td>1 </td></tr>\n",
       "\t<tr><td>81</td><td>2 </td><td>1 </td><td>1 </td><td>50</td><td>0 </td><td>2 </td></tr>\n",
       "\t<tr><td>81</td><td>2 </td><td>1 </td><td>1 </td><td>50</td><td>0 </td><td>3 </td></tr>\n",
       "\t<tr><td>81</td><td>2 </td><td>1 </td><td>1 </td><td>50</td><td>0 </td><td>4 </td></tr>\n",
       "\t<tr><td>82</td><td>2 </td><td>4 </td><td>1 </td><td> 4</td><td>1 </td><td>1 </td></tr>\n",
       "\t<tr><td>82</td><td>2 </td><td>4 </td><td>1 </td><td>24</td><td>1 </td><td>2 </td></tr>\n",
       "\t<tr><td>82</td><td>2 </td><td>4 </td><td>1 </td><td>47</td><td>1 </td><td>3 </td></tr>\n",
       "\t<tr><td>82</td><td>2 </td><td>4 </td><td>1 </td><td>50</td><td>0 </td><td>4 </td></tr>\n",
       "\t<tr><td>83</td><td>2 </td><td>3 </td><td>4 </td><td>54</td><td>0 </td><td>1 </td></tr>\n",
       "\t<tr><td>83</td><td>2 </td><td>3 </td><td>4 </td><td>54</td><td>0 </td><td>2 </td></tr>\n",
       "\t<tr><td>83</td><td>2 </td><td>3 </td><td>4 </td><td>54</td><td>0 </td><td>3 </td></tr>\n",
       "\t<tr><td>83</td><td>2 </td><td>3 </td><td>4 </td><td>54</td><td>0 </td><td>4 </td></tr>\n",
       "\t<tr><td>84</td><td>2 </td><td>2 </td><td>1 </td><td>38</td><td>1 </td><td>1 </td></tr>\n",
       "\t<tr><td>84</td><td>2 </td><td>2 </td><td>1 </td><td>54</td><td>0 </td><td>2 </td></tr>\n",
       "\t<tr><td>84</td><td>2 </td><td>2 </td><td>1 </td><td>54</td><td>0 </td><td>3 </td></tr>\n",
       "\t<tr><td>84</td><td>2 </td><td>2 </td><td>1 </td><td>54</td><td>0 </td><td>4 </td></tr>\n",
       "\t<tr><td>85</td><td>2 </td><td>1 </td><td>3 </td><td>59</td><td>0 </td><td>1 </td></tr>\n",
       "\t<tr><td>85</td><td>2 </td><td>1 </td><td>3 </td><td>59</td><td>0 </td><td>2 </td></tr>\n",
       "\t<tr><td>85</td><td>2 </td><td>1 </td><td>3 </td><td>59</td><td>0 </td><td>3 </td></tr>\n",
       "\t<tr><td>85</td><td>2 </td><td>1 </td><td>3 </td><td>59</td><td>0 </td><td>4 </td></tr>\n",
       "</tbody>\n",
       "</table>\n"
      ],
      "text/latex": [
       "\\begin{tabular}{r|lllllll}\n",
       " id & rx & number & size & stop & event & enum\\\\\n",
       "\\hline\n",
       "\t 1  & 1  & 1  & 3  &  1 & 0  & 1 \\\\\n",
       "\t 1  & 1  & 1  & 3  &  1 & 0  & 2 \\\\\n",
       "\t 1  & 1  & 1  & 3  &  1 & 0  & 3 \\\\\n",
       "\t 1  & 1  & 1  & 3  &  1 & 0  & 4 \\\\\n",
       "\t 2  & 1  & 2  & 1  &  4 & 0  & 1 \\\\\n",
       "\t 2  & 1  & 2  & 1  &  4 & 0  & 2 \\\\\n",
       "\t 2  & 1  & 2  & 1  &  4 & 0  & 3 \\\\\n",
       "\t 2  & 1  & 2  & 1  &  4 & 0  & 4 \\\\\n",
       "\t 3  & 1  & 1  & 1  &  7 & 0  & 1 \\\\\n",
       "\t 3  & 1  & 1  & 1  &  7 & 0  & 2 \\\\\n",
       "\t 3  & 1  & 1  & 1  &  7 & 0  & 3 \\\\\n",
       "\t 3  & 1  & 1  & 1  &  7 & 0  & 4 \\\\\n",
       "\t 4  & 1  & 5  & 1  & 10 & 0  & 1 \\\\\n",
       "\t 4  & 1  & 5  & 1  & 10 & 0  & 2 \\\\\n",
       "\t 4  & 1  & 5  & 1  & 10 & 0  & 3 \\\\\n",
       "\t 4  & 1  & 5  & 1  & 10 & 0  & 4 \\\\\n",
       "\t 5  & 1  & 4  & 1  &  6 & 1  & 1 \\\\\n",
       "\t 5  & 1  & 4  & 1  & 10 & 0  & 2 \\\\\n",
       "\t 5  & 1  & 4  & 1  & 10 & 0  & 3 \\\\\n",
       "\t 5  & 1  & 4  & 1  & 10 & 0  & 4 \\\\\n",
       "\t 6  & 1  & 1  & 1  & 14 & 0  & 1 \\\\\n",
       "\t 6  & 1  & 1  & 1  & 14 & 0  & 2 \\\\\n",
       "\t 6  & 1  & 1  & 1  & 14 & 0  & 3 \\\\\n",
       "\t 6  & 1  & 1  & 1  & 14 & 0  & 4 \\\\\n",
       "\t 7  & 1  & 1  & 1  & 18 & 0  & 1 \\\\\n",
       "\t 7  & 1  & 1  & 1  & 18 & 0  & 2 \\\\\n",
       "\t 7  & 1  & 1  & 1  & 18 & 0  & 3 \\\\\n",
       "\t 7  & 1  & 1  & 1  & 18 & 0  & 4 \\\\\n",
       "\t 8  & 1  & 1  & 3  &  5 & 1  & 1 \\\\\n",
       "\t 8  & 1  & 1  & 3  & 18 & 0  & 2 \\\\\n",
       "\t ... & ... & ... & ... & ... & ... & ...\\\\\n",
       "\t 78 & 2  & 1  & 4  & 46 & 0  & 3 \\\\\n",
       "\t 78 & 2  & 1  & 4  & 46 & 0  & 4 \\\\\n",
       "\t 79 & 2  & 1  & 4  & 46 & 0  & 1 \\\\\n",
       "\t 79 & 2  & 1  & 4  & 46 & 0  & 2 \\\\\n",
       "\t 79 & 2  & 1  & 4  & 46 & 0  & 3 \\\\\n",
       "\t 79 & 2  & 1  & 4  & 46 & 0  & 4 \\\\\n",
       "\t 80 & 2  & 3  & 3  & 49 & 0  & 1 \\\\\n",
       "\t 80 & 2  & 3  & 3  & 49 & 0  & 2 \\\\\n",
       "\t 80 & 2  & 3  & 3  & 49 & 0  & 3 \\\\\n",
       "\t 80 & 2  & 3  & 3  & 49 & 0  & 4 \\\\\n",
       "\t 81 & 2  & 1  & 1  & 50 & 0  & 1 \\\\\n",
       "\t 81 & 2  & 1  & 1  & 50 & 0  & 2 \\\\\n",
       "\t 81 & 2  & 1  & 1  & 50 & 0  & 3 \\\\\n",
       "\t 81 & 2  & 1  & 1  & 50 & 0  & 4 \\\\\n",
       "\t 82 & 2  & 4  & 1  &  4 & 1  & 1 \\\\\n",
       "\t 82 & 2  & 4  & 1  & 24 & 1  & 2 \\\\\n",
       "\t 82 & 2  & 4  & 1  & 47 & 1  & 3 \\\\\n",
       "\t 82 & 2  & 4  & 1  & 50 & 0  & 4 \\\\\n",
       "\t 83 & 2  & 3  & 4  & 54 & 0  & 1 \\\\\n",
       "\t 83 & 2  & 3  & 4  & 54 & 0  & 2 \\\\\n",
       "\t 83 & 2  & 3  & 4  & 54 & 0  & 3 \\\\\n",
       "\t 83 & 2  & 3  & 4  & 54 & 0  & 4 \\\\\n",
       "\t 84 & 2  & 2  & 1  & 38 & 1  & 1 \\\\\n",
       "\t 84 & 2  & 2  & 1  & 54 & 0  & 2 \\\\\n",
       "\t 84 & 2  & 2  & 1  & 54 & 0  & 3 \\\\\n",
       "\t 84 & 2  & 2  & 1  & 54 & 0  & 4 \\\\\n",
       "\t 85 & 2  & 1  & 3  & 59 & 0  & 1 \\\\\n",
       "\t 85 & 2  & 1  & 3  & 59 & 0  & 2 \\\\\n",
       "\t 85 & 2  & 1  & 3  & 59 & 0  & 3 \\\\\n",
       "\t 85 & 2  & 1  & 3  & 59 & 0  & 4 \\\\\n",
       "\\end{tabular}\n"
      ],
      "text/markdown": [
       "\n",
       "id | rx | number | size | stop | event | enum | \n",
       "|---|---|---|---|---|---|---|---|---|---|---|---|---|---|---|---|---|---|---|---|---|---|---|---|---|---|---|---|---|---|---|---|---|---|---|---|---|---|---|---|---|---|---|---|---|---|---|---|---|---|---|---|---|---|---|---|---|---|---|---|---|\n",
       "| 1  | 1  | 1  | 3  |  1 | 0  | 1  | \n",
       "| 1  | 1  | 1  | 3  |  1 | 0  | 2  | \n",
       "| 1  | 1  | 1  | 3  |  1 | 0  | 3  | \n",
       "| 1  | 1  | 1  | 3  |  1 | 0  | 4  | \n",
       "| 2  | 1  | 2  | 1  |  4 | 0  | 1  | \n",
       "| 2  | 1  | 2  | 1  |  4 | 0  | 2  | \n",
       "| 2  | 1  | 2  | 1  |  4 | 0  | 3  | \n",
       "| 2  | 1  | 2  | 1  |  4 | 0  | 4  | \n",
       "| 3  | 1  | 1  | 1  |  7 | 0  | 1  | \n",
       "| 3  | 1  | 1  | 1  |  7 | 0  | 2  | \n",
       "| 3  | 1  | 1  | 1  |  7 | 0  | 3  | \n",
       "| 3  | 1  | 1  | 1  |  7 | 0  | 4  | \n",
       "| 4  | 1  | 5  | 1  | 10 | 0  | 1  | \n",
       "| 4  | 1  | 5  | 1  | 10 | 0  | 2  | \n",
       "| 4  | 1  | 5  | 1  | 10 | 0  | 3  | \n",
       "| 4  | 1  | 5  | 1  | 10 | 0  | 4  | \n",
       "| 5  | 1  | 4  | 1  |  6 | 1  | 1  | \n",
       "| 5  | 1  | 4  | 1  | 10 | 0  | 2  | \n",
       "| 5  | 1  | 4  | 1  | 10 | 0  | 3  | \n",
       "| 5  | 1  | 4  | 1  | 10 | 0  | 4  | \n",
       "| 6  | 1  | 1  | 1  | 14 | 0  | 1  | \n",
       "| 6  | 1  | 1  | 1  | 14 | 0  | 2  | \n",
       "| 6  | 1  | 1  | 1  | 14 | 0  | 3  | \n",
       "| 6  | 1  | 1  | 1  | 14 | 0  | 4  | \n",
       "| 7  | 1  | 1  | 1  | 18 | 0  | 1  | \n",
       "| 7  | 1  | 1  | 1  | 18 | 0  | 2  | \n",
       "| 7  | 1  | 1  | 1  | 18 | 0  | 3  | \n",
       "| 7  | 1  | 1  | 1  | 18 | 0  | 4  | \n",
       "| 8  | 1  | 1  | 3  |  5 | 1  | 1  | \n",
       "| 8  | 1  | 1  | 3  | 18 | 0  | 2  | \n",
       "| ... | ... | ... | ... | ... | ... | ... | \n",
       "| 78 | 2  | 1  | 4  | 46 | 0  | 3  | \n",
       "| 78 | 2  | 1  | 4  | 46 | 0  | 4  | \n",
       "| 79 | 2  | 1  | 4  | 46 | 0  | 1  | \n",
       "| 79 | 2  | 1  | 4  | 46 | 0  | 2  | \n",
       "| 79 | 2  | 1  | 4  | 46 | 0  | 3  | \n",
       "| 79 | 2  | 1  | 4  | 46 | 0  | 4  | \n",
       "| 80 | 2  | 3  | 3  | 49 | 0  | 1  | \n",
       "| 80 | 2  | 3  | 3  | 49 | 0  | 2  | \n",
       "| 80 | 2  | 3  | 3  | 49 | 0  | 3  | \n",
       "| 80 | 2  | 3  | 3  | 49 | 0  | 4  | \n",
       "| 81 | 2  | 1  | 1  | 50 | 0  | 1  | \n",
       "| 81 | 2  | 1  | 1  | 50 | 0  | 2  | \n",
       "| 81 | 2  | 1  | 1  | 50 | 0  | 3  | \n",
       "| 81 | 2  | 1  | 1  | 50 | 0  | 4  | \n",
       "| 82 | 2  | 4  | 1  |  4 | 1  | 1  | \n",
       "| 82 | 2  | 4  | 1  | 24 | 1  | 2  | \n",
       "| 82 | 2  | 4  | 1  | 47 | 1  | 3  | \n",
       "| 82 | 2  | 4  | 1  | 50 | 0  | 4  | \n",
       "| 83 | 2  | 3  | 4  | 54 | 0  | 1  | \n",
       "| 83 | 2  | 3  | 4  | 54 | 0  | 2  | \n",
       "| 83 | 2  | 3  | 4  | 54 | 0  | 3  | \n",
       "| 83 | 2  | 3  | 4  | 54 | 0  | 4  | \n",
       "| 84 | 2  | 2  | 1  | 38 | 1  | 1  | \n",
       "| 84 | 2  | 2  | 1  | 54 | 0  | 2  | \n",
       "| 84 | 2  | 2  | 1  | 54 | 0  | 3  | \n",
       "| 84 | 2  | 2  | 1  | 54 | 0  | 4  | \n",
       "| 85 | 2  | 1  | 3  | 59 | 0  | 1  | \n",
       "| 85 | 2  | 1  | 3  | 59 | 0  | 2  | \n",
       "| 85 | 2  | 1  | 3  | 59 | 0  | 3  | \n",
       "| 85 | 2  | 1  | 3  | 59 | 0  | 4  | \n",
       "\n",
       "\n"
      ],
      "text/plain": [
       "    id  rx  number size stop event enum\n",
       "1   1   1   1      3     1   0     1   \n",
       "2   1   1   1      3     1   0     2   \n",
       "3   1   1   1      3     1   0     3   \n",
       "4   1   1   1      3     1   0     4   \n",
       "5   2   1   2      1     4   0     1   \n",
       "6   2   1   2      1     4   0     2   \n",
       "7   2   1   2      1     4   0     3   \n",
       "8   2   1   2      1     4   0     4   \n",
       "9   3   1   1      1     7   0     1   \n",
       "10  3   1   1      1     7   0     2   \n",
       "11  3   1   1      1     7   0     3   \n",
       "12  3   1   1      1     7   0     4   \n",
       "13  4   1   5      1    10   0     1   \n",
       "14  4   1   5      1    10   0     2   \n",
       "15  4   1   5      1    10   0     3   \n",
       "16  4   1   5      1    10   0     4   \n",
       "17  5   1   4      1     6   1     1   \n",
       "18  5   1   4      1    10   0     2   \n",
       "19  5   1   4      1    10   0     3   \n",
       "20  5   1   4      1    10   0     4   \n",
       "21  6   1   1      1    14   0     1   \n",
       "22  6   1   1      1    14   0     2   \n",
       "23  6   1   1      1    14   0     3   \n",
       "24  6   1   1      1    14   0     4   \n",
       "25  7   1   1      1    18   0     1   \n",
       "26  7   1   1      1    18   0     2   \n",
       "27  7   1   1      1    18   0     3   \n",
       "28  7   1   1      1    18   0     4   \n",
       "29  8   1   1      3     5   1     1   \n",
       "30  8   1   1      3    18   0     2   \n",
       "... ... ... ...    ...  ...  ...   ... \n",
       "311 78  2   1      4    46   0     3   \n",
       "312 78  2   1      4    46   0     4   \n",
       "313 79  2   1      4    46   0     1   \n",
       "314 79  2   1      4    46   0     2   \n",
       "315 79  2   1      4    46   0     3   \n",
       "316 79  2   1      4    46   0     4   \n",
       "317 80  2   3      3    49   0     1   \n",
       "318 80  2   3      3    49   0     2   \n",
       "319 80  2   3      3    49   0     3   \n",
       "320 80  2   3      3    49   0     4   \n",
       "321 81  2   1      1    50   0     1   \n",
       "322 81  2   1      1    50   0     2   \n",
       "323 81  2   1      1    50   0     3   \n",
       "324 81  2   1      1    50   0     4   \n",
       "325 82  2   4      1     4   1     1   \n",
       "326 82  2   4      1    24   1     2   \n",
       "327 82  2   4      1    47   1     3   \n",
       "328 82  2   4      1    50   0     4   \n",
       "329 83  2   3      4    54   0     1   \n",
       "330 83  2   3      4    54   0     2   \n",
       "331 83  2   3      4    54   0     3   \n",
       "332 83  2   3      4    54   0     4   \n",
       "333 84  2   2      1    38   1     1   \n",
       "334 84  2   2      1    54   0     2   \n",
       "335 84  2   2      1    54   0     3   \n",
       "336 84  2   2      1    54   0     4   \n",
       "337 85  2   1      3    59   0     1   \n",
       "338 85  2   1      3    59   0     2   \n",
       "339 85  2   1      3    59   0     3   \n",
       "340 85  2   1      3    59   0     4   "
      ]
     },
     "metadata": {},
     "output_type": "display_data"
    }
   ],
   "source": [
    "bladder"
   ]
  },
  {
   "cell_type": "code",
   "execution_count": 20,
   "metadata": {},
   "outputs": [
    {
     "name": "stdout",
     "output_type": "stream",
     "text": [
      "[1] 0.025\n"
     ]
    }
   ],
   "source": [
    "PCT150 <- powerCT(Surv(stop, event)~enum2, dat=bl3, nE=150, nC=150, RR= 1) \n",
    "print(PCT150$power)"
   ]
  },
  {
   "cell_type": "code",
   "execution_count": 22,
   "metadata": {
    "collapsed": true
   },
   "outputs": [],
   "source": [
    "help(lung)"
   ]
  },
  {
   "cell_type": "code",
   "execution_count": 23,
   "metadata": {},
   "outputs": [
    {
     "data": {
      "text/html": [
       "<table>\n",
       "<thead><tr><th></th><th scope=col>stop</th><th scope=col>event</th><th scope=col>enum2</th></tr></thead>\n",
       "<tbody>\n",
       "\t<tr><th scope=row>1</th><td> 1</td><td>0 </td><td>C </td></tr>\n",
       "\t<tr><th scope=row>2</th><td> 1</td><td>0 </td><td>E </td></tr>\n",
       "\t<tr><th scope=row>5</th><td> 4</td><td>0 </td><td>C </td></tr>\n",
       "\t<tr><th scope=row>6</th><td> 4</td><td>0 </td><td>E </td></tr>\n",
       "\t<tr><th scope=row>9</th><td> 7</td><td>0 </td><td>C </td></tr>\n",
       "\t<tr><th scope=row>10</th><td> 7</td><td>0 </td><td>E </td></tr>\n",
       "\t<tr><th scope=row>13</th><td>10</td><td>0 </td><td>C </td></tr>\n",
       "\t<tr><th scope=row>14</th><td>10</td><td>0 </td><td>E </td></tr>\n",
       "\t<tr><th scope=row>17</th><td> 6</td><td>1 </td><td>C </td></tr>\n",
       "\t<tr><th scope=row>18</th><td>10</td><td>0 </td><td>E </td></tr>\n",
       "\t<tr><th scope=row>21</th><td>14</td><td>0 </td><td>C </td></tr>\n",
       "\t<tr><th scope=row>22</th><td>14</td><td>0 </td><td>E </td></tr>\n",
       "\t<tr><th scope=row>25</th><td>18</td><td>0 </td><td>C </td></tr>\n",
       "\t<tr><th scope=row>26</th><td>18</td><td>0 </td><td>E </td></tr>\n",
       "\t<tr><th scope=row>29</th><td> 5</td><td>1 </td><td>C </td></tr>\n",
       "\t<tr><th scope=row>30</th><td>18</td><td>0 </td><td>E </td></tr>\n",
       "\t<tr><th scope=row>33</th><td>12</td><td>1 </td><td>C </td></tr>\n",
       "\t<tr><th scope=row>34</th><td>16</td><td>1 </td><td>E </td></tr>\n",
       "\t<tr><th scope=row>37</th><td>23</td><td>0 </td><td>C </td></tr>\n",
       "\t<tr><th scope=row>38</th><td>23</td><td>0 </td><td>E </td></tr>\n",
       "\t<tr><th scope=row>41</th><td>10</td><td>1 </td><td>C </td></tr>\n",
       "\t<tr><th scope=row>42</th><td>15</td><td>1 </td><td>E </td></tr>\n",
       "\t<tr><th scope=row>45</th><td> 3</td><td>1 </td><td>C </td></tr>\n",
       "\t<tr><th scope=row>46</th><td>16</td><td>1 </td><td>E </td></tr>\n",
       "\t<tr><th scope=row>49</th><td> 3</td><td>1 </td><td>C </td></tr>\n",
       "\t<tr><th scope=row>50</th><td> 9</td><td>1 </td><td>E </td></tr>\n",
       "\t<tr><th scope=row>53</th><td> 7</td><td>1 </td><td>C </td></tr>\n",
       "\t<tr><th scope=row>54</th><td>10</td><td>1 </td><td>E </td></tr>\n",
       "\t<tr><th scope=row>57</th><td> 3</td><td>1 </td><td>C </td></tr>\n",
       "\t<tr><th scope=row>58</th><td>15</td><td>1 </td><td>E </td></tr>\n",
       "\t<tr><th scope=row>...</th><td>...</td><td>...</td><td>...</td></tr>\n",
       "\t<tr><th scope=row>281</th><td>24</td><td>1 </td><td>C </td></tr>\n",
       "\t<tr><th scope=row>282</th><td>26</td><td>1 </td><td>E </td></tr>\n",
       "\t<tr><th scope=row>285</th><td>41</td><td>0 </td><td>C </td></tr>\n",
       "\t<tr><th scope=row>286</th><td>41</td><td>0 </td><td>E </td></tr>\n",
       "\t<tr><th scope=row>289</th><td>41</td><td>0 </td><td>C </td></tr>\n",
       "\t<tr><th scope=row>290</th><td>41</td><td>0 </td><td>E </td></tr>\n",
       "\t<tr><th scope=row>293</th><td> 1</td><td>1 </td><td>C </td></tr>\n",
       "\t<tr><th scope=row>294</th><td>27</td><td>1 </td><td>E </td></tr>\n",
       "\t<tr><th scope=row>297</th><td>44</td><td>0 </td><td>C </td></tr>\n",
       "\t<tr><th scope=row>298</th><td>44</td><td>0 </td><td>E </td></tr>\n",
       "\t<tr><th scope=row>301</th><td> 2</td><td>1 </td><td>C </td></tr>\n",
       "\t<tr><th scope=row>302</th><td>20</td><td>1 </td><td>E </td></tr>\n",
       "\t<tr><th scope=row>305</th><td>45</td><td>0 </td><td>C </td></tr>\n",
       "\t<tr><th scope=row>306</th><td>45</td><td>0 </td><td>E </td></tr>\n",
       "\t<tr><th scope=row>309</th><td> 2</td><td>1 </td><td>C </td></tr>\n",
       "\t<tr><th scope=row>310</th><td>46</td><td>0 </td><td>E </td></tr>\n",
       "\t<tr><th scope=row>313</th><td>46</td><td>0 </td><td>C </td></tr>\n",
       "\t<tr><th scope=row>314</th><td>46</td><td>0 </td><td>E </td></tr>\n",
       "\t<tr><th scope=row>317</th><td>49</td><td>0 </td><td>C </td></tr>\n",
       "\t<tr><th scope=row>318</th><td>49</td><td>0 </td><td>E </td></tr>\n",
       "\t<tr><th scope=row>321</th><td>50</td><td>0 </td><td>C </td></tr>\n",
       "\t<tr><th scope=row>322</th><td>50</td><td>0 </td><td>E </td></tr>\n",
       "\t<tr><th scope=row>325</th><td> 4</td><td>1 </td><td>C </td></tr>\n",
       "\t<tr><th scope=row>326</th><td>24</td><td>1 </td><td>E </td></tr>\n",
       "\t<tr><th scope=row>329</th><td>54</td><td>0 </td><td>C </td></tr>\n",
       "\t<tr><th scope=row>330</th><td>54</td><td>0 </td><td>E </td></tr>\n",
       "\t<tr><th scope=row>333</th><td>38</td><td>1 </td><td>C </td></tr>\n",
       "\t<tr><th scope=row>334</th><td>54</td><td>0 </td><td>E </td></tr>\n",
       "\t<tr><th scope=row>337</th><td>59</td><td>0 </td><td>C </td></tr>\n",
       "\t<tr><th scope=row>338</th><td>59</td><td>0 </td><td>E </td></tr>\n",
       "</tbody>\n",
       "</table>\n"
      ],
      "text/latex": [
       "\\begin{tabular}{r|lll}\n",
       "  & stop & event & enum2\\\\\n",
       "\\hline\n",
       "\t1 &  1 & 0  & C \\\\\n",
       "\t2 &  1 & 0  & E \\\\\n",
       "\t5 &  4 & 0  & C \\\\\n",
       "\t6 &  4 & 0  & E \\\\\n",
       "\t9 &  7 & 0  & C \\\\\n",
       "\t10 &  7 & 0  & E \\\\\n",
       "\t13 & 10 & 0  & C \\\\\n",
       "\t14 & 10 & 0  & E \\\\\n",
       "\t17 &  6 & 1  & C \\\\\n",
       "\t18 & 10 & 0  & E \\\\\n",
       "\t21 & 14 & 0  & C \\\\\n",
       "\t22 & 14 & 0  & E \\\\\n",
       "\t25 & 18 & 0  & C \\\\\n",
       "\t26 & 18 & 0  & E \\\\\n",
       "\t29 &  5 & 1  & C \\\\\n",
       "\t30 & 18 & 0  & E \\\\\n",
       "\t33 & 12 & 1  & C \\\\\n",
       "\t34 & 16 & 1  & E \\\\\n",
       "\t37 & 23 & 0  & C \\\\\n",
       "\t38 & 23 & 0  & E \\\\\n",
       "\t41 & 10 & 1  & C \\\\\n",
       "\t42 & 15 & 1  & E \\\\\n",
       "\t45 &  3 & 1  & C \\\\\n",
       "\t46 & 16 & 1  & E \\\\\n",
       "\t49 &  3 & 1  & C \\\\\n",
       "\t50 &  9 & 1  & E \\\\\n",
       "\t53 &  7 & 1  & C \\\\\n",
       "\t54 & 10 & 1  & E \\\\\n",
       "\t57 &  3 & 1  & C \\\\\n",
       "\t58 & 15 & 1  & E \\\\\n",
       "\t... & ... & ... & ...\\\\\n",
       "\t281 & 24 & 1  & C \\\\\n",
       "\t282 & 26 & 1  & E \\\\\n",
       "\t285 & 41 & 0  & C \\\\\n",
       "\t286 & 41 & 0  & E \\\\\n",
       "\t289 & 41 & 0  & C \\\\\n",
       "\t290 & 41 & 0  & E \\\\\n",
       "\t293 &  1 & 1  & C \\\\\n",
       "\t294 & 27 & 1  & E \\\\\n",
       "\t297 & 44 & 0  & C \\\\\n",
       "\t298 & 44 & 0  & E \\\\\n",
       "\t301 &  2 & 1  & C \\\\\n",
       "\t302 & 20 & 1  & E \\\\\n",
       "\t305 & 45 & 0  & C \\\\\n",
       "\t306 & 45 & 0  & E \\\\\n",
       "\t309 &  2 & 1  & C \\\\\n",
       "\t310 & 46 & 0  & E \\\\\n",
       "\t313 & 46 & 0  & C \\\\\n",
       "\t314 & 46 & 0  & E \\\\\n",
       "\t317 & 49 & 0  & C \\\\\n",
       "\t318 & 49 & 0  & E \\\\\n",
       "\t321 & 50 & 0  & C \\\\\n",
       "\t322 & 50 & 0  & E \\\\\n",
       "\t325 &  4 & 1  & C \\\\\n",
       "\t326 & 24 & 1  & E \\\\\n",
       "\t329 & 54 & 0  & C \\\\\n",
       "\t330 & 54 & 0  & E \\\\\n",
       "\t333 & 38 & 1  & C \\\\\n",
       "\t334 & 54 & 0  & E \\\\\n",
       "\t337 & 59 & 0  & C \\\\\n",
       "\t338 & 59 & 0  & E \\\\\n",
       "\\end{tabular}\n"
      ],
      "text/markdown": [
       "\n",
       "| <!--/--> | stop | event | enum2 | \n",
       "|---|---|---|---|---|---|---|---|---|---|---|---|---|---|---|---|---|---|---|---|---|---|---|---|---|---|---|---|---|---|---|---|---|---|---|---|---|---|---|---|---|---|---|---|---|---|---|---|---|---|---|---|---|---|---|---|---|---|---|---|---|\n",
       "| 1 |  1 | 0  | C  | \n",
       "| 2 |  1 | 0  | E  | \n",
       "| 5 |  4 | 0  | C  | \n",
       "| 6 |  4 | 0  | E  | \n",
       "| 9 |  7 | 0  | C  | \n",
       "| 10 |  7 | 0  | E  | \n",
       "| 13 | 10 | 0  | C  | \n",
       "| 14 | 10 | 0  | E  | \n",
       "| 17 |  6 | 1  | C  | \n",
       "| 18 | 10 | 0  | E  | \n",
       "| 21 | 14 | 0  | C  | \n",
       "| 22 | 14 | 0  | E  | \n",
       "| 25 | 18 | 0  | C  | \n",
       "| 26 | 18 | 0  | E  | \n",
       "| 29 |  5 | 1  | C  | \n",
       "| 30 | 18 | 0  | E  | \n",
       "| 33 | 12 | 1  | C  | \n",
       "| 34 | 16 | 1  | E  | \n",
       "| 37 | 23 | 0  | C  | \n",
       "| 38 | 23 | 0  | E  | \n",
       "| 41 | 10 | 1  | C  | \n",
       "| 42 | 15 | 1  | E  | \n",
       "| 45 |  3 | 1  | C  | \n",
       "| 46 | 16 | 1  | E  | \n",
       "| 49 |  3 | 1  | C  | \n",
       "| 50 |  9 | 1  | E  | \n",
       "| 53 |  7 | 1  | C  | \n",
       "| 54 | 10 | 1  | E  | \n",
       "| 57 |  3 | 1  | C  | \n",
       "| 58 | 15 | 1  | E  | \n",
       "| ... | ... | ... | ... | \n",
       "| 281 | 24 | 1  | C  | \n",
       "| 282 | 26 | 1  | E  | \n",
       "| 285 | 41 | 0  | C  | \n",
       "| 286 | 41 | 0  | E  | \n",
       "| 289 | 41 | 0  | C  | \n",
       "| 290 | 41 | 0  | E  | \n",
       "| 293 |  1 | 1  | C  | \n",
       "| 294 | 27 | 1  | E  | \n",
       "| 297 | 44 | 0  | C  | \n",
       "| 298 | 44 | 0  | E  | \n",
       "| 301 |  2 | 1  | C  | \n",
       "| 302 | 20 | 1  | E  | \n",
       "| 305 | 45 | 0  | C  | \n",
       "| 306 | 45 | 0  | E  | \n",
       "| 309 |  2 | 1  | C  | \n",
       "| 310 | 46 | 0  | E  | \n",
       "| 313 | 46 | 0  | C  | \n",
       "| 314 | 46 | 0  | E  | \n",
       "| 317 | 49 | 0  | C  | \n",
       "| 318 | 49 | 0  | E  | \n",
       "| 321 | 50 | 0  | C  | \n",
       "| 322 | 50 | 0  | E  | \n",
       "| 325 |  4 | 1  | C  | \n",
       "| 326 | 24 | 1  | E  | \n",
       "| 329 | 54 | 0  | C  | \n",
       "| 330 | 54 | 0  | E  | \n",
       "| 333 | 38 | 1  | C  | \n",
       "| 334 | 54 | 0  | E  | \n",
       "| 337 | 59 | 0  | C  | \n",
       "| 338 | 59 | 0  | E  | \n",
       "\n",
       "\n"
      ],
      "text/plain": [
       "    stop event enum2\n",
       "1    1   0     C    \n",
       "2    1   0     E    \n",
       "5    4   0     C    \n",
       "6    4   0     E    \n",
       "9    7   0     C    \n",
       "10   7   0     E    \n",
       "13  10   0     C    \n",
       "14  10   0     E    \n",
       "17   6   1     C    \n",
       "18  10   0     E    \n",
       "21  14   0     C    \n",
       "22  14   0     E    \n",
       "25  18   0     C    \n",
       "26  18   0     E    \n",
       "29   5   1     C    \n",
       "30  18   0     E    \n",
       "33  12   1     C    \n",
       "34  16   1     E    \n",
       "37  23   0     C    \n",
       "38  23   0     E    \n",
       "41  10   1     C    \n",
       "42  15   1     E    \n",
       "45   3   1     C    \n",
       "46  16   1     E    \n",
       "49   3   1     C    \n",
       "50   9   1     E    \n",
       "53   7   1     C    \n",
       "54  10   1     E    \n",
       "57   3   1     C    \n",
       "58  15   1     E    \n",
       "... ...  ...   ...  \n",
       "281 24   1     C    \n",
       "282 26   1     E    \n",
       "285 41   0     C    \n",
       "286 41   0     E    \n",
       "289 41   0     C    \n",
       "290 41   0     E    \n",
       "293  1   1     C    \n",
       "294 27   1     E    \n",
       "297 44   0     C    \n",
       "298 44   0     E    \n",
       "301  2   1     C    \n",
       "302 20   1     E    \n",
       "305 45   0     C    \n",
       "306 45   0     E    \n",
       "309  2   1     C    \n",
       "310 46   0     E    \n",
       "313 46   0     C    \n",
       "314 46   0     E    \n",
       "317 49   0     C    \n",
       "318 49   0     E    \n",
       "321 50   0     C    \n",
       "322 50   0     E    \n",
       "325  4   1     C    \n",
       "326 24   1     E    \n",
       "329 54   0     C    \n",
       "330 54   0     E    \n",
       "333 38   1     C    \n",
       "334 54   0     E    \n",
       "337 59   0     C    \n",
       "338 59   0     E    "
      ]
     },
     "metadata": {},
     "output_type": "display_data"
    }
   ],
   "source": [
    "bl3"
   ]
  },
  {
   "cell_type": "code",
   "execution_count": 24,
   "metadata": {},
   "outputs": [
    {
     "data": {
      "text/html": [
       "<ol class=list-inline>\n",
       "\t<li>10.0721281921252</li>\n",
       "\t<li>6.79004254729903</li>\n",
       "\t<li>2.83600879367441</li>\n",
       "\t<li>13.4429085820434</li>\n",
       "\t<li>6.68725801610804</li>\n",
       "\t<li>6.93244958953563</li>\n",
       "\t<li>3.34242494078353</li>\n",
       "\t<li>2.75078790262341</li>\n",
       "\t<li>14.5605459800901</li>\n",
       "\t<li>4.40726335137493</li>\n",
       "\t<li>20.4692173273045</li>\n",
       "\t<li>3.2409470109269</li>\n",
       "\t<li>21.0531768671535</li>\n",
       "\t<li>0.720063452608883</li>\n",
       "\t<li>1.92127255271748</li>\n",
       "\t<li>2.26002745795995</li>\n",
       "\t<li>9.99975724103761</li>\n",
       "\t<li>6.92341559545553</li>\n",
       "\t<li>0.0467175558049012</li>\n",
       "\t<li>7.48257800990038</li>\n",
       "\t<li>0.566086824983358</li>\n",
       "\t<li>1.14164903527126</li>\n",
       "\t<li>0.940588610246778</li>\n",
       "\t<li>4.11997487429268</li>\n",
       "\t<li>0.442621421534568</li>\n",
       "</ol>\n"
      ],
      "text/latex": [
       "\\begin{enumerate*}\n",
       "\\item 10.0721281921252\n",
       "\\item 6.79004254729903\n",
       "\\item 2.83600879367441\n",
       "\\item 13.4429085820434\n",
       "\\item 6.68725801610804\n",
       "\\item 6.93244958953563\n",
       "\\item 3.34242494078353\n",
       "\\item 2.75078790262341\n",
       "\\item 14.5605459800901\n",
       "\\item 4.40726335137493\n",
       "\\item 20.4692173273045\n",
       "\\item 3.2409470109269\n",
       "\\item 21.0531768671535\n",
       "\\item 0.720063452608883\n",
       "\\item 1.92127255271748\n",
       "\\item 2.26002745795995\n",
       "\\item 9.99975724103761\n",
       "\\item 6.92341559545553\n",
       "\\item 0.0467175558049012\n",
       "\\item 7.48257800990038\n",
       "\\item 0.566086824983358\n",
       "\\item 1.14164903527126\n",
       "\\item 0.940588610246778\n",
       "\\item 4.11997487429268\n",
       "\\item 0.442621421534568\n",
       "\\end{enumerate*}\n"
      ],
      "text/markdown": [
       "1. 10.0721281921252\n",
       "2. 6.79004254729903\n",
       "3. 2.83600879367441\n",
       "4. 13.4429085820434\n",
       "5. 6.68725801610804\n",
       "6. 6.93244958953563\n",
       "7. 3.34242494078353\n",
       "8. 2.75078790262341\n",
       "9. 14.5605459800901\n",
       "10. 4.40726335137493\n",
       "11. 20.4692173273045\n",
       "12. 3.2409470109269\n",
       "13. 21.0531768671535\n",
       "14. 0.720063452608883\n",
       "15. 1.92127255271748\n",
       "16. 2.26002745795995\n",
       "17. 9.99975724103761\n",
       "18. 6.92341559545553\n",
       "19. 0.0467175558049012\n",
       "20. 7.48257800990038\n",
       "21. 0.566086824983358\n",
       "22. 1.14164903527126\n",
       "23. 0.940588610246778\n",
       "24. 4.11997487429268\n",
       "25. 0.442621421534568\n",
       "\n",
       "\n"
      ],
      "text/plain": [
       " [1] 10.07212819  6.79004255  2.83600879 13.44290858  6.68725802  6.93244959\n",
       " [7]  3.34242494  2.75078790 14.56054598  4.40726335 20.46921733  3.24094701\n",
       "[13] 21.05317687  0.72006345  1.92127255  2.26002746  9.99975724  6.92341560\n",
       "[19]  0.04671756  7.48257801  0.56608682  1.14164904  0.94058861  4.11997487\n",
       "[25]  0.44262142"
      ]
     },
     "metadata": {},
     "output_type": "display_data"
    }
   ],
   "source": [
    " rexp( 25, rate = 0.2)\n"
   ]
  },
  {
   "cell_type": "code",
   "execution_count": 29,
   "metadata": {},
   "outputs": [
    {
     "data": {
      "text/html": [
       "<dl class=dl-horizontal>\n",
       "\t<dt>nE</dt>\n",
       "\t\t<dd>130</dd>\n",
       "\t<dt>nC</dt>\n",
       "\t\t<dd>130</dd>\n",
       "</dl>\n"
      ],
      "text/latex": [
       "\\begin{description*}\n",
       "\\item[nE] 130\n",
       "\\item[nC] 130\n",
       "\\end{description*}\n"
      ],
      "text/markdown": [
       "nE\n",
       ":   130nC\n",
       ":   130\n",
       "\n"
      ],
      "text/plain": [
       " nE  nC \n",
       "130 130 "
      ]
     },
     "metadata": {},
     "output_type": "display_data"
    }
   ],
   "source": [
    "ssizeCT(Surv(stop, event)~enum2, dat=bl3, power=0.85, RR=1.6, k=1)$ssize"
   ]
  },
  {
   "cell_type": "code",
   "execution_count": 33,
   "metadata": {},
   "outputs": [
    {
     "data": {
      "text/html": [
       "0.999999999999999"
      ],
      "text/latex": [
       "0.999999999999999"
      ],
      "text/markdown": [
       "0.999999999999999"
      ],
      "text/plain": [
       "[1] 1"
      ]
     },
     "metadata": {},
     "output_type": "display_data"
    }
   ],
   "source": [
    "bl2 <- bladder[bladder$enum==1|bladder$enum==2,] \n",
    "bl2$enum2 <- ifelse(bl2$enum==1, \"C\", \"E\")\n",
    "bl3 <- bl2[,c(\"stop\", \"event\", \"enum2\")] \n",
    "\n",
    "\n",
    "powerCT(Surv(stop, event)~enum2, dat=bl3, nE=674, nC=344, RR= 0.369)$power"
   ]
  },
  {
   "cell_type": "code",
   "execution_count": 80,
   "metadata": {},
   "outputs": [
    {
     "data": {
      "text/html": [
       "0.913877635296196"
      ],
      "text/latex": [
       "0.913877635296196"
      ],
      "text/markdown": [
       "0.913877635296196"
      ],
      "text/plain": [
       "[1] 0.9138776"
      ]
     },
     "metadata": {},
     "output_type": "display_data"
    }
   ],
   "source": [
    "bl2 <- bladder[bladder$enum==2|bladder$enum==3,] \n",
    "bl2$enum2 <- ifelse(bl2$enum==2, \"C\", \"E\")\n",
    "bl3 <- bl2[,c(\"stop\", \"event\", \"enum2\")] \n",
    "\n",
    "\n",
    "powerCT(Surv(stop, event)~enum2, dat=bl3, nE=100, nC=100, RR= 0.369)$power"
   ]
  },
  {
   "cell_type": "code",
   "execution_count": 74,
   "metadata": {
    "scrolled": true
   },
   "outputs": [
    {
     "ename": "ERROR",
     "evalue": "Error in lambda.C[i] <- (n.survive.C[i - 1] - n.event.C[i])/n.survive.C[i - : replacement has length zero\n",
     "output_type": "error",
     "traceback": [
      "Error in lambda.C[i] <- (n.survive.C[i - 1] - n.event.C[i])/n.survive.C[i - : replacement has length zero\nTraceback:\n",
      "1. powerCT(Surv(censtimes, status) ~ enum, dat = data.frame(data), \n .     nE = 674, nC = 344, RR = 0.369)",
      "2. getLambdaDetla(formula, dat, RR)"
     ]
    }
   ],
   "source": [
    "#Simulate fake data\n",
    "\n",
    "e.lifetimes <- rexp(674, rate = 0.012)\n",
    "e.censtimes <- (1/0.012) + rnorm(674, sd = 20)\n",
    "e.ztimes <- pmin(e.lifetimes, e.censtimes)\n",
    "e.status <- as.numeric(e.censtimes > e.lifetimes)\n",
    "e.enum = rep('C', 674)\n",
    "e = cbind(e.censtimes, e.status)\n",
    "\n",
    "c.lifetimes <- rexp(344, rate = 0.011)\n",
    "c.censtimes <- (1/0.011) + rnorm(344, sd = 20)\n",
    "c.ztimes <- pmin(c.lifetimes, c.censtimes)\n",
    "c.status <- as.numeric(c.censtimes > c.lifetimes)\n",
    "c.enum = rep('E', 344)\n",
    "c = cbind(c.censtimes, c.status)\n",
    "\n",
    "censtimes = round(c(e.censtimes, c.censtimes))\n",
    "status = c(e.status, c.status)\n",
    "enum = c(e.enum, c.enum)\n",
    "data = data.frame(cbind(censtimes, status, enum))\n",
    "data$censtimes = sapply(data$censtimes, as.numeric)\n",
    "data$id <- seq.int(nrow(data))\n",
    "data = data[,c(4,1,2,3)]\n",
    "\n",
    "powerCT(Surv(censtimes, status)~enum, dat=data.frame(data), nE=674, nC=344, RR= 0.369)$power"
   ]
  },
  {
   "cell_type": "code",
   "execution_count": 75,
   "metadata": {},
   "outputs": [
    {
     "data": {
      "text/html": [
       "<table>\n",
       "<thead><tr><th scope=col>id</th><th scope=col>censtimes</th><th scope=col>status</th><th scope=col>enum</th></tr></thead>\n",
       "<tbody>\n",
       "\t<tr><td> 1 </td><td> 72</td><td>1  </td><td>C  </td></tr>\n",
       "\t<tr><td> 2 </td><td> 86</td><td>1  </td><td>C  </td></tr>\n",
       "\t<tr><td> 3 </td><td> 65</td><td>0  </td><td>C  </td></tr>\n",
       "\t<tr><td> 4 </td><td> 78</td><td>1  </td><td>C  </td></tr>\n",
       "\t<tr><td> 5 </td><td> 94</td><td>1  </td><td>C  </td></tr>\n",
       "\t<tr><td> 6 </td><td> 78</td><td>1  </td><td>C  </td></tr>\n",
       "\t<tr><td> 7 </td><td>101</td><td>1  </td><td>C  </td></tr>\n",
       "\t<tr><td> 8 </td><td> 83</td><td>0  </td><td>C  </td></tr>\n",
       "\t<tr><td> 9 </td><td> 47</td><td>0  </td><td>C  </td></tr>\n",
       "\t<tr><td>10 </td><td> 78</td><td>1  </td><td>C  </td></tr>\n",
       "\t<tr><td>11 </td><td> 59</td><td>0  </td><td>C  </td></tr>\n",
       "\t<tr><td>12 </td><td> 88</td><td>0  </td><td>C  </td></tr>\n",
       "\t<tr><td>13 </td><td> 90</td><td>1  </td><td>C  </td></tr>\n",
       "\t<tr><td>14 </td><td> 74</td><td>0  </td><td>C  </td></tr>\n",
       "\t<tr><td>15 </td><td> 80</td><td>0  </td><td>C  </td></tr>\n",
       "\t<tr><td>16 </td><td> 89</td><td>0  </td><td>C  </td></tr>\n",
       "\t<tr><td>17 </td><td> 82</td><td>0  </td><td>C  </td></tr>\n",
       "\t<tr><td>18 </td><td> 85</td><td>1  </td><td>C  </td></tr>\n",
       "\t<tr><td>19 </td><td> 67</td><td>0  </td><td>C  </td></tr>\n",
       "\t<tr><td>20 </td><td>  2</td><td>1  </td><td>C  </td></tr>\n",
       "\t<tr><td>21 </td><td> 85</td><td>0  </td><td>C  </td></tr>\n",
       "\t<tr><td>22 </td><td> 10</td><td>1  </td><td>C  </td></tr>\n",
       "\t<tr><td>23 </td><td> 23</td><td>0  </td><td>C  </td></tr>\n",
       "\t<tr><td>24 </td><td> 79</td><td>0  </td><td>C  </td></tr>\n",
       "\t<tr><td>25 </td><td> 91</td><td>1  </td><td>C  </td></tr>\n",
       "\t<tr><td>26 </td><td> 86</td><td>0  </td><td>C  </td></tr>\n",
       "\t<tr><td>27 </td><td> 91</td><td>0  </td><td>C  </td></tr>\n",
       "\t<tr><td>28 </td><td> 87</td><td>0  </td><td>C  </td></tr>\n",
       "\t<tr><td>29 </td><td> 97</td><td>1  </td><td>C  </td></tr>\n",
       "\t<tr><td>30 </td><td> 76</td><td>1  </td><td>C  </td></tr>\n",
       "\t<tr><td>...</td><td>...</td><td>...</td><td>...</td></tr>\n",
       "\t<tr><td> 989</td><td> 15 </td><td>1   </td><td>E   </td></tr>\n",
       "\t<tr><td> 990</td><td> 62 </td><td>1   </td><td>E   </td></tr>\n",
       "\t<tr><td> 991</td><td>100 </td><td>1   </td><td>E   </td></tr>\n",
       "\t<tr><td> 992</td><td> 76 </td><td>0   </td><td>E   </td></tr>\n",
       "\t<tr><td> 993</td><td> 82 </td><td>1   </td><td>E   </td></tr>\n",
       "\t<tr><td> 994</td><td>  7 </td><td>1   </td><td>E   </td></tr>\n",
       "\t<tr><td> 995</td><td> 17 </td><td>1   </td><td>E   </td></tr>\n",
       "\t<tr><td> 996</td><td> 99 </td><td>1   </td><td>E   </td></tr>\n",
       "\t<tr><td> 997</td><td> 89 </td><td>1   </td><td>E   </td></tr>\n",
       "\t<tr><td> 998</td><td> 67 </td><td>0   </td><td>E   </td></tr>\n",
       "\t<tr><td> 999</td><td>  5 </td><td>1   </td><td>E   </td></tr>\n",
       "\t<tr><td>1000</td><td> 87 </td><td>0   </td><td>E   </td></tr>\n",
       "\t<tr><td>1001</td><td> 11 </td><td>1   </td><td>E   </td></tr>\n",
       "\t<tr><td>1002</td><td> 89 </td><td>0   </td><td>E   </td></tr>\n",
       "\t<tr><td>1003</td><td>  1 </td><td>0   </td><td>E   </td></tr>\n",
       "\t<tr><td>1004</td><td>  3 </td><td>1   </td><td>E   </td></tr>\n",
       "\t<tr><td>1005</td><td> 96 </td><td>0   </td><td>E   </td></tr>\n",
       "\t<tr><td>1006</td><td> 62 </td><td>1   </td><td>E   </td></tr>\n",
       "\t<tr><td>1007</td><td> 58 </td><td>1   </td><td>E   </td></tr>\n",
       "\t<tr><td>1008</td><td> 92 </td><td>0   </td><td>E   </td></tr>\n",
       "\t<tr><td>1009</td><td> 33 </td><td>1   </td><td>E   </td></tr>\n",
       "\t<tr><td>1010</td><td> 99 </td><td>1   </td><td>E   </td></tr>\n",
       "\t<tr><td>1011</td><td> 77 </td><td>1   </td><td>E   </td></tr>\n",
       "\t<tr><td>1012</td><td> 84 </td><td>1   </td><td>E   </td></tr>\n",
       "\t<tr><td>1013</td><td> 95 </td><td>1   </td><td>E   </td></tr>\n",
       "\t<tr><td>1014</td><td>  2 </td><td>1   </td><td>E   </td></tr>\n",
       "\t<tr><td>1015</td><td> 96 </td><td>1   </td><td>E   </td></tr>\n",
       "\t<tr><td>1016</td><td> 93 </td><td>1   </td><td>E   </td></tr>\n",
       "\t<tr><td>1017</td><td> 89 </td><td>1   </td><td>E   </td></tr>\n",
       "\t<tr><td>1018</td><td> 95 </td><td>0   </td><td>E   </td></tr>\n",
       "</tbody>\n",
       "</table>\n"
      ],
      "text/latex": [
       "\\begin{tabular}{r|llll}\n",
       " id & censtimes & status & enum\\\\\n",
       "\\hline\n",
       "\t  1  &  72 & 1   & C  \\\\\n",
       "\t  2  &  86 & 1   & C  \\\\\n",
       "\t  3  &  65 & 0   & C  \\\\\n",
       "\t  4  &  78 & 1   & C  \\\\\n",
       "\t  5  &  94 & 1   & C  \\\\\n",
       "\t  6  &  78 & 1   & C  \\\\\n",
       "\t  7  & 101 & 1   & C  \\\\\n",
       "\t  8  &  83 & 0   & C  \\\\\n",
       "\t  9  &  47 & 0   & C  \\\\\n",
       "\t 10  &  78 & 1   & C  \\\\\n",
       "\t 11  &  59 & 0   & C  \\\\\n",
       "\t 12  &  88 & 0   & C  \\\\\n",
       "\t 13  &  90 & 1   & C  \\\\\n",
       "\t 14  &  74 & 0   & C  \\\\\n",
       "\t 15  &  80 & 0   & C  \\\\\n",
       "\t 16  &  89 & 0   & C  \\\\\n",
       "\t 17  &  82 & 0   & C  \\\\\n",
       "\t 18  &  85 & 1   & C  \\\\\n",
       "\t 19  &  67 & 0   & C  \\\\\n",
       "\t 20  &   2 & 1   & C  \\\\\n",
       "\t 21  &  85 & 0   & C  \\\\\n",
       "\t 22  &  10 & 1   & C  \\\\\n",
       "\t 23  &  23 & 0   & C  \\\\\n",
       "\t 24  &  79 & 0   & C  \\\\\n",
       "\t 25  &  91 & 1   & C  \\\\\n",
       "\t 26  &  86 & 0   & C  \\\\\n",
       "\t 27  &  91 & 0   & C  \\\\\n",
       "\t 28  &  87 & 0   & C  \\\\\n",
       "\t 29  &  97 & 1   & C  \\\\\n",
       "\t 30  &  76 & 1   & C  \\\\\n",
       "\t ... & ... & ... & ...\\\\\n",
       "\t  989 &  15  & 1    & E   \\\\\n",
       "\t  990 &  62  & 1    & E   \\\\\n",
       "\t  991 & 100  & 1    & E   \\\\\n",
       "\t  992 &  76  & 0    & E   \\\\\n",
       "\t  993 &  82  & 1    & E   \\\\\n",
       "\t  994 &   7  & 1    & E   \\\\\n",
       "\t  995 &  17  & 1    & E   \\\\\n",
       "\t  996 &  99  & 1    & E   \\\\\n",
       "\t  997 &  89  & 1    & E   \\\\\n",
       "\t  998 &  67  & 0    & E   \\\\\n",
       "\t  999 &   5  & 1    & E   \\\\\n",
       "\t 1000 &  87  & 0    & E   \\\\\n",
       "\t 1001 &  11  & 1    & E   \\\\\n",
       "\t 1002 &  89  & 0    & E   \\\\\n",
       "\t 1003 &   1  & 0    & E   \\\\\n",
       "\t 1004 &   3  & 1    & E   \\\\\n",
       "\t 1005 &  96  & 0    & E   \\\\\n",
       "\t 1006 &  62  & 1    & E   \\\\\n",
       "\t 1007 &  58  & 1    & E   \\\\\n",
       "\t 1008 &  92  & 0    & E   \\\\\n",
       "\t 1009 &  33  & 1    & E   \\\\\n",
       "\t 1010 &  99  & 1    & E   \\\\\n",
       "\t 1011 &  77  & 1    & E   \\\\\n",
       "\t 1012 &  84  & 1    & E   \\\\\n",
       "\t 1013 &  95  & 1    & E   \\\\\n",
       "\t 1014 &   2  & 1    & E   \\\\\n",
       "\t 1015 &  96  & 1    & E   \\\\\n",
       "\t 1016 &  93  & 1    & E   \\\\\n",
       "\t 1017 &  89  & 1    & E   \\\\\n",
       "\t 1018 &  95  & 0    & E   \\\\\n",
       "\\end{tabular}\n"
      ],
      "text/markdown": [
       "\n",
       "id | censtimes | status | enum | \n",
       "|---|---|---|---|---|---|---|---|---|---|---|---|---|---|---|---|---|---|---|---|---|---|---|---|---|---|---|---|---|---|---|---|---|---|---|---|---|---|---|---|---|---|---|---|---|---|---|---|---|---|---|---|---|---|---|---|---|---|---|---|---|\n",
       "|  1  |  72 | 1   | C   | \n",
       "|  2  |  86 | 1   | C   | \n",
       "|  3  |  65 | 0   | C   | \n",
       "|  4  |  78 | 1   | C   | \n",
       "|  5  |  94 | 1   | C   | \n",
       "|  6  |  78 | 1   | C   | \n",
       "|  7  | 101 | 1   | C   | \n",
       "|  8  |  83 | 0   | C   | \n",
       "|  9  |  47 | 0   | C   | \n",
       "| 10  |  78 | 1   | C   | \n",
       "| 11  |  59 | 0   | C   | \n",
       "| 12  |  88 | 0   | C   | \n",
       "| 13  |  90 | 1   | C   | \n",
       "| 14  |  74 | 0   | C   | \n",
       "| 15  |  80 | 0   | C   | \n",
       "| 16  |  89 | 0   | C   | \n",
       "| 17  |  82 | 0   | C   | \n",
       "| 18  |  85 | 1   | C   | \n",
       "| 19  |  67 | 0   | C   | \n",
       "| 20  |   2 | 1   | C   | \n",
       "| 21  |  85 | 0   | C   | \n",
       "| 22  |  10 | 1   | C   | \n",
       "| 23  |  23 | 0   | C   | \n",
       "| 24  |  79 | 0   | C   | \n",
       "| 25  |  91 | 1   | C   | \n",
       "| 26  |  86 | 0   | C   | \n",
       "| 27  |  91 | 0   | C   | \n",
       "| 28  |  87 | 0   | C   | \n",
       "| 29  |  97 | 1   | C   | \n",
       "| 30  |  76 | 1   | C   | \n",
       "| ... | ... | ... | ... | \n",
       "|  989 |  15  | 1    | E    | \n",
       "|  990 |  62  | 1    | E    | \n",
       "|  991 | 100  | 1    | E    | \n",
       "|  992 |  76  | 0    | E    | \n",
       "|  993 |  82  | 1    | E    | \n",
       "|  994 |   7  | 1    | E    | \n",
       "|  995 |  17  | 1    | E    | \n",
       "|  996 |  99  | 1    | E    | \n",
       "|  997 |  89  | 1    | E    | \n",
       "|  998 |  67  | 0    | E    | \n",
       "|  999 |   5  | 1    | E    | \n",
       "| 1000 |  87  | 0    | E    | \n",
       "| 1001 |  11  | 1    | E    | \n",
       "| 1002 |  89  | 0    | E    | \n",
       "| 1003 |   1  | 0    | E    | \n",
       "| 1004 |   3  | 1    | E    | \n",
       "| 1005 |  96  | 0    | E    | \n",
       "| 1006 |  62  | 1    | E    | \n",
       "| 1007 |  58  | 1    | E    | \n",
       "| 1008 |  92  | 0    | E    | \n",
       "| 1009 |  33  | 1    | E    | \n",
       "| 1010 |  99  | 1    | E    | \n",
       "| 1011 |  77  | 1    | E    | \n",
       "| 1012 |  84  | 1    | E    | \n",
       "| 1013 |  95  | 1    | E    | \n",
       "| 1014 |   2  | 1    | E    | \n",
       "| 1015 |  96  | 1    | E    | \n",
       "| 1016 |  93  | 1    | E    | \n",
       "| 1017 |  89  | 1    | E    | \n",
       "| 1018 |  95  | 0    | E    | \n",
       "\n",
       "\n"
      ],
      "text/plain": [
       "     id   censtimes status enum\n",
       "1     1    72       1      C   \n",
       "2     2    86       1      C   \n",
       "3     3    65       0      C   \n",
       "4     4    78       1      C   \n",
       "5     5    94       1      C   \n",
       "6     6    78       1      C   \n",
       "7     7   101       1      C   \n",
       "8     8    83       0      C   \n",
       "9     9    47       0      C   \n",
       "10   10    78       1      C   \n",
       "11   11    59       0      C   \n",
       "12   12    88       0      C   \n",
       "13   13    90       1      C   \n",
       "14   14    74       0      C   \n",
       "15   15    80       0      C   \n",
       "16   16    89       0      C   \n",
       "17   17    82       0      C   \n",
       "18   18    85       1      C   \n",
       "19   19    67       0      C   \n",
       "20   20     2       1      C   \n",
       "21   21    85       0      C   \n",
       "22   22    10       1      C   \n",
       "23   23    23       0      C   \n",
       "24   24    79       0      C   \n",
       "25   25    91       1      C   \n",
       "26   26    86       0      C   \n",
       "27   27    91       0      C   \n",
       "28   28    87       0      C   \n",
       "29   29    97       1      C   \n",
       "30   30    76       1      C   \n",
       "...  ...  ...       ...    ... \n",
       "989   989  15       1      E   \n",
       "990   990  62       1      E   \n",
       "991   991 100       1      E   \n",
       "992   992  76       0      E   \n",
       "993   993  82       1      E   \n",
       "994   994   7       1      E   \n",
       "995   995  17       1      E   \n",
       "996   996  99       1      E   \n",
       "997   997  89       1      E   \n",
       "998   998  67       0      E   \n",
       "999   999   5       1      E   \n",
       "1000 1000  87       0      E   \n",
       "1001 1001  11       1      E   \n",
       "1002 1002  89       0      E   \n",
       "1003 1003   1       0      E   \n",
       "1004 1004   3       1      E   \n",
       "1005 1005  96       0      E   \n",
       "1006 1006  62       1      E   \n",
       "1007 1007  58       1      E   \n",
       "1008 1008  92       0      E   \n",
       "1009 1009  33       1      E   \n",
       "1010 1010  99       1      E   \n",
       "1011 1011  77       1      E   \n",
       "1012 1012  84       1      E   \n",
       "1013 1013  95       1      E   \n",
       "1014 1014   2       1      E   \n",
       "1015 1015  96       1      E   \n",
       "1016 1016  93       1      E   \n",
       "1017 1017  89       1      E   \n",
       "1018 1018  95       0      E   "
      ]
     },
     "metadata": {},
     "output_type": "display_data"
    }
   ],
   "source": [
    "data"
   ]
  },
  {
   "cell_type": "code",
   "execution_count": 81,
   "metadata": {},
   "outputs": [
    {
     "data": {
      "image/png": "[encoded data removed]",
      "text/plain": [
       "Plot with title \"density.default(x = rexp(674, rate = 0.012))\""
      ]
     },
     "metadata": {},
     "output_type": "display_data"
    },
    {
     "data": {
      "image/png": "[encoded data removed]",
      "text/plain": [
       "Plot with title \"density.default(x = rexp(344, rate = 0.011))\""
      ]
     },
     "metadata": {},
     "output_type": "display_data"
    }
   ],
   "source": [
    "plot(density(rexp(674, rate = 0.012)))\n",
    "plot(density(rexp(344, rate = 0.011)))"
   ]
  },
  {
   "cell_type": "code",
   "execution_count": 91,
   "metadata": {},
   "outputs": [
    {
     "name": "stdout",
     "output_type": "stream",
     "text": [
      "\n",
      "*******************\n",
      "Number of strata: m= 1 \n",
      "Vs>>\n",
      "[1] 1\n",
      "\n",
      "mu= -0.4715899 \n",
      "za= 1.644854 , zb= 1.644854 \n",
      "n= 48.66151 , ceiling(n)= 49 \n",
      "\n",
      "*******************\n",
      "\n",
      "*******************\n",
      "Number of strata: m= 1 \n",
      "Vs>>\n",
      "[1] 1\n",
      "\n",
      "mu= -0.2740083 \n",
      "za= 1.644854 , zb= 1.644854 \n",
      "n= 144.1409 , ceiling(n)= 145 \n",
      "\n",
      "*******************\n",
      "\n",
      "*******************\n",
      "Number of strata: m= 1 \n",
      "Vs>>\n",
      "[1] 1\n",
      "\n",
      "mu= -0.1322337 \n",
      "za= 1.644854 , zb= 1.644854 \n",
      "n= 618.9142 , ceiling(n)= 619 \n",
      "\n",
      "*******************\n"
     ]
    }
   ],
   "source": [
    "ssize.stratify(\n",
    "0.95,\n",
    "125,\n",
    "c(1),\n",
    "c(0.338),\n",
    "0.369,\n",
    "c(0.369),\n",
    "alpha = 0.05,\n",
    "verbose = TRUE)\n",
    "\n",
    "ssize.stratify(\n",
    "0.95,\n",
    "125,\n",
    "c(1),\n",
    "c(0.797),\n",
    "0.506,\n",
    "c(0.506),\n",
    "alpha = 0.05,\n",
    "verbose = TRUE)\n",
    "\n",
    "ssize.stratify(\n",
    "0.95,\n",
    "125,\n",
    "c(1),\n",
    "c(0.033),\n",
    "0.477,\n",
    "c(0.477),\n",
    "alpha = 0.05,\n",
    "verbose = TRUE)"
   ]
  },
  {
   "cell_type": "code",
   "execution_count": null,
   "metadata": {
    "collapsed": true
   },
   "outputs": [],
   "source": []
  },
  {
   "cell_type": "code",
   "execution_count": null,
   "metadata": {
    "collapsed": true
   },
   "outputs": [],
   "source": []
  },
  {
   "cell_type": "code",
   "execution_count": null,
   "metadata": {
    "collapsed": true
   },
   "outputs": [],
   "source": []
  },
  {
   "cell_type": "code",
   "execution_count": null,
   "metadata": {
    "collapsed": true
   },
   "outputs": [],
   "source": []
  }
 ],
 "metadata": {
  "kernelspec": {
   "display_name": "R",
   "language": "R",
   "name": "ir"
  },
  "language_info": {
   "codemirror_mode": "r",
   "file_extension": ".r",
   "mimetype": "text/x-r-source",
   "name": "R",
   "pygments_lexer": "r",
   "version": "3.4.3"
  },
  "varInspector": {
   "cols": {
    "lenName": 16,
    "lenType": 16,
    "lenVar": 40
   },
   "kernels_config": {
    "python": {
     "delete_cmd_postfix": "",
     "delete_cmd_prefix": "del ",
     "library": "var_list.py",
     "varRefreshCmd": "print(var_dic_list())"
    },
    "r": {
     "delete_cmd_postfix": ") ",
     "delete_cmd_prefix": "rm(",
     "library": "var_list.r",
     "varRefreshCmd": "cat(var_dic_list()) "
    }
   },
   "types_to_exclude": [
    "module",
    "function",
    "builtin_function_or_method",
    "instance",
    "_Feature"
   ],
   "window_display": false
  }
 },
 "nbformat": 4,
 "nbformat_minor": 2
}
