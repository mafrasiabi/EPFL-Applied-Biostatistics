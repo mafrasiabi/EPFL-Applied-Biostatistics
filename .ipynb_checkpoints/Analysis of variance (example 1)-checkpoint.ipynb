{
 "cells": [
  {
   "cell_type": "code",
   "execution_count": 1,
   "metadata": {},
   "outputs": [
    {
     "name": "stderr",
     "output_type": "stream",
     "text": [
      "Loading required package: tools\n"
     ]
    },
    {
     "data": {
      "text/html": [
       "<ol class=list-inline>\n",
       "\t<li>'HSAUR3'</li>\n",
       "\t<li>'tools'</li>\n",
       "\t<li>'stats'</li>\n",
       "\t<li>'graphics'</li>\n",
       "\t<li>'grDevices'</li>\n",
       "\t<li>'utils'</li>\n",
       "\t<li>'datasets'</li>\n",
       "\t<li>'methods'</li>\n",
       "\t<li>'base'</li>\n",
       "</ol>\n"
      ],
      "text/latex": [
       "\\begin{enumerate*}\n",
       "\\item 'HSAUR3'\n",
       "\\item 'tools'\n",
       "\\item 'stats'\n",
       "\\item 'graphics'\n",
       "\\item 'grDevices'\n",
       "\\item 'utils'\n",
       "\\item 'datasets'\n",
       "\\item 'methods'\n",
       "\\item 'base'\n",
       "\\end{enumerate*}\n"
      ],
      "text/markdown": [
       "1. 'HSAUR3'\n",
       "2. 'tools'\n",
       "3. 'stats'\n",
       "4. 'graphics'\n",
       "5. 'grDevices'\n",
       "6. 'utils'\n",
       "7. 'datasets'\n",
       "8. 'methods'\n",
       "9. 'base'\n",
       "\n",
       "\n"
      ],
      "text/plain": [
       "[1] \"HSAUR3\"    \"tools\"     \"stats\"     \"graphics\"  \"grDevices\" \"utils\"    \n",
       "[7] \"datasets\"  \"methods\"   \"base\"     "
      ]
     },
     "metadata": {},
     "output_type": "display_data"
    }
   ],
   "source": [
    "# Load HSAUR3 package\n",
    "library(HSAUR3)\n",
    "\n",
    "# Verify \n",
    "(.packages())"
   ]
  },
  {
   "cell_type": "code",
   "execution_count": 10,
   "metadata": {},
   "outputs": [
    {
     "data": {
      "text/html": [
       "<table>\n",
       "<thead><tr><th scope=col>source</th><th scope=col>type</th><th scope=col>weightgain</th></tr></thead>\n",
       "<tbody>\n",
       "\t<tr><td>Beef  </td><td>Low   </td><td> 90   </td></tr>\n",
       "\t<tr><td>Beef  </td><td>Low   </td><td> 76   </td></tr>\n",
       "\t<tr><td>Beef  </td><td>Low   </td><td> 90   </td></tr>\n",
       "\t<tr><td>Beef  </td><td>Low   </td><td> 64   </td></tr>\n",
       "\t<tr><td>Beef  </td><td>Low   </td><td> 86   </td></tr>\n",
       "\t<tr><td>Beef  </td><td>Low   </td><td> 51   </td></tr>\n",
       "\t<tr><td>Beef  </td><td>Low   </td><td> 72   </td></tr>\n",
       "\t<tr><td>Beef  </td><td>Low   </td><td> 90   </td></tr>\n",
       "\t<tr><td>Beef  </td><td>Low   </td><td> 95   </td></tr>\n",
       "\t<tr><td>Beef  </td><td>Low   </td><td> 78   </td></tr>\n",
       "\t<tr><td>Beef  </td><td>High  </td><td> 73   </td></tr>\n",
       "\t<tr><td>Beef  </td><td>High  </td><td>102   </td></tr>\n",
       "\t<tr><td>Beef  </td><td>High  </td><td>118   </td></tr>\n",
       "\t<tr><td>Beef  </td><td>High  </td><td>104   </td></tr>\n",
       "\t<tr><td>Beef  </td><td>High  </td><td> 81   </td></tr>\n",
       "\t<tr><td>Beef  </td><td>High  </td><td>107   </td></tr>\n",
       "\t<tr><td>Beef  </td><td>High  </td><td>100   </td></tr>\n",
       "\t<tr><td>Beef  </td><td>High  </td><td> 87   </td></tr>\n",
       "\t<tr><td>Beef  </td><td>High  </td><td>117   </td></tr>\n",
       "\t<tr><td>Beef  </td><td>High  </td><td>111   </td></tr>\n",
       "\t<tr><td>Cereal</td><td>Low   </td><td>107   </td></tr>\n",
       "\t<tr><td>Cereal</td><td>Low   </td><td> 95   </td></tr>\n",
       "\t<tr><td>Cereal</td><td>Low   </td><td> 97   </td></tr>\n",
       "\t<tr><td>Cereal</td><td>Low   </td><td> 80   </td></tr>\n",
       "\t<tr><td>Cereal</td><td>Low   </td><td> 98   </td></tr>\n",
       "\t<tr><td>Cereal</td><td>Low   </td><td> 74   </td></tr>\n",
       "\t<tr><td>Cereal</td><td>Low   </td><td> 74   </td></tr>\n",
       "\t<tr><td>Cereal</td><td>Low   </td><td> 67   </td></tr>\n",
       "\t<tr><td>Cereal</td><td>Low   </td><td> 89   </td></tr>\n",
       "\t<tr><td>Cereal</td><td>Low   </td><td> 58   </td></tr>\n",
       "\t<tr><td>Cereal</td><td>High  </td><td> 98   </td></tr>\n",
       "\t<tr><td>Cereal</td><td>High  </td><td> 74   </td></tr>\n",
       "\t<tr><td>Cereal</td><td>High  </td><td> 56   </td></tr>\n",
       "\t<tr><td>Cereal</td><td>High  </td><td>111   </td></tr>\n",
       "\t<tr><td>Cereal</td><td>High  </td><td> 95   </td></tr>\n",
       "\t<tr><td>Cereal</td><td>High  </td><td> 88   </td></tr>\n",
       "\t<tr><td>Cereal</td><td>High  </td><td> 82   </td></tr>\n",
       "\t<tr><td>Cereal</td><td>High  </td><td> 77   </td></tr>\n",
       "\t<tr><td>Cereal</td><td>High  </td><td> 86   </td></tr>\n",
       "\t<tr><td>Cereal</td><td>High  </td><td> 92   </td></tr>\n",
       "</tbody>\n",
       "</table>\n"
      ],
      "text/latex": [
       "\\begin{tabular}{r|lll}\n",
       " source & type & weightgain\\\\\n",
       "\\hline\n",
       "\t Beef   & Low    &  90   \\\\\n",
       "\t Beef   & Low    &  76   \\\\\n",
       "\t Beef   & Low    &  90   \\\\\n",
       "\t Beef   & Low    &  64   \\\\\n",
       "\t Beef   & Low    &  86   \\\\\n",
       "\t Beef   & Low    &  51   \\\\\n",
       "\t Beef   & Low    &  72   \\\\\n",
       "\t Beef   & Low    &  90   \\\\\n",
       "\t Beef   & Low    &  95   \\\\\n",
       "\t Beef   & Low    &  78   \\\\\n",
       "\t Beef   & High   &  73   \\\\\n",
       "\t Beef   & High   & 102   \\\\\n",
       "\t Beef   & High   & 118   \\\\\n",
       "\t Beef   & High   & 104   \\\\\n",
       "\t Beef   & High   &  81   \\\\\n",
       "\t Beef   & High   & 107   \\\\\n",
       "\t Beef   & High   & 100   \\\\\n",
       "\t Beef   & High   &  87   \\\\\n",
       "\t Beef   & High   & 117   \\\\\n",
       "\t Beef   & High   & 111   \\\\\n",
       "\t Cereal & Low    & 107   \\\\\n",
       "\t Cereal & Low    &  95   \\\\\n",
       "\t Cereal & Low    &  97   \\\\\n",
       "\t Cereal & Low    &  80   \\\\\n",
       "\t Cereal & Low    &  98   \\\\\n",
       "\t Cereal & Low    &  74   \\\\\n",
       "\t Cereal & Low    &  74   \\\\\n",
       "\t Cereal & Low    &  67   \\\\\n",
       "\t Cereal & Low    &  89   \\\\\n",
       "\t Cereal & Low    &  58   \\\\\n",
       "\t Cereal & High   &  98   \\\\\n",
       "\t Cereal & High   &  74   \\\\\n",
       "\t Cereal & High   &  56   \\\\\n",
       "\t Cereal & High   & 111   \\\\\n",
       "\t Cereal & High   &  95   \\\\\n",
       "\t Cereal & High   &  88   \\\\\n",
       "\t Cereal & High   &  82   \\\\\n",
       "\t Cereal & High   &  77   \\\\\n",
       "\t Cereal & High   &  86   \\\\\n",
       "\t Cereal & High   &  92   \\\\\n",
       "\\end{tabular}\n"
      ],
      "text/markdown": [
       "\n",
       "source | type | weightgain | \n",
       "|---|---|---|---|---|---|---|---|---|---|---|---|---|---|---|---|---|---|---|---|---|---|---|---|---|---|---|---|---|---|---|---|---|---|---|---|---|---|---|---|\n",
       "| Beef   | Low    |  90    | \n",
       "| Beef   | Low    |  76    | \n",
       "| Beef   | Low    |  90    | \n",
       "| Beef   | Low    |  64    | \n",
       "| Beef   | Low    |  86    | \n",
       "| Beef   | Low    |  51    | \n",
       "| Beef   | Low    |  72    | \n",
       "| Beef   | Low    |  90    | \n",
       "| Beef   | Low    |  95    | \n",
       "| Beef   | Low    |  78    | \n",
       "| Beef   | High   |  73    | \n",
       "| Beef   | High   | 102    | \n",
       "| Beef   | High   | 118    | \n",
       "| Beef   | High   | 104    | \n",
       "| Beef   | High   |  81    | \n",
       "| Beef   | High   | 107    | \n",
       "| Beef   | High   | 100    | \n",
       "| Beef   | High   |  87    | \n",
       "| Beef   | High   | 117    | \n",
       "| Beef   | High   | 111    | \n",
       "| Cereal | Low    | 107    | \n",
       "| Cereal | Low    |  95    | \n",
       "| Cereal | Low    |  97    | \n",
       "| Cereal | Low    |  80    | \n",
       "| Cereal | Low    |  98    | \n",
       "| Cereal | Low    |  74    | \n",
       "| Cereal | Low    |  74    | \n",
       "| Cereal | Low    |  67    | \n",
       "| Cereal | Low    |  89    | \n",
       "| Cereal | Low    |  58    | \n",
       "| Cereal | High   |  98    | \n",
       "| Cereal | High   |  74    | \n",
       "| Cereal | High   |  56    | \n",
       "| Cereal | High   | 111    | \n",
       "| Cereal | High   |  95    | \n",
       "| Cereal | High   |  88    | \n",
       "| Cereal | High   |  82    | \n",
       "| Cereal | High   |  77    | \n",
       "| Cereal | High   |  86    | \n",
       "| Cereal | High   |  92    | \n",
       "\n",
       "\n"
      ],
      "text/plain": [
       "   source type weightgain\n",
       "1  Beef   Low   90       \n",
       "2  Beef   Low   76       \n",
       "3  Beef   Low   90       \n",
       "4  Beef   Low   64       \n",
       "5  Beef   Low   86       \n",
       "6  Beef   Low   51       \n",
       "7  Beef   Low   72       \n",
       "8  Beef   Low   90       \n",
       "9  Beef   Low   95       \n",
       "10 Beef   Low   78       \n",
       "11 Beef   High  73       \n",
       "12 Beef   High 102       \n",
       "13 Beef   High 118       \n",
       "14 Beef   High 104       \n",
       "15 Beef   High  81       \n",
       "16 Beef   High 107       \n",
       "17 Beef   High 100       \n",
       "18 Beef   High  87       \n",
       "19 Beef   High 117       \n",
       "20 Beef   High 111       \n",
       "21 Cereal Low  107       \n",
       "22 Cereal Low   95       \n",
       "23 Cereal Low   97       \n",
       "24 Cereal Low   80       \n",
       "25 Cereal Low   98       \n",
       "26 Cereal Low   74       \n",
       "27 Cereal Low   74       \n",
       "28 Cereal Low   67       \n",
       "29 Cereal Low   89       \n",
       "30 Cereal Low   58       \n",
       "31 Cereal High  98       \n",
       "32 Cereal High  74       \n",
       "33 Cereal High  56       \n",
       "34 Cereal High 111       \n",
       "35 Cereal High  95       \n",
       "36 Cereal High  88       \n",
       "37 Cereal High  82       \n",
       "38 Cereal High  77       \n",
       "39 Cereal High  86       \n",
       "40 Cereal High  92       "
      ]
     },
     "metadata": {},
     "output_type": "display_data"
    }
   ],
   "source": [
    "# Visualize the dataset\n",
    "data(\"weightgain\", package = \"HSAUR3\")\n",
    "weightgain"
   ]
  },
  {
   "cell_type": "markdown",
   "metadata": {},
   "source": [
    "### Exploratory Visualizations"
   ]
  },
  {
   "cell_type": "code",
   "execution_count": 44,
   "metadata": {},
   "outputs": [
    {
     "data": {
      "image/png": "[encoded data removed]",
      "text/plain": [
       "plot without title"
      ]
     },
     "metadata": {},
     "output_type": "display_data"
    }
   ],
   "source": [
    "plot(weightgain)"
   ]
  },
  {
   "cell_type": "code",
   "execution_count": 7,
   "metadata": {},
   "outputs": [
    {
     "data": {
      "text/html": [
       "<table>\n",
       "<thead><tr><th></th><th scope=col>High</th><th scope=col>Low</th></tr></thead>\n",
       "<tbody>\n",
       "\t<tr><th scope=row>Beef</th><td>100.0</td><td>79.2 </td></tr>\n",
       "\t<tr><th scope=row>Cereal</th><td> 85.9</td><td>83.9 </td></tr>\n",
       "</tbody>\n",
       "</table>\n"
      ],
      "text/latex": [
       "\\begin{tabular}{r|ll}\n",
       "  & High & Low\\\\\n",
       "\\hline\n",
       "\tBeef & 100.0 & 79.2 \\\\\n",
       "\tCereal &  85.9 & 83.9 \\\\\n",
       "\\end{tabular}\n"
      ],
      "text/markdown": [
       "\n",
       "| <!--/--> | High | Low | \n",
       "|---|---|\n",
       "| Beef | 100.0 | 79.2  | \n",
       "| Cereal |  85.9 | 83.9  | \n",
       "\n",
       "\n"
      ],
      "text/plain": [
       "       High  Low \n",
       "Beef   100.0 79.2\n",
       "Cereal  85.9 83.9"
      ]
     },
     "metadata": {},
     "output_type": "display_data"
    }
   ],
   "source": [
    "# Calculate mean of each combination\n",
    "tapply(weightgain$weightgain, list(weightgain$source, weightgain$type), mean)"
   ]
  },
  {
   "cell_type": "code",
   "execution_count": 9,
   "metadata": {},
   "outputs": [
    {
     "data": {
      "text/html": [
       "<table>\n",
       "<thead><tr><th></th><th scope=col>High</th><th scope=col>Low</th></tr></thead>\n",
       "<tbody>\n",
       "\t<tr><th scope=row>Beef</th><td>15.13642</td><td>13.88684</td></tr>\n",
       "\t<tr><th scope=row>Cereal</th><td>15.02184</td><td>15.70881</td></tr>\n",
       "</tbody>\n",
       "</table>\n"
      ],
      "text/latex": [
       "\\begin{tabular}{r|ll}\n",
       "  & High & Low\\\\\n",
       "\\hline\n",
       "\tBeef & 15.13642 & 13.88684\\\\\n",
       "\tCereal & 15.02184 & 15.70881\\\\\n",
       "\\end{tabular}\n"
      ],
      "text/markdown": [
       "\n",
       "| <!--/--> | High | Low | \n",
       "|---|---|\n",
       "| Beef | 15.13642 | 13.88684 | \n",
       "| Cereal | 15.02184 | 15.70881 | \n",
       "\n",
       "\n"
      ],
      "text/plain": [
       "       High     Low     \n",
       "Beef   15.13642 13.88684\n",
       "Cereal 15.02184 15.70881"
      ]
     },
     "metadata": {},
     "output_type": "display_data"
    }
   ],
   "source": [
    "# Calculate standard deviation of each combination\n",
    "tapply(weightgain$weightgain, list(weightgain$source, weightgain$type), sd)"
   ]
  },
  {
   "cell_type": "code",
   "execution_count": 11,
   "metadata": {},
   "outputs": [
    {
     "data": {
      "image/png": "[encoded data removed]",
      "text/plain": [
       "plot without title"
      ]
     },
     "metadata": {},
     "output_type": "display_data"
    }
   ],
   "source": [
    "plot.design(weightgain) "
   ]
  },
  {
   "cell_type": "code",
   "execution_count": 36,
   "metadata": {},
   "outputs": [
    {
     "data": {
      "text/html": [
       "87.25"
      ],
      "text/latex": [
       "87.25"
      ],
      "text/markdown": [
       "87.25"
      ],
      "text/plain": [
       "[1] 87.25"
      ]
     },
     "metadata": {},
     "output_type": "display_data"
    },
    {
     "data": {
      "text/html": [
       "92.95"
      ],
      "text/latex": [
       "92.95"
      ],
      "text/markdown": [
       "92.95"
      ],
      "text/plain": [
       "[1] 92.95"
      ]
     },
     "metadata": {},
     "output_type": "display_data"
    },
    {
     "data": {
      "text/html": [
       "81.55"
      ],
      "text/latex": [
       "81.55"
      ],
      "text/markdown": [
       "81.55"
      ],
      "text/plain": [
       "[1] 81.55"
      ]
     },
     "metadata": {},
     "output_type": "display_data"
    },
    {
     "data": {
      "text/html": [
       "89.6"
      ],
      "text/latex": [
       "89.6"
      ],
      "text/markdown": [
       "89.6"
      ],
      "text/plain": [
       "[1] 89.6"
      ]
     },
     "metadata": {},
     "output_type": "display_data"
    },
    {
     "data": {
      "text/html": [
       "84.9"
      ],
      "text/latex": [
       "84.9"
      ],
      "text/markdown": [
       "84.9"
      ],
      "text/plain": [
       "[1] 84.9"
      ]
     },
     "metadata": {},
     "output_type": "display_data"
    }
   ],
   "source": [
    "# Verify\n",
    "# Mean of all weightgain\n",
    "mean(weightgain$weightgain)\n",
    "weightgain_subset <- weightgain[ which(weightgain$type=='High'),]\n",
    "mean(weightgain_subset$weightgain)\n",
    "weightgain_subset <- weightgain[ which(weightgain$type=='Low'),]\n",
    "mean(weightgain_subset$weightgain)\n",
    "weightgain_subset <- weightgain[ which(weightgain$source=='Beef'),]\n",
    "mean(weightgain_subset$weightgain)\n",
    "weightgain_subset <- weightgain[ which(weightgain$source=='Cereal'),]\n",
    "mean(weightgain_subset$weightgain)"
   ]
  },
  {
   "cell_type": "markdown",
   "metadata": {},
   "source": [
    "### Analysis of variance"
   ]
  },
  {
   "cell_type": "code",
   "execution_count": 38,
   "metadata": {},
   "outputs": [
    {
     "data": {
      "text/plain": [
       "            Df Sum Sq Mean Sq F value Pr(>F)  \n",
       "source       1    221   220.9   0.988 0.3269  \n",
       "type         1   1300  1299.6   5.812 0.0211 *\n",
       "source:type  1    884   883.6   3.952 0.0545 .\n",
       "Residuals   36   8049   223.6                 \n",
       "---\n",
       "Signif. codes:  0 '***' 0.001 '**' 0.01 '*' 0.05 '.' 0.1 ' ' 1"
      ]
     },
     "metadata": {},
     "output_type": "display_data"
    }
   ],
   "source": [
    "wg.aov <- aov(weightgain ~ source*type, data=weightgain) \n",
    "summary(wg.aov)"
   ]
  },
  {
   "cell_type": "markdown",
   "metadata": {},
   "source": [
    "p value for **type** is lower than 0.05, which suggests strong difference between **\"type = High\"** and **\"type = Low\"** on **\"weightgain\"**. "
   ]
  },
  {
   "cell_type": "code",
   "execution_count": 46,
   "metadata": {},
   "outputs": [
    {
     "data": {
      "text/html": [
       "<dl class=dl-horizontal>\n",
       "\t<dt>(Intercept)</dt>\n",
       "\t\t<dd>100</dd>\n",
       "\t<dt>sourceCereal</dt>\n",
       "\t\t<dd>-14.1</dd>\n",
       "\t<dt>typeLow</dt>\n",
       "\t\t<dd>-20.8</dd>\n",
       "\t<dt>sourceCereal:typeLow</dt>\n",
       "\t\t<dd>18.8</dd>\n",
       "</dl>\n"
      ],
      "text/latex": [
       "\\begin{description*}\n",
       "\\item[(Intercept)] 100\n",
       "\\item[sourceCereal] -14.1\n",
       "\\item[typeLow] -20.8\n",
       "\\item[sourceCereal:typeLow] 18.8\n",
       "\\end{description*}\n"
      ],
      "text/markdown": [
       "(Intercept)\n",
       ":   100sourceCereal\n",
       ":   -14.1typeLow\n",
       ":   -20.8sourceCereal:typeLow\n",
       ":   18.8\n",
       "\n"
      ],
      "text/plain": [
       "         (Intercept)         sourceCereal              typeLow \n",
       "               100.0                -14.1                -20.8 \n",
       "sourceCereal:typeLow \n",
       "                18.8 "
      ]
     },
     "metadata": {},
     "output_type": "display_data"
    }
   ],
   "source": [
    "# Interpret coefficients\n",
    "coef(wg.aov)"
   ]
  },
  {
   "cell_type": "markdown",
   "metadata": {},
   "source": [
    "#### What this really means?\n",
    "\n",
    "* intercept is the 'initial estimation' or 'global mean'\n",
    "* sourceCereal are 14.1 **lower than** not sourceCereal \n",
    "* typeLow would be 20.8 **lower than** not typeLow \n",
    "\n",
    "We can express the model as a sum of indicators: weightgain = 100 - 14.1 **x** indicator(source == Cereal) - 20.8 **x** indicator(type == Low) + 18.8 **x** indicator(source == Cereal & type == Low)"
   ]
  },
  {
   "cell_type": "code",
   "execution_count": 40,
   "metadata": {},
   "outputs": [
    {
     "data": {
      "text/html": [
       "<strong>$contrasts</strong> = <dl class=dl-horizontal>\n",
       "\t<dt>unordered</dt>\n",
       "\t\t<dd>'contr.treatment'</dd>\n",
       "\t<dt>ordered</dt>\n",
       "\t\t<dd>'contr.poly'</dd>\n",
       "</dl>\n"
      ],
      "text/latex": [
       "\\textbf{\\$contrasts} = \\begin{description*}\n",
       "\\item[unordered] 'contr.treatment'\n",
       "\\item[ordered] 'contr.poly'\n",
       "\\end{description*}\n"
      ],
      "text/markdown": [
       "**$contrasts** = unordered\n",
       ":   'contr.treatment'ordered\n",
       ":   'contr.poly'\n",
       "\n"
      ],
      "text/plain": [
       "$contrasts\n",
       "        unordered           ordered \n",
       "\"contr.treatment\"      \"contr.poly\" \n"
      ]
     },
     "metadata": {},
     "output_type": "display_data"
    }
   ],
   "source": [
    "options(\"contrasts\")"
   ]
  },
  {
   "cell_type": "code",
   "execution_count": 41,
   "metadata": {},
   "outputs": [
    {
     "data": {
      "image/png": "[encoded data removed]",
      "text/plain": [
       "plot without title"
      ]
     },
     "metadata": {},
     "output_type": "display_data"
    }
   ],
   "source": [
    "interaction.plot(weightgain$type, weightgain$source, weightgain$weightgain)"
   ]
  },
  {
   "cell_type": "markdown",
   "metadata": {},
   "source": [
    "### Access validility of model assumptions"
   ]
  },
  {
   "cell_type": "code",
   "execution_count": 42,
   "metadata": {},
   "outputs": [
    {
     "data": {
      "image/png": "[encoded data removed]",
      "text/plain": [
       "Plot with title \"\""
      ]
     },
     "metadata": {},
     "output_type": "display_data"
    }
   ],
   "source": [
    "layout(matrix(1:4,ncol=2)) \n",
    "plot(wg.aov)"
   ]
  },
  {
   "cell_type": "code",
   "execution_count": null,
   "metadata": {
    "collapsed": true
   },
   "outputs": [],
   "source": []
  }
 ],
 "metadata": {
  "kernelspec": {
   "display_name": "R",
   "language": "R",
   "name": "ir"
  },
  "language_info": {
   "codemirror_mode": "r",
   "file_extension": ".r",
   "mimetype": "text/x-r-source",
   "name": "R",
   "pygments_lexer": "r",
   "version": "3.4.3"
  }
 },
 "nbformat": 4,
 "nbformat_minor": 2
}
