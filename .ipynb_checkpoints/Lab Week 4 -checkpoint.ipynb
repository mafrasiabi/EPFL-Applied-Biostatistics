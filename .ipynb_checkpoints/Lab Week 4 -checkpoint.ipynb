{
 "cells": [
  {
   "cell_type": "code",
   "execution_count": 2,
   "metadata": {},
   "outputs": [],
   "source": [
    "data = read.csv(\"obs.csv\")"
   ]
  },
  {
   "cell_type": "code",
   "execution_count": 6,
   "metadata": {},
   "outputs": [
    {
     "data": {
      "text/html": [
       "<table>\n",
       "<thead><tr><th scope=col>e</th><th scope=col>n</th><th scope=col>elev</th><th scope=col>zone</th><th scope=col>wrb1</th><th scope=col>LC</th><th scope=col>Clay1</th><th scope=col>Clay2</th><th scope=col>Clay5</th><th scope=col>CEC1</th><th scope=col>CEC2</th><th scope=col>CEC5</th><th scope=col>OC1</th><th scope=col>OC2</th><th scope=col>OC5</th><th scope=col>X</th></tr></thead>\n",
       "<tbody>\n",
       "\t<tr><td>1     </td><td>702638</td><td>326959</td><td>657   </td><td>2     </td><td>3     </td><td>FF    </td><td>72    </td><td>74    </td><td>78    </td><td>13.6  </td><td>10.1  </td><td>7.1   </td><td>5.50  </td><td>3.1   </td><td>1.50  </td></tr>\n",
       "\t<tr><td>2     </td><td>701659</td><td>326772</td><td>628   </td><td>2     </td><td>3     </td><td>FF    </td><td>71    </td><td>75    </td><td>80    </td><td>12.6  </td><td> 8.2  </td><td>7.4   </td><td>3.20  </td><td>1.7   </td><td>1.00  </td></tr>\n",
       "\t<tr><td>3     </td><td>703488</td><td>322133</td><td>840   </td><td>1     </td><td>3     </td><td>FV    </td><td>61    </td><td>59    </td><td>66    </td><td>21.7  </td><td>10.2  </td><td>6.6   </td><td>6.98  </td><td>2.4   </td><td>1.30  </td></tr>\n",
       "\t<tr><td>4     </td><td>703421</td><td>322508</td><td>707   </td><td>1     </td><td>3     </td><td>FV    </td><td>55    </td><td>62    </td><td>61    </td><td>11.6  </td><td> 8.4  </td><td>8.0   </td><td>3.19  </td><td>1.5   </td><td>1.26  </td></tr>\n",
       "\t<tr><td>5     </td><td>703358</td><td>322846</td><td>670   </td><td>2     </td><td>3     </td><td>FV    </td><td>47    </td><td>56    </td><td>53    </td><td>14.9  </td><td> 9.2  </td><td>8.5   </td><td>4.40  </td><td>1.2   </td><td>0.80  </td></tr>\n",
       "\t<tr><td>6     </td><td>702334</td><td>324551</td><td>780   </td><td>1     </td><td>3     </td><td>FV    </td><td>49    </td><td>53    </td><td>57    </td><td>18.2  </td><td>11.6  </td><td>6.2   </td><td>5.31  </td><td>3.2   </td><td>1.08  </td></tr>\n",
       "</tbody>\n",
       "</table>\n"
      ],
      "text/latex": [
       "\\begin{tabular}{r|llllllllllllllll}\n",
       " e & n & elev & zone & wrb1 & LC & Clay1 & Clay2 & Clay5 & CEC1 & CEC2 & CEC5 & OC1 & OC2 & OC5 & X\\\\\n",
       "\\hline\n",
       "\t 1      & 702638 & 326959 & 657    & 2      & 3      & FF     & 72     & 74     & 78     & 13.6   & 10.1   & 7.1    & 5.50   & 3.1    & 1.50  \\\\\n",
       "\t 2      & 701659 & 326772 & 628    & 2      & 3      & FF     & 71     & 75     & 80     & 12.6   &  8.2   & 7.4    & 3.20   & 1.7    & 1.00  \\\\\n",
       "\t 3      & 703488 & 322133 & 840    & 1      & 3      & FV     & 61     & 59     & 66     & 21.7   & 10.2   & 6.6    & 6.98   & 2.4    & 1.30  \\\\\n",
       "\t 4      & 703421 & 322508 & 707    & 1      & 3      & FV     & 55     & 62     & 61     & 11.6   &  8.4   & 8.0    & 3.19   & 1.5    & 1.26  \\\\\n",
       "\t 5      & 703358 & 322846 & 670    & 2      & 3      & FV     & 47     & 56     & 53     & 14.9   &  9.2   & 8.5    & 4.40   & 1.2    & 0.80  \\\\\n",
       "\t 6      & 702334 & 324551 & 780    & 1      & 3      & FV     & 49     & 53     & 57     & 18.2   & 11.6   & 6.2    & 5.31   & 3.2    & 1.08  \\\\\n",
       "\\end{tabular}\n"
      ],
      "text/markdown": [
       "\n",
       "e | n | elev | zone | wrb1 | LC | Clay1 | Clay2 | Clay5 | CEC1 | CEC2 | CEC5 | OC1 | OC2 | OC5 | X | \n",
       "|---|---|---|---|---|---|\n",
       "| 1      | 702638 | 326959 | 657    | 2      | 3      | FF     | 72     | 74     | 78     | 13.6   | 10.1   | 7.1    | 5.50   | 3.1    | 1.50   | \n",
       "| 2      | 701659 | 326772 | 628    | 2      | 3      | FF     | 71     | 75     | 80     | 12.6   |  8.2   | 7.4    | 3.20   | 1.7    | 1.00   | \n",
       "| 3      | 703488 | 322133 | 840    | 1      | 3      | FV     | 61     | 59     | 66     | 21.7   | 10.2   | 6.6    | 6.98   | 2.4    | 1.30   | \n",
       "| 4      | 703421 | 322508 | 707    | 1      | 3      | FV     | 55     | 62     | 61     | 11.6   |  8.4   | 8.0    | 3.19   | 1.5    | 1.26   | \n",
       "| 5      | 703358 | 322846 | 670    | 2      | 3      | FV     | 47     | 56     | 53     | 14.9   |  9.2   | 8.5    | 4.40   | 1.2    | 0.80   | \n",
       "| 6      | 702334 | 324551 | 780    | 1      | 3      | FV     | 49     | 53     | 57     | 18.2   | 11.6   | 6.2    | 5.31   | 3.2    | 1.08   | \n",
       "\n",
       "\n"
      ],
      "text/plain": [
       "  e n      elev   zone wrb1 LC Clay1 Clay2 Clay5 CEC1 CEC2 CEC5 OC1 OC2  OC5\n",
       "1 1 702638 326959 657  2    3  FF    72    74    78   13.6 10.1 7.1 5.50 3.1\n",
       "2 2 701659 326772 628  2    3  FF    71    75    80   12.6  8.2 7.4 3.20 1.7\n",
       "3 3 703488 322133 840  1    3  FV    61    59    66   21.7 10.2 6.6 6.98 2.4\n",
       "4 4 703421 322508 707  1    3  FV    55    62    61   11.6  8.4 8.0 3.19 1.5\n",
       "5 5 703358 322846 670  2    3  FV    47    56    53   14.9  9.2 8.5 4.40 1.2\n",
       "6 6 702334 324551 780  1    3  FV    49    53    57   18.2 11.6 6.2 5.31 3.2\n",
       "  X   \n",
       "1 1.50\n",
       "2 1.00\n",
       "3 1.30\n",
       "4 1.26\n",
       "5 0.80\n",
       "6 1.08"
      ]
     },
     "metadata": {},
     "output_type": "display_data"
    }
   ],
   "source": [
    "head(data)"
   ]
  },
  {
   "cell_type": "code",
   "execution_count": 7,
   "metadata": {},
   "outputs": [
    {
     "data": {
      "text/plain": [
       "       e               n               elev             zone       \n",
       " Min.   :  1.0   Min.   :659401   Min.   :310897   Min.   :  82.0  \n",
       " 1st Qu.: 37.5   1st Qu.:670897   1st Qu.:323595   1st Qu.: 322.5  \n",
       " Median : 74.0   Median :681508   Median :328757   Median : 432.0  \n",
       " Mean   : 74.0   Mean   :681293   Mean   :330301   Mean   : 417.9  \n",
       " 3rd Qu.:110.5   3rd Qu.:693125   3rd Qu.:337410   3rd Qu.: 560.0  \n",
       " Max.   :147.0   Max.   :703488   Max.   :342379   Max.   :1000.0  \n",
       "                                                                   \n",
       "      wrb1             LC            Clay1        Clay2           Clay5      \n",
       " Min.   :1.000   Min.   :1.000   FV     :69   Min.   :10.00   Min.   : 8.00  \n",
       " 1st Qu.:2.000   1st Qu.:1.000   BF     :19   1st Qu.:21.00   1st Qu.:27.00  \n",
       " Median :3.000   Median :3.000   FF     :17   Median :30.00   Median :36.00  \n",
       " Mean   :2.864   Mean   :2.435   CF     :15   Mean   :31.27   Mean   :36.75  \n",
       " 3rd Qu.:3.000   3rd Qu.:3.000   OCA    :14   3rd Qu.:39.00   3rd Qu.:47.00  \n",
       " Max.   :4.000   Max.   :3.000   MCA    :11   Max.   :72.00   Max.   :75.00  \n",
       "                                 (Other): 2                                  \n",
       "      CEC1            CEC2           CEC5            OC1        \n",
       " Min.   :16.00   Min.   : 3.0   Min.   : 1.60   Min.   : 1.000  \n",
       " 1st Qu.:36.50   1st Qu.: 7.5   1st Qu.: 5.00   1st Qu.: 5.000  \n",
       " Median :44.00   Median :10.1   Median : 7.00   Median : 6.500  \n",
       " Mean   :44.68   Mean   :11.2   Mean   : 7.41   Mean   : 6.844  \n",
       " 3rd Qu.:54.00   3rd Qu.:13.1   3rd Qu.: 9.40   3rd Qu.: 8.900  \n",
       " Max.   :80.00   Max.   :29.0   Max.   :22.00   Max.   :14.000  \n",
       "                                                                \n",
       "      OC2              OC5              X         \n",
       " Min.   : 1.040   Min.   :0.300   Min.   :0.2000  \n",
       " 1st Qu.: 1.975   1st Qu.:0.850   1st Qu.:0.6000  \n",
       " Median : 2.700   Median :1.300   Median :0.8400  \n",
       " Mean   : 2.987   Mean   :1.386   Mean   :0.8103  \n",
       " 3rd Qu.: 3.700   3rd Qu.:1.700   3rd Qu.:1.0000  \n",
       " Max.   :10.900   Max.   :3.700   Max.   :1.7000  \n",
       "                                                  "
      ]
     },
     "metadata": {},
     "output_type": "display_data"
    }
   ],
   "source": [
    "summary(data)"
   ]
  },
  {
   "cell_type": "code",
   "execution_count": 9,
   "metadata": {},
   "outputs": [
    {
     "name": "stdout",
     "output_type": "stream",
     "text": [
      "'data.frame':\t147 obs. of  16 variables:\n",
      " $ e    : int  1 2 3 4 5 6 7 8 9 10 ...\n",
      " $ n    : int  702638 701659 703488 703421 703358 702334 681328 681508 681230 683989 ...\n",
      " $ elev : int  326959 326772 322133 322508 322846 324551 311602 311295 311053 311685 ...\n",
      " $ zone : int  657 628 840 707 670 780 720 657 600 720 ...\n",
      " $ wrb1 : int  2 2 1 1 2 1 1 2 2 1 ...\n",
      " $ LC   : int  3 3 3 3 3 3 3 3 3 3 ...\n",
      " $ Clay1: Factor w/ 8 levels \"BF\",\"CF\",\"FF\",..: 3 3 4 4 4 4 3 3 4 4 ...\n",
      " $ Clay2: int  72 71 61 55 47 49 63 59 46 62 ...\n",
      " $ Clay5: int  74 75 59 62 56 53 66 66 56 63 ...\n",
      " $ CEC1 : int  78 80 66 61 53 57 70 72 70 62 ...\n",
      " $ CEC2 : num  13.6 12.6 21.7 11.6 14.9 18.2 14.9 14.6 7.9 14.9 ...\n",
      " $ CEC5 : num  10.1 8.2 10.2 8.4 9.2 11.6 7.4 7.1 5.7 6.8 ...\n",
      " $ OC1  : num  7.1 7.4 6.6 8 8.5 6.2 5.4 7 4.5 6 ...\n",
      " $ OC2  : num  5.5 3.2 6.98 3.19 4.4 5.31 4.55 4.5 2.3 7.34 ...\n",
      " $ OC5  : num  3.1 1.7 2.4 1.5 1.2 3.2 2.15 1.42 1.36 2.54 ...\n",
      " $ X    : num  1.5 1 1.3 1.26 0.8 ...\n"
     ]
    }
   ],
   "source": [
    "str(data)"
   ]
  },
  {
   "cell_type": "code",
   "execution_count": null,
   "metadata": {
    "collapsed": true
   },
   "outputs": [],
   "source": []
  }
 ],
 "metadata": {
  "kernelspec": {
   "display_name": "R",
   "language": "R",
   "name": "ir"
  },
  "language_info": {
   "codemirror_mode": "r",
   "file_extension": ".r",
   "mimetype": "text/x-r-source",
   "name": "R",
   "pygments_lexer": "r",
   "version": "3.4.3"
  }
 },
 "nbformat": 4,
 "nbformat_minor": 2
}
