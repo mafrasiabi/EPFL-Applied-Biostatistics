{
 "cells": [
  {
   "cell_type": "code",
   "execution_count": 1,
   "metadata": {},
   "outputs": [
    {
     "name": "stderr",
     "output_type": "stream",
     "text": [
      "Loading required package: tools\n"
     ]
    },
    {
     "data": {
      "text/html": [
       "<ol class=list-inline>\n",
       "\t<li>'HSAUR3'</li>\n",
       "\t<li>'tools'</li>\n",
       "\t<li>'stats'</li>\n",
       "\t<li>'graphics'</li>\n",
       "\t<li>'grDevices'</li>\n",
       "\t<li>'utils'</li>\n",
       "\t<li>'datasets'</li>\n",
       "\t<li>'methods'</li>\n",
       "\t<li>'base'</li>\n",
       "</ol>\n"
      ],
      "text/latex": [
       "\\begin{enumerate*}\n",
       "\\item 'HSAUR3'\n",
       "\\item 'tools'\n",
       "\\item 'stats'\n",
       "\\item 'graphics'\n",
       "\\item 'grDevices'\n",
       "\\item 'utils'\n",
       "\\item 'datasets'\n",
       "\\item 'methods'\n",
       "\\item 'base'\n",
       "\\end{enumerate*}\n"
      ],
      "text/markdown": [
       "1. 'HSAUR3'\n",
       "2. 'tools'\n",
       "3. 'stats'\n",
       "4. 'graphics'\n",
       "5. 'grDevices'\n",
       "6. 'utils'\n",
       "7. 'datasets'\n",
       "8. 'methods'\n",
       "9. 'base'\n",
       "\n",
       "\n"
      ],
      "text/plain": [
       "[1] \"HSAUR3\"    \"tools\"     \"stats\"     \"graphics\"  \"grDevices\" \"utils\"    \n",
       "[7] \"datasets\"  \"methods\"   \"base\"     "
      ]
     },
     "metadata": {},
     "output_type": "display_data"
    }
   ],
   "source": [
    "# Load HSAUR3 package\n",
    "library(HSAUR3)\n",
    "\n",
    "# Verify \n",
    "(.packages())"
   ]
  },
  {
   "cell_type": "code",
   "execution_count": 3,
   "metadata": {},
   "outputs": [
    {
     "data": {
      "text/html": [
       "<table>\n",
       "<thead><tr><th scope=col>litgen</th><th scope=col>motgen</th><th scope=col>weight</th></tr></thead>\n",
       "<tbody>\n",
       "\t<tr><td>A   </td><td>A   </td><td>61.5</td></tr>\n",
       "\t<tr><td>A   </td><td>A   </td><td>68.2</td></tr>\n",
       "\t<tr><td>A   </td><td>A   </td><td>64.0</td></tr>\n",
       "\t<tr><td>A   </td><td>A   </td><td>65.0</td></tr>\n",
       "\t<tr><td>A   </td><td>A   </td><td>59.7</td></tr>\n",
       "\t<tr><td>A   </td><td>B   </td><td>55.0</td></tr>\n",
       "\t<tr><td>A   </td><td>B   </td><td>42.0</td></tr>\n",
       "\t<tr><td>A   </td><td>B   </td><td>60.2</td></tr>\n",
       "\t<tr><td>A   </td><td>I   </td><td>52.5</td></tr>\n",
       "\t<tr><td>A   </td><td>I   </td><td>61.8</td></tr>\n",
       "\t<tr><td>A   </td><td>I   </td><td>49.5</td></tr>\n",
       "\t<tr><td>A   </td><td>I   </td><td>52.7</td></tr>\n",
       "\t<tr><td>A   </td><td>J   </td><td>42.0</td></tr>\n",
       "\t<tr><td>A   </td><td>J   </td><td>54.0</td></tr>\n",
       "\t<tr><td>A   </td><td>J   </td><td>61.0</td></tr>\n",
       "\t<tr><td>A   </td><td>J   </td><td>48.2</td></tr>\n",
       "\t<tr><td>A   </td><td>J   </td><td>39.6</td></tr>\n",
       "\t<tr><td>B   </td><td>A   </td><td>60.3</td></tr>\n",
       "\t<tr><td>B   </td><td>A   </td><td>51.7</td></tr>\n",
       "\t<tr><td>B   </td><td>A   </td><td>49.3</td></tr>\n",
       "\t<tr><td>B   </td><td>A   </td><td>48.0</td></tr>\n",
       "\t<tr><td>B   </td><td>B   </td><td>50.8</td></tr>\n",
       "\t<tr><td>B   </td><td>B   </td><td>64.7</td></tr>\n",
       "\t<tr><td>B   </td><td>B   </td><td>61.7</td></tr>\n",
       "\t<tr><td>B   </td><td>B   </td><td>64.0</td></tr>\n",
       "\t<tr><td>B   </td><td>B   </td><td>62.0</td></tr>\n",
       "\t<tr><td>B   </td><td>I   </td><td>56.5</td></tr>\n",
       "\t<tr><td>B   </td><td>I   </td><td>59.0</td></tr>\n",
       "\t<tr><td>B   </td><td>I   </td><td>47.2</td></tr>\n",
       "\t<tr><td>B   </td><td>I   </td><td>53.0</td></tr>\n",
       "\t<tr><td>...</td><td>...</td><td>...</td></tr>\n",
       "\t<tr><td>B   </td><td>J   </td><td>40.5</td></tr>\n",
       "\t<tr><td>I   </td><td>A   </td><td>37.0</td></tr>\n",
       "\t<tr><td>I   </td><td>A   </td><td>36.3</td></tr>\n",
       "\t<tr><td>I   </td><td>A   </td><td>68.0</td></tr>\n",
       "\t<tr><td>I   </td><td>B   </td><td>56.3</td></tr>\n",
       "\t<tr><td>I   </td><td>B   </td><td>69.8</td></tr>\n",
       "\t<tr><td>I   </td><td>B   </td><td>67.0</td></tr>\n",
       "\t<tr><td>I   </td><td>I   </td><td>39.7</td></tr>\n",
       "\t<tr><td>I   </td><td>I   </td><td>46.0</td></tr>\n",
       "\t<tr><td>I   </td><td>I   </td><td>61.3</td></tr>\n",
       "\t<tr><td>I   </td><td>I   </td><td>55.3</td></tr>\n",
       "\t<tr><td>I   </td><td>I   </td><td>55.7</td></tr>\n",
       "\t<tr><td>I   </td><td>J   </td><td>50.0</td></tr>\n",
       "\t<tr><td>I   </td><td>J   </td><td>43.8</td></tr>\n",
       "\t<tr><td>I   </td><td>J   </td><td>54.5</td></tr>\n",
       "\t<tr><td>J   </td><td>A   </td><td>59.0</td></tr>\n",
       "\t<tr><td>J   </td><td>A   </td><td>57.4</td></tr>\n",
       "\t<tr><td>J   </td><td>A   </td><td>54.0</td></tr>\n",
       "\t<tr><td>J   </td><td>A   </td><td>47.0</td></tr>\n",
       "\t<tr><td>J   </td><td>B   </td><td>59.5</td></tr>\n",
       "\t<tr><td>J   </td><td>B   </td><td>52.8</td></tr>\n",
       "\t<tr><td>J   </td><td>B   </td><td>56.0</td></tr>\n",
       "\t<tr><td>J   </td><td>I   </td><td>45.2</td></tr>\n",
       "\t<tr><td>J   </td><td>I   </td><td>57.0</td></tr>\n",
       "\t<tr><td>J   </td><td>I   </td><td>61.4</td></tr>\n",
       "\t<tr><td>J   </td><td>J   </td><td>44.8</td></tr>\n",
       "\t<tr><td>J   </td><td>J   </td><td>51.5</td></tr>\n",
       "\t<tr><td>J   </td><td>J   </td><td>53.0</td></tr>\n",
       "\t<tr><td>J   </td><td>J   </td><td>42.0</td></tr>\n",
       "\t<tr><td>J   </td><td>J   </td><td>54.0</td></tr>\n",
       "</tbody>\n",
       "</table>\n"
      ],
      "text/latex": [
       "\\begin{tabular}{r|lll}\n",
       " litgen & motgen & weight\\\\\n",
       "\\hline\n",
       "\t A    & A    & 61.5\\\\\n",
       "\t A    & A    & 68.2\\\\\n",
       "\t A    & A    & 64.0\\\\\n",
       "\t A    & A    & 65.0\\\\\n",
       "\t A    & A    & 59.7\\\\\n",
       "\t A    & B    & 55.0\\\\\n",
       "\t A    & B    & 42.0\\\\\n",
       "\t A    & B    & 60.2\\\\\n",
       "\t A    & I    & 52.5\\\\\n",
       "\t A    & I    & 61.8\\\\\n",
       "\t A    & I    & 49.5\\\\\n",
       "\t A    & I    & 52.7\\\\\n",
       "\t A    & J    & 42.0\\\\\n",
       "\t A    & J    & 54.0\\\\\n",
       "\t A    & J    & 61.0\\\\\n",
       "\t A    & J    & 48.2\\\\\n",
       "\t A    & J    & 39.6\\\\\n",
       "\t B    & A    & 60.3\\\\\n",
       "\t B    & A    & 51.7\\\\\n",
       "\t B    & A    & 49.3\\\\\n",
       "\t B    & A    & 48.0\\\\\n",
       "\t B    & B    & 50.8\\\\\n",
       "\t B    & B    & 64.7\\\\\n",
       "\t B    & B    & 61.7\\\\\n",
       "\t B    & B    & 64.0\\\\\n",
       "\t B    & B    & 62.0\\\\\n",
       "\t B    & I    & 56.5\\\\\n",
       "\t B    & I    & 59.0\\\\\n",
       "\t B    & I    & 47.2\\\\\n",
       "\t B    & I    & 53.0\\\\\n",
       "\t ... & ... & ...\\\\\n",
       "\t B    & J    & 40.5\\\\\n",
       "\t I    & A    & 37.0\\\\\n",
       "\t I    & A    & 36.3\\\\\n",
       "\t I    & A    & 68.0\\\\\n",
       "\t I    & B    & 56.3\\\\\n",
       "\t I    & B    & 69.8\\\\\n",
       "\t I    & B    & 67.0\\\\\n",
       "\t I    & I    & 39.7\\\\\n",
       "\t I    & I    & 46.0\\\\\n",
       "\t I    & I    & 61.3\\\\\n",
       "\t I    & I    & 55.3\\\\\n",
       "\t I    & I    & 55.7\\\\\n",
       "\t I    & J    & 50.0\\\\\n",
       "\t I    & J    & 43.8\\\\\n",
       "\t I    & J    & 54.5\\\\\n",
       "\t J    & A    & 59.0\\\\\n",
       "\t J    & A    & 57.4\\\\\n",
       "\t J    & A    & 54.0\\\\\n",
       "\t J    & A    & 47.0\\\\\n",
       "\t J    & B    & 59.5\\\\\n",
       "\t J    & B    & 52.8\\\\\n",
       "\t J    & B    & 56.0\\\\\n",
       "\t J    & I    & 45.2\\\\\n",
       "\t J    & I    & 57.0\\\\\n",
       "\t J    & I    & 61.4\\\\\n",
       "\t J    & J    & 44.8\\\\\n",
       "\t J    & J    & 51.5\\\\\n",
       "\t J    & J    & 53.0\\\\\n",
       "\t J    & J    & 42.0\\\\\n",
       "\t J    & J    & 54.0\\\\\n",
       "\\end{tabular}\n"
      ],
      "text/markdown": [
       "\n",
       "litgen | motgen | weight | \n",
       "|---|---|---|---|---|---|---|---|---|---|---|---|---|---|---|---|---|---|---|---|---|---|---|---|---|---|---|---|---|---|---|---|---|---|---|---|---|---|---|---|---|---|---|---|---|---|---|---|---|---|---|---|---|---|---|---|---|---|---|---|---|\n",
       "| A    | A    | 61.5 | \n",
       "| A    | A    | 68.2 | \n",
       "| A    | A    | 64.0 | \n",
       "| A    | A    | 65.0 | \n",
       "| A    | A    | 59.7 | \n",
       "| A    | B    | 55.0 | \n",
       "| A    | B    | 42.0 | \n",
       "| A    | B    | 60.2 | \n",
       "| A    | I    | 52.5 | \n",
       "| A    | I    | 61.8 | \n",
       "| A    | I    | 49.5 | \n",
       "| A    | I    | 52.7 | \n",
       "| A    | J    | 42.0 | \n",
       "| A    | J    | 54.0 | \n",
       "| A    | J    | 61.0 | \n",
       "| A    | J    | 48.2 | \n",
       "| A    | J    | 39.6 | \n",
       "| B    | A    | 60.3 | \n",
       "| B    | A    | 51.7 | \n",
       "| B    | A    | 49.3 | \n",
       "| B    | A    | 48.0 | \n",
       "| B    | B    | 50.8 | \n",
       "| B    | B    | 64.7 | \n",
       "| B    | B    | 61.7 | \n",
       "| B    | B    | 64.0 | \n",
       "| B    | B    | 62.0 | \n",
       "| B    | I    | 56.5 | \n",
       "| B    | I    | 59.0 | \n",
       "| B    | I    | 47.2 | \n",
       "| B    | I    | 53.0 | \n",
       "| ... | ... | ... | \n",
       "| B    | J    | 40.5 | \n",
       "| I    | A    | 37.0 | \n",
       "| I    | A    | 36.3 | \n",
       "| I    | A    | 68.0 | \n",
       "| I    | B    | 56.3 | \n",
       "| I    | B    | 69.8 | \n",
       "| I    | B    | 67.0 | \n",
       "| I    | I    | 39.7 | \n",
       "| I    | I    | 46.0 | \n",
       "| I    | I    | 61.3 | \n",
       "| I    | I    | 55.3 | \n",
       "| I    | I    | 55.7 | \n",
       "| I    | J    | 50.0 | \n",
       "| I    | J    | 43.8 | \n",
       "| I    | J    | 54.5 | \n",
       "| J    | A    | 59.0 | \n",
       "| J    | A    | 57.4 | \n",
       "| J    | A    | 54.0 | \n",
       "| J    | A    | 47.0 | \n",
       "| J    | B    | 59.5 | \n",
       "| J    | B    | 52.8 | \n",
       "| J    | B    | 56.0 | \n",
       "| J    | I    | 45.2 | \n",
       "| J    | I    | 57.0 | \n",
       "| J    | I    | 61.4 | \n",
       "| J    | J    | 44.8 | \n",
       "| J    | J    | 51.5 | \n",
       "| J    | J    | 53.0 | \n",
       "| J    | J    | 42.0 | \n",
       "| J    | J    | 54.0 | \n",
       "\n",
       "\n"
      ],
      "text/plain": [
       "    litgen motgen weight\n",
       "1   A      A      61.5  \n",
       "2   A      A      68.2  \n",
       "3   A      A      64.0  \n",
       "4   A      A      65.0  \n",
       "5   A      A      59.7  \n",
       "6   A      B      55.0  \n",
       "7   A      B      42.0  \n",
       "8   A      B      60.2  \n",
       "9   A      I      52.5  \n",
       "10  A      I      61.8  \n",
       "11  A      I      49.5  \n",
       "12  A      I      52.7  \n",
       "13  A      J      42.0  \n",
       "14  A      J      54.0  \n",
       "15  A      J      61.0  \n",
       "16  A      J      48.2  \n",
       "17  A      J      39.6  \n",
       "18  B      A      60.3  \n",
       "19  B      A      51.7  \n",
       "20  B      A      49.3  \n",
       "21  B      A      48.0  \n",
       "22  B      B      50.8  \n",
       "23  B      B      64.7  \n",
       "24  B      B      61.7  \n",
       "25  B      B      64.0  \n",
       "26  B      B      62.0  \n",
       "27  B      I      56.5  \n",
       "28  B      I      59.0  \n",
       "29  B      I      47.2  \n",
       "30  B      I      53.0  \n",
       "... ...    ...    ...   \n",
       "32  B      J      40.5  \n",
       "33  I      A      37.0  \n",
       "34  I      A      36.3  \n",
       "35  I      A      68.0  \n",
       "36  I      B      56.3  \n",
       "37  I      B      69.8  \n",
       "38  I      B      67.0  \n",
       "39  I      I      39.7  \n",
       "40  I      I      46.0  \n",
       "41  I      I      61.3  \n",
       "42  I      I      55.3  \n",
       "43  I      I      55.7  \n",
       "44  I      J      50.0  \n",
       "45  I      J      43.8  \n",
       "46  I      J      54.5  \n",
       "47  J      A      59.0  \n",
       "48  J      A      57.4  \n",
       "49  J      A      54.0  \n",
       "50  J      A      47.0  \n",
       "51  J      B      59.5  \n",
       "52  J      B      52.8  \n",
       "53  J      B      56.0  \n",
       "54  J      I      45.2  \n",
       "55  J      I      57.0  \n",
       "56  J      I      61.4  \n",
       "57  J      J      44.8  \n",
       "58  J      J      51.5  \n",
       "59  J      J      53.0  \n",
       "60  J      J      42.0  \n",
       "61  J      J      54.0  "
      ]
     },
     "metadata": {},
     "output_type": "display_data"
    }
   ],
   "source": [
    "# Visualize the dataset\n",
    "data(\"foster\", package = \"HSAUR3\")\n",
    "foster"
   ]
  },
  {
   "cell_type": "code",
   "execution_count": 4,
   "metadata": {},
   "outputs": [
    {
     "data": {
      "image/png": "[encoded data removed]",
      "text/plain": [
       "plot without title"
      ]
     },
     "metadata": {},
     "output_type": "display_data"
    }
   ],
   "source": [
    "plot(foster)"
   ]
  },
  {
   "cell_type": "code",
   "execution_count": 5,
   "metadata": {},
   "outputs": [
    {
     "data": {
      "image/png": "[encoded data removed]",
      "text/plain": [
       "plot without title"
      ]
     },
     "metadata": {},
     "output_type": "display_data"
    }
   ],
   "source": [
    "plot(foster)"
   ]
  },
  {
   "cell_type": "code",
   "execution_count": 7,
   "metadata": {},
   "outputs": [
    {
     "data": {
      "text/html": [
       "<table>\n",
       "<thead><tr><th></th><th scope=col>A</th><th scope=col>B</th><th scope=col>I</th><th scope=col>J</th></tr></thead>\n",
       "<tbody>\n",
       "\t<tr><th scope=row>A</th><td>63.680  </td><td>52.40000</td><td>54.12500</td><td>48.96000</td></tr>\n",
       "\t<tr><th scope=row>B</th><td>52.325  </td><td>60.64000</td><td>53.92500</td><td>45.90000</td></tr>\n",
       "\t<tr><th scope=row>I</th><td>47.100  </td><td>64.36667</td><td>51.60000</td><td>49.43333</td></tr>\n",
       "\t<tr><th scope=row>J</th><td>54.350  </td><td>56.10000</td><td>54.53333</td><td>49.06000</td></tr>\n",
       "</tbody>\n",
       "</table>\n"
      ],
      "text/latex": [
       "\\begin{tabular}{r|llll}\n",
       "  & A & B & I & J\\\\\n",
       "\\hline\n",
       "\tA & 63.680   & 52.40000 & 54.12500 & 48.96000\\\\\n",
       "\tB & 52.325   & 60.64000 & 53.92500 & 45.90000\\\\\n",
       "\tI & 47.100   & 64.36667 & 51.60000 & 49.43333\\\\\n",
       "\tJ & 54.350   & 56.10000 & 54.53333 & 49.06000\\\\\n",
       "\\end{tabular}\n"
      ],
      "text/markdown": [
       "\n",
       "| <!--/--> | A | B | I | J | \n",
       "|---|---|---|---|\n",
       "| A | 63.680   | 52.40000 | 54.12500 | 48.96000 | \n",
       "| B | 52.325   | 60.64000 | 53.92500 | 45.90000 | \n",
       "| I | 47.100   | 64.36667 | 51.60000 | 49.43333 | \n",
       "| J | 54.350   | 56.10000 | 54.53333 | 49.06000 | \n",
       "\n",
       "\n"
      ],
      "text/plain": [
       "  A      B        I        J       \n",
       "A 63.680 52.40000 54.12500 48.96000\n",
       "B 52.325 60.64000 53.92500 45.90000\n",
       "I 47.100 64.36667 51.60000 49.43333\n",
       "J 54.350 56.10000 54.53333 49.06000"
      ]
     },
     "metadata": {},
     "output_type": "display_data"
    }
   ],
   "source": [
    "# Calculate mean of each combination\n",
    "tapply(foster$weight, list(foster$litgen, foster$motgen), mean)"
   ]
  },
  {
   "cell_type": "code",
   "execution_count": 8,
   "metadata": {},
   "outputs": [
    {
     "data": {
      "text/html": [
       "<table>\n",
       "<thead><tr><th></th><th scope=col>A</th><th scope=col>B</th><th scope=col>I</th><th scope=col>J</th></tr></thead>\n",
       "<tbody>\n",
       "\t<tr><th scope=row>A</th><td> 3.273683</td><td>9.374433 </td><td>5.321889 </td><td>8.760594 </td></tr>\n",
       "\t<tr><th scope=row>B</th><td> 5.533158</td><td>5.647389 </td><td>5.114277 </td><td>7.636753 </td></tr>\n",
       "\t<tr><th scope=row>I</th><td>18.103315</td><td>7.124839 </td><td>8.624964 </td><td>5.372461 </td></tr>\n",
       "\t<tr><th scope=row>J</th><td> 5.325098</td><td>3.351119 </td><td>8.376953 </td><td>5.335541 </td></tr>\n",
       "</tbody>\n",
       "</table>\n"
      ],
      "text/latex": [
       "\\begin{tabular}{r|llll}\n",
       "  & A & B & I & J\\\\\n",
       "\\hline\n",
       "\tA &  3.273683 & 9.374433  & 5.321889  & 8.760594 \\\\\n",
       "\tB &  5.533158 & 5.647389  & 5.114277  & 7.636753 \\\\\n",
       "\tI & 18.103315 & 7.124839  & 8.624964  & 5.372461 \\\\\n",
       "\tJ &  5.325098 & 3.351119  & 8.376953  & 5.335541 \\\\\n",
       "\\end{tabular}\n"
      ],
      "text/markdown": [
       "\n",
       "| <!--/--> | A | B | I | J | \n",
       "|---|---|---|---|\n",
       "| A |  3.273683 | 9.374433  | 5.321889  | 8.760594  | \n",
       "| B |  5.533158 | 5.647389  | 5.114277  | 7.636753  | \n",
       "| I | 18.103315 | 7.124839  | 8.624964  | 5.372461  | \n",
       "| J |  5.325098 | 3.351119  | 8.376953  | 5.335541  | \n",
       "\n",
       "\n"
      ],
      "text/plain": [
       "  A         B        I        J       \n",
       "A  3.273683 9.374433 5.321889 8.760594\n",
       "B  5.533158 5.647389 5.114277 7.636753\n",
       "I 18.103315 7.124839 8.624964 5.372461\n",
       "J  5.325098 3.351119 8.376953 5.335541"
      ]
     },
     "metadata": {},
     "output_type": "display_data"
    }
   ],
   "source": [
    "# Calculate mean of each combination\n",
    "tapply(foster$weight, list(foster$litgen, foster$motgen), sd)"
   ]
  },
  {
   "cell_type": "code",
   "execution_count": 9,
   "metadata": {},
   "outputs": [
    {
     "data": {
      "image/png": "[encoded data removed]",
      "text/plain": [
       "plot without title"
      ]
     },
     "metadata": {},
     "output_type": "display_data"
    }
   ],
   "source": [
    "plot.design(foster) "
   ]
  },
  {
   "cell_type": "code",
   "execution_count": 11,
   "metadata": {},
   "outputs": [
    {
     "data": {
      "text/plain": [
       "              Df Sum Sq Mean Sq F value  Pr(>F)   \n",
       "litgen         3   60.2   20.05   0.370 0.77522   \n",
       "motgen         3  775.1  258.36   4.763 0.00574 **\n",
       "litgen:motgen  9  824.1   91.56   1.688 0.12005   \n",
       "Residuals     45 2440.8   54.24                   \n",
       "---\n",
       "Signif. codes:  0 '***' 0.001 '**' 0.01 '*' 0.05 '.' 0.1 ' ' 1"
      ]
     },
     "metadata": {},
     "output_type": "display_data"
    }
   ],
   "source": [
    "model.1 <- aov(weight ~ litgen * motgen, data = foster)\n",
    "summary(model.1)"
   ]
  },
  {
   "cell_type": "code",
   "execution_count": 16,
   "metadata": {},
   "outputs": [
    {
     "data": {
      "text/html": [
       "<dl class=dl-horizontal>\n",
       "\t<dt>(Intercept)</dt>\n",
       "\t\t<dd>63.68</dd>\n",
       "\t<dt>litgenB</dt>\n",
       "\t\t<dd>-11.355</dd>\n",
       "\t<dt>litgenI</dt>\n",
       "\t\t<dd>-16.58</dd>\n",
       "\t<dt>litgenJ</dt>\n",
       "\t\t<dd>-9.32999999999999</dd>\n",
       "\t<dt>motgenB</dt>\n",
       "\t\t<dd>-11.28</dd>\n",
       "\t<dt>motgenI</dt>\n",
       "\t\t<dd>-9.555</dd>\n",
       "\t<dt>motgenJ</dt>\n",
       "\t\t<dd>-14.72</dd>\n",
       "\t<dt>litgenB:motgenB</dt>\n",
       "\t\t<dd>19.595</dd>\n",
       "\t<dt>litgenI:motgenB</dt>\n",
       "\t\t<dd>28.5466666666666</dd>\n",
       "\t<dt>litgenJ:motgenB</dt>\n",
       "\t\t<dd>13.03</dd>\n",
       "\t<dt>litgenB:motgenI</dt>\n",
       "\t\t<dd>11.155</dd>\n",
       "\t<dt>litgenI:motgenI</dt>\n",
       "\t\t<dd>14.055</dd>\n",
       "\t<dt>litgenJ:motgenI</dt>\n",
       "\t\t<dd>9.73833333333333</dd>\n",
       "\t<dt>litgenB:motgenJ</dt>\n",
       "\t\t<dd>8.295</dd>\n",
       "\t<dt>litgenI:motgenJ</dt>\n",
       "\t\t<dd>17.0533333333333</dd>\n",
       "\t<dt>litgenJ:motgenJ</dt>\n",
       "\t\t<dd>9.42999999999999</dd>\n",
       "</dl>\n"
      ],
      "text/latex": [
       "\\begin{description*}\n",
       "\\item[(Intercept)] 63.68\n",
       "\\item[litgenB] -11.355\n",
       "\\item[litgenI] -16.58\n",
       "\\item[litgenJ] -9.32999999999999\n",
       "\\item[motgenB] -11.28\n",
       "\\item[motgenI] -9.555\n",
       "\\item[motgenJ] -14.72\n",
       "\\item[litgenB:motgenB] 19.595\n",
       "\\item[litgenI:motgenB] 28.5466666666666\n",
       "\\item[litgenJ:motgenB] 13.03\n",
       "\\item[litgenB:motgenI] 11.155\n",
       "\\item[litgenI:motgenI] 14.055\n",
       "\\item[litgenJ:motgenI] 9.73833333333333\n",
       "\\item[litgenB:motgenJ] 8.295\n",
       "\\item[litgenI:motgenJ] 17.0533333333333\n",
       "\\item[litgenJ:motgenJ] 9.42999999999999\n",
       "\\end{description*}\n"
      ],
      "text/markdown": [
       "(Intercept)\n",
       ":   63.68litgenB\n",
       ":   -11.355litgenI\n",
       ":   -16.58litgenJ\n",
       ":   -9.32999999999999motgenB\n",
       ":   -11.28motgenI\n",
       ":   -9.555motgenJ\n",
       ":   -14.72litgenB:motgenB\n",
       ":   19.595litgenI:motgenB\n",
       ":   28.5466666666666litgenJ:motgenB\n",
       ":   13.03litgenB:motgenI\n",
       ":   11.155litgenI:motgenI\n",
       ":   14.055litgenJ:motgenI\n",
       ":   9.73833333333333litgenB:motgenJ\n",
       ":   8.295litgenI:motgenJ\n",
       ":   17.0533333333333litgenJ:motgenJ\n",
       ":   9.42999999999999\n",
       "\n"
      ],
      "text/plain": [
       "    (Intercept)         litgenB         litgenI         litgenJ         motgenB \n",
       "      63.680000      -11.355000      -16.580000       -9.330000      -11.280000 \n",
       "        motgenI         motgenJ litgenB:motgenB litgenI:motgenB litgenJ:motgenB \n",
       "      -9.555000      -14.720000       19.595000       28.546667       13.030000 \n",
       "litgenB:motgenI litgenI:motgenI litgenJ:motgenI litgenB:motgenJ litgenI:motgenJ \n",
       "      11.155000       14.055000        9.738333        8.295000       17.053333 \n",
       "litgenJ:motgenJ \n",
       "       9.430000 "
      ]
     },
     "metadata": {},
     "output_type": "display_data"
    }
   ],
   "source": [
    "coef(model.1)"
   ]
  },
  {
   "cell_type": "code",
   "execution_count": 13,
   "metadata": {},
   "outputs": [
    {
     "data": {
      "text/plain": [
       "              Df Sum Sq Mean Sq F value  Pr(>F)   \n",
       "motgen         3  771.6  257.20   4.742 0.00587 **\n",
       "litgen         3   63.6   21.21   0.391 0.76000   \n",
       "motgen:litgen  9  824.1   91.56   1.688 0.12005   \n",
       "Residuals     45 2440.8   54.24                   \n",
       "---\n",
       "Signif. codes:  0 '***' 0.001 '**' 0.01 '*' 0.05 '.' 0.1 ' ' 1"
      ]
     },
     "metadata": {},
     "output_type": "display_data"
    }
   ],
   "source": [
    "model.2 <- aov(weight ~ motgen * litgen, data = foster)\n",
    "summary(model.2)"
   ]
  },
  {
   "cell_type": "code",
   "execution_count": 17,
   "metadata": {},
   "outputs": [
    {
     "data": {
      "text/html": [
       "<dl class=dl-horizontal>\n",
       "\t<dt>(Intercept)</dt>\n",
       "\t\t<dd>63.68</dd>\n",
       "\t<dt>motgenB</dt>\n",
       "\t\t<dd>-11.28</dd>\n",
       "\t<dt>motgenI</dt>\n",
       "\t\t<dd>-9.55500000000001</dd>\n",
       "\t<dt>motgenJ</dt>\n",
       "\t\t<dd>-14.72</dd>\n",
       "\t<dt>litgenB</dt>\n",
       "\t\t<dd>-11.355</dd>\n",
       "\t<dt>litgenI</dt>\n",
       "\t\t<dd>-16.58</dd>\n",
       "\t<dt>litgenJ</dt>\n",
       "\t\t<dd>-9.33000000000001</dd>\n",
       "\t<dt>motgenB:litgenB</dt>\n",
       "\t\t<dd>19.595</dd>\n",
       "\t<dt>motgenI:litgenB</dt>\n",
       "\t\t<dd>11.155</dd>\n",
       "\t<dt>motgenJ:litgenB</dt>\n",
       "\t\t<dd>8.295</dd>\n",
       "\t<dt>motgenB:litgenI</dt>\n",
       "\t\t<dd>28.5466666666667</dd>\n",
       "\t<dt>motgenI:litgenI</dt>\n",
       "\t\t<dd>14.055</dd>\n",
       "\t<dt>motgenJ:litgenI</dt>\n",
       "\t\t<dd>17.0533333333333</dd>\n",
       "\t<dt>motgenB:litgenJ</dt>\n",
       "\t\t<dd>13.03</dd>\n",
       "\t<dt>motgenI:litgenJ</dt>\n",
       "\t\t<dd>9.73833333333334</dd>\n",
       "\t<dt>motgenJ:litgenJ</dt>\n",
       "\t\t<dd>9.42999999999999</dd>\n",
       "</dl>\n"
      ],
      "text/latex": [
       "\\begin{description*}\n",
       "\\item[(Intercept)] 63.68\n",
       "\\item[motgenB] -11.28\n",
       "\\item[motgenI] -9.55500000000001\n",
       "\\item[motgenJ] -14.72\n",
       "\\item[litgenB] -11.355\n",
       "\\item[litgenI] -16.58\n",
       "\\item[litgenJ] -9.33000000000001\n",
       "\\item[motgenB:litgenB] 19.595\n",
       "\\item[motgenI:litgenB] 11.155\n",
       "\\item[motgenJ:litgenB] 8.295\n",
       "\\item[motgenB:litgenI] 28.5466666666667\n",
       "\\item[motgenI:litgenI] 14.055\n",
       "\\item[motgenJ:litgenI] 17.0533333333333\n",
       "\\item[motgenB:litgenJ] 13.03\n",
       "\\item[motgenI:litgenJ] 9.73833333333334\n",
       "\\item[motgenJ:litgenJ] 9.42999999999999\n",
       "\\end{description*}\n"
      ],
      "text/markdown": [
       "(Intercept)\n",
       ":   63.68motgenB\n",
       ":   -11.28motgenI\n",
       ":   -9.55500000000001motgenJ\n",
       ":   -14.72litgenB\n",
       ":   -11.355litgenI\n",
       ":   -16.58litgenJ\n",
       ":   -9.33000000000001motgenB:litgenB\n",
       ":   19.595motgenI:litgenB\n",
       ":   11.155motgenJ:litgenB\n",
       ":   8.295motgenB:litgenI\n",
       ":   28.5466666666667motgenI:litgenI\n",
       ":   14.055motgenJ:litgenI\n",
       ":   17.0533333333333motgenB:litgenJ\n",
       ":   13.03motgenI:litgenJ\n",
       ":   9.73833333333334motgenJ:litgenJ\n",
       ":   9.42999999999999\n",
       "\n"
      ],
      "text/plain": [
       "    (Intercept)         motgenB         motgenI         motgenJ         litgenB \n",
       "      63.680000      -11.280000       -9.555000      -14.720000      -11.355000 \n",
       "        litgenI         litgenJ motgenB:litgenB motgenI:litgenB motgenJ:litgenB \n",
       "     -16.580000       -9.330000       19.595000       11.155000        8.295000 \n",
       "motgenB:litgenI motgenI:litgenI motgenJ:litgenI motgenB:litgenJ motgenI:litgenJ \n",
       "      28.546667       14.055000       17.053333       13.030000        9.738333 \n",
       "motgenJ:litgenJ \n",
       "       9.430000 "
      ]
     },
     "metadata": {},
     "output_type": "display_data"
    }
   ],
   "source": [
    "coef(model.2)"
   ]
  },
  {
   "cell_type": "code",
   "execution_count": 14,
   "metadata": {},
   "outputs": [
    {
     "data": {
      "text/plain": [
       "  Tukey multiple comparisons of means\n",
       "    95% family-wise confidence level\n",
       "\n",
       "Fit: aov(formula = weight ~ litgen * motgen, data = foster)\n",
       "\n",
       "$motgen\n",
       "         diff        lwr        upr     p adj\n",
       "B-A  3.330369  -3.859729 10.5204672 0.6078581\n",
       "I-A -1.895574  -8.841869  5.0507207 0.8853702\n",
       "J-A -6.566168 -13.627285  0.4949498 0.0767540\n",
       "I-B -5.225943 -12.416041  1.9641552 0.2266493\n",
       "J-B -9.896537 -17.197624 -2.5954489 0.0040509\n",
       "J-I -4.670593 -11.731711  2.3905240 0.3035490\n"
      ]
     },
     "metadata": {},
     "output_type": "display_data"
    }
   ],
   "source": [
    "foster.hsd <- TukeyHSD(model.1, \"motgen\") \n",
    "foster.hsd"
   ]
  },
  {
   "cell_type": "code",
   "execution_count": 15,
   "metadata": {},
   "outputs": [
    {
     "data": {
      "image/png": "[encoded data removed]",
      "text/plain": [
       "Plot with title \"95% family-wise confidence level\n",
       "\""
      ]
     },
     "metadata": {},
     "output_type": "display_data"
    }
   ],
   "source": [
    "plot(foster.hsd)"
   ]
  },
  {
   "cell_type": "code",
   "execution_count": null,
   "metadata": {
    "collapsed": true
   },
   "outputs": [],
   "source": []
  }
 ],
 "metadata": {
  "kernelspec": {
   "display_name": "R",
   "language": "R",
   "name": "ir"
  },
  "language_info": {
   "codemirror_mode": "r",
   "file_extension": ".r",
   "mimetype": "text/x-r-source",
   "name": "R",
   "pygments_lexer": "r",
   "version": "3.4.3"
  }
 },
 "nbformat": 4,
 "nbformat_minor": 2
}
