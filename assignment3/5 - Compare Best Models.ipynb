{
 "cells": [
  {
   "cell_type": "code",
   "execution_count": 51,
   "metadata": {
    "collapsed": true
   },
   "outputs": [],
   "source": [
    "library(MuMIn)"
   ]
  },
  {
   "cell_type": "code",
   "execution_count": 1,
   "metadata": {
    "collapsed": true
   },
   "outputs": [],
   "source": [
    "data.raw = read.table(\"crabs.dat.txt\", header = TRUE)"
   ]
  },
  {
   "cell_type": "code",
   "execution_count": 2,
   "metadata": {
    "collapsed": true
   },
   "outputs": [],
   "source": [
    "data.raw$color = factor(data.raw$color)\n",
    "data.raw$y = factor(data.raw$y)"
   ]
  },
  {
   "cell_type": "code",
   "execution_count": 35,
   "metadata": {},
   "outputs": [
    {
     "data": {
      "text/plain": [
       "\n",
       "Call:\n",
       "glm(formula = spine ~ color, family = poisson(link = log), data = data.raw)\n",
       "\n",
       "Deviance Residuals: \n",
       "   Min      1Q  Median      3Q     Max  \n",
       "-1.274  -0.273   0.135   0.366   1.238  \n",
       "\n",
       "Coefficients:\n",
       "            Estimate Std. Error z value Pr(>|z|)   \n",
       "(Intercept)    0.288      0.250    1.15   0.2498   \n",
       "color2         0.592      0.259    2.29   0.0220 * \n",
       "color3         0.732      0.266    2.75   0.0059 **\n",
       "color4         0.764      0.280    2.73   0.0063 **\n",
       "---\n",
       "Signif. codes:  0 '***' 0.001 '**' 0.01 '*' 0.05 '.' 0.1 ' ' 1\n",
       "\n",
       "(Dispersion parameter for poisson family taken to be 1)\n",
       "\n",
       "    Null deviance: 56.157  on 172  degrees of freedom\n",
       "Residual deviance: 45.604  on 169  degrees of freedom\n",
       "AIC: 528.8\n",
       "\n",
       "Number of Fisher Scoring iterations: 4\n"
      ]
     },
     "metadata": {},
     "output_type": "display_data"
    },
    {
     "data": {
      "text/plain": [
       "\n",
       "Call:\n",
       "glm(formula = spine ~ color, family = quasipoisson(link = log), \n",
       "    data = data.raw)\n",
       "\n",
       "Deviance Residuals: \n",
       "   Min      1Q  Median      3Q     Max  \n",
       "-1.274  -0.273   0.135   0.366   1.238  \n",
       "\n",
       "Coefficients:\n",
       "            Estimate Std. Error t value Pr(>|t|)    \n",
       "(Intercept)    0.288      0.121    2.38    0.018 *  \n",
       "color2         0.592      0.125    4.74  4.6e-06 ***\n",
       "color3         0.732      0.129    5.70  5.3e-08 ***\n",
       "color4         0.764      0.135    5.65  6.8e-08 ***\n",
       "---\n",
       "Signif. codes:  0 '***' 0.001 '**' 0.01 '*' 0.05 '.' 0.1 ' ' 1\n",
       "\n",
       "(Dispersion parameter for quasipoisson family taken to be 0.234)\n",
       "\n",
       "    Null deviance: 56.157  on 172  degrees of freedom\n",
       "Residual deviance: 45.604  on 169  degrees of freedom\n",
       "AIC: NA\n",
       "\n",
       "Number of Fisher Scoring iterations: 4\n"
      ]
     },
     "metadata": {},
     "output_type": "display_data"
    },
    {
     "data": {
      "text/plain": [
       "\n",
       "Call:\n",
       "glm(formula = spine ~ weight + weight:color, family = quasipoisson(link = log), \n",
       "    data = data.raw)\n",
       "\n",
       "Deviance Residuals: \n",
       "   Min      1Q  Median      3Q     Max  \n",
       "-1.263  -0.286   0.146   0.330   1.248  \n",
       "\n",
       "Coefficients:\n",
       "              Estimate Std. Error t value Pr(>|t|)    \n",
       "(Intercept)     1.0523     0.1044   10.08  < 2e-16 ***\n",
       "weight         -0.2970     0.0610   -4.87  2.5e-06 ***\n",
       "weight:color2   0.2316     0.0480    4.83  3.1e-06 ***\n",
       "weight:color3   0.2786     0.0501    5.56  1.0e-07 ***\n",
       "weight:color4   0.2942     0.0543    5.42  2.1e-07 ***\n",
       "---\n",
       "Signif. codes:  0 '***' 0.001 '**' 0.01 '*' 0.05 '.' 0.1 ' ' 1\n",
       "\n",
       "(Dispersion parameter for quasipoisson family taken to be 0.233)\n",
       "\n",
       "    Null deviance: 56.157  on 172  degrees of freedom\n",
       "Residual deviance: 45.287  on 168  degrees of freedom\n",
       "AIC: NA\n",
       "\n",
       "Number of Fisher Scoring iterations: 4\n"
      ]
     },
     "metadata": {},
     "output_type": "display_data"
    },
    {
     "data": {
      "text/plain": [
       "\n",
       "Call:\n",
       "glm.nb(formula = spine ~ color, data = data.raw, init.theta = 183942.6653, \n",
       "    link = log)\n",
       "\n",
       "Deviance Residuals: \n",
       "   Min      1Q  Median      3Q     Max  \n",
       "-1.274  -0.273   0.135   0.366   1.238  \n",
       "\n",
       "Coefficients:\n",
       "            Estimate Std. Error z value Pr(>|z|)   \n",
       "(Intercept)    0.288      0.250    1.15   0.2498   \n",
       "color2         0.592      0.259    2.29   0.0220 * \n",
       "color3         0.732      0.266    2.75   0.0059 **\n",
       "color4         0.764      0.280    2.73   0.0063 **\n",
       "---\n",
       "Signif. codes:  0 '***' 0.001 '**' 0.01 '*' 0.05 '.' 0.1 ' ' 1\n",
       "\n",
       "(Dispersion parameter for Negative Binomial(183943) family taken to be 1)\n",
       "\n",
       "    Null deviance: 56.156  on 172  degrees of freedom\n",
       "Residual deviance: 45.603  on 169  degrees of freedom\n",
       "AIC: 530.8\n",
       "\n",
       "Number of Fisher Scoring iterations: 1\n",
       "\n",
       "\n",
       "              Theta:  183943 \n",
       "          Std. Err.:  2342618 \n",
       "Warning while fitting theta: iteration limit reached \n",
       "\n",
       " 2 x log-likelihood:  -521 "
      ]
     },
     "metadata": {},
     "output_type": "display_data"
    }
   ],
   "source": [
    "require(MASS)\n",
    "options(warn=-1)\n",
    "\n",
    "poisson.color = glm(spine ~ color, family = poisson(link = log), data = data.raw)\n",
    "quasipoisson.color = glm(spine ~ color, family = quasipoisson(link = log), data = data.raw)\n",
    "quasipoisson.weight.weightcolor = glm(spine ~ weight + weight:color, family = quasipoisson(link = log), data = data.raw)\n",
    "nb.color = glm.nb(spine ~ color, data = data.raw)\n",
    "summary(poisson.color)\n",
    "summary(quasipoisson.color)\n",
    "summary(quasipoisson.weight.weightcolor)\n",
    "summary(nb.color)"
   ]
  },
  {
   "cell_type": "code",
   "execution_count": 62,
   "metadata": {},
   "outputs": [
    {
     "name": "stdout",
     "output_type": "stream",
     "text": [
      "$poisson.color\n",
      "     rawCVError adjustedCVError \n",
      "          0.572           0.568 \n",
      "\n",
      "$quasipoisson.color\n",
      "     rawCVError adjustedCVError \n",
      "          0.572           0.568 \n",
      "\n",
      "$nb.color\n",
      "     rawCVError adjustedCVError \n",
      "          0.572           0.568 \n",
      "\n",
      "$quasipoisson.weight.weightcolor\n",
      "     rawCVError adjustedCVError \n",
      "          0.585           0.581 \n",
      "\n"
     ]
    }
   ],
   "source": [
    "require(boot)\n",
    "\n",
    "crossValidation <- function(mod) {\n",
    "    set.seed(12345)\n",
    "    rawError = signif(cv.glm(data.raw[, 2:7], mod, K = 10)$delta[1], 5)\n",
    "    adjustedError = signif(cv.glm(data.raw[, 2:7], mod, K = 10)$delta[2], 5)\n",
    "    c(rawCVError=rawError, adjustedCVError=adjustedError)\n",
    "}\n",
    "\n",
    "models = list(poisson.color = poisson.color,\n",
    "              quasipoisson.color = quasipoisson.color,\n",
    "              nb.color = nb.color, \n",
    "              quasipoisson.weight.weightcolor = quasipoisson.weight.weightcolor\n",
    "             )\n",
    "\n",
    "print(sapply(models, crossValidation, simplify = FALSE))"
   ]
  },
  {
   "cell_type": "code",
   "execution_count": 13,
   "metadata": {},
   "outputs": [
    {
     "data": {
      "image/png": "[encoded data removed]",
      "text/plain": [
       "Plot with title \"\""
      ]
     },
     "metadata": {},
     "output_type": "display_data"
    }
   ],
   "source": [
    "par(mfrow = c(2,2))\n",
    "plot(poisson.color, which = 1)\n",
    "plot(quasipoisson.color, which = 1)\n",
    "plot(nb.color, which = 1)"
   ]
  },
  {
   "cell_type": "code",
   "execution_count": 16,
   "metadata": {},
   "outputs": [
    {
     "data": {
      "image/png": "[encoded data removed]",
      "text/plain": [
       "Plot with title \"\""
      ]
     },
     "metadata": {},
     "output_type": "display_data"
    }
   ],
   "source": [
    "plot(poisson.color, which = 4)"
   ]
  },
  {
   "cell_type": "markdown",
   "metadata": {},
   "source": [
    "People usually use 4/N as a cutoff. In our case, 4/173 = 0.023 . So 32nd point is considered a highly influential point."
   ]
  },
  {
   "cell_type": "code",
   "execution_count": 10,
   "metadata": {
    "collapsed": true
   },
   "outputs": [],
   "source": [
    "data.raw.without32 = data.raw[-c(32), ] "
   ]
  },
  {
   "cell_type": "code",
   "execution_count": 11,
   "metadata": {
    "collapsed": true
   },
   "outputs": [],
   "source": [
    "poisson.color.without32 = glm(spine ~ color, family = poisson(link = log), data = data.raw.without32)\n",
    "quasipoisson.color.without32 = glm(spine ~ color, family = quasipoisson(link = log), data = data.raw.without32)\n",
    "nb.color.without32 = glm.nb(spine ~ color, data = data.raw.without32)"
   ]
  },
  {
   "cell_type": "code",
   "execution_count": 13,
   "metadata": {},
   "outputs": [
    {
     "data": {
      "text/plain": [
       "\n",
       "Call:\n",
       "glm(formula = spine ~ color, family = poisson(link = log), data = data.raw)\n",
       "\n",
       "Deviance Residuals: \n",
       "    Min       1Q   Median       3Q      Max  \n",
       "-1.2740  -0.2725   0.1347   0.3656   1.2378  \n",
       "\n",
       "Coefficients:\n",
       "            Estimate Std. Error z value Pr(>|z|)   \n",
       "(Intercept)   0.2877     0.2500   1.151  0.24984   \n",
       "color2        0.5922     0.2586   2.290  0.02202 * \n",
       "color3        0.7321     0.2659   2.754  0.00589 **\n",
       "color4        0.7644     0.2800   2.731  0.00632 **\n",
       "---\n",
       "Signif. codes:  0 '***' 0.001 '**' 0.01 '*' 0.05 '.' 0.1 ' ' 1\n",
       "\n",
       "(Dispersion parameter for poisson family taken to be 1)\n",
       "\n",
       "    Null deviance: 56.157  on 172  degrees of freedom\n",
       "Residual deviance: 45.604  on 169  degrees of freedom\n",
       "AIC: 528.82\n",
       "\n",
       "Number of Fisher Scoring iterations: 4\n"
      ]
     },
     "metadata": {},
     "output_type": "display_data"
    },
    {
     "data": {
      "text/plain": [
       "\n",
       "Call:\n",
       "glm(formula = spine ~ color, family = poisson(link = log), data = data.raw.without32)\n",
       "\n",
       "Deviance Residuals: \n",
       "    Min       1Q   Median       3Q      Max  \n",
       "-1.2740  -0.1718   0.1347   0.3656   0.6841  \n",
       "\n",
       "Coefficients:\n",
       "            Estimate Std. Error z value Pr(>|z|)   \n",
       "(Intercept)   0.1671     0.2774   0.602  0.54696   \n",
       "color2        0.7128     0.2851   2.500  0.01242 * \n",
       "color3        0.8528     0.2918   2.923  0.00347 **\n",
       "color4        0.8850     0.3046   2.905  0.00367 **\n",
       "---\n",
       "Signif. codes:  0 '***' 0.001 '**' 0.01 '*' 0.05 '.' 0.1 ' ' 1\n",
       "\n",
       "(Dispersion parameter for poisson family taken to be 1)\n",
       "\n",
       "    Null deviance: 56.056  on 171  degrees of freedom\n",
       "Residual deviance: 43.875  on 168  degrees of freedom\n",
       "AIC: 524.1\n",
       "\n",
       "Number of Fisher Scoring iterations: 4\n"
      ]
     },
     "metadata": {},
     "output_type": "display_data"
    },
    {
     "data": {
      "text/plain": [
       "\n",
       "Call:\n",
       "glm.nb(formula = spine ~ color, data = data.raw.without32, init.theta = 198696.9813, \n",
       "    link = log)\n",
       "\n",
       "Deviance Residuals: \n",
       "    Min       1Q   Median       3Q      Max  \n",
       "-1.2740  -0.1718   0.1347   0.3656   0.6841  \n",
       "\n",
       "Coefficients:\n",
       "            Estimate Std. Error z value Pr(>|z|)   \n",
       "(Intercept)   0.1671     0.2774   0.602  0.54696   \n",
       "color2        0.7128     0.2851   2.500  0.01242 * \n",
       "color3        0.8528     0.2918   2.923  0.00347 **\n",
       "color4        0.8850     0.3046   2.905  0.00367 **\n",
       "---\n",
       "Signif. codes:  0 '***' 0.001 '**' 0.01 '*' 0.05 '.' 0.1 ' ' 1\n",
       "\n",
       "(Dispersion parameter for Negative Binomial(198697) family taken to be 1)\n",
       "\n",
       "    Null deviance: 56.056  on 171  degrees of freedom\n",
       "Residual deviance: 43.874  on 168  degrees of freedom\n",
       "AIC: 526.1\n",
       "\n",
       "Number of Fisher Scoring iterations: 1\n",
       "\n",
       "\n",
       "              Theta:  198697 \n",
       "          Std. Err.:  2629960 \n",
       "Warning while fitting theta: iteration limit reached \n",
       "\n",
       " 2 x log-likelihood:  -516.103 "
      ]
     },
     "metadata": {},
     "output_type": "display_data"
    }
   ],
   "source": [
    "summary(poisson.color)\n",
    "summary(poisson.color.without32)\n",
    "summary(nb.color.without32)"
   ]
  },
  {
   "cell_type": "code",
   "execution_count": 49,
   "metadata": {},
   "outputs": [
    {
     "name": "stdout",
     "output_type": "stream",
     "text": [
      "$poisson\n",
      "     rawCVError adjustedCVError \n",
      "          0.546           0.542 \n",
      "\n",
      "$quasipoisson\n",
      "     rawCVError adjustedCVError \n",
      "          0.546           0.542 \n",
      "\n",
      "$nb.color\n",
      "     rawCVError adjustedCVError \n",
      "          0.546           0.542 \n",
      "\n"
     ]
    }
   ],
   "source": [
    "crossValidation <- function(mod) {\n",
    "    set.seed(12345)\n",
    "    rawError = signif(cv.glm(data.raw.without32[, 2:7], mod, K = 10)$delta[1], 5)\n",
    "    adjustedError = signif(cv.glm(data.raw.without32[, 2:7], mod, K = 10)$delta[2], 5)\n",
    "    c(rawCVError=rawError, adjustedCVError=adjustedError)\n",
    "}\n",
    "models.without32 = list(poisson = poisson.color.without32,\n",
    "              quasipoisson = quasipoisson.color.without32,\n",
    "              nb.color = nb.color.without32\n",
    "             )\n",
    "\n",
    "print(sapply(models.without32, crossValidation, simplify = FALSE))"
   ]
  },
  {
   "cell_type": "code",
   "execution_count": 42,
   "metadata": {},
   "outputs": [
    {
     "data": {
      "image/png": "[encoded data removed]",
      "text/plain": [
       "Plot with title \"\""
      ]
     },
     "metadata": {},
     "output_type": "display_data"
    }
   ],
   "source": [
    "par(mfrow = c(2,2))\n",
    "plot(poisson.color.without32, which = 4)\n",
    "plot(poisson.color.without32, which = 2)\n",
    "plot(poisson.color.without32, which = 3)\n",
    "plot(poisson.color.without32, which = 1)"
   ]
  },
  {
   "cell_type": "code",
   "execution_count": null,
   "metadata": {
    "collapsed": true
   },
   "outputs": [],
   "source": []
  },
  {
   "cell_type": "code",
   "execution_count": null,
   "metadata": {
    "collapsed": true
   },
   "outputs": [],
   "source": []
  },
  {
   "cell_type": "code",
   "execution_count": null,
   "metadata": {
    "collapsed": true
   },
   "outputs": [],
   "source": []
  },
  {
   "cell_type": "code",
   "execution_count": null,
   "metadata": {
    "collapsed": true
   },
   "outputs": [],
   "source": []
  },
  {
   "cell_type": "code",
   "execution_count": null,
   "metadata": {
    "collapsed": true
   },
   "outputs": [],
   "source": []
  },
  {
   "cell_type": "code",
   "execution_count": null,
   "metadata": {
    "collapsed": true
   },
   "outputs": [],
   "source": []
  },
  {
   "cell_type": "code",
   "execution_count": null,
   "metadata": {
    "collapsed": true
   },
   "outputs": [],
   "source": []
  }
 ],
 "metadata": {
  "kernelspec": {
   "display_name": "R",
   "language": "R",
   "name": "ir"
  },
  "language_info": {
   "codemirror_mode": "r",
   "file_extension": ".r",
   "mimetype": "text/x-r-source",
   "name": "R",
   "pygments_lexer": "r",
   "version": "3.5.0"
  },
  "varInspector": {
   "cols": {
    "lenName": 16,
    "lenType": 16,
    "lenVar": 40
   },
   "kernels_config": {
    "python": {
     "delete_cmd_postfix": "",
     "delete_cmd_prefix": "del ",
     "library": "var_list.py",
     "varRefreshCmd": "print(var_dic_list())"
    },
    "r": {
     "delete_cmd_postfix": ") ",
     "delete_cmd_prefix": "rm(",
     "library": "var_list.r",
     "varRefreshCmd": "cat(var_dic_list()) "
    }
   },
   "types_to_exclude": [
    "module",
    "function",
    "builtin_function_or_method",
    "instance",
    "_Feature"
   ],
   "window_display": false
  }
 },
 "nbformat": 4,
 "nbformat_minor": 2
}
