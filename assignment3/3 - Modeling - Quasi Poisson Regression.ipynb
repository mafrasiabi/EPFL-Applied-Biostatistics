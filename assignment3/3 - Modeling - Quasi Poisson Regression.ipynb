{
 "cells": [
  {
   "cell_type": "code",
   "execution_count": 1,
   "metadata": {
    "collapsed": true
   },
   "outputs": [],
   "source": [
    "data.raw = read.table(\"crabs.dat.txt\", header = TRUE)"
   ]
  },
  {
   "cell_type": "code",
   "execution_count": 2,
   "metadata": {
    "collapsed": true
   },
   "outputs": [],
   "source": [
    "data.raw$color = factor(data.raw$color)\n",
    "data.raw$y = factor(data.raw$y)"
   ]
  },
  {
   "cell_type": "code",
   "execution_count": 4,
   "metadata": {},
   "outputs": [
    {
     "data": {
      "text/plain": [
       "\n",
       "Call:\n",
       "glm(formula = spine ~ sat + y + weight + width + color, family = quasipoisson(link = log), \n",
       "    data = data.raw)\n",
       "\n",
       "Deviance Residuals: \n",
       "    Min       1Q   Median       3Q      Max  \n",
       "-1.2842  -0.2786   0.1515   0.3177   1.3208  \n",
       "\n",
       "Coefficients:\n",
       "             Estimate Std. Error t value Pr(>|t|)    \n",
       "(Intercept) -0.009538   0.475969  -0.020    0.984    \n",
       "sat         -0.007227   0.010783  -0.670    0.504    \n",
       "y1           0.091759   0.071749   1.279    0.203    \n",
       "weight      -0.132128   0.087783  -1.505    0.134    \n",
       "width        0.022427   0.023996   0.935    0.351    \n",
       "color2       0.581651   0.126059   4.614 7.89e-06 ***\n",
       "color3       0.716702   0.130640   5.486 1.52e-07 ***\n",
       "color4       0.766032   0.138544   5.529 1.24e-07 ***\n",
       "---\n",
       "Signif. codes:  0 '***' 0.001 '**' 0.01 '*' 0.05 '.' 0.1 ' ' 1\n",
       "\n",
       "(Dispersion parameter for quasipoisson family taken to be 0.2365512)\n",
       "\n",
       "    Null deviance: 56.157  on 172  degrees of freedom\n",
       "Residual deviance: 44.605  on 165  degrees of freedom\n",
       "AIC: NA\n",
       "\n",
       "Number of Fisher Scoring iterations: 4\n"
      ]
     },
     "metadata": {},
     "output_type": "display_data"
    }
   ],
   "source": [
    "require(lmtest)\n",
    "\n",
    "model.all_variables = glm(spine ~ sat + y + weight + width + color, family = quasipoisson(link = log), data = data.raw)\n",
    "summary(model.all_variables)"
   ]
  },
  {
   "cell_type": "code",
   "execution_count": 6,
   "metadata": {
    "collapsed": true
   },
   "outputs": [],
   "source": [
    "model.color = glm(spine ~ color, family = quasipoisson(link = log), data = data.raw)\n",
    "model.weight = glm(spine ~ weight, family = quasipoisson(link = log), data = data.raw)\n",
    "model.width = glm(spine ~ width, family = quasipoisson(link = log), data = data.raw)\n",
    "model.sat = glm(spine ~ sat, family = quasipoisson(link = log), data = data.raw)\n",
    "\n",
    "model.weight.weightcolor = glm(spine ~ weight + weight:color, data = data.raw, family = quasipoisson(link = log))\n",
    "model.color.weight = glm(spine ~ color + weight, data = data.raw, family = quasipoisson(link = log))\n",
    "model.color.width = glm(spine ~ color + width, data = data.raw, family = quasipoisson(link = log))\n",
    "model.color.y = glm(spine ~ color + y, data = data.raw, family = quasipoisson(link = log))\n",
    "model.color.sat = glm(spine ~ color + sat, data = data.raw, family = quasipoisson(link = log))"
   ]
  },
  {
   "cell_type": "code",
   "execution_count": 8,
   "metadata": {},
   "outputs": [
    {
     "data": {
      "text/plain": [
       "\n",
       "Call:\n",
       "glm(formula = spine ~ color, family = quasipoisson(link = log), \n",
       "    data = data.raw)\n",
       "\n",
       "Deviance Residuals: \n",
       "    Min       1Q   Median       3Q      Max  \n",
       "-1.2740  -0.2725   0.1347   0.3656   1.2378  \n",
       "\n",
       "Coefficients:\n",
       "            Estimate Std. Error t value Pr(>|t|)    \n",
       "(Intercept)   0.2877     0.1209   2.380   0.0184 *  \n",
       "color2        0.5922     0.1250   4.737 4.58e-06 ***\n",
       "color3        0.7321     0.1286   5.695 5.35e-08 ***\n",
       "color4        0.7644     0.1354   5.648 6.76e-08 ***\n",
       "---\n",
       "Signif. codes:  0 '***' 0.001 '**' 0.01 '*' 0.05 '.' 0.1 ' ' 1\n",
       "\n",
       "(Dispersion parameter for quasipoisson family taken to be 0.2337508)\n",
       "\n",
       "    Null deviance: 56.157  on 172  degrees of freedom\n",
       "Residual deviance: 45.604  on 169  degrees of freedom\n",
       "AIC: NA\n",
       "\n",
       "Number of Fisher Scoring iterations: 4\n"
      ]
     },
     "metadata": {},
     "output_type": "display_data"
    }
   ],
   "source": [
    "summary(model.color)"
   ]
  },
  {
   "cell_type": "code",
   "execution_count": 9,
   "metadata": {},
   "outputs": [
    {
     "data": {
      "text/plain": [
       "\n",
       "Call:\n",
       "glm(formula = spine ~ color + weight, family = quasipoisson(link = log), \n",
       "    data = data.raw)\n",
       "\n",
       "Deviance Residuals: \n",
       "    Min       1Q   Median       3Q      Max  \n",
       "-1.2336  -0.2930   0.1252   0.3479   1.2362  \n",
       "\n",
       "Coefficients:\n",
       "            Estimate Std. Error t value Pr(>|t|)    \n",
       "(Intercept)  0.41312    0.16407   2.518   0.0127 *  \n",
       "color2       0.58754    0.12528   4.690 5.63e-06 ***\n",
       "color3       0.71621    0.12952   5.530 1.21e-07 ***\n",
       "color4       0.74259    0.13692   5.424 2.01e-07 ***\n",
       "weight      -0.04777    0.04223  -1.131   0.2596    \n",
       "---\n",
       "Signif. codes:  0 '***' 0.001 '**' 0.01 '*' 0.05 '.' 0.1 ' ' 1\n",
       "\n",
       "(Dispersion parameter for quasipoisson family taken to be 0.2344313)\n",
       "\n",
       "    Null deviance: 56.157  on 172  degrees of freedom\n",
       "Residual deviance: 45.302  on 168  degrees of freedom\n",
       "AIC: NA\n",
       "\n",
       "Number of Fisher Scoring iterations: 4\n"
      ]
     },
     "metadata": {},
     "output_type": "display_data"
    }
   ],
   "source": [
    "model.color.weight = glm(spine ~ color + weight, family = quasipoisson(link = log), data = data.raw)\n",
    "summary(model.color.weight)"
   ]
  },
  {
   "cell_type": "code",
   "execution_count": 11,
   "metadata": {},
   "outputs": [
    {
     "name": "stdout",
     "output_type": "stream",
     "text": [
      "$color\n",
      "     rawCVError adjustedCVError \n",
      "          0.572           0.568 \n",
      "\n",
      "$all_variables\n",
      "     rawCVError adjustedCVError \n",
      "          0.600           0.588 \n",
      "\n",
      "$color.weight\n",
      "     rawCVError adjustedCVError \n",
      "          0.585           0.577 \n",
      "\n",
      "$color.width\n",
      "     rawCVError adjustedCVError \n",
      "          0.589           0.577 \n",
      "\n",
      "$color.y\n",
      "     rawCVError adjustedCVError \n",
      "          0.573           0.571 \n",
      "\n",
      "$color.sat\n",
      "     rawCVError adjustedCVError \n",
      "          0.584           0.572 \n",
      "\n",
      "$weight.weightcolor\n",
      "     rawCVError adjustedCVError \n",
      "          0.585           0.581 \n",
      "\n"
     ]
    }
   ],
   "source": [
    "require(formula.tools)\n",
    "require(boot)\n",
    "options(warn=-1)\n",
    "\n",
    "crossValidation <- function(mod) {\n",
    "    set.seed(12345)\n",
    "    rawError = signif(cv.glm(data.raw[, 2:7], mod, K = 10)$delta[1], 3)\n",
    "    adjustedError = signif(cv.glm(data.raw[, 2:7], mod, K = 10)$delta[2], 3)\n",
    "    c(rawCVError=rawError, adjustedCVError=adjustedError)\n",
    "}\n",
    "\n",
    "models = list(color = model.color, \n",
    "              all_variables = model.all_variables,\n",
    "              color.weight = model.color.weight,\n",
    "              color.width = model.color.width,\n",
    "              color.y = model.color.y,\n",
    "              color.sat = model.color.sat,\n",
    "              weight.weightcolor = model.weight.weightcolor\n",
    "             )\n",
    "\n",
    "print(sapply(models, crossValidation, simplify = FALSE))"
   ]
  },
  {
   "cell_type": "code",
   "execution_count": null,
   "metadata": {
    "collapsed": true
   },
   "outputs": [],
   "source": []
  },
  {
   "cell_type": "code",
   "execution_count": null,
   "metadata": {
    "collapsed": true
   },
   "outputs": [],
   "source": []
  },
  {
   "cell_type": "code",
   "execution_count": null,
   "metadata": {
    "collapsed": true
   },
   "outputs": [],
   "source": []
  },
  {
   "cell_type": "code",
   "execution_count": null,
   "metadata": {
    "collapsed": true
   },
   "outputs": [],
   "source": []
  },
  {
   "cell_type": "code",
   "execution_count": null,
   "metadata": {
    "collapsed": true
   },
   "outputs": [],
   "source": []
  }
 ],
 "metadata": {
  "kernelspec": {
   "display_name": "R",
   "language": "R",
   "name": "ir"
  },
  "language_info": {
   "codemirror_mode": "r",
   "file_extension": ".r",
   "mimetype": "text/x-r-source",
   "name": "R",
   "pygments_lexer": "r",
   "version": "3.5.0"
  },
  "varInspector": {
   "cols": {
    "lenName": 16,
    "lenType": 16,
    "lenVar": 40
   },
   "kernels_config": {
    "python": {
     "delete_cmd_postfix": "",
     "delete_cmd_prefix": "del ",
     "library": "var_list.py",
     "varRefreshCmd": "print(var_dic_list())"
    },
    "r": {
     "delete_cmd_postfix": ") ",
     "delete_cmd_prefix": "rm(",
     "library": "var_list.r",
     "varRefreshCmd": "cat(var_dic_list()) "
    }
   },
   "types_to_exclude": [
    "module",
    "function",
    "builtin_function_or_method",
    "instance",
    "_Feature"
   ],
   "window_display": false
  }
 },
 "nbformat": 4,
 "nbformat_minor": 2
}
