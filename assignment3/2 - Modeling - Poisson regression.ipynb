{
 "cells": [
  {
   "cell_type": "markdown",
   "metadata": {},
   "source": [
    "### Load Dataset"
   ]
  },
  {
   "cell_type": "code",
   "execution_count": 1,
   "metadata": {
    "collapsed": true
   },
   "outputs": [],
   "source": [
    "data.raw = read.table(\"crabs.dat.txt\", header = TRUE)"
   ]
  },
  {
   "cell_type": "code",
   "execution_count": 2,
   "metadata": {
    "collapsed": true
   },
   "outputs": [],
   "source": [
    "data.raw$color = factor(data.raw$color)\n",
    "data.raw$y = factor(data.raw$y)"
   ]
  },
  {
   "cell_type": "code",
   "execution_count": 3,
   "metadata": {},
   "outputs": [
    {
     "data": {
      "text/html": [
       "<table>\n",
       "<thead><tr><th scope=col>crab</th><th scope=col>sat</th><th scope=col>y</th><th scope=col>weight</th><th scope=col>width</th><th scope=col>color</th><th scope=col>spine</th></tr></thead>\n",
       "<tbody>\n",
       "\t<tr><td>1   </td><td>8   </td><td>1   </td><td>3.05</td><td>28.3</td><td>2   </td><td>3   </td></tr>\n",
       "\t<tr><td>2   </td><td>0   </td><td>0   </td><td>1.55</td><td>22.5</td><td>3   </td><td>3   </td></tr>\n",
       "\t<tr><td>3   </td><td>9   </td><td>1   </td><td>2.30</td><td>26.0</td><td>1   </td><td>1   </td></tr>\n",
       "\t<tr><td>4   </td><td>0   </td><td>0   </td><td>2.10</td><td>24.8</td><td>3   </td><td>3   </td></tr>\n",
       "\t<tr><td>5   </td><td>4   </td><td>1   </td><td>2.60</td><td>26.0</td><td>3   </td><td>3   </td></tr>\n",
       "\t<tr><td>6   </td><td>0   </td><td>0   </td><td>2.10</td><td>23.8</td><td>2   </td><td>3   </td></tr>\n",
       "</tbody>\n",
       "</table>\n"
      ],
      "text/latex": [
       "\\begin{tabular}{r|lllllll}\n",
       " crab & sat & y & weight & width & color & spine\\\\\n",
       "\\hline\n",
       "\t 1    & 8    & 1    & 3.05 & 28.3 & 2    & 3   \\\\\n",
       "\t 2    & 0    & 0    & 1.55 & 22.5 & 3    & 3   \\\\\n",
       "\t 3    & 9    & 1    & 2.30 & 26.0 & 1    & 1   \\\\\n",
       "\t 4    & 0    & 0    & 2.10 & 24.8 & 3    & 3   \\\\\n",
       "\t 5    & 4    & 1    & 2.60 & 26.0 & 3    & 3   \\\\\n",
       "\t 6    & 0    & 0    & 2.10 & 23.8 & 2    & 3   \\\\\n",
       "\\end{tabular}\n"
      ],
      "text/markdown": [
       "\n",
       "crab | sat | y | weight | width | color | spine | \n",
       "|---|---|---|---|---|---|\n",
       "| 1    | 8    | 1    | 3.05 | 28.3 | 2    | 3    | \n",
       "| 2    | 0    | 0    | 1.55 | 22.5 | 3    | 3    | \n",
       "| 3    | 9    | 1    | 2.30 | 26.0 | 1    | 1    | \n",
       "| 4    | 0    | 0    | 2.10 | 24.8 | 3    | 3    | \n",
       "| 5    | 4    | 1    | 2.60 | 26.0 | 3    | 3    | \n",
       "| 6    | 0    | 0    | 2.10 | 23.8 | 2    | 3    | \n",
       "\n",
       "\n"
      ],
      "text/plain": [
       "  crab sat y weight width color spine\n",
       "1 1    8   1 3.05   28.3  2     3    \n",
       "2 2    0   0 1.55   22.5  3     3    \n",
       "3 3    9   1 2.30   26.0  1     1    \n",
       "4 4    0   0 2.10   24.8  3     3    \n",
       "5 5    4   1 2.60   26.0  3     3    \n",
       "6 6    0   0 2.10   23.8  2     3    "
      ]
     },
     "metadata": {},
     "output_type": "display_data"
    }
   ],
   "source": [
    "head(data.raw)"
   ]
  },
  {
   "cell_type": "code",
   "execution_count": 4,
   "metadata": {},
   "outputs": [
    {
     "data": {
      "image/png": "[encoded data removed]",
      "text/plain": [
       "Plot with title \"Histogram of data.raw$spine\""
      ]
     },
     "metadata": {},
     "output_type": "display_data"
    }
   ],
   "source": [
    "hist(data.raw$spine)"
   ]
  },
  {
   "cell_type": "markdown",
   "metadata": {},
   "source": [
    "### Poisson Regression (First order models)"
   ]
  },
  {
   "cell_type": "code",
   "execution_count": 5,
   "metadata": {},
   "outputs": [
    {
     "name": "stderr",
     "output_type": "stream",
     "text": [
      "Loading required package: lmtest\n",
      "Loading required package: zoo\n",
      "\n",
      "Attaching package: 'zoo'\n",
      "\n",
      "The following objects are masked from 'package:base':\n",
      "\n",
      "    as.Date, as.Date.numeric\n",
      "\n"
     ]
    }
   ],
   "source": [
    "require(lmtest)\n",
    "\n",
    "model.all_variables = glm(spine ~ sat + y + weight + width + color, family = poisson(link = log), data = data.raw)"
   ]
  },
  {
   "cell_type": "code",
   "execution_count": 6,
   "metadata": {},
   "outputs": [
    {
     "data": {
      "text/plain": [
       "\n",
       "Call:\n",
       "glm(formula = spine ~ sat + y + weight + width + color, family = poisson(link = log), \n",
       "    data = data.raw)\n",
       "\n",
       "Deviance Residuals: \n",
       "    Min       1Q   Median       3Q      Max  \n",
       "-1.2842  -0.2786   0.1515   0.3177   1.3208  \n",
       "\n",
       "Coefficients:\n",
       "             Estimate Std. Error z value Pr(>|z|)   \n",
       "(Intercept) -0.009538   0.978624  -0.010  0.99222   \n",
       "sat         -0.007227   0.022171  -0.326  0.74444   \n",
       "y1           0.091759   0.147520   0.622  0.53394   \n",
       "weight      -0.132128   0.180487  -0.732  0.46413   \n",
       "width        0.022427   0.049338   0.455  0.64942   \n",
       "color2       0.581651   0.259186   2.244  0.02482 * \n",
       "color3       0.716702   0.268605   2.668  0.00763 **\n",
       "color4       0.766032   0.284857   2.689  0.00716 **\n",
       "---\n",
       "Signif. codes:  0 '***' 0.001 '**' 0.01 '*' 0.05 '.' 0.1 ' ' 1\n",
       "\n",
       "(Dispersion parameter for poisson family taken to be 1)\n",
       "\n",
       "    Null deviance: 56.157  on 172  degrees of freedom\n",
       "Residual deviance: 44.605  on 165  degrees of freedom\n",
       "AIC: 535.82\n",
       "\n",
       "Number of Fisher Scoring iterations: 4\n"
      ]
     },
     "metadata": {},
     "output_type": "display_data"
    }
   ],
   "source": [
    "summary(model.all_variables)"
   ]
  },
  {
   "cell_type": "markdown",
   "metadata": {},
   "source": [
    "The model with all first order variables is not insightful, with most coefficients being insignificant. But it can be observed that the variables **color2**, **color3**, and **color4** are all significant at the 0.05 level.  \n",
    "\n",
    "The reason for this can be reasonably understood by observing the histogram of spine for each color."
   ]
  },
  {
   "cell_type": "code",
   "execution_count": 3,
   "metadata": {
    "collapsed": true
   },
   "outputs": [],
   "source": [
    "model.color = glm(spine ~ color, family = poisson(link = log), data = data.raw)\n",
    "model.weight = glm(spine ~ weight, family = poisson(link = log), data = data.raw)\n",
    "model.width = glm(spine ~ width, family = poisson(link = log), data = data.raw)\n",
    "model.sat = glm(spine ~ sat, family = poisson(link = log), data = data.raw)\n",
    "model.y = glm(spine ~ y, family = poisson(link = log), data = data.raw)"
   ]
  },
  {
   "cell_type": "markdown",
   "metadata": {},
   "source": [
    "We now start with a very simplistic model with only one predictor, ie. the **color** variable."
   ]
  },
  {
   "cell_type": "code",
   "execution_count": 12,
   "metadata": {},
   "outputs": [
    {
     "data": {
      "text/plain": [
       "\n",
       "Call:\n",
       "glm(formula = spine ~ color, family = poisson(link = log), data = data.raw)\n",
       "\n",
       "Deviance Residuals: \n",
       "    Min       1Q   Median       3Q      Max  \n",
       "-1.2740  -0.2725   0.1347   0.3656   1.2378  \n",
       "\n",
       "Coefficients:\n",
       "            Estimate Std. Error z value Pr(>|z|)   \n",
       "(Intercept)   0.2877     0.2500   1.151  0.24984   \n",
       "color2        0.5922     0.2586   2.290  0.02202 * \n",
       "color3        0.7321     0.2659   2.754  0.00589 **\n",
       "color4        0.7644     0.2800   2.731  0.00632 **\n",
       "---\n",
       "Signif. codes:  0 '***' 0.001 '**' 0.01 '*' 0.05 '.' 0.1 ' ' 1\n",
       "\n",
       "(Dispersion parameter for poisson family taken to be 1)\n",
       "\n",
       "    Null deviance: 56.157  on 172  degrees of freedom\n",
       "Residual deviance: 45.604  on 169  degrees of freedom\n",
       "AIC: 528.82\n",
       "\n",
       "Number of Fisher Scoring iterations: 4\n"
      ]
     },
     "metadata": {},
     "output_type": "display_data"
    },
    {
     "name": "stdout",
     "output_type": "stream",
     "text": [
      "Likelihood ratio test\n",
      "\n",
      "Model 1: spine ~ color\n",
      "Model 2: spine ~ 1\n",
      "  #Df  LogLik Df  Chisq Pr(>Chisq)  \n",
      "1   4 -260.41                       \n",
      "2   1 -265.69 -3 10.553    0.01441 *\n",
      "---\n",
      "Signif. codes:  0 '***' 0.001 '**' 0.01 '*' 0.05 '.' 0.1 ' ' 1\n",
      "Likelihood ratio test\n",
      "\n",
      "Model 1: spine ~ weight\n",
      "Model 2: spine ~ 1\n",
      "  #Df  LogLik Df  Chisq Pr(>Chisq)\n",
      "1   2 -265.03                     \n",
      "2   1 -265.69 -1 1.3237     0.2499\n",
      "Likelihood ratio test\n",
      "\n",
      "Model 1: spine ~ width\n",
      "Model 2: spine ~ 1\n",
      "  #Df  LogLik Df  Chisq Pr(>Chisq)\n",
      "1   2 -265.34                     \n",
      "2   1 -265.69 -1 0.7038     0.4015\n",
      "Likelihood ratio test\n",
      "\n",
      "Model 1: spine ~ y\n",
      "Model 2: spine ~ 1\n",
      "  #Df  LogLik Df  Chisq Pr(>Chisq)\n",
      "1   2 -265.67                     \n",
      "2   1 -265.69 -1 0.0363     0.8489\n"
     ]
    }
   ],
   "source": [
    "summary(model.color)\n",
    "print(lrtest(model.color))\n",
    "print(lrtest(model.weight))\n",
    "print(lrtest(model.width))\n",
    "print(lrtest(model.y))"
   ]
  },
  {
   "cell_type": "code",
   "execution_count": 13,
   "metadata": {},
   "outputs": [
    {
     "data": {
      "text/plain": [
       "\n",
       "Call:\n",
       "glm(formula = spine ~ color + weight, family = poisson(link = log), \n",
       "    data = data.raw)\n",
       "\n",
       "Deviance Residuals: \n",
       "    Min       1Q   Median       3Q      Max  \n",
       "-1.2336  -0.2930   0.1252   0.3479   1.2362  \n",
       "\n",
       "Coefficients:\n",
       "            Estimate Std. Error z value Pr(>|z|)   \n",
       "(Intercept)  0.41312    0.33885   1.219  0.22278   \n",
       "color2       0.58754    0.25874   2.271  0.02316 * \n",
       "color3       0.71621    0.26751   2.677  0.00742 **\n",
       "color4       0.74259    0.28279   2.626  0.00864 **\n",
       "weight      -0.04777    0.08722  -0.548  0.58389   \n",
       "---\n",
       "Signif. codes:  0 '***' 0.001 '**' 0.01 '*' 0.05 '.' 0.1 ' ' 1\n",
       "\n",
       "(Dispersion parameter for poisson family taken to be 1)\n",
       "\n",
       "    Null deviance: 56.157  on 172  degrees of freedom\n",
       "Residual deviance: 45.302  on 168  degrees of freedom\n",
       "AIC: 530.52\n",
       "\n",
       "Number of Fisher Scoring iterations: 4\n"
      ]
     },
     "metadata": {},
     "output_type": "display_data"
    },
    {
     "name": "stdout",
     "output_type": "stream",
     "text": [
      "Likelihood ratio test\n",
      "\n",
      "Model 1: spine ~ color + weight\n",
      "Model 2: spine ~ color\n",
      "  #Df  LogLik Df  Chisq Pr(>Chisq)\n",
      "1   5 -260.26                     \n",
      "2   4 -260.41 -1 0.3017     0.5828\n"
     ]
    }
   ],
   "source": [
    "model.color.weight = glm(spine ~ color + weight, family = poisson(link = log), data = data.raw)\n",
    "summary(model.color.weight)\n",
    "print(lrtest(model.color.weight, model.color))"
   ]
  },
  {
   "cell_type": "code",
   "execution_count": 14,
   "metadata": {},
   "outputs": [
    {
     "data": {
      "text/plain": [
       "\n",
       "Call:\n",
       "glm(formula = spine ~ color + width, family = poisson(link = log), \n",
       "    data = data.raw)\n",
       "\n",
       "Deviance Residuals: \n",
       "    Min       1Q   Median       3Q      Max  \n",
       "-1.2723  -0.2894   0.1335   0.3599   1.2299  \n",
       "\n",
       "Coefficients:\n",
       "             Estimate Std. Error z value Pr(>|z|)   \n",
       "(Intercept)  0.425026   0.689211   0.617  0.53744   \n",
       "color2       0.590799   0.258667   2.284  0.02237 * \n",
       "color3       0.725937   0.267479   2.714  0.00665 **\n",
       "color4       0.755816   0.282830   2.672  0.00753 **\n",
       "width       -0.005094   0.023829  -0.214  0.83071   \n",
       "---\n",
       "Signif. codes:  0 '***' 0.001 '**' 0.01 '*' 0.05 '.' 0.1 ' ' 1\n",
       "\n",
       "(Dispersion parameter for poisson family taken to be 1)\n",
       "\n",
       "    Null deviance: 56.157  on 172  degrees of freedom\n",
       "Residual deviance: 45.558  on 168  degrees of freedom\n",
       "AIC: 530.78\n",
       "\n",
       "Number of Fisher Scoring iterations: 4\n"
      ]
     },
     "metadata": {},
     "output_type": "display_data"
    },
    {
     "name": "stdout",
     "output_type": "stream",
     "text": [
      "Likelihood ratio test\n",
      "\n",
      "Model 1: spine ~ color + width\n",
      "Model 2: spine ~ color\n",
      "  #Df  LogLik Df  Chisq Pr(>Chisq)\n",
      "1   5 -260.39                     \n",
      "2   4 -260.41 -1 0.0458     0.8306\n"
     ]
    }
   ],
   "source": [
    "model.color.width = glm(spine ~ color + width, family = poisson(link = log), data = data.raw)\n",
    "summary(model.color.width)\n",
    "print(lrtest(model.color.width, model.color))"
   ]
  },
  {
   "cell_type": "code",
   "execution_count": 15,
   "metadata": {},
   "outputs": [
    {
     "data": {
      "text/plain": [
       "\n",
       "Call:\n",
       "glm(formula = spine ~ color + sat, family = poisson(link = log), \n",
       "    data = data.raw)\n",
       "\n",
       "Deviance Residuals: \n",
       "    Min       1Q   Median       3Q      Max  \n",
       "-1.2780  -0.2791   0.1319   0.3628   1.2305  \n",
       "\n",
       "Coefficients:\n",
       "             Estimate Std. Error z value Pr(>|z|)   \n",
       "(Intercept)  0.293136   0.258074   1.136  0.25601   \n",
       "color2       0.591107   0.258884   2.283  0.02241 * \n",
       "color3       0.729669   0.267481   2.728  0.00637 **\n",
       "color4       0.761681   0.281789   2.703  0.00687 **\n",
       "sat         -0.001338   0.015732  -0.085  0.93223   \n",
       "---\n",
       "Signif. codes:  0 '***' 0.001 '**' 0.01 '*' 0.05 '.' 0.1 ' ' 1\n",
       "\n",
       "(Dispersion parameter for poisson family taken to be 1)\n",
       "\n",
       "    Null deviance: 56.157  on 172  degrees of freedom\n",
       "Residual deviance: 45.597  on 168  degrees of freedom\n",
       "AIC: 530.82\n",
       "\n",
       "Number of Fisher Scoring iterations: 4\n"
      ]
     },
     "metadata": {},
     "output_type": "display_data"
    },
    {
     "name": "stdout",
     "output_type": "stream",
     "text": [
      "Likelihood ratio test\n",
      "\n",
      "Model 1: spine ~ color + sat\n",
      "Model 2: spine ~ color\n",
      "  #Df  LogLik Df  Chisq Pr(>Chisq)\n",
      "1   5 -260.41                     \n",
      "2   4 -260.41 -1 0.0072     0.9322\n"
     ]
    }
   ],
   "source": [
    "model.color.sat = glm(spine ~ color + sat, family = poisson(link = log), data = data.raw)\n",
    "summary(model.color.sat)\n",
    "print(lrtest(model.color.sat, model.color))"
   ]
  },
  {
   "cell_type": "code",
   "execution_count": 16,
   "metadata": {},
   "outputs": [
    {
     "data": {
      "text/plain": [
       "\n",
       "Call:\n",
       "glm(formula = spine ~ color + y, family = poisson(link = log), \n",
       "    data = data.raw)\n",
       "\n",
       "Deviance Residuals: \n",
       "    Min       1Q   Median       3Q      Max  \n",
       "-1.2558  -0.2701   0.1082   0.3487   1.2770  \n",
       "\n",
       "Coefficients:\n",
       "            Estimate Std. Error z value Pr(>|z|)   \n",
       "(Intercept)  0.25846    0.26233   0.985  0.32449   \n",
       "color2       0.59307    0.25860   2.293  0.02182 * \n",
       "color3       0.73828    0.26640   2.771  0.00558 **\n",
       "color4       0.78113    0.28357   2.755  0.00588 **\n",
       "y1           0.03877    0.10495   0.369  0.71182   \n",
       "---\n",
       "Signif. codes:  0 '***' 0.001 '**' 0.01 '*' 0.05 '.' 0.1 ' ' 1\n",
       "\n",
       "(Dispersion parameter for poisson family taken to be 1)\n",
       "\n",
       "    Null deviance: 56.157  on 172  degrees of freedom\n",
       "Residual deviance: 45.467  on 168  degrees of freedom\n",
       "AIC: 530.69\n",
       "\n",
       "Number of Fisher Scoring iterations: 4\n"
      ]
     },
     "metadata": {},
     "output_type": "display_data"
    },
    {
     "name": "stdout",
     "output_type": "stream",
     "text": [
      "Likelihood ratio test\n",
      "\n",
      "Model 1: spine ~ color + y\n",
      "Model 2: spine ~ color\n",
      "  #Df  LogLik Df  Chisq Pr(>Chisq)\n",
      "1   5 -260.34                     \n",
      "2   4 -260.41 -1 0.1369     0.7114\n"
     ]
    }
   ],
   "source": [
    "model.color.y = glm(spine ~ color + y, family = poisson(link = log), data = data.raw)\n",
    "summary(model.color.y)\n",
    "print(lrtest(model.color.y, model.color))"
   ]
  },
  {
   "cell_type": "markdown",
   "metadata": {},
   "source": [
    "Adding any other variables (first order) does not improve the model significantly at all. This can be confirmed from all the likelihood ratio tests.  Also, by adding any of the real valued predictors, the residual deviance decreases at most only by 0.3, while a +2 increase in AIC.   \n",
    "\n",
    "We now check the pseudo-R-squared goodness of fit, and diagnostic plots of **spine ~ color**."
   ]
  },
  {
   "cell_type": "code",
   "execution_count": 17,
   "metadata": {},
   "outputs": [
    {
     "data": {
      "text/html": [
       "0.187917789554224"
      ],
      "text/latex": [
       "0.187917789554224"
      ],
      "text/markdown": [
       "0.187917789554224"
      ],
      "text/plain": [
       "[1] 0.1879178"
      ]
     },
     "metadata": {},
     "output_type": "display_data"
    },
    {
     "data": {
      "text/html": [
       "0.193290915709543"
      ],
      "text/latex": [
       "0.193290915709543"
      ],
      "text/markdown": [
       "0.193290915709543"
      ],
      "text/plain": [
       "[1] 0.1932909"
      ]
     },
     "metadata": {},
     "output_type": "display_data"
    },
    {
     "data": {
      "text/html": [
       "0.188732501454335"
      ],
      "text/latex": [
       "0.188732501454335"
      ],
      "text/markdown": [
       "0.188732501454335"
      ],
      "text/plain": [
       "[1] 0.1887325"
      ]
     },
     "metadata": {},
     "output_type": "display_data"
    },
    {
     "data": {
      "text/html": [
       "0.188046765429782"
      ],
      "text/latex": [
       "0.188046765429782"
      ],
      "text/markdown": [
       "0.188046765429782"
      ],
      "text/plain": [
       "[1] 0.1880468"
      ]
     },
     "metadata": {},
     "output_type": "display_data"
    },
    {
     "data": {
      "text/html": [
       "0.190355968399108"
      ],
      "text/latex": [
       "0.190355968399108"
      ],
      "text/markdown": [
       "0.190355968399108"
      ],
      "text/plain": [
       "[1] 0.190356"
      ]
     },
     "metadata": {},
     "output_type": "display_data"
    }
   ],
   "source": [
    "# Pseudo-R-squared\n",
    "pseudo_R_squared <- function(mod) {\n",
    "    return (1 - (mod$deviance)/(mod$null.deviance))\n",
    "}\n",
    "\n",
    "pseudo_R_squared(model.color)\n",
    "pseudo_R_squared(model.color.weight)\n",
    "pseudo_R_squared(model.color.width)\n",
    "pseudo_R_squared(model.color.sat)\n",
    "pseudo_R_squared(model.color.y)"
   ]
  },
  {
   "cell_type": "markdown",
   "metadata": {
    "collapsed": true
   },
   "source": [
    "### Goodness of fit \n",
    "\n",
    "#### Pearson chi-square test"
   ]
  },
  {
   "cell_type": "code",
   "execution_count": 4,
   "metadata": {},
   "outputs": [
    {
     "name": "stdout",
     "output_type": "stream",
     "text": [
      "[1] 39.50378\n",
      "[1] 169\n"
     ]
    },
    {
     "data": {
      "text/html": [
       "1"
      ],
      "text/latex": [
       "1"
      ],
      "text/markdown": [
       "1"
      ],
      "text/plain": [
       "[1] 1"
      ]
     },
     "metadata": {},
     "output_type": "display_data"
    }
   ],
   "source": [
    "pearson_chisquare_test <- function(mod) {\n",
    "    pearson_chisqr_statistic = sum(residuals(mod, type = \"pearson\")^2)\n",
    "    print(pearson_chisqr_statistic)\n",
    "    p.value = 1 - pchisq(pearson_chisqr_statistic, nrow(data.raw) - length(mod$coefficients))\n",
    "    print(nrow(data.raw) - length(mod$coefficients))\n",
    "    return (p.value)\n",
    "}\n",
    "\n",
    "pearson_chisquare_test(model.color)"
   ]
  },
  {
   "cell_type": "markdown",
   "metadata": {},
   "source": [
    "#### Deviance / log likelihood ratio test"
   ]
  },
  {
   "cell_type": "code",
   "execution_count": 19,
   "metadata": {},
   "outputs": [
    {
     "data": {
      "text/html": [
       "1"
      ],
      "text/latex": [
       "1"
      ],
      "text/markdown": [
       "1"
      ],
      "text/plain": [
       "[1] 1"
      ]
     },
     "metadata": {},
     "output_type": "display_data"
    },
    {
     "data": {
      "text/html": [
       "1"
      ],
      "text/latex": [
       "1"
      ],
      "text/markdown": [
       "1"
      ],
      "text/plain": [
       "[1] 1"
      ]
     },
     "metadata": {},
     "output_type": "display_data"
    },
    {
     "data": {
      "text/html": [
       "1"
      ],
      "text/latex": [
       "1"
      ],
      "text/markdown": [
       "1"
      ],
      "text/plain": [
       "[1] 1"
      ]
     },
     "metadata": {},
     "output_type": "display_data"
    },
    {
     "data": {
      "text/html": [
       "1"
      ],
      "text/latex": [
       "1"
      ],
      "text/markdown": [
       "1"
      ],
      "text/plain": [
       "[1] 1"
      ]
     },
     "metadata": {},
     "output_type": "display_data"
    },
    {
     "data": {
      "text/html": [
       "1"
      ],
      "text/latex": [
       "1"
      ],
      "text/markdown": [
       "1"
      ],
      "text/plain": [
       "[1] 1"
      ]
     },
     "metadata": {},
     "output_type": "display_data"
    }
   ],
   "source": [
    "# Deviance test\n",
    "deviance_test <- function(mod) {\n",
    "    return ((pchisq(mod$deviance, df=mod$df.residual, lower.tail=FALSE)))\n",
    "}\n",
    "\n",
    "deviance_test(model.color)\n",
    "deviance_test(model.color.width)\n",
    "deviance_test(model.color.weight)\n",
    "deviance_test(model.color.sat)\n",
    "deviance_test(model.color.y)"
   ]
  },
  {
   "cell_type": "markdown",
   "metadata": {},
   "source": [
    "The Pearson chi-square, deviance goodness of fit tests show that all models tested above are well fit, but the results are not useful for comparing between them."
   ]
  },
  {
   "cell_type": "markdown",
   "metadata": {},
   "source": [
    "### Diagnostics"
   ]
  },
  {
   "cell_type": "code",
   "execution_count": 20,
   "metadata": {},
   "outputs": [
    {
     "data": {
      "image/png": "[encoded data removed]",
      "text/plain": [
       "Plot with title \"\""
      ]
     },
     "metadata": {},
     "output_type": "display_data"
    }
   ],
   "source": [
    "par(mfrow = c(2,2))\n",
    "plot(model.color, which = 1)\n",
    "plot(model.color.weight, which = 1)\n",
    "plot(model.color.width, which = 1)\n",
    "plot(model.color.sat, which = 1)"
   ]
  },
  {
   "cell_type": "code",
   "execution_count": 21,
   "metadata": {},
   "outputs": [
    {
     "name": "stderr",
     "output_type": "stream",
     "text": [
      "Loading required package: carData\n"
     ]
    },
    {
     "data": {
      "text/html": [
       "<ol class=list-inline>\n",
       "\t<li>32</li>\n",
       "\t<li>88</li>\n",
       "</ol>\n"
      ],
      "text/latex": [
       "\\begin{enumerate*}\n",
       "\\item 32\n",
       "\\item 88\n",
       "\\end{enumerate*}\n"
      ],
      "text/markdown": [
       "1. 32\n",
       "2. 88\n",
       "\n",
       "\n"
      ],
      "text/plain": [
       "[1] 32 88"
      ]
     },
     "metadata": {},
     "output_type": "display_data"
    },
    {
     "data": {
      "text/html": [
       "<ol class=list-inline>\n",
       "\t<li>32</li>\n",
       "\t<li>88</li>\n",
       "</ol>\n"
      ],
      "text/latex": [
       "\\begin{enumerate*}\n",
       "\\item 32\n",
       "\\item 88\n",
       "\\end{enumerate*}\n"
      ],
      "text/markdown": [
       "1. 32\n",
       "2. 88\n",
       "\n",
       "\n"
      ],
      "text/plain": [
       "[1] 32 88"
      ]
     },
     "metadata": {},
     "output_type": "display_data"
    },
    {
     "data": {
      "text/html": [
       "<ol class=list-inline>\n",
       "\t<li>32</li>\n",
       "\t<li>88</li>\n",
       "</ol>\n"
      ],
      "text/latex": [
       "\\begin{enumerate*}\n",
       "\\item 32\n",
       "\\item 88\n",
       "\\end{enumerate*}\n"
      ],
      "text/markdown": [
       "1. 32\n",
       "2. 88\n",
       "\n",
       "\n"
      ],
      "text/plain": [
       "[1] 32 88"
      ]
     },
     "metadata": {},
     "output_type": "display_data"
    },
    {
     "data": {
      "text/html": [
       "<ol class=list-inline>\n",
       "\t<li>32</li>\n",
       "\t<li>88</li>\n",
       "</ol>\n"
      ],
      "text/latex": [
       "\\begin{enumerate*}\n",
       "\\item 32\n",
       "\\item 88\n",
       "\\end{enumerate*}\n"
      ],
      "text/markdown": [
       "1. 32\n",
       "2. 88\n",
       "\n",
       "\n"
      ],
      "text/plain": [
       "[1] 32 88"
      ]
     },
     "metadata": {},
     "output_type": "display_data"
    },
    {
     "data": {
      "image/png": "[encoded data removed]",
      "text/plain": [
       "plot without title"
      ]
     },
     "metadata": {},
     "output_type": "display_data"
    }
   ],
   "source": [
    "library(car)\n",
    "\n",
    "par(mfrow = c(2,2))\n",
    "qqPlot(residuals(model.color, type = \"pearson\"))\n",
    "qqPlot(residuals(model.color.weight, type = \"pearson\"))\n",
    "qqPlot(residuals(model.color.width, type = \"pearson\"))\n",
    "qqPlot(residuals(model.color.sat, type = \"pearson\"))"
   ]
  },
  {
   "cell_type": "code",
   "execution_count": 22,
   "metadata": {},
   "outputs": [
    {
     "data": {
      "image/png": "[encoded data removed]",
      "text/plain": [
       "Plot with title \"\""
      ]
     },
     "metadata": {},
     "output_type": "display_data"
    }
   ],
   "source": [
    "par(mfrow = c(2,2))\n",
    "plot(model.color, which = 4)\n",
    "plot(model.color.weight, which = 4)\n",
    "plot(model.color.width, which = 4)\n",
    "plot(model.color.sat, which = 4)"
   ]
  },
  {
   "cell_type": "markdown",
   "metadata": {},
   "source": [
    "32th data seems to be an outlier, we will try fitting the model without this data point."
   ]
  },
  {
   "cell_type": "markdown",
   "metadata": {
    "collapsed": true
   },
   "source": [
    "### Trying models with transformed variables"
   ]
  },
  {
   "cell_type": "code",
   "execution_count": 23,
   "metadata": {},
   "outputs": [
    {
     "data": {
      "text/plain": [
       "\n",
       "Call:\n",
       "glm(formula = spine ~ color + I(weight^4.8), family = poisson(link = log), \n",
       "    data = data.raw)\n",
       "\n",
       "Deviance Residuals: \n",
       "    Min       1Q   Median       3Q      Max  \n",
       "-1.2371  -0.3039   0.1090   0.3179   1.2262  \n",
       "\n",
       "Coefficients:\n",
       "                Estimate Std. Error z value Pr(>|z|)   \n",
       "(Intercept)    0.3318910  0.2527297   1.313  0.18911   \n",
       "color2         0.5971491  0.2585911   2.309  0.02093 * \n",
       "color3         0.7182215  0.2661531   2.699  0.00696 **\n",
       "color4         0.7414534  0.2806138   2.642  0.00824 **\n",
       "I(weight^4.8) -0.0003627  0.0003069  -1.182  0.23734   \n",
       "---\n",
       "Signif. codes:  0 '***' 0.001 '**' 0.01 '*' 0.05 '.' 0.1 ' ' 1\n",
       "\n",
       "(Dispersion parameter for poisson family taken to be 1)\n",
       "\n",
       "    Null deviance: 56.157  on 172  degrees of freedom\n",
       "Residual deviance: 43.857  on 168  degrees of freedom\n",
       "AIC: 529.08\n",
       "\n",
       "Number of Fisher Scoring iterations: 4\n"
      ]
     },
     "metadata": {},
     "output_type": "display_data"
    },
    {
     "name": "stdout",
     "output_type": "stream",
     "text": [
      "Likelihood ratio test\n",
      "\n",
      "Model 1: spine ~ color + I(weight^4.8)\n",
      "Model 2: spine ~ color\n",
      "  #Df  LogLik Df  Chisq Pr(>Chisq)\n",
      "1   5 -259.54                     \n",
      "2   4 -260.41 -1 1.7472     0.1862\n"
     ]
    },
    {
     "data": {
      "text/html": [
       "0.21903032482425"
      ],
      "text/latex": [
       "0.21903032482425"
      ],
      "text/markdown": [
       "0.21903032482425"
      ],
      "text/plain": [
       "[1] 0.2190303"
      ]
     },
     "metadata": {},
     "output_type": "display_data"
    }
   ],
   "source": [
    "model.color.powweight = glm(spine ~ color + I(weight^4.8), family = poisson(link = log), data = data.raw)\n",
    "summary(model.color.powweight)\n",
    "print(lrtest(model.color.powweight, model.color))\n",
    "pseudo_R_squared(model.color.powweight)"
   ]
  },
  {
   "cell_type": "code",
   "execution_count": 24,
   "metadata": {},
   "outputs": [
    {
     "data": {
      "text/plain": [
       "\n",
       "Call:\n",
       "glm(formula = spine ~ color + I(width^20), family = poisson(link = log), \n",
       "    data = data.raw)\n",
       "\n",
       "Deviance Residuals: \n",
       "    Min       1Q   Median       3Q      Max  \n",
       "-1.2790  -0.3086   0.1234   0.3290   1.2166  \n",
       "\n",
       "Coefficients:\n",
       "              Estimate Std. Error z value Pr(>|z|)   \n",
       "(Intercept)  3.077e-01  2.507e-01   1.227  0.21970   \n",
       "color2       5.997e-01  2.586e-01   2.319  0.02040 * \n",
       "color3       7.224e-01  2.660e-01   2.716  0.00662 **\n",
       "color4       7.512e-01  2.802e-01   2.681  0.00735 **\n",
       "I(width^20) -2.498e-31  2.392e-31  -1.044  0.29640   \n",
       "---\n",
       "Signif. codes:  0 '***' 0.001 '**' 0.01 '*' 0.05 '.' 0.1 ' ' 1\n",
       "\n",
       "(Dispersion parameter for poisson family taken to be 1)\n",
       "\n",
       "    Null deviance: 56.157  on 172  degrees of freedom\n",
       "Residual deviance: 44.284  on 168  degrees of freedom\n",
       "AIC: 529.5\n",
       "\n",
       "Number of Fisher Scoring iterations: 4\n"
      ]
     },
     "metadata": {},
     "output_type": "display_data"
    },
    {
     "name": "stdout",
     "output_type": "stream",
     "text": [
      "Likelihood ratio test\n",
      "\n",
      "Model 1: spine ~ color + I(width^20)\n",
      "Model 2: spine ~ color\n",
      "  #Df  LogLik Df  Chisq Pr(>Chisq)\n",
      "1   5 -259.75                     \n",
      "2   4 -260.41 -1 1.3195     0.2507\n"
     ]
    },
    {
     "data": {
      "text/html": [
       "0.211414891685601"
      ],
      "text/latex": [
       "0.211414891685601"
      ],
      "text/markdown": [
       "0.211414891685601"
      ],
      "text/plain": [
       "[1] 0.2114149"
      ]
     },
     "metadata": {},
     "output_type": "display_data"
    }
   ],
   "source": [
    "model.color.powwidth = glm(spine ~ color + I(width^20), family = poisson(link = log), data = data.raw)\n",
    "summary(model.color.powwidth)\n",
    "print(lrtest(model.color.powwidth, model.color))\n",
    "pseudo_R_squared(model.color.powwidth)"
   ]
  },
  {
   "cell_type": "markdown",
   "metadata": {},
   "source": [
    "### Adding interactions"
   ]
  },
  {
   "cell_type": "code",
   "execution_count": 25,
   "metadata": {},
   "outputs": [
    {
     "data": {
      "text/plain": [
       "\n",
       "Call:\n",
       "glm(formula = spine ~ weight + color:weight, family = poisson(link = log), \n",
       "    data = data.raw)\n",
       "\n",
       "Deviance Residuals: \n",
       "    Min       1Q   Median       3Q      Max  \n",
       "-1.2632  -0.2857   0.1465   0.3297   1.2479  \n",
       "\n",
       "Coefficients:\n",
       "              Estimate Std. Error z value Pr(>|z|)    \n",
       "(Intercept)    1.05231    0.21636   4.864 1.15e-06 ***\n",
       "weight        -0.29698    0.12629  -2.352  0.01869 *  \n",
       "weight:color2  0.23164    0.09943   2.330  0.01982 *  \n",
       "weight:color3  0.27861    0.10383   2.683  0.00729 ** \n",
       "weight:color4  0.29420    0.11255   2.614  0.00895 ** \n",
       "---\n",
       "Signif. codes:  0 '***' 0.001 '**' 0.01 '*' 0.05 '.' 0.1 ' ' 1\n",
       "\n",
       "(Dispersion parameter for poisson family taken to be 1)\n",
       "\n",
       "    Null deviance: 56.157  on 172  degrees of freedom\n",
       "Residual deviance: 45.287  on 168  degrees of freedom\n",
       "AIC: 530.51\n",
       "\n",
       "Number of Fisher Scoring iterations: 4\n"
      ]
     },
     "metadata": {},
     "output_type": "display_data"
    },
    {
     "name": "stdout",
     "output_type": "stream",
     "text": [
      "Likelihood ratio test\n",
      "\n",
      "Model 1: spine ~ weight + color:weight\n",
      "Model 2: spine ~ weight\n",
      "  #Df  LogLik Df  Chisq Pr(>Chisq)  \n",
      "1   5 -260.25                       \n",
      "2   2 -265.03 -3 9.5461    0.02285 *\n",
      "---\n",
      "Signif. codes:  0 '***' 0.001 '**' 0.01 '*' 0.05 '.' 0.1 ' ' 1\n"
     ]
    },
    {
     "data": {
      "text/html": [
       "0.19356135289007"
      ],
      "text/latex": [
       "0.19356135289007"
      ],
      "text/markdown": [
       "0.19356135289007"
      ],
      "text/plain": [
       "[1] 0.1935614"
      ]
     },
     "metadata": {},
     "output_type": "display_data"
    }
   ],
   "source": [
    "model.weight.colorweight = glm(spine ~ weight + color:weight, family = poisson(link = log), data = data.raw)\n",
    "summary(model.weight.colorweight)\n",
    "print(lrtest(model.weight.colorweight, model.weight))\n",
    "pseudo_R_squared(model.weight.colorweight)"
   ]
  },
  {
   "cell_type": "code",
   "execution_count": 26,
   "metadata": {},
   "outputs": [
    {
     "data": {
      "text/plain": [
       "\n",
       "Call:\n",
       "glm(formula = spine ~ color + weight + width + width:weight + \n",
       "    color:width, family = poisson(link = log), data = data.raw)\n",
       "\n",
       "Deviance Residuals: \n",
       "    Min       1Q   Median       3Q      Max  \n",
       "-1.3010  -0.1164   0.1191   0.3026   1.0047  \n",
       "\n",
       "Coefficients:\n",
       "             Estimate Std. Error z value Pr(>|z|)\n",
       "(Intercept)   1.01513    5.26761   0.193    0.847\n",
       "color2       -4.48879    4.64509  -0.966    0.334\n",
       "color3       -2.75408    4.76476  -0.578    0.563\n",
       "color4       -3.49970    4.93630  -0.709    0.478\n",
       "weight        1.31447    1.04344   1.260    0.208\n",
       "width        -0.01709    0.19961  -0.086    0.932\n",
       "weight:width -0.05270    0.03761  -1.401    0.161\n",
       "color2:width  0.19106    0.17467   1.094    0.274\n",
       "color3:width  0.12978    0.17957   0.723    0.470\n",
       "color4:width  0.15968    0.18686   0.855    0.393\n",
       "\n",
       "(Dispersion parameter for poisson family taken to be 1)\n",
       "\n",
       "    Null deviance: 56.157  on 172  degrees of freedom\n",
       "Residual deviance: 41.332  on 163  degrees of freedom\n",
       "AIC: 536.55\n",
       "\n",
       "Number of Fisher Scoring iterations: 4\n"
      ]
     },
     "metadata": {},
     "output_type": "display_data"
    },
    {
     "name": "stdout",
     "output_type": "stream",
     "text": [
      "Likelihood ratio test\n",
      "\n",
      "Model 1: spine ~ color + weight + width + width:weight + color:width\n",
      "Model 2: spine ~ color\n",
      "  #Df  LogLik Df  Chisq Pr(>Chisq)\n",
      "1  10 -258.27                     \n",
      "2   4 -260.41 -6 4.2722     0.6399\n"
     ]
    },
    {
     "data": {
      "text/html": [
       "0.263994425055536"
      ],
      "text/latex": [
       "0.263994425055536"
      ],
      "text/markdown": [
       "0.263994425055536"
      ],
      "text/plain": [
       "[1] 0.2639944"
      ]
     },
     "metadata": {},
     "output_type": "display_data"
    }
   ],
   "source": [
    "model.color.weight.width.weightwidth.colorwidth = glm(spine ~ color + weight + width + width:weight + color:width, family = poisson(link = log), data = data.raw)\n",
    "summary(model.color.weight.width.weightwidth.colorwidth)\n",
    "print(lrtest(model.color.weight.width.weightwidth.colorwidth, model.color))\n",
    "pseudo_R_squared(model.color.weight.width.weightwidth.colorwidth)"
   ]
  },
  {
   "cell_type": "code",
   "execution_count": 27,
   "metadata": {},
   "outputs": [
    {
     "data": {
      "text/plain": [
       "\n",
       "Call:\n",
       "glm(formula = spine ~ color + color:y, family = poisson(link = log), \n",
       "    data = data.raw)\n",
       "\n",
       "Deviance Residuals: \n",
       "    Min       1Q   Median       3Q      Max  \n",
       "-1.2413  -0.2076   0.1841   0.3112   0.9274  \n",
       "\n",
       "Coefficients:\n",
       "            Estimate Std. Error z value Pr(>|z|)\n",
       "(Intercept)  0.51083    0.44721   1.142    0.253\n",
       "color2       0.27413    0.46641   0.588    0.557\n",
       "color3       0.55005    0.46821   1.175    0.240\n",
       "color4       0.51879    0.47308   1.097    0.273\n",
       "color1:y1   -0.31015    0.53935  -0.575    0.565\n",
       "color2:y1    0.12843    0.15283   0.840    0.401\n",
       "color3:y1   -0.07047    0.18308  -0.385    0.700\n",
       "color4:y1    0.06899    0.26726   0.258    0.796\n",
       "\n",
       "(Dispersion parameter for poisson family taken to be 1)\n",
       "\n",
       "    Null deviance: 56.157  on 172  degrees of freedom\n",
       "Residual deviance: 44.352  on 165  degrees of freedom\n",
       "AIC: 535.57\n",
       "\n",
       "Number of Fisher Scoring iterations: 4\n"
      ]
     },
     "metadata": {},
     "output_type": "display_data"
    },
    {
     "name": "stdout",
     "output_type": "stream",
     "text": [
      "Likelihood ratio test\n",
      "\n",
      "Model 1: spine ~ color + color:y\n",
      "Model 2: spine ~ color\n",
      "  #Df  LogLik Df  Chisq Pr(>Chisq)\n",
      "1   8 -259.79                     \n",
      "2   4 -260.41 -4 1.2522     0.8694\n"
     ]
    },
    {
     "data": {
      "text/html": [
       "0.210215776643832"
      ],
      "text/latex": [
       "0.210215776643832"
      ],
      "text/markdown": [
       "0.210215776643832"
      ],
      "text/plain": [
       "[1] 0.2102158"
      ]
     },
     "metadata": {},
     "output_type": "display_data"
    }
   ],
   "source": [
    "model.color.colory = glm(spine ~ color + color:y, family = poisson(link = log), data = data.raw)\n",
    "summary(model.color.colory)\n",
    "print(lrtest(model.color.colory, model.color))\n",
    "pseudo_R_squared(model.color.colory)"
   ]
  },
  {
   "cell_type": "markdown",
   "metadata": {},
   "source": [
    "### Backwards elimination"
   ]
  },
  {
   "cell_type": "code",
   "execution_count": 29,
   "metadata": {},
   "outputs": [
    {
     "name": "stdout",
     "output_type": "stream",
     "text": [
      "Start:  AIC=535.82\n",
      "spine ~ sat + y + weight + width + color\n",
      "\n",
      "         Df Deviance    AIC\n",
      "- sat     1   44.712 533.93\n",
      "- width   1   44.810 534.03\n",
      "- y       1   44.991 534.21\n",
      "- weight  1   45.135 534.35\n",
      "<none>        44.605 535.82\n",
      "- color   3   54.401 539.62\n",
      "\n",
      "Step:  AIC=533.93\n",
      "spine ~ y + weight + width + color\n",
      "\n",
      "         Df Deviance    AIC\n",
      "- width   1   44.941 532.16\n",
      "- y       1   45.001 532.22\n",
      "- weight  1   45.326 532.55\n",
      "<none>        44.712 533.93\n",
      "- color   3   54.637 537.86\n",
      "\n",
      "Step:  AIC=532.16\n",
      "spine ~ y + weight + color\n",
      "\n",
      "         Df Deviance    AIC\n",
      "- y       1   45.302 530.52\n",
      "- weight  1   45.467 530.69\n",
      "<none>        44.941 532.16\n",
      "- color   3   54.756 535.98\n",
      "\n",
      "Step:  AIC=530.52\n",
      "spine ~ weight + color\n",
      "\n",
      "         Df Deviance    AIC\n",
      "- weight  1   45.604 528.82\n",
      "<none>        45.302 530.52\n",
      "- color   3   54.833 534.05\n",
      "\n",
      "Step:  AIC=528.82\n",
      "spine ~ color\n",
      "\n",
      "        Df Deviance    AIC\n",
      "<none>       45.604 528.82\n",
      "- color  3   56.157 533.38\n"
     ]
    },
    {
     "data": {
      "text/plain": [
       "\n",
       "Call:\n",
       "glm(formula = spine ~ color, family = poisson(link = log), data = data.raw)\n",
       "\n",
       "Deviance Residuals: \n",
       "    Min       1Q   Median       3Q      Max  \n",
       "-1.2740  -0.2725   0.1347   0.3656   1.2378  \n",
       "\n",
       "Coefficients:\n",
       "            Estimate Std. Error z value Pr(>|z|)   \n",
       "(Intercept)   0.2877     0.2500   1.151  0.24984   \n",
       "color2        0.5922     0.2586   2.290  0.02202 * \n",
       "color3        0.7321     0.2659   2.754  0.00589 **\n",
       "color4        0.7644     0.2800   2.731  0.00632 **\n",
       "---\n",
       "Signif. codes:  0 '***' 0.001 '**' 0.01 '*' 0.05 '.' 0.1 ' ' 1\n",
       "\n",
       "(Dispersion parameter for poisson family taken to be 1)\n",
       "\n",
       "    Null deviance: 56.157  on 172  degrees of freedom\n",
       "Residual deviance: 45.604  on 169  degrees of freedom\n",
       "AIC: 528.82\n",
       "\n",
       "Number of Fisher Scoring iterations: 4\n"
      ]
     },
     "metadata": {},
     "output_type": "display_data"
    },
    {
     "name": "stdout",
     "output_type": "stream",
     "text": [
      "Likelihood ratio test\n",
      "\n",
      "Model 1: spine ~ color\n",
      "Model 2: spine ~ color\n",
      "  #Df  LogLik Df Chisq Pr(>Chisq)\n",
      "1   4 -260.41                    \n",
      "2   4 -260.41  0     0          1\n"
     ]
    },
    {
     "data": {
      "text/html": [
       "0.187917789554224"
      ],
      "text/latex": [
       "0.187917789554224"
      ],
      "text/markdown": [
       "0.187917789554224"
      ],
      "text/plain": [
       "[1] 0.1879178"
      ]
     },
     "metadata": {},
     "output_type": "display_data"
    }
   ],
   "source": [
    "library(MASS)\n",
    "model.all_variables.backward =  stepAIC(model.all_variables, direction = \"backward\")\n",
    "summary(model.all_variables.backward)\n",
    "print(lrtest(model.all_variables.backward, model.color))\n",
    "pseudo_R_squared(model.all_variables.backward)"
   ]
  },
  {
   "cell_type": "code",
   "execution_count": 30,
   "metadata": {},
   "outputs": [
    {
     "name": "stdout",
     "output_type": "stream",
     "text": [
      "Start:  AIC=576.87\n",
      "spine ~ (color + width + weight + y + sat + I(weight^4.8))^2\n",
      "\n",
      "\n",
      "Step:  AIC=576.87\n",
      "spine ~ color + width + weight + y + sat + I(weight^4.8) + color:width + \n",
      "    color:weight + color:y + color:sat + color:I(weight^4.8) + \n",
      "    width:weight + width:y + width:sat + width:I(weight^4.8) + \n",
      "    weight:y + weight:sat + weight:I(weight^4.8) + y:I(weight^4.8) + \n",
      "    sat:I(weight^4.8)\n",
      "\n",
      "                       Df Deviance    AIC\n",
      "- color:y               3   36.037 571.26\n",
      "- color:sat             3   36.054 571.27\n",
      "- color:weight          3   36.585 571.80\n",
      "- color:I(weight^4.8)   3   36.749 571.97\n",
      "- color:width           3   37.296 572.51\n",
      "- width:y               1   35.650 574.87\n",
      "- width:sat             1   35.655 574.87\n",
      "- sat:I(weight^4.8)     1   35.655 574.87\n",
      "- weight:sat            1   35.656 574.87\n",
      "- y:I(weight^4.8)       1   35.700 574.92\n",
      "- weight:y              1   35.734 574.95\n",
      "- width:I(weight^4.8)   1   36.060 575.28\n",
      "- width:weight          1   36.129 575.35\n",
      "- weight:I(weight^4.8)  1   36.206 575.42\n",
      "<none>                      35.650 576.87\n",
      "\n",
      "Step:  AIC=571.26\n",
      "spine ~ color + width + weight + y + sat + I(weight^4.8) + color:width + \n",
      "    color:weight + color:sat + color:I(weight^4.8) + width:weight + \n",
      "    width:y + width:sat + width:I(weight^4.8) + weight:y + weight:sat + \n",
      "    weight:I(weight^4.8) + y:I(weight^4.8) + sat:I(weight^4.8)\n",
      "\n",
      "                       Df Deviance    AIC\n",
      "- color:sat             3   36.790 566.01\n",
      "- color:weight          3   36.954 566.17\n",
      "- color:I(weight^4.8)   3   37.146 566.36\n",
      "- color:width           3   37.606 566.82\n",
      "- sat:I(weight^4.8)     1   36.038 569.26\n",
      "- width:y               1   36.038 569.26\n",
      "- width:sat             1   36.052 569.27\n",
      "- weight:sat            1   36.053 569.27\n",
      "- y:I(weight^4.8)       1   36.109 569.33\n",
      "- weight:y              1   36.111 569.33\n",
      "- width:I(weight^4.8)   1   36.420 569.64\n",
      "- width:weight          1   36.494 569.71\n",
      "- weight:I(weight^4.8)  1   36.610 569.83\n",
      "<none>                      36.037 571.26\n",
      "\n",
      "Step:  AIC=566.01\n",
      "spine ~ color + width + weight + y + sat + I(weight^4.8) + color:width + \n",
      "    color:weight + color:I(weight^4.8) + width:weight + width:y + \n",
      "    width:sat + width:I(weight^4.8) + weight:y + weight:sat + \n",
      "    weight:I(weight^4.8) + y:I(weight^4.8) + sat:I(weight^4.8)\n",
      "\n",
      "                       Df Deviance    AIC\n",
      "- color:I(weight^4.8)   3   37.814 561.03\n",
      "- color:weight          3   37.882 561.10\n",
      "- color:width           3   38.135 561.35\n",
      "- width:sat             1   36.790 564.01\n",
      "- sat:I(weight^4.8)     1   36.793 564.01\n",
      "- weight:sat            1   36.795 564.01\n",
      "- width:y               1   36.803 564.02\n",
      "- weight:y              1   36.863 564.08\n",
      "- y:I(weight^4.8)       1   36.896 564.11\n",
      "- width:I(weight^4.8)   1   37.146 564.37\n",
      "- width:weight          1   37.233 564.45\n",
      "- weight:I(weight^4.8)  1   37.362 564.58\n",
      "<none>                      36.790 566.01\n",
      "\n",
      "Step:  AIC=561.03\n",
      "spine ~ color + width + weight + y + sat + I(weight^4.8) + color:width + \n",
      "    color:weight + width:weight + width:y + width:sat + width:I(weight^4.8) + \n",
      "    weight:y + weight:sat + weight:I(weight^4.8) + y:I(weight^4.8) + \n",
      "    sat:I(weight^4.8)\n",
      "\n",
      "                       Df Deviance    AIC\n",
      "- color:weight          3   38.517 555.74\n",
      "- color:width           3   39.014 556.23\n",
      "- width:sat             1   37.814 559.03\n",
      "- weight:sat            1   37.819 559.04\n",
      "- weight:y              1   37.820 559.04\n",
      "- width:y               1   37.826 559.05\n",
      "- y:I(weight^4.8)       1   37.836 559.05\n",
      "- sat:I(weight^4.8)     1   37.874 559.09\n",
      "- weight:I(weight^4.8)  1   38.276 559.49\n",
      "- width:I(weight^4.8)   1   38.300 559.52\n",
      "- width:weight          1   38.452 559.67\n",
      "<none>                      37.814 561.03\n",
      "\n",
      "Step:  AIC=555.74\n",
      "spine ~ color + width + weight + y + sat + I(weight^4.8) + color:width + \n",
      "    width:weight + width:y + width:sat + width:I(weight^4.8) + \n",
      "    weight:y + weight:sat + weight:I(weight^4.8) + y:I(weight^4.8) + \n",
      "    sat:I(weight^4.8)\n",
      "\n",
      "                       Df Deviance    AIC\n",
      "- color:width           3   40.872 552.09\n",
      "- weight:y              1   38.517 553.74\n",
      "- weight:sat            1   38.518 553.74\n",
      "- width:sat             1   38.530 553.75\n",
      "- y:I(weight^4.8)       1   38.540 553.76\n",
      "- sat:I(weight^4.8)     1   38.546 553.76\n",
      "- width:y               1   38.554 553.77\n",
      "- weight:I(weight^4.8)  1   39.058 554.28\n",
      "- width:I(weight^4.8)   1   39.068 554.29\n",
      "- width:weight          1   39.147 554.37\n",
      "<none>                      38.517 555.74\n",
      "\n",
      "Step:  AIC=552.09\n",
      "spine ~ color + width + weight + y + sat + I(weight^4.8) + width:weight + \n",
      "    width:y + width:sat + width:I(weight^4.8) + weight:y + weight:sat + \n",
      "    weight:I(weight^4.8) + y:I(weight^4.8) + sat:I(weight^4.8)\n",
      "\n",
      "                       Df Deviance    AIC\n",
      "- weight:sat            1   40.874 550.09\n",
      "- y:I(weight^4.8)       1   40.877 550.10\n",
      "- width:sat             1   40.881 550.10\n",
      "- weight:y              1   40.894 550.11\n",
      "- width:y               1   40.902 550.12\n",
      "- sat:I(weight^4.8)     1   40.934 550.15\n",
      "- width:I(weight^4.8)   1   41.249 550.47\n",
      "- weight:I(weight^4.8)  1   41.310 550.53\n",
      "- width:weight          1   41.517 550.74\n",
      "<none>                      40.872 552.09\n",
      "- color                 3   50.688 555.91\n",
      "\n",
      "Step:  AIC=550.09\n",
      "spine ~ color + width + weight + y + sat + I(weight^4.8) + width:weight + \n",
      "    width:y + width:sat + width:I(weight^4.8) + weight:y + weight:I(weight^4.8) + \n",
      "    y:I(weight^4.8) + sat:I(weight^4.8)\n",
      "\n",
      "                       Df Deviance    AIC\n",
      "- y:I(weight^4.8)       1   40.878 548.10\n",
      "- width:sat             1   40.897 548.12\n",
      "- weight:y              1   40.898 548.12\n",
      "- width:y               1   40.902 548.12\n",
      "- sat:I(weight^4.8)     1   41.021 548.24\n",
      "- width:I(weight^4.8)   1   41.281 548.50\n",
      "- weight:I(weight^4.8)  1   41.544 548.76\n",
      "- width:weight          1   41.584 548.80\n",
      "<none>                      40.874 550.09\n",
      "- color                 3   50.990 554.21\n",
      "\n",
      "Step:  AIC=548.1\n",
      "spine ~ color + width + weight + y + sat + I(weight^4.8) + width:weight + \n",
      "    width:y + width:sat + width:I(weight^4.8) + weight:y + weight:I(weight^4.8) + \n",
      "    sat:I(weight^4.8)\n",
      "\n",
      "                       Df Deviance    AIC\n",
      "- width:sat             1   40.897 546.12\n",
      "- weight:y              1   40.902 546.12\n",
      "- width:y               1   40.910 546.13\n",
      "- sat:I(weight^4.8)     1   41.033 546.25\n",
      "- width:I(weight^4.8)   1   41.354 546.57\n",
      "- weight:I(weight^4.8)  1   41.596 546.81\n",
      "- width:weight          1   41.619 546.84\n",
      "<none>                      40.878 548.10\n",
      "- color                 3   51.028 552.25\n",
      "\n",
      "Step:  AIC=546.12\n",
      "spine ~ color + width + weight + y + sat + I(weight^4.8) + width:weight + \n",
      "    width:y + width:I(weight^4.8) + weight:y + weight:I(weight^4.8) + \n",
      "    sat:I(weight^4.8)\n",
      "\n",
      "                       Df Deviance    AIC\n",
      "- weight:y              1   40.951 544.17\n",
      "- width:y               1   40.997 544.22\n",
      "- sat:I(weight^4.8)     1   41.228 544.45\n",
      "- width:I(weight^4.8)   1   41.367 544.59\n",
      "- width:weight          1   41.622 544.84\n",
      "- weight:I(weight^4.8)  1   41.700 544.92\n",
      "<none>                      40.897 546.12\n",
      "- color                 3   51.127 550.35\n",
      "\n",
      "Step:  AIC=544.17\n",
      "spine ~ color + width + weight + y + sat + I(weight^4.8) + width:weight + \n",
      "    width:y + width:I(weight^4.8) + weight:I(weight^4.8) + sat:I(weight^4.8)\n",
      "\n",
      "                       Df Deviance    AIC\n",
      "- width:y               1   41.002 542.22\n",
      "- sat:I(weight^4.8)     1   41.340 542.56\n",
      "- width:I(weight^4.8)   1   41.411 542.63\n",
      "- width:weight          1   41.627 542.85\n",
      "- weight:I(weight^4.8)  1   41.700 542.92\n",
      "<none>                      40.951 544.17\n",
      "- color                 3   51.127 548.35\n",
      "\n",
      "Step:  AIC=542.22\n",
      "spine ~ color + width + weight + y + sat + I(weight^4.8) + width:weight + \n",
      "    width:I(weight^4.8) + weight:I(weight^4.8) + sat:I(weight^4.8)\n",
      "\n",
      "                       Df Deviance    AIC\n",
      "- sat:I(weight^4.8)     1   41.340 540.56\n",
      "- y                     1   41.410 540.63\n",
      "- width:I(weight^4.8)   1   41.502 540.72\n",
      "- width:weight          1   41.639 540.86\n",
      "- weight:I(weight^4.8)  1   41.800 541.02\n",
      "<none>                      41.002 542.22\n",
      "- color                 3   51.128 546.35\n",
      "\n",
      "Step:  AIC=540.56\n",
      "spine ~ color + width + weight + y + sat + I(weight^4.8) + width:weight + \n",
      "    width:I(weight^4.8) + weight:I(weight^4.8)\n",
      "\n",
      "                       Df Deviance    AIC\n",
      "- sat                   1   41.444 538.66\n",
      "- y                     1   41.544 538.76\n",
      "- width:I(weight^4.8)   1   42.015 539.23\n",
      "- width:weight          1   42.142 539.36\n",
      "- weight:I(weight^4.8)  1   42.478 539.70\n",
      "<none>                      41.340 540.56\n",
      "- color                 3   51.878 545.10\n"
     ]
    },
    {
     "name": "stdout",
     "output_type": "stream",
     "text": [
      "\n",
      "Step:  AIC=538.66\n",
      "spine ~ color + width + weight + y + I(weight^4.8) + width:weight + \n",
      "    width:I(weight^4.8) + weight:I(weight^4.8)\n",
      "\n",
      "                       Df Deviance    AIC\n",
      "- y                     1   41.546 536.76\n",
      "- width:I(weight^4.8)   1   42.103 537.32\n",
      "- width:weight          1   42.247 537.47\n",
      "- weight:I(weight^4.8)  1   42.570 537.79\n",
      "<none>                      41.444 538.66\n",
      "- color                 3   52.133 543.35\n",
      "\n",
      "Step:  AIC=536.76\n",
      "spine ~ color + width + weight + I(weight^4.8) + width:weight + \n",
      "    width:I(weight^4.8) + weight:I(weight^4.8)\n",
      "\n",
      "                       Df Deviance    AIC\n",
      "- width:I(weight^4.8)   1   42.251 535.47\n",
      "- width:weight          1   42.406 535.63\n",
      "- weight:I(weight^4.8)  1   42.745 535.96\n",
      "<none>                      41.546 536.76\n",
      "- color                 3   52.135 541.35\n",
      "\n",
      "Step:  AIC=535.47\n",
      "spine ~ color + width + weight + I(weight^4.8) + width:weight + \n",
      "    weight:I(weight^4.8)\n",
      "\n",
      "                       Df Deviance    AIC\n",
      "- width:weight          1   42.410 533.63\n",
      "- weight:I(weight^4.8)  1   43.078 534.30\n",
      "<none>                      42.251 535.47\n",
      "- color                 3   52.929 540.15\n",
      "\n",
      "Step:  AIC=533.63\n",
      "spine ~ color + width + weight + I(weight^4.8) + weight:I(weight^4.8)\n",
      "\n",
      "                       Df Deviance    AIC\n",
      "- width                 1   42.836 532.05\n",
      "- weight:I(weight^4.8)  1   43.162 532.38\n",
      "<none>                      42.410 533.63\n",
      "- color                 3   53.068 538.29\n",
      "\n",
      "Step:  AIC=532.05\n",
      "spine ~ color + weight + I(weight^4.8) + weight:I(weight^4.8)\n",
      "\n",
      "                       Df Deviance    AIC\n",
      "- weight:I(weight^4.8)  1   43.395 530.61\n",
      "<none>                      42.836 532.05\n",
      "- color                 3   53.270 536.49\n",
      "\n",
      "Step:  AIC=530.61\n",
      "spine ~ color + weight + I(weight^4.8)\n",
      "\n",
      "                Df Deviance    AIC\n",
      "- weight         1   43.857 529.08\n",
      "- I(weight^4.8)  1   45.302 530.52\n",
      "<none>               43.395 530.61\n",
      "- color          3   53.559 534.78\n",
      "\n",
      "Step:  AIC=529.08\n",
      "spine ~ color + I(weight^4.8)\n",
      "\n",
      "                Df Deviance    AIC\n",
      "- I(weight^4.8)  1   45.604 528.82\n",
      "<none>               43.857 529.08\n",
      "- color          3   53.573 532.79\n",
      "\n",
      "Step:  AIC=528.82\n",
      "spine ~ color\n",
      "\n",
      "        Df Deviance    AIC\n",
      "<none>       45.604 528.82\n",
      "- color  3   56.157 533.38\n"
     ]
    },
    {
     "data": {
      "text/plain": [
       "\n",
       "Call:\n",
       "glm(formula = spine ~ color, family = poisson(link = log), data = data.raw)\n",
       "\n",
       "Deviance Residuals: \n",
       "    Min       1Q   Median       3Q      Max  \n",
       "-1.2740  -0.2725   0.1347   0.3656   1.2378  \n",
       "\n",
       "Coefficients:\n",
       "            Estimate Std. Error z value Pr(>|z|)   \n",
       "(Intercept)   0.2877     0.2500   1.151  0.24984   \n",
       "color2        0.5922     0.2586   2.290  0.02202 * \n",
       "color3        0.7321     0.2659   2.754  0.00589 **\n",
       "color4        0.7644     0.2800   2.731  0.00632 **\n",
       "---\n",
       "Signif. codes:  0 '***' 0.001 '**' 0.01 '*' 0.05 '.' 0.1 ' ' 1\n",
       "\n",
       "(Dispersion parameter for poisson family taken to be 1)\n",
       "\n",
       "    Null deviance: 56.157  on 172  degrees of freedom\n",
       "Residual deviance: 45.604  on 169  degrees of freedom\n",
       "AIC: 528.82\n",
       "\n",
       "Number of Fisher Scoring iterations: 4\n"
      ]
     },
     "metadata": {},
     "output_type": "display_data"
    },
    {
     "name": "stdout",
     "output_type": "stream",
     "text": [
      "Likelihood ratio test\n",
      "\n",
      "Model 1: spine ~ color\n",
      "Model 2: spine ~ color\n",
      "  #Df  LogLik Df Chisq Pr(>Chisq)\n",
      "1   4 -260.41                    \n",
      "2   4 -260.41  0     0          1\n"
     ]
    },
    {
     "data": {
      "text/html": [
       "0.187917789554224"
      ],
      "text/latex": [
       "0.187917789554224"
      ],
      "text/markdown": [
       "0.187917789554224"
      ],
      "text/plain": [
       "[1] 0.1879178"
      ]
     },
     "metadata": {},
     "output_type": "display_data"
    }
   ],
   "source": [
    "model.all_variables.second_order = glm(spine ~ (color + width + weight + y + sat + I(weight^4.8))^2, family = poisson(link = log), data = data.raw)\n",
    "model.all_variables.second_order.backward =  stepAIC(model.all_variables.second_order, direction = \"backward\")\n",
    "summary(model.all_variables.second_order.backward)\n",
    "print(lrtest(model.all_variables.second_order.backward, model.color))\n",
    "pseudo_R_squared(model.all_variables.second_order.backward)"
   ]
  },
  {
   "cell_type": "markdown",
   "metadata": {},
   "source": [
    "### Forward and Backward selection"
   ]
  },
  {
   "cell_type": "code",
   "execution_count": 31,
   "metadata": {},
   "outputs": [
    {
     "name": "stdout",
     "output_type": "stream",
     "text": [
      "Start:  AIC=535.82\n",
      "spine ~ sat + y + weight + width + color\n",
      "\n",
      "         Df Deviance    AIC\n",
      "- sat     1   44.712 533.93\n",
      "- width   1   44.810 534.03\n",
      "- y       1   44.991 534.21\n",
      "- weight  1   45.135 534.35\n",
      "<none>        44.605 535.82\n",
      "- color   3   54.401 539.62\n",
      "\n",
      "Step:  AIC=533.93\n",
      "spine ~ y + weight + width + color\n",
      "\n",
      "         Df Deviance    AIC\n",
      "- width   1   44.941 532.16\n",
      "- y       1   45.001 532.22\n",
      "- weight  1   45.326 532.55\n",
      "<none>        44.712 533.93\n",
      "+ sat     1   44.605 535.82\n",
      "- color   3   54.637 537.86\n",
      "\n",
      "Step:  AIC=532.16\n",
      "spine ~ y + weight + color\n",
      "\n",
      "         Df Deviance    AIC\n",
      "- y       1   45.302 530.52\n",
      "- weight  1   45.467 530.69\n",
      "<none>        44.941 532.16\n",
      "+ width   1   44.712 533.93\n",
      "+ sat     1   44.810 534.03\n",
      "- color   3   54.756 535.98\n",
      "\n",
      "Step:  AIC=530.52\n",
      "spine ~ weight + color\n",
      "\n",
      "         Df Deviance    AIC\n",
      "- weight  1   45.604 528.82\n",
      "<none>        45.302 530.52\n",
      "+ y       1   44.941 532.16\n",
      "+ width   1   45.001 532.22\n",
      "+ sat     1   45.289 532.51\n",
      "- color   3   54.833 534.05\n",
      "\n",
      "Step:  AIC=528.82\n",
      "spine ~ color\n",
      "\n",
      "         Df Deviance    AIC\n",
      "<none>        45.604 528.82\n",
      "+ weight  1   45.302 530.52\n",
      "+ y       1   45.467 530.69\n",
      "+ width   1   45.558 530.78\n",
      "+ sat     1   45.597 530.82\n",
      "- color   3   56.157 533.38\n"
     ]
    },
    {
     "data": {
      "text/plain": [
       "\n",
       "Call:\n",
       "glm(formula = spine ~ color, family = poisson(link = log), data = data.raw)\n",
       "\n",
       "Deviance Residuals: \n",
       "    Min       1Q   Median       3Q      Max  \n",
       "-1.2740  -0.2725   0.1347   0.3656   1.2378  \n",
       "\n",
       "Coefficients:\n",
       "            Estimate Std. Error z value Pr(>|z|)   \n",
       "(Intercept)   0.2877     0.2500   1.151  0.24984   \n",
       "color2        0.5922     0.2586   2.290  0.02202 * \n",
       "color3        0.7321     0.2659   2.754  0.00589 **\n",
       "color4        0.7644     0.2800   2.731  0.00632 **\n",
       "---\n",
       "Signif. codes:  0 '***' 0.001 '**' 0.01 '*' 0.05 '.' 0.1 ' ' 1\n",
       "\n",
       "(Dispersion parameter for poisson family taken to be 1)\n",
       "\n",
       "    Null deviance: 56.157  on 172  degrees of freedom\n",
       "Residual deviance: 45.604  on 169  degrees of freedom\n",
       "AIC: 528.82\n",
       "\n",
       "Number of Fisher Scoring iterations: 4\n"
      ]
     },
     "metadata": {},
     "output_type": "display_data"
    },
    {
     "name": "stdout",
     "output_type": "stream",
     "text": [
      "Likelihood ratio test\n",
      "\n",
      "Model 1: spine ~ color\n",
      "Model 2: spine ~ color\n",
      "  #Df  LogLik Df Chisq Pr(>Chisq)\n",
      "1   4 -260.41                    \n",
      "2   4 -260.41  0     0          1\n"
     ]
    },
    {
     "data": {
      "text/html": [
       "0.187917789554224"
      ],
      "text/latex": [
       "0.187917789554224"
      ],
      "text/markdown": [
       "0.187917789554224"
      ],
      "text/plain": [
       "[1] 0.1879178"
      ]
     },
     "metadata": {},
     "output_type": "display_data"
    }
   ],
   "source": [
    "model.all_variables.forwardbackward =  stepAIC(model.all_variables, direction = \"both\")\n",
    "summary(model.all_variables.forwardbackward)\n",
    "print(lrtest(model.all_variables.forwardbackward, model.color))\n",
    "pseudo_R_squared(model.all_variables.forwardbackward)"
   ]
  },
  {
   "cell_type": "markdown",
   "metadata": {},
   "source": [
    "### Check for overdispersion"
   ]
  },
  {
   "cell_type": "code",
   "execution_count": 118,
   "metadata": {},
   "outputs": [
    {
     "name": "stdout",
     "output_type": "stream",
     "text": [
      "\n",
      "\tOverdispersion test\n",
      "\n",
      "data:  model.color\n",
      "z = -17.795, p-value = 1\n",
      "alternative hypothesis: true alpha is greater than 0\n",
      "sample estimates:\n",
      "     alpha \n",
      "-0.7716545 \n",
      "\n"
     ]
    }
   ],
   "source": [
    "library(AER)\n",
    "\n",
    "print(dispersiontest(model.color,trafo=1))"
   ]
  },
  {
   "cell_type": "markdown",
   "metadata": {},
   "source": [
    "No significant sign of overdispersion."
   ]
  },
  {
   "cell_type": "markdown",
   "metadata": {},
   "source": [
    "### Cross Validation"
   ]
  },
  {
   "cell_type": "code",
   "execution_count": 111,
   "metadata": {},
   "outputs": [
    {
     "data": {
      "text/html": [
       "'spine ~ sat + y + weight + width + color'"
      ],
      "text/latex": [
       "'spine \\textasciitilde{} sat + y + weight + width + color'"
      ],
      "text/markdown": [
       "'spine ~ sat + y + weight + width + color'"
      ],
      "text/plain": [
       "[1] \"spine ~ sat + y + weight + width + color\""
      ]
     },
     "metadata": {},
     "output_type": "display_data"
    },
    {
     "data": {
      "text/html": [
       "'spine ~ color'"
      ],
      "text/latex": [
       "'spine \\textasciitilde{} color'"
      ],
      "text/markdown": [
       "'spine ~ color'"
      ],
      "text/plain": [
       "[1] \"spine ~ color\""
      ]
     },
     "metadata": {},
     "output_type": "display_data"
    },
    {
     "data": {
      "text/html": [
       "'spine ~ sat'"
      ],
      "text/latex": [
       "'spine \\textasciitilde{} sat'"
      ],
      "text/markdown": [
       "'spine ~ sat'"
      ],
      "text/plain": [
       "[1] \"spine ~ sat\""
      ]
     },
     "metadata": {},
     "output_type": "display_data"
    },
    {
     "data": {
      "text/html": [
       "'spine ~ width'"
      ],
      "text/latex": [
       "'spine \\textasciitilde{} width'"
      ],
      "text/markdown": [
       "'spine ~ width'"
      ],
      "text/plain": [
       "[1] \"spine ~ width\""
      ]
     },
     "metadata": {},
     "output_type": "display_data"
    },
    {
     "data": {
      "text/html": [
       "'spine ~ weight'"
      ],
      "text/latex": [
       "'spine \\textasciitilde{} weight'"
      ],
      "text/markdown": [
       "'spine ~ weight'"
      ],
      "text/plain": [
       "[1] \"spine ~ weight\""
      ]
     },
     "metadata": {},
     "output_type": "display_data"
    },
    {
     "data": {
      "text/html": [
       "'spine ~ color + width'"
      ],
      "text/latex": [
       "'spine \\textasciitilde{} color + width'"
      ],
      "text/markdown": [
       "'spine ~ color + width'"
      ],
      "text/plain": [
       "[1] \"spine ~ color + width\""
      ]
     },
     "metadata": {},
     "output_type": "display_data"
    },
    {
     "data": {
      "text/html": [
       "'spine ~ color + weight'"
      ],
      "text/latex": [
       "'spine \\textasciitilde{} color + weight'"
      ],
      "text/markdown": [
       "'spine ~ color + weight'"
      ],
      "text/plain": [
       "[1] \"spine ~ color + weight\""
      ]
     },
     "metadata": {},
     "output_type": "display_data"
    },
    {
     "data": {
      "text/html": [
       "'spine ~ color + sat'"
      ],
      "text/latex": [
       "'spine \\textasciitilde{} color + sat'"
      ],
      "text/markdown": [
       "'spine ~ color + sat'"
      ],
      "text/plain": [
       "[1] \"spine ~ color + sat\""
      ]
     },
     "metadata": {},
     "output_type": "display_data"
    },
    {
     "data": {
      "text/html": [
       "'spine ~ color + y'"
      ],
      "text/latex": [
       "'spine \\textasciitilde{} color + y'"
      ],
      "text/markdown": [
       "'spine ~ color + y'"
      ],
      "text/plain": [
       "[1] \"spine ~ color + y\""
      ]
     },
     "metadata": {},
     "output_type": "display_data"
    },
    {
     "data": {
      "text/html": [
       "'spine ~ (color + width + weight + y + sat + I(weight^4.8))^2'"
      ],
      "text/latex": [
       "'spine \\textasciitilde{} (color + width + weight + y + sat + I(weight\\textasciicircum{}4.8))\\textasciicircum{}2'"
      ],
      "text/markdown": [
       "'spine ~ (color + width + weight + y + sat + I(weight^4.8))^2'"
      ],
      "text/plain": [
       "[1] \"spine ~ (color + width + weight + y + sat + I(weight^4.8))^2\""
      ]
     },
     "metadata": {},
     "output_type": "display_data"
    }
   ],
   "source": [
    "as.character(formula(model.all_variables))\n",
    "as.character(formula(model.color))\n",
    "as.character(formula(model.sat)) \n",
    "as.character(formula(model.width)) \n",
    "as.character(formula(model.weight))\n",
    "as.character(formula(model.color.width))\n",
    "as.character(formula(model.color.weight))\n",
    "as.character(formula(model.color.sat))\n",
    "as.character(formula(model.color.y)) \n",
    "as.character(formula(model.all_variables.second_order))"
   ]
  },
  {
   "cell_type": "code",
   "execution_count": 33,
   "metadata": {},
   "outputs": [
    {
     "name": "stdout",
     "output_type": "stream",
     "text": [
      "$`spine ~ sat + y + weight + width + color`\n",
      "     rawCVError adjustedCVError \n",
      "          0.600           0.588 \n",
      "\n",
      "$`spine ~ color`\n",
      "     rawCVError adjustedCVError \n",
      "          0.572           0.568 \n",
      "\n",
      "$`spine ~ sat`\n",
      "     rawCVError adjustedCVError \n",
      "          0.696           0.686 \n",
      "\n",
      "$`spine ~ width`\n",
      "     rawCVError adjustedCVError \n",
      "          0.696           0.685 \n",
      "\n",
      "$`spine ~ weight`\n",
      "     rawCVError adjustedCVError \n",
      "          0.685           0.679 \n",
      "\n",
      "$`spine ~ color + width`\n",
      "     rawCVError adjustedCVError \n",
      "          0.589           0.577 \n",
      "\n",
      "$`spine ~ color + weight`\n",
      "     rawCVError adjustedCVError \n",
      "          0.585           0.577 \n",
      "\n",
      "$`spine ~ color + sat`\n",
      "     rawCVError adjustedCVError \n",
      "          0.584           0.572 \n",
      "\n",
      "$`spine ~ color + y`\n",
      "     rawCVError adjustedCVError \n",
      "          0.573           0.571 \n",
      "\n",
      "$`spine ~ y`\n",
      "     rawCVError adjustedCVError \n",
      "          0.693           0.690 \n",
      "\n",
      "$`spine ~ weight + weight:color`\n",
      "     rawCVError adjustedCVError \n",
      "          0.585           0.581 \n",
      "\n",
      "$`spine ~ (color + width + weight + y + sat + I(weight^4.8))^2`\n",
      "     rawCVError adjustedCVError \n",
      "          0.935           0.768 \n",
      "\n"
     ]
    }
   ],
   "source": [
    "require(formula.tools)\n",
    "require(boot)\n",
    "options(warn=-1)\n",
    "\n",
    "\n",
    "models <- list( 'spine ~ sat + y + weight + width + color' = model.all_variables,\n",
    "                'spine ~ color' = model.color, \n",
    "                'spine ~ sat' = model.sat, \n",
    "                'spine ~ width' = model.width, \n",
    "                'spine ~ weight' = model.weight, \n",
    "                'spine ~ color + width' = model.color.width,\n",
    "                'spine ~ color + weight' = model.color.weight, \n",
    "                'spine ~ color + sat' = model.color.sat, \n",
    "                'spine ~ color + y' = model.color.y, \n",
    "                'spine ~ y' = model.y,\n",
    "                'spine ~ weight + weight:color' = model.weight.colorweight,\n",
    "                'spine ~ (color + width + weight + y + sat + I(weight^4.8))^2' = model.all_variables.second_order)\n",
    "\n",
    "crossValidation <- function(mod) {\n",
    "    set.seed(12345)\n",
    "    rawError = signif(cv.glm(data.raw[, 2:7], mod, K = 10)$delta[1], 3)\n",
    "    adjustedError = signif(cv.glm(data.raw[, 2:7], mod, K = 10)$delta[2], 3)\n",
    "    c(rawCVError=rawError, adjustedCVError=adjustedError)\n",
    "}\n",
    "\n",
    "print(sapply(models, crossValidation, simplify = FALSE))\n"
   ]
  },
  {
   "cell_type": "markdown",
   "metadata": {},
   "source": [
    "### Exhaustive enumeration of models"
   ]
  },
  {
   "cell_type": "code",
   "execution_count": 145,
   "metadata": {},
   "outputs": [
    {
     "name": "stdout",
     "output_type": "stream",
     "text": [
      "Initialization...\n",
      "TASK: Exhaustive screening of candidate set.\n",
      "Fitting...\n",
      "\n",
      "After 50 models:\n",
      "Best model: spine~1+weight+color:weight\n",
      "Crit= 530.865185465815\n",
      "Mean crit= 536.592348008599\n",
      "\n",
      "After 100 models:\n",
      "Best model: spine~1+weight+color:weight\n",
      "Crit= 530.865185465815\n",
      "Mean crit= 536.924003934236\n",
      "\n",
      "After 150 models:\n",
      "Best model: spine~1+weight+color:weight\n",
      "Crit= 530.865185465815\n",
      "Mean crit= 536.397767811786\n",
      "\n",
      "After 200 models:\n",
      "Best model: spine~1+weight+color:weight\n",
      "Crit= 530.865185465815\n",
      "Mean crit= 536.209947026705\n",
      "\n",
      "After 250 models:\n",
      "Best model: spine~1+weight+color:weight\n",
      "Crit= 530.865185465815\n",
      "Mean crit= 535.519129220478\n",
      "\n",
      "After 300 models:\n",
      "Best model: spine~1+weight+color:weight\n",
      "Crit= 530.865185465815\n",
      "Mean crit= 535.20431737767\n",
      "\n",
      "After 350 models:\n",
      "Best model: spine~1+weight+color:weight\n",
      "Crit= 530.865185465815\n",
      "Mean crit= 535.170284637021\n",
      "\n",
      "After 400 models:\n",
      "Best model: spine~1+weight+color:weight\n",
      "Crit= 530.865185465815\n",
      "Mean crit= 534.85516903109\n",
      "\n",
      "After 450 models:\n",
      "Best model: spine~1+weight+color:weight\n",
      "Crit= 530.865185465815\n",
      "Mean crit= 534.77165477153\n",
      "\n",
      "After 500 models:\n",
      "Best model: spine~1+weight+color:weight\n",
      "Crit= 530.865185465815\n",
      "Mean crit= 534.737672737573\n",
      "\n",
      "After 550 models:\n",
      "Best model: spine~1+weight+color:weight\n",
      "Crit= 530.865185465815\n",
      "Mean crit= 534.696466145519\n",
      "\n",
      "After 600 models:\n",
      "Best model: spine~1+weight+color:weight\n",
      "Crit= 530.865185465815\n",
      "Mean crit= 534.679639505836\n",
      "\n",
      "After 650 models:\n",
      "Best model: spine~1+weight+color:weight\n",
      "Crit= 530.865185465815\n",
      "Mean crit= 534.657158782923\n",
      "\n",
      "After 700 models:\n",
      "Best model: spine~1+weight+color:weight\n",
      "Crit= 530.865185465815\n",
      "Mean crit= 534.657158782923\n",
      "\n",
      "After 750 models:\n",
      "Best model: spine~1+weight+color:weight\n",
      "Crit= 530.865185465815\n",
      "Mean crit= 534.657158782923\n",
      "\n",
      "After 800 models:\n",
      "Best model: spine~1+weight+color:weight\n",
      "Crit= 530.865185465815\n",
      "Mean crit= 534.657158782923\n",
      "\n",
      "After 850 models:\n",
      "Best model: spine~1+weight+color:weight\n",
      "Crit= 530.865185465815\n",
      "Mean crit= 534.657158782923\n",
      "\n",
      "After 900 models:\n",
      "Best model: spine~1+weight+color:weight\n",
      "Crit= 530.865185465815\n",
      "Mean crit= 534.657158782923\n",
      "\n",
      "After 950 models:\n",
      "Best model: spine~1+weight+color:weight\n",
      "Crit= 530.865185465815\n",
      "Mean crit= 534.657158782923\n",
      "\n",
      "After 1000 models:\n",
      "Best model: spine~1+weight+color:weight\n",
      "Crit= 530.865185465815\n",
      "Mean crit= 534.657158782923\n",
      "\n",
      "After 1050 models:\n",
      "Best model: spine~1+weight+color:weight\n",
      "Crit= 530.865185465815\n",
      "Mean crit= 534.649155197106\n",
      "\n",
      "After 1100 models:\n",
      "Best model: spine~1+weight+color:weight\n",
      "Crit= 530.865185465815\n",
      "Mean crit= 534.573703335842\n",
      "\n",
      "After 1150 models:\n",
      "Best model: spine~1+weight+color:weight\n",
      "Crit= 530.865185465815\n",
      "Mean crit= 534.54659329977\n",
      "\n",
      "After 1200 models:\n",
      "Best model: spine~1+weight+color:weight\n",
      "Crit= 530.865185465815\n",
      "Mean crit= 534.533934217701\n",
      "\n",
      "After 1250 models:\n",
      "Best model: spine~1+weight+color:weight\n",
      "Crit= 530.865185465815\n",
      "Mean crit= 534.502150919668\n",
      "\n",
      "After 1300 models:\n",
      "Best model: spine~1+weight+color:weight\n",
      "Crit= 530.865185465815\n",
      "Mean crit= 534.441671390719\n",
      "\n",
      "After 1350 models:\n",
      "Best model: spine~1+weight+color:weight\n",
      "Crit= 530.865185465815\n",
      "Mean crit= 534.432310699276\n",
      "\n",
      "After 1400 models:\n",
      "Best model: spine~1+weight+color:weight\n",
      "Crit= 530.865185465815\n",
      "Mean crit= 534.432310699276\n",
      "\n",
      "After 1450 models:\n",
      "Best model: spine~1+weight+color:weight\n",
      "Crit= 530.865185465815\n",
      "Mean crit= 534.402431962529\n",
      "\n",
      "After 1500 models:\n",
      "Best model: spine~1+weight+color:weight\n",
      "Crit= 530.865185465815\n",
      "Mean crit= 534.402431962529\n",
      "\n",
      "After 1550 models:\n",
      "Best model: spine~1+weight+color:weight\n",
      "Crit= 530.865185465815\n",
      "Mean crit= 534.402431962529\n",
      "\n",
      "After 1600 models:\n",
      "Best model: spine~1+weight+color:weight\n",
      "Crit= 530.865185465815\n",
      "Mean crit= 534.402431962529\n",
      "\n",
      "After 1650 models:\n",
      "Best model: spine~1+weight+color:weight\n",
      "Crit= 530.865185465815\n",
      "Mean crit= 534.402431962529\n",
      "\n",
      "After 1700 models:\n",
      "Best model: spine~1+weight+color:weight\n",
      "Crit= 530.865185465815\n",
      "Mean crit= 534.402431962529\n",
      "\n",
      "After 1750 models:\n",
      "Best model: spine~1+weight+color:weight\n",
      "Crit= 530.865185465815\n",
      "Mean crit= 534.402431962529\n",
      "\n",
      "After 1800 models:\n",
      "Best model: spine~1+weight+color:weight\n",
      "Crit= 530.865185465815\n",
      "Mean crit= 534.402431962529\n",
      "\n",
      "After 1850 models:\n",
      "Best model: spine~1+weight+color:weight\n",
      "Crit= 530.865185465815\n",
      "Mean crit= 534.402431962529\n",
      "\n",
      "After 1900 models:\n",
      "Best model: spine~1+weight+color:weight\n",
      "Crit= 530.865185465815\n",
      "Mean crit= 534.402431962529\n",
      "\n",
      "After 1950 models:\n",
      "Best model: spine~1+weight+color:weight\n",
      "Crit= 530.865185465815\n",
      "Mean crit= 534.402431962529\n",
      "\n",
      "After 2000 models:\n",
      "Best model: spine~1+weight+color:weight\n",
      "Crit= 530.865185465815\n",
      "Mean crit= 534.402431962529\n",
      "\n",
      "After 2050 models:\n",
      "Best model: spine~1+weight+color:weight\n",
      "Crit= 530.865185465815\n",
      "Mean crit= 534.402431962529\n",
      "\n",
      "After 2100 models:\n",
      "Best model: spine~1+color\n",
      "Crit= 529.060923973788\n",
      "Mean crit= 533.8843572659\n",
      "\n",
      "After 2150 models:\n",
      "Best model: spine~1+color\n",
      "Crit= 529.060923973788\n",
      "Mean crit= 533.729039694002\n",
      "\n",
      "After 2200 models:\n",
      "Best model: spine~1+color\n",
      "Crit= 529.060923973788\n",
      "Mean crit= 533.70971076664\n",
      "\n",
      "After 2250 models:\n",
      "Best model: spine~1+color\n",
      "Crit= 529.060923973788\n",
      "Mean crit= 533.70971076664\n",
      "\n",
      "After 2300 models:\n",
      "Best model: spine~1+color\n",
      "Crit= 529.060923973788\n",
      "Mean crit= 533.577530905249\n",
      "\n",
      "After 2350 models:\n",
      "Best model: spine~1+color\n",
      "Crit= 529.060923973788\n",
      "Mean crit= 533.537063706921\n",
      "\n",
      "After 2400 models:\n",
      "Best model: spine~1+color\n",
      "Crit= 529.060923973788\n",
      "Mean crit= 533.537063706921\n",
      "\n",
      "After 2450 models:\n",
      "Best model: spine~1+color\n",
      "Crit= 529.060923973788\n",
      "Mean crit= 533.500429959035\n",
      "\n",
      "After 2500 models:\n",
      "Best model: spine~1+color\n",
      "Crit= 529.060923973788\n",
      "Mean crit= 533.50005801318\n",
      "\n",
      "After 2550 models:\n",
      "Best model: spine~1+color\n",
      "Crit= 529.060923973788\n",
      "Mean crit= 533.498407398592\n",
      "\n",
      "After 2600 models:\n",
      "Best model: spine~1+color\n",
      "Crit= 529.060923973788\n",
      "Mean crit= 533.498407398592\n",
      "\n",
      "After 2650 models:\n",
      "Best model: spine~1+color\n",
      "Crit= 529.060923973788\n",
      "Mean crit= 533.498407398592\n",
      "\n",
      "After 2700 models:\n",
      "Best model: spine~1+color\n",
      "Crit= 529.060923973788\n",
      "Mean crit= 533.498407398592\n",
      "\n",
      "After 2750 models:\n",
      "Best model: spine~1+color\n",
      "Crit= 529.060923973788\n",
      "Mean crit= 533.498407398592\n",
      "\n",
      "After 2800 models:\n",
      "Best model: spine~1+color\n",
      "Crit= 529.060923973788\n",
      "Mean crit= 533.498407398592\n",
      "\n",
      "After 2850 models:\n",
      "Best model: spine~1+color\n",
      "Crit= 529.060923973788\n",
      "Mean crit= 533.498407398592\n",
      "\n",
      "After 2900 models:\n",
      "Best model: spine~1+color\n",
      "Crit= 529.060923973788\n",
      "Mean crit= 533.498407398592\n",
      "\n",
      "After 2950 models:\n",
      "Best model: spine~1+color\n",
      "Crit= 529.060923973788\n",
      "Mean crit= 533.498407398592\n",
      "\n",
      "After 3000 models:\n",
      "Best model: spine~1+color\n",
      "Crit= 529.060923973788\n",
      "Mean crit= 533.498407398592\n",
      "\n",
      "After 3050 models:\n",
      "Best model: spine~1+color\n",
      "Crit= 529.060923973788\n",
      "Mean crit= 533.498407398592\n",
      "\n",
      "After 3100 models:\n",
      "Best model: spine~1+color\n",
      "Crit= 529.060923973788\n",
      "Mean crit= 533.498407398592\n",
      "\n",
      "After 3150 models:\n",
      "Best model: spine~1+color\n",
      "Crit= 529.060923973788\n",
      "Mean crit= 533.356075068603\n",
      "\n",
      "After 3200 models:\n",
      "Best model: spine~1+color\n",
      "Crit= 529.060923973788\n",
      "Mean crit= 533.335356403746\n",
      "\n",
      "After 3250 models:\n",
      "Best model: spine~1+color\n",
      "Crit= 529.060923973788\n",
      "Mean crit= 533.333060716846\n",
      "\n",
      "After 3300 models:\n",
      "Best model: spine~1+color\n",
      "Crit= 529.060923973788\n",
      "Mean crit= 533.333060716846\n",
      "\n",
      "After 3350 models:\n",
      "Best model: spine~1+color\n",
      "Crit= 529.060923973788\n",
      "Mean crit= 533.333060716846\n",
      "\n",
      "After 3400 models:\n",
      "Best model: spine~1+color\n",
      "Crit= 529.060923973788\n",
      "Mean crit= 533.333060716846\n",
      "\n",
      "After 3450 models:\n",
      "Best model: spine~1+color\n",
      "Crit= 529.060923973788\n",
      "Mean crit= 533.333060716846\n",
      "\n",
      "After 3500 models:\n",
      "Best model: spine~1+color\n",
      "Crit= 529.060923973788\n",
      "Mean crit= 533.333060716846\n",
      "\n",
      "After 3550 models:\n",
      "Best model: spine~1+color\n",
      "Crit= 529.060923973788\n",
      "Mean crit= 533.312119455321\n",
      "\n",
      "After 3600 models:\n",
      "Best model: spine~1+color\n",
      "Crit= 529.060923973788\n",
      "Mean crit= 533.312119455321\n",
      "\n",
      "After 3650 models:\n",
      "Best model: spine~1+color\n",
      "Crit= 529.060923973788\n",
      "Mean crit= 533.312119455321\n",
      "\n",
      "After 3700 models:\n",
      "Best model: spine~1+color\n",
      "Crit= 529.060923973788\n",
      "Mean crit= 533.312119455321\n",
      "\n",
      "After 3750 models:\n",
      "Best model: spine~1+color\n",
      "Crit= 529.060923973788\n",
      "Mean crit= 533.312119455321\n",
      "\n",
      "After 3800 models:\n",
      "Best model: spine~1+color\n",
      "Crit= 529.060923973788\n",
      "Mean crit= 533.312119455321\n",
      "\n",
      "After 3850 models:\n",
      "Best model: spine~1+color\n",
      "Crit= 529.060923973788\n",
      "Mean crit= 533.311535208217\n",
      "\n",
      "After 3900 models:\n",
      "Best model: spine~1+color\n",
      "Crit= 529.060923973788\n",
      "Mean crit= 533.311535208217\n",
      "\n",
      "After 3950 models:\n",
      "Best model: spine~1+color\n",
      "Crit= 529.060923973788\n",
      "Mean crit= 533.311535208217\n"
     ]
    },
    {
     "name": "stdout",
     "output_type": "stream",
     "text": [
      "\n",
      "After 4000 models:\n",
      "Best model: spine~1+color\n",
      "Crit= 529.060923973788\n",
      "Mean crit= 533.311535208217\n",
      "\n",
      "After 4050 models:\n",
      "Best model: spine~1+color\n",
      "Crit= 529.060923973788\n",
      "Mean crit= 533.311535208217\n",
      "\n",
      "After 4100 models:\n",
      "Best model: spine~1+color\n",
      "Crit= 529.060923973788\n",
      "Mean crit= 533.311535208217\n",
      "\n",
      "After 4150 models:\n",
      "Best model: spine~1+color\n",
      "Crit= 529.060923973788\n",
      "Mean crit= 533.311535208217\n",
      "\n",
      "After 4200 models:\n",
      "Best model: spine~1+color\n",
      "Crit= 529.060923973788\n",
      "Mean crit= 533.311535208217\n",
      "\n",
      "After 4250 models:\n",
      "Best model: spine~1+color\n",
      "Crit= 529.060923973788\n",
      "Mean crit= 533.311535208217\n",
      "\n",
      "After 4300 models:\n",
      "Best model: spine~1+color\n",
      "Crit= 529.060923973788\n",
      "Mean crit= 533.311535208217\n",
      "\n",
      "After 4350 models:\n",
      "Best model: spine~1+color\n",
      "Crit= 529.060923973788\n",
      "Mean crit= 533.311535208217\n",
      "\n",
      "After 4400 models:\n",
      "Best model: spine~1+color\n",
      "Crit= 529.060923973788\n",
      "Mean crit= 533.311535208217\n",
      "\n",
      "After 4450 models:\n",
      "Best model: spine~1+color\n",
      "Crit= 529.060923973788\n",
      "Mean crit= 533.311535208217\n",
      "\n",
      "After 4500 models:\n",
      "Best model: spine~1+color\n",
      "Crit= 529.060923973788\n",
      "Mean crit= 533.311535208217\n",
      "\n",
      "After 4550 models:\n",
      "Best model: spine~1+color\n",
      "Crit= 529.060923973788\n",
      "Mean crit= 533.311535208217\n",
      "\n",
      "After 4600 models:\n",
      "Best model: spine~1+color\n",
      "Crit= 529.060923973788\n",
      "Mean crit= 533.311535208217\n",
      "\n",
      "After 4650 models:\n",
      "Best model: spine~1+color\n",
      "Crit= 529.060923973788\n",
      "Mean crit= 533.311535208217\n",
      "\n",
      "After 4700 models:\n",
      "Best model: spine~1+color\n",
      "Crit= 529.060923973788\n",
      "Mean crit= 533.311535208217\n",
      "\n",
      "After 4750 models:\n",
      "Best model: spine~1+color\n",
      "Crit= 529.060923973788\n",
      "Mean crit= 533.311535208217\n",
      "\n",
      "After 4800 models:\n",
      "Best model: spine~1+color\n",
      "Crit= 529.060923973788\n",
      "Mean crit= 533.311535208217\n",
      "\n",
      "After 4850 models:\n",
      "Best model: spine~1+color\n",
      "Crit= 529.060923973788\n",
      "Mean crit= 533.311535208217\n",
      "\n",
      "After 4900 models:\n",
      "Best model: spine~1+color\n",
      "Crit= 529.060923973788\n",
      "Mean crit= 533.311535208217\n",
      "\n",
      "After 4950 models:\n",
      "Best model: spine~1+color\n",
      "Crit= 529.060923973788\n",
      "Mean crit= 533.311535208217\n",
      "\n",
      "After 5000 models:\n",
      "Best model: spine~1+color\n",
      "Crit= 529.060923973788\n",
      "Mean crit= 533.311535208217\n",
      "\n",
      "After 5050 models:\n",
      "Best model: spine~1+color\n",
      "Crit= 529.060923973788\n",
      "Mean crit= 533.311535208217\n",
      "\n",
      "After 5100 models:\n",
      "Best model: spine~1+color\n",
      "Crit= 529.060923973788\n",
      "Mean crit= 533.311535208217\n",
      "\n",
      "After 5150 models:\n",
      "Best model: spine~1+color\n",
      "Crit= 529.060923973788\n",
      "Mean crit= 533.311535208217\n",
      "Completed.\n",
      "Initialization...\n",
      "TASK: Exhaustive screening of candidate set.\n",
      "Fitting...\n",
      "\n",
      "After 50 models:\n",
      "Best model: spine~1+weight+color:weight\n",
      "Crit= 530.505904028689\n",
      "Mean crit= 536.274946505494\n",
      "\n",
      "After 100 models:\n",
      "Best model: spine~1+weight+color:weight\n",
      "Crit= 530.505904028689\n",
      "Mean crit= 536.462021765085\n",
      "\n",
      "After 150 models:\n",
      "Best model: spine~1+weight+color:weight\n",
      "Crit= 530.505904028689\n",
      "Mean crit= 535.921258900688\n",
      "\n",
      "After 200 models:\n",
      "Best model: spine~1+weight+color:weight\n",
      "Crit= 530.505904028689\n",
      "Mean crit= 535.717137987019\n",
      "\n",
      "After 250 models:\n",
      "Best model: spine~1+weight+color:weight\n",
      "Crit= 530.505904028689\n",
      "Mean crit= 535.002577682271\n",
      "\n",
      "After 300 models:\n",
      "Best model: spine~1+weight+color:weight\n",
      "Crit= 530.505904028689\n",
      "Mean crit= 534.677730170719\n",
      "\n",
      "After 350 models:\n",
      "Best model: spine~1+weight+color:weight\n",
      "Crit= 530.505904028689\n",
      "Mean crit= 534.638221667749\n",
      "\n",
      "After 400 models:\n",
      "Best model: spine~1+weight+color:weight\n",
      "Crit= 530.505904028689\n",
      "Mean crit= 534.307165000222\n",
      "\n",
      "After 450 models:\n",
      "Best model: spine~1+weight+color:weight\n",
      "Crit= 530.505904028689\n",
      "Mean crit= 534.203034003725\n",
      "\n",
      "After 500 models:\n",
      "Best model: spine~1+weight+color:weight\n",
      "Crit= 530.505904028689\n",
      "Mean crit= 534.153928647493\n",
      "\n",
      "After 550 models:\n",
      "Best model: spine~1+weight+color:weight\n",
      "Crit= 530.505904028689\n",
      "Mean crit= 534.104291283062\n",
      "\n",
      "After 600 models:\n",
      "Best model: spine~1+weight+color:weight\n",
      "Crit= 530.505904028689\n",
      "Mean crit= 534.083468120811\n",
      "\n",
      "After 650 models:\n",
      "Best model: spine~1+weight+color:weight\n",
      "Crit= 530.505904028689\n",
      "Mean crit= 534.056855575144\n",
      "\n",
      "After 700 models:\n",
      "Best model: spine~1+weight+color:weight\n",
      "Crit= 530.505904028689\n",
      "Mean crit= 534.056855575144\n",
      "\n",
      "After 750 models:\n",
      "Best model: spine~1+weight+color:weight\n",
      "Crit= 530.505904028689\n",
      "Mean crit= 534.056855575144\n",
      "\n",
      "After 800 models:\n",
      "Best model: spine~1+weight+color:weight\n",
      "Crit= 530.505904028689\n",
      "Mean crit= 534.056855575144\n",
      "\n",
      "After 850 models:\n",
      "Best model: spine~1+weight+color:weight\n",
      "Crit= 530.505904028689\n",
      "Mean crit= 534.056855575144\n",
      "\n",
      "After 900 models:\n",
      "Best model: spine~1+weight+color:weight\n",
      "Crit= 530.505904028689\n",
      "Mean crit= 534.056855575144\n",
      "\n",
      "After 950 models:\n",
      "Best model: spine~1+weight+color:weight\n",
      "Crit= 530.505904028689\n",
      "Mean crit= 534.056855575144\n",
      "\n",
      "After 1000 models:\n",
      "Best model: spine~1+weight+color:weight\n",
      "Crit= 530.505904028689\n",
      "Mean crit= 534.056855575144\n",
      "\n",
      "After 1050 models:\n",
      "Best model: spine~1+weight+color:weight\n",
      "Crit= 530.505904028689\n",
      "Mean crit= 534.054647833435\n",
      "\n",
      "After 1100 models:\n",
      "Best model: spine~1+weight+color:weight\n",
      "Crit= 530.505904028689\n",
      "Mean crit= 533.979821624596\n",
      "\n",
      "After 1150 models:\n",
      "Best model: spine~1+weight+color:weight\n",
      "Crit= 530.505904028689\n",
      "Mean crit= 533.953313508326\n",
      "\n",
      "After 1200 models:\n",
      "Best model: spine~1+weight+color:weight\n",
      "Crit= 530.505904028689\n",
      "Mean crit= 533.940522041627\n",
      "\n",
      "After 1250 models:\n",
      "Best model: spine~1+weight+color:weight\n",
      "Crit= 530.505904028689\n",
      "Mean crit= 533.910598456526\n",
      "\n",
      "After 1300 models:\n",
      "Best model: spine~1+weight+color:weight\n",
      "Crit= 530.505904028689\n",
      "Mean crit= 533.843597221406\n",
      "\n",
      "After 1350 models:\n",
      "Best model: spine~1+weight+color:weight\n",
      "Crit= 530.505904028689\n",
      "Mean crit= 533.833120836578\n",
      "\n",
      "After 1400 models:\n",
      "Best model: spine~1+weight+color:weight\n",
      "Crit= 530.505904028689\n",
      "Mean crit= 533.833120836578\n",
      "\n",
      "After 1450 models:\n",
      "Best model: spine~1+weight+color:weight\n",
      "Crit= 530.505904028689\n",
      "Mean crit= 533.801435476592\n",
      "\n",
      "After 1500 models:\n",
      "Best model: spine~1+weight+color:weight\n",
      "Crit= 530.505904028689\n",
      "Mean crit= 533.801435476592\n",
      "\n",
      "After 1550 models:\n",
      "Best model: spine~1+weight+color:weight\n",
      "Crit= 530.505904028689\n",
      "Mean crit= 533.801435476592\n",
      "\n",
      "After 1600 models:\n",
      "Best model: spine~1+weight+color:weight\n",
      "Crit= 530.505904028689\n",
      "Mean crit= 533.801435476592\n",
      "\n",
      "After 1650 models:\n",
      "Best model: spine~1+weight+color:weight\n",
      "Crit= 530.505904028689\n",
      "Mean crit= 533.801435476592\n",
      "\n",
      "After 1700 models:\n",
      "Best model: spine~1+weight+color:weight\n",
      "Crit= 530.505904028689\n",
      "Mean crit= 533.801435476592\n",
      "\n",
      "After 1750 models:\n",
      "Best model: spine~1+weight+color:weight\n",
      "Crit= 530.505904028689\n",
      "Mean crit= 533.801435476592\n",
      "\n",
      "After 1800 models:\n",
      "Best model: spine~1+weight+color:weight\n",
      "Crit= 530.505904028689\n",
      "Mean crit= 533.801435476592\n",
      "\n",
      "After 1850 models:\n",
      "Best model: spine~1+weight+color:weight\n",
      "Crit= 530.505904028689\n",
      "Mean crit= 533.801435476592\n",
      "\n",
      "After 1900 models:\n",
      "Best model: spine~1+weight+color:weight\n",
      "Crit= 530.505904028689\n",
      "Mean crit= 533.801435476592\n",
      "\n",
      "After 1950 models:\n",
      "Best model: spine~1+weight+color:weight\n",
      "Crit= 530.505904028689\n",
      "Mean crit= 533.801435476592\n",
      "\n",
      "After 2000 models:\n",
      "Best model: spine~1+weight+color:weight\n",
      "Crit= 530.505904028689\n",
      "Mean crit= 533.801435476592\n",
      "\n",
      "After 2050 models:\n",
      "Best model: spine~1+weight+color:weight\n",
      "Crit= 530.505904028689\n",
      "Mean crit= 533.801435476592\n",
      "\n",
      "After 2100 models:\n",
      "Best model: spine~1+color\n",
      "Crit= 528.822828735692\n",
      "Mean crit= 533.306084783985\n",
      "\n",
      "After 2150 models:\n",
      "Best model: spine~1+color\n",
      "Crit= 528.822828735692\n",
      "Mean crit= 533.160770851969\n",
      "\n",
      "After 2200 models:\n",
      "Best model: spine~1+color\n",
      "Crit= 528.822828735692\n",
      "Mean crit= 533.142955615297\n",
      "\n",
      "After 2250 models:\n",
      "Best model: spine~1+color\n",
      "Crit= 528.822828735692\n",
      "Mean crit= 533.142955615297\n",
      "\n",
      "After 2300 models:\n",
      "Best model: spine~1+color\n",
      "Crit= 528.822828735692\n",
      "Mean crit= 533.019689613247\n",
      "\n",
      "After 2350 models:\n",
      "Best model: spine~1+color\n",
      "Crit= 528.822828735692\n",
      "Mean crit= 532.982268245521\n",
      "\n",
      "After 2400 models:\n",
      "Best model: spine~1+color\n",
      "Crit= 528.822828735692\n",
      "Mean crit= 532.982268245521\n",
      "\n",
      "After 2450 models:\n",
      "Best model: spine~1+color\n",
      "Crit= 528.822828735692\n",
      "Mean crit= 532.946888912046\n",
      "\n",
      "After 2500 models:\n",
      "Best model: spine~1+color\n",
      "Crit= 528.822828735692\n",
      "Mean crit= 532.946309798336\n",
      "\n",
      "After 2550 models:\n",
      "Best model: spine~1+color\n",
      "Crit= 528.822828735692\n",
      "Mean crit= 532.944463628289\n",
      "\n",
      "After 2600 models:\n",
      "Best model: spine~1+color\n",
      "Crit= 528.822828735692\n",
      "Mean crit= 532.944463628289\n",
      "\n",
      "After 2650 models:\n",
      "Best model: spine~1+color\n",
      "Crit= 528.822828735692\n",
      "Mean crit= 532.944463628289\n",
      "\n",
      "After 2700 models:\n",
      "Best model: spine~1+color\n",
      "Crit= 528.822828735692\n",
      "Mean crit= 532.944463628289\n"
     ]
    },
    {
     "name": "stdout",
     "output_type": "stream",
     "text": [
      "\n",
      "After 2750 models:\n",
      "Best model: spine~1+color\n",
      "Crit= 528.822828735692\n",
      "Mean crit= 532.944463628289\n",
      "\n",
      "After 2800 models:\n",
      "Best model: spine~1+color\n",
      "Crit= 528.822828735692\n",
      "Mean crit= 532.944463628289\n",
      "\n",
      "After 2850 models:\n",
      "Best model: spine~1+color\n",
      "Crit= 528.822828735692\n",
      "Mean crit= 532.944463628289\n",
      "\n",
      "After 2900 models:\n",
      "Best model: spine~1+color\n",
      "Crit= 528.822828735692\n",
      "Mean crit= 532.944463628289\n",
      "\n",
      "After 2950 models:\n",
      "Best model: spine~1+color\n",
      "Crit= 528.822828735692\n",
      "Mean crit= 532.944463628289\n",
      "\n",
      "After 3000 models:\n",
      "Best model: spine~1+color\n",
      "Crit= 528.822828735692\n",
      "Mean crit= 532.944463628289\n",
      "\n",
      "After 3050 models:\n",
      "Best model: spine~1+color\n",
      "Crit= 528.822828735692\n",
      "Mean crit= 532.944463628289\n",
      "\n",
      "After 3100 models:\n",
      "Best model: spine~1+color\n",
      "Crit= 528.822828735692\n",
      "Mean crit= 532.944463628289\n",
      "\n",
      "After 3150 models:\n",
      "Best model: spine~1+color\n",
      "Crit= 528.822828735692\n",
      "Mean crit= 532.812972247131\n",
      "\n",
      "After 3200 models:\n",
      "Best model: spine~1+color\n",
      "Crit= 528.822828735692\n",
      "Mean crit= 532.793650101872\n",
      "\n",
      "After 3250 models:\n",
      "Best model: spine~1+color\n",
      "Crit= 528.822828735692\n",
      "Mean crit= 532.791165473327\n",
      "\n",
      "After 3300 models:\n",
      "Best model: spine~1+color\n",
      "Crit= 528.822828735692\n",
      "Mean crit= 532.791165473327\n",
      "\n",
      "After 3350 models:\n",
      "Best model: spine~1+color\n",
      "Crit= 528.822828735692\n",
      "Mean crit= 532.791165473327\n",
      "\n",
      "After 3400 models:\n",
      "Best model: spine~1+color\n",
      "Crit= 528.822828735692\n",
      "Mean crit= 532.791165473327\n",
      "\n",
      "After 3450 models:\n",
      "Best model: spine~1+color\n",
      "Crit= 528.822828735692\n",
      "Mean crit= 532.791165473327\n",
      "\n",
      "After 3500 models:\n",
      "Best model: spine~1+color\n",
      "Crit= 528.822828735692\n",
      "Mean crit= 532.791165473327\n",
      "\n",
      "After 3550 models:\n",
      "Best model: spine~1+color\n",
      "Crit= 528.822828735692\n",
      "Mean crit= 532.771860330129\n",
      "\n",
      "After 3600 models:\n",
      "Best model: spine~1+color\n",
      "Crit= 528.822828735692\n",
      "Mean crit= 532.771860330129\n",
      "\n",
      "After 3650 models:\n",
      "Best model: spine~1+color\n",
      "Crit= 528.822828735692\n",
      "Mean crit= 532.771860330129\n",
      "\n",
      "After 3700 models:\n",
      "Best model: spine~1+color\n",
      "Crit= 528.822828735692\n",
      "Mean crit= 532.771860330129\n",
      "\n",
      "After 3750 models:\n",
      "Best model: spine~1+color\n",
      "Crit= 528.822828735692\n",
      "Mean crit= 532.771860330129\n",
      "\n",
      "After 3800 models:\n",
      "Best model: spine~1+color\n",
      "Crit= 528.822828735692\n",
      "Mean crit= 532.771860330129\n",
      "\n",
      "After 3850 models:\n",
      "Best model: spine~1+color\n",
      "Crit= 528.822828735692\n",
      "Mean crit= 532.771257709653\n",
      "\n",
      "After 3900 models:\n",
      "Best model: spine~1+color\n",
      "Crit= 528.822828735692\n",
      "Mean crit= 532.771257709653\n",
      "\n",
      "After 3950 models:\n",
      "Best model: spine~1+color\n",
      "Crit= 528.822828735692\n",
      "Mean crit= 532.771257709653\n",
      "\n",
      "After 4000 models:\n",
      "Best model: spine~1+color\n",
      "Crit= 528.822828735692\n",
      "Mean crit= 532.771257709653\n",
      "\n",
      "After 4050 models:\n",
      "Best model: spine~1+color\n",
      "Crit= 528.822828735692\n",
      "Mean crit= 532.771257709653\n",
      "\n",
      "After 4100 models:\n",
      "Best model: spine~1+color\n",
      "Crit= 528.822828735692\n",
      "Mean crit= 532.771257709653\n",
      "\n",
      "After 4150 models:\n",
      "Best model: spine~1+color\n",
      "Crit= 528.822828735692\n",
      "Mean crit= 532.771257709653\n",
      "\n",
      "After 4200 models:\n",
      "Best model: spine~1+color\n",
      "Crit= 528.822828735692\n",
      "Mean crit= 532.771257709653\n",
      "\n",
      "After 4250 models:\n",
      "Best model: spine~1+color\n",
      "Crit= 528.822828735692\n",
      "Mean crit= 532.771257709653\n",
      "\n",
      "After 4300 models:\n",
      "Best model: spine~1+color\n",
      "Crit= 528.822828735692\n",
      "Mean crit= 532.771257709653\n",
      "\n",
      "After 4350 models:\n",
      "Best model: spine~1+color\n",
      "Crit= 528.822828735692\n",
      "Mean crit= 532.771257709653\n",
      "\n",
      "After 4400 models:\n",
      "Best model: spine~1+color\n",
      "Crit= 528.822828735692\n",
      "Mean crit= 532.771257709653\n",
      "\n",
      "After 4450 models:\n",
      "Best model: spine~1+color\n",
      "Crit= 528.822828735692\n",
      "Mean crit= 532.771257709653\n",
      "\n",
      "After 4500 models:\n",
      "Best model: spine~1+color\n",
      "Crit= 528.822828735692\n",
      "Mean crit= 532.771257709653\n",
      "\n",
      "After 4550 models:\n",
      "Best model: spine~1+color\n",
      "Crit= 528.822828735692\n",
      "Mean crit= 532.771257709653\n",
      "\n",
      "After 4600 models:\n",
      "Best model: spine~1+color\n",
      "Crit= 528.822828735692\n",
      "Mean crit= 532.771257709653\n",
      "\n",
      "After 4650 models:\n",
      "Best model: spine~1+color\n",
      "Crit= 528.822828735692\n",
      "Mean crit= 532.771257709653\n",
      "\n",
      "After 4700 models:\n",
      "Best model: spine~1+color\n",
      "Crit= 528.822828735692\n",
      "Mean crit= 532.771257709653\n",
      "\n",
      "After 4750 models:\n",
      "Best model: spine~1+color\n",
      "Crit= 528.822828735692\n",
      "Mean crit= 532.771257709653\n",
      "\n",
      "After 4800 models:\n",
      "Best model: spine~1+color\n",
      "Crit= 528.822828735692\n",
      "Mean crit= 532.771257709653\n",
      "\n",
      "After 4850 models:\n",
      "Best model: spine~1+color\n",
      "Crit= 528.822828735692\n",
      "Mean crit= 532.771257709653\n",
      "\n",
      "After 4900 models:\n",
      "Best model: spine~1+color\n",
      "Crit= 528.822828735692\n",
      "Mean crit= 532.771257709653\n",
      "\n",
      "After 4950 models:\n",
      "Best model: spine~1+color\n",
      "Crit= 528.822828735692\n",
      "Mean crit= 532.771257709653\n",
      "\n",
      "After 5000 models:\n",
      "Best model: spine~1+color\n",
      "Crit= 528.822828735692\n",
      "Mean crit= 532.771257709653\n",
      "\n",
      "After 5050 models:\n",
      "Best model: spine~1+color\n",
      "Crit= 528.822828735692\n",
      "Mean crit= 532.771257709653\n",
      "\n",
      "After 5100 models:\n",
      "Best model: spine~1+color\n",
      "Crit= 528.822828735692\n",
      "Mean crit= 532.771257709653\n",
      "\n",
      "After 5150 models:\n",
      "Best model: spine~1+color\n",
      "Crit= 528.822828735692\n",
      "Mean crit= 532.771257709653\n",
      "Completed.\n"
     ]
    }
   ],
   "source": [
    "require(glmulti)\n",
    "\n",
    "bestaicc = glmulti(\"spine\", c(\"sat\", \"y\", \"weight\", \"width\", \"color\"), crit = \"aicc\", data.raw[, 2:7], plotty = FALSE, \n",
    "                   family = poisson)\n",
    "bestaic = glmulti(\"spine\", c(\"sat\", \"y\", \"weight\", \"width\", \"color\"), crit = \"aic\", data.raw[, 2:7], plotty = FALSE, \n",
    "                  family = poisson)"
   ]
  },
  {
   "cell_type": "code",
   "execution_count": 146,
   "metadata": {},
   "outputs": [
    {
     "name": "stdout",
     "output_type": "stream",
     "text": [
      "glmulti.analysis\n",
      "Method: h / Fitting: glm / IC used: aicc\n",
      "Level: 2 / Marginality: FALSE\n",
      "From 100 models:\n",
      "Best IC: 529.060923973788\n",
      "Best model:\n",
      "[1] \"spine ~ 1 + color\"\n",
      "Evidence weight: 0.0686065616531146\n",
      "Worst IC: 534.666367117624\n",
      "6 models within 2 IC units.\n",
      "88 models to reach 95% of evidence weight.\n"
     ]
    },
    {
     "data": {
      "text/html": [
       "<span style=white-space:pre-wrap>'                            '</span>"
      ],
      "text/latex": [
       "'                            '"
      ],
      "text/markdown": [
       "<span style=white-space:pre-wrap>'                            '</span>"
      ],
      "text/plain": [
       "[1] \"                            \""
      ]
     },
     "metadata": {},
     "output_type": "display_data"
    },
    {
     "name": "stdout",
     "output_type": "stream",
     "text": [
      "glmulti.analysis\n",
      "Method: h / Fitting: glm / IC used: aic\n",
      "Level: 2 / Marginality: FALSE\n",
      "From 100 models:\n",
      "Best IC: 528.822828735692\n",
      "Best model:\n",
      "[1] \"spine ~ 1 + color\"\n",
      "Evidence weight: 0.0608683831682908\n",
      "Worst IC: 533.988892819684\n",
      "11 models within 2 IC units.\n",
      "89 models to reach 95% of evidence weight.\n"
     ]
    }
   ],
   "source": [
    "print(bestaicc)\n",
    "\"                            \"\n",
    "print(bestaic)"
   ]
  },
  {
   "cell_type": "markdown",
   "metadata": {},
   "source": [
    "This confirms that **spine ~ color** is indeed the best model."
   ]
  },
  {
   "cell_type": "code",
   "execution_count": null,
   "metadata": {
    "collapsed": true
   },
   "outputs": [],
   "source": []
  }
 ],
 "metadata": {
  "kernelspec": {
   "display_name": "R",
   "language": "R",
   "name": "ir"
  },
  "language_info": {
   "codemirror_mode": "r",
   "file_extension": ".r",
   "mimetype": "text/x-r-source",
   "name": "R",
   "pygments_lexer": "r",
   "version": "3.5.0"
  },
  "varInspector": {
   "cols": {
    "lenName": 16,
    "lenType": 16,
    "lenVar": 40
   },
   "kernels_config": {
    "python": {
     "delete_cmd_postfix": "",
     "delete_cmd_prefix": "del ",
     "library": "var_list.py",
     "varRefreshCmd": "print(var_dic_list())"
    },
    "r": {
     "delete_cmd_postfix": ") ",
     "delete_cmd_prefix": "rm(",
     "library": "var_list.r",
     "varRefreshCmd": "cat(var_dic_list()) "
    }
   },
   "types_to_exclude": [
    "module",
    "function",
    "builtin_function_or_method",
    "instance",
    "_Feature"
   ],
   "window_display": false
  }
 },
 "nbformat": 4,
 "nbformat_minor": 2
}
