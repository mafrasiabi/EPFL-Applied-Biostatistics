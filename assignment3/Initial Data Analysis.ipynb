{
 "cells": [
  {
   "cell_type": "code",
   "execution_count": 16,
   "metadata": {
    "collapsed": true
   },
   "outputs": [],
   "source": [
    "df = read.table(\"crabs.dat.txt\", header = TRUE)"
   ]
  },
  {
   "cell_type": "code",
   "execution_count": 17,
   "metadata": {},
   "outputs": [
    {
     "data": {
      "text/html": [
       "<table>\n",
       "<thead><tr><th scope=col>crab</th><th scope=col>sat</th><th scope=col>y</th><th scope=col>weight</th><th scope=col>width</th><th scope=col>color</th><th scope=col>spine</th></tr></thead>\n",
       "<tbody>\n",
       "\t<tr><td>1   </td><td>8   </td><td>1   </td><td>3.05</td><td>28.3</td><td>2   </td><td>3   </td></tr>\n",
       "\t<tr><td>2   </td><td>0   </td><td>0   </td><td>1.55</td><td>22.5</td><td>3   </td><td>3   </td></tr>\n",
       "\t<tr><td>3   </td><td>9   </td><td>1   </td><td>2.30</td><td>26.0</td><td>1   </td><td>1   </td></tr>\n",
       "\t<tr><td>4   </td><td>0   </td><td>0   </td><td>2.10</td><td>24.8</td><td>3   </td><td>3   </td></tr>\n",
       "\t<tr><td>5   </td><td>4   </td><td>1   </td><td>2.60</td><td>26.0</td><td>3   </td><td>3   </td></tr>\n",
       "\t<tr><td>6   </td><td>0   </td><td>0   </td><td>2.10</td><td>23.8</td><td>2   </td><td>3   </td></tr>\n",
       "</tbody>\n",
       "</table>\n"
      ],
      "text/latex": [
       "\\begin{tabular}{r|lllllll}\n",
       " crab & sat & y & weight & width & color & spine\\\\\n",
       "\\hline\n",
       "\t 1    & 8    & 1    & 3.05 & 28.3 & 2    & 3   \\\\\n",
       "\t 2    & 0    & 0    & 1.55 & 22.5 & 3    & 3   \\\\\n",
       "\t 3    & 9    & 1    & 2.30 & 26.0 & 1    & 1   \\\\\n",
       "\t 4    & 0    & 0    & 2.10 & 24.8 & 3    & 3   \\\\\n",
       "\t 5    & 4    & 1    & 2.60 & 26.0 & 3    & 3   \\\\\n",
       "\t 6    & 0    & 0    & 2.10 & 23.8 & 2    & 3   \\\\\n",
       "\\end{tabular}\n"
      ],
      "text/markdown": [
       "\n",
       "crab | sat | y | weight | width | color | spine | \n",
       "|---|---|---|---|---|---|\n",
       "| 1    | 8    | 1    | 3.05 | 28.3 | 2    | 3    | \n",
       "| 2    | 0    | 0    | 1.55 | 22.5 | 3    | 3    | \n",
       "| 3    | 9    | 1    | 2.30 | 26.0 | 1    | 1    | \n",
       "| 4    | 0    | 0    | 2.10 | 24.8 | 3    | 3    | \n",
       "| 5    | 4    | 1    | 2.60 | 26.0 | 3    | 3    | \n",
       "| 6    | 0    | 0    | 2.10 | 23.8 | 2    | 3    | \n",
       "\n",
       "\n"
      ],
      "text/plain": [
       "  crab sat y weight width color spine\n",
       "1 1    8   1 3.05   28.3  2     3    \n",
       "2 2    0   0 1.55   22.5  3     3    \n",
       "3 3    9   1 2.30   26.0  1     1    \n",
       "4 4    0   0 2.10   24.8  3     3    \n",
       "5 5    4   1 2.60   26.0  3     3    \n",
       "6 6    0   0 2.10   23.8  2     3    "
      ]
     },
     "metadata": {},
     "output_type": "display_data"
    }
   ],
   "source": [
    "head(df)"
   ]
  },
  {
   "cell_type": "code",
   "execution_count": 18,
   "metadata": {},
   "outputs": [
    {
     "data": {
      "text/html": [
       "TRUE"
      ],
      "text/latex": [
       "TRUE"
      ],
      "text/markdown": [
       "TRUE"
      ],
      "text/plain": [
       "[1] TRUE"
      ]
     },
     "metadata": {},
     "output_type": "display_data"
    },
    {
     "data": {
      "text/html": [
       "TRUE"
      ],
      "text/latex": [
       "TRUE"
      ],
      "text/markdown": [
       "TRUE"
      ],
      "text/plain": [
       "[1] TRUE"
      ]
     },
     "metadata": {},
     "output_type": "display_data"
    }
   ],
   "source": [
    "df$color <- factor(df$color)\n",
    "df$spine <- factor(df$spine)\n",
    "df$y = factor(df$y)\n",
    "is.factor(df$color)\n",
    "is.factor(df$spine)"
   ]
  },
  {
   "cell_type": "code",
   "execution_count": 19,
   "metadata": {},
   "outputs": [
    {
     "data": {
      "image/png": "[encoded data removed]",
      "text/plain": [
       "plot without title"
      ]
     },
     "metadata": {},
     "output_type": "display_data"
    }
   ],
   "source": [
    "plot(df)"
   ]
  },
  {
   "cell_type": "markdown",
   "metadata": {
    "collapsed": true
   },
   "source": [
    "### Multinomial logistic regression"
   ]
  },
  {
   "cell_type": "code",
   "execution_count": 20,
   "metadata": {},
   "outputs": [
    {
     "name": "stdout",
     "output_type": "stream",
     "text": [
      "# weights:  27 (16 variable)\n",
      "initial  value 190.059926 \n",
      "iter  10 value 117.019151\n",
      "iter  20 value 110.296901\n",
      "iter  30 value 109.701483\n",
      "final  value 109.701476 \n",
      "converged\n"
     ]
    }
   ],
   "source": [
    "require(nnet)\n",
    "require(MASS)\n",
    "\n",
    "model <- multinom(spine ~ sat + y + weight + width + color, data=df)"
   ]
  },
  {
   "cell_type": "code",
   "execution_count": 21,
   "metadata": {},
   "outputs": [
    {
     "data": {
      "text/plain": [
       "Call:\n",
       "multinom(formula = spine ~ sat + y + weight + width + color, \n",
       "    data = df)\n",
       "\n",
       "Coefficients:\n",
       "  (Intercept)         sat        y1    weight      width   color2    color3\n",
       "2   18.895998 -0.07573979 0.2433465  1.185444 -0.8792969 0.055802 0.8835881\n",
       "3   -3.256744 -0.05855609 0.7228371 -1.056373  0.1303693 3.137800 4.5917047\n",
       "       color4\n",
       "2 -0.01087206\n",
       "3  5.21545296\n",
       "\n",
       "Std. Errors:\n",
       "  (Intercept)        sat        y1    weight     width    color2   color3\n",
       "2    7.676307 0.18664097 1.0740549 1.5475019 0.4142711 0.9681688 1.197198\n",
       "3    4.827164 0.08833453 0.6585594 0.8805518 0.2478043 1.0858460 1.225393\n",
       "    color4\n",
       "2 1.825799\n",
       "3 1.497768\n",
       "\n",
       "Residual Deviance: 219.403 \n",
       "AIC: 251.403 "
      ]
     },
     "metadata": {},
     "output_type": "display_data"
    }
   ],
   "source": [
    "summary(model)"
   ]
  },
  {
   "cell_type": "markdown",
   "metadata": {},
   "source": [
    "### Ordinal Logistic Regression"
   ]
  },
  {
   "cell_type": "code",
   "execution_count": 22,
   "metadata": {},
   "outputs": [],
   "source": [
    "model1 <- polr(spine ~ sat + y + weight + width + color, data=df)"
   ]
  },
  {
   "cell_type": "code",
   "execution_count": 23,
   "metadata": {},
   "outputs": [
    {
     "data": {
      "text/plain": [
       "Call:\n",
       "polr(formula = spine ~ sat + y + weight + width + color, data = df)\n",
       "\n",
       "Coefficients:\n",
       "        sat          y1      weight       width      color2      color3 \n",
       "-0.05304741  0.84083134 -1.42309036  0.29486810  2.44197143  3.52568380 \n",
       "     color4 \n",
       " 4.38446342 \n",
       "\n",
       "Intercepts:\n",
       "     1|2      2|3 \n",
       "5.888859 6.461495 \n",
       "\n",
       "Residual Deviance: 235.9888 \n",
       "AIC: 253.9888 "
      ]
     },
     "metadata": {},
     "output_type": "display_data"
    }
   ],
   "source": [
    "model1"
   ]
  },
  {
   "cell_type": "markdown",
   "metadata": {
    "collapsed": true
   },
   "source": [
    "### Poisson regression"
   ]
  },
  {
   "cell_type": "code",
   "execution_count": 26,
   "metadata": {},
   "outputs": [],
   "source": [
    "df2 = read.table(\"crabs.dat.txt\", header = TRUE)\n",
    "df2$color <- factor(df2$color)\n",
    "df2$y = factor(df2$y)\n",
    "\n",
    "model2 = glm(spine ~ sat + y + weight + width + color, poisson, data = df2)"
   ]
  },
  {
   "cell_type": "code",
   "execution_count": 27,
   "metadata": {},
   "outputs": [
    {
     "data": {
      "text/plain": [
       "\n",
       "Call:\n",
       "glm(formula = spine ~ sat + y + weight + width + color, family = poisson, \n",
       "    data = df2)\n",
       "\n",
       "Deviance Residuals: \n",
       "    Min       1Q   Median       3Q      Max  \n",
       "-1.2842  -0.2786   0.1515   0.3177   1.3208  \n",
       "\n",
       "Coefficients:\n",
       "             Estimate Std. Error z value Pr(>|z|)   \n",
       "(Intercept) -0.009538   0.978624  -0.010  0.99222   \n",
       "sat         -0.007227   0.022171  -0.326  0.74444   \n",
       "y1           0.091759   0.147520   0.622  0.53394   \n",
       "weight      -0.132128   0.180487  -0.732  0.46413   \n",
       "width        0.022427   0.049338   0.455  0.64942   \n",
       "color2       0.581651   0.259186   2.244  0.02482 * \n",
       "color3       0.716702   0.268605   2.668  0.00763 **\n",
       "color4       0.766032   0.284857   2.689  0.00716 **\n",
       "---\n",
       "Signif. codes:  0 '***' 0.001 '**' 0.01 '*' 0.05 '.' 0.1 ' ' 1\n",
       "\n",
       "(Dispersion parameter for poisson family taken to be 1)\n",
       "\n",
       "    Null deviance: 56.157  on 172  degrees of freedom\n",
       "Residual deviance: 44.605  on 165  degrees of freedom\n",
       "AIC: 535.82\n",
       "\n",
       "Number of Fisher Scoring iterations: 4\n"
      ]
     },
     "metadata": {},
     "output_type": "display_data"
    }
   ],
   "source": [
    "summary(model2)"
   ]
  },
  {
   "cell_type": "code",
   "execution_count": null,
   "metadata": {
    "collapsed": true
   },
   "outputs": [],
   "source": []
  },
  {
   "cell_type": "code",
   "execution_count": null,
   "metadata": {
    "collapsed": true
   },
   "outputs": [],
   "source": []
  },
  {
   "cell_type": "code",
   "execution_count": null,
   "metadata": {
    "collapsed": true
   },
   "outputs": [],
   "source": []
  },
  {
   "cell_type": "code",
   "execution_count": null,
   "metadata": {
    "collapsed": true
   },
   "outputs": [],
   "source": []
  }
 ],
 "metadata": {
  "kernelspec": {
   "display_name": "R",
   "language": "R",
   "name": "ir"
  },
  "language_info": {
   "codemirror_mode": "r",
   "file_extension": ".r",
   "mimetype": "text/x-r-source",
   "name": "R",
   "pygments_lexer": "r",
   "version": "3.4.3"
  },
  "varInspector": {
   "cols": {
    "lenName": 16,
    "lenType": 16,
    "lenVar": 40
   },
   "kernels_config": {
    "python": {
     "delete_cmd_postfix": "",
     "delete_cmd_prefix": "del ",
     "library": "var_list.py",
     "varRefreshCmd": "print(var_dic_list())"
    },
    "r": {
     "delete_cmd_postfix": ") ",
     "delete_cmd_prefix": "rm(",
     "library": "var_list.r",
     "varRefreshCmd": "cat(var_dic_list()) "
    }
   },
   "types_to_exclude": [
    "module",
    "function",
    "builtin_function_or_method",
    "instance",
    "_Feature"
   ],
   "window_display": false
  }
 },
 "nbformat": 4,
 "nbformat_minor": 2
}
