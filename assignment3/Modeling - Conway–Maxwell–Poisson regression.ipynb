{
 "cells": [
  {
   "cell_type": "code",
   "execution_count": 25,
   "metadata": {
    "collapsed": true
   },
   "outputs": [],
   "source": [
    "library(COMPoissonReg)\n",
    "library(boot)\n",
    "library(CompGLM)"
   ]
  },
  {
   "cell_type": "code",
   "execution_count": 2,
   "metadata": {
    "collapsed": true
   },
   "outputs": [],
   "source": [
    "data.raw = read.table(\"crabs.dat.txt\", header = TRUE)\n",
    "data.raw = data.raw[, 2:7]\n",
    "data.raw$color = factor(data.raw$color)\n",
    "data.raw$y = factor(data.raw$y)"
   ]
  },
  {
   "cell_type": "code",
   "execution_count": 52,
   "metadata": {
    "collapsed": true
   },
   "outputs": [],
   "source": [
    "cmp.color = glm.cmp(spine ~ color, data = data.raw)"
   ]
  },
  {
   "cell_type": "code",
   "execution_count": 53,
   "metadata": {},
   "outputs": [
    {
     "name": "stdout",
     "output_type": "stream",
     "text": [
      "Fit for CMP coefficients\n",
      "              Estimate     SE z.value   p.value\n",
      "X:(Intercept)   2.6204 0.5778  4.5349 5.762e-06\n",
      "X:color2        2.2335 0.5444  4.1031 4.076e-05\n",
      "X:color3        2.7977 0.5856  4.7775 1.775e-06\n",
      "X:color4        2.9293 0.6185  4.7359 2.181e-06\n",
      "S:(Intercept)   1.5442 0.1095 14.0988 3.865e-45\n",
      "--\n",
      "Transformed intercept-only parameters\n",
      "   Estimate     SE\n",
      "nu   4.6843 0.5131\n",
      "--\n",
      "Chi-squared test for equidispersion\n",
      "X^2 = 116.6616, df = 1, p-value = 3.4048e-27\n",
      "--\n",
      "Elapsed Sec: 2.67   Sample size: 173\n",
      "LogLik: -202.0806   AIC: 414.1612   BIC: 429.9277   \n"
     ]
    }
   ],
   "source": [
    "print(cmp.color)"
   ]
  },
  {
   "cell_type": "code",
   "execution_count": 41,
   "metadata": {},
   "outputs": [
    {
     "data": {
      "text/html": [
       "<strong>lambda:</strong> 2.41231470888849"
      ],
      "text/latex": [
       "\\textbf{lambda:} 2.41231470888849"
      ],
      "text/markdown": [
       "**lambda:** 2.41231470888849"
      ],
      "text/plain": [
       "  lambda \n",
       "2.412315 "
      ]
     },
     "metadata": {},
     "output_type": "display_data"
    },
    {
     "name": "stdout",
     "output_type": "stream",
     "text": [
      "[1] 3\n"
     ]
    }
   ],
   "source": [
    "data.raw[, 'color'] = as.factor(data.raw[, 'color'])\n",
    "cmp.color = glm.comp(spine ~ color, data = data.raw[, c('spine', 'color')])\n",
    "df = data.frame(color = data.raw[, c('color')])\n",
    "# df[, 1] = as.factor(df[, 1])\n",
    "pred = (predict(cmp.color, newdata = df))\n",
    "\n",
    "\n",
    "comp_mean = function(lambda, nu){\n",
    "    Z = 0\n",
    "    for (i in c(1:100)){\n",
    "        Z = Z + (lambda^i)/(factorial(i)^nu)\n",
    "    }\n",
    "    average = 0\n",
    "    for (j in c(1:100)){\n",
    "        average = average + (j*(lambda^j))/(factorial(j)^nu)\n",
    "    }\n",
    "    return (average/Z)\n",
    "}\n",
    "\n",
    "comp_mean(pred[1,1], pred[1,2])\n"
   ]
  },
  {
   "cell_type": "code",
   "execution_count": 57,
   "metadata": {},
   "outputs": [
    {
     "name": "stdout",
     "output_type": "stream",
     "text": [
      "[1] 1\n",
      "[1] 1\n"
     ]
    },
    {
     "name": "stderr",
     "output_type": "stream",
     "text": [
      "Warning message in xLam %*% beta + lamOffset:\n",
      "\"longer object length is not a multiple of shorter object length\""
     ]
    },
    {
     "ename": "ERROR",
     "evalue": "Error in predict.Comp(model, newdata = testData): dims [product 18] do not match the length of object [155]\n",
     "output_type": "error",
     "traceback": [
      "Error in predict.Comp(model, newdata = testData): dims [product 18] do not match the length of object [155]\nTraceback:\n",
      "1. predict(model, newdata = testData)",
      "2. predict.Comp(model, newdata = testData)"
     ]
    }
   ],
   "source": [
    "data.color = data.raw[, c('spine', 'color')]\n",
    "folds <- cut(seq(1,nrow(data.color)),breaks=10,labels=FALSE)\n",
    "error = 0\n",
    "#Perform 10 fold cross validation\n",
    "print(1)\n",
    "for(i in 1:10){\n",
    "    err = 0\n",
    "    #Segement your data by fold using the which() function \n",
    "    testIndexes <- which(folds==i,arr.ind=TRUE)\n",
    "    testData <- data.color[testIndexes, ]\n",
    "    trainData <- data.color[-testIndexes, ]\n",
    "\n",
    "    model = glm.comp(spine ~ color, data = trainData[, c('spine', 'color')])\n",
    "    print(1)\n",
    "    pred = predict(model, newdata = testData)\n",
    "    \n",
    "    \n",
    "    for (i in c(1:nrow(pred))){\n",
    "        err = err + (testData[i, 6] - as.numeric(comp_mean(pred[i,1], pred[i,2])))^2\n",
    "    }\n",
    "    \n",
    "    error = error + err/nrow(pred)\n",
    "}\n",
    "\n",
    "error/10"
   ]
  },
  {
   "cell_type": "code",
   "execution_count": 58,
   "metadata": {},
   "outputs": [
    {
     "data": {
      "text/html": [
       "<table>\n",
       "<thead><tr><th scope=col>spine</th><th scope=col>color</th></tr></thead>\n",
       "<tbody>\n",
       "\t<tr><td>3</td><td>2</td></tr>\n",
       "\t<tr><td>3</td><td>3</td></tr>\n",
       "\t<tr><td>1</td><td>1</td></tr>\n",
       "\t<tr><td>3</td><td>3</td></tr>\n",
       "\t<tr><td>3</td><td>3</td></tr>\n",
       "\t<tr><td>3</td><td>2</td></tr>\n",
       "\t<tr><td>1</td><td>1</td></tr>\n",
       "\t<tr><td>2</td><td>3</td></tr>\n",
       "\t<tr><td>1</td><td>2</td></tr>\n",
       "\t<tr><td>3</td><td>3</td></tr>\n",
       "\t<tr><td>3</td><td>3</td></tr>\n",
       "\t<tr><td>3</td><td>2</td></tr>\n",
       "\t<tr><td>3</td><td>2</td></tr>\n",
       "\t<tr><td>2</td><td>4</td></tr>\n",
       "\t<tr><td>1</td><td>2</td></tr>\n",
       "\t<tr><td>1</td><td>1</td></tr>\n",
       "\t<tr><td>3</td><td>2</td></tr>\n",
       "\t<tr><td>3</td><td>2</td></tr>\n",
       "</tbody>\n",
       "</table>\n"
      ],
      "text/latex": [
       "\\begin{tabular}{r|ll}\n",
       " spine & color\\\\\n",
       "\\hline\n",
       "\t 3 & 2\\\\\n",
       "\t 3 & 3\\\\\n",
       "\t 1 & 1\\\\\n",
       "\t 3 & 3\\\\\n",
       "\t 3 & 3\\\\\n",
       "\t 3 & 2\\\\\n",
       "\t 1 & 1\\\\\n",
       "\t 2 & 3\\\\\n",
       "\t 1 & 2\\\\\n",
       "\t 3 & 3\\\\\n",
       "\t 3 & 3\\\\\n",
       "\t 3 & 2\\\\\n",
       "\t 3 & 2\\\\\n",
       "\t 2 & 4\\\\\n",
       "\t 1 & 2\\\\\n",
       "\t 1 & 1\\\\\n",
       "\t 3 & 2\\\\\n",
       "\t 3 & 2\\\\\n",
       "\\end{tabular}\n"
      ],
      "text/markdown": [
       "\n",
       "spine | color | \n",
       "|---|---|---|---|---|---|---|---|---|---|---|---|---|---|---|---|---|---|\n",
       "| 3 | 2 | \n",
       "| 3 | 3 | \n",
       "| 1 | 1 | \n",
       "| 3 | 3 | \n",
       "| 3 | 3 | \n",
       "| 3 | 2 | \n",
       "| 1 | 1 | \n",
       "| 2 | 3 | \n",
       "| 1 | 2 | \n",
       "| 3 | 3 | \n",
       "| 3 | 3 | \n",
       "| 3 | 2 | \n",
       "| 3 | 2 | \n",
       "| 2 | 4 | \n",
       "| 1 | 2 | \n",
       "| 1 | 1 | \n",
       "| 3 | 2 | \n",
       "| 3 | 2 | \n",
       "\n",
       "\n"
      ],
      "text/plain": [
       "   spine color\n",
       "1  3     2    \n",
       "2  3     3    \n",
       "3  1     1    \n",
       "4  3     3    \n",
       "5  3     3    \n",
       "6  3     2    \n",
       "7  1     1    \n",
       "8  2     3    \n",
       "9  1     2    \n",
       "10 3     3    \n",
       "11 3     3    \n",
       "12 3     2    \n",
       "13 3     2    \n",
       "14 2     4    \n",
       "15 1     2    \n",
       "16 1     1    \n",
       "17 3     2    \n",
       "18 3     2    "
      ]
     },
     "metadata": {},
     "output_type": "display_data"
    }
   ],
   "source": [
    "testData"
   ]
  },
  {
   "cell_type": "code",
   "execution_count": null,
   "metadata": {
    "collapsed": true
   },
   "outputs": [],
   "source": []
  }
 ],
 "metadata": {
  "kernelspec": {
   "display_name": "R",
   "language": "R",
   "name": "ir"
  },
  "language_info": {
   "codemirror_mode": "r",
   "file_extension": ".r",
   "mimetype": "text/x-r-source",
   "name": "R",
   "pygments_lexer": "r",
   "version": "3.5.0"
  },
  "varInspector": {
   "cols": {
    "lenName": 16,
    "lenType": 16,
    "lenVar": 40
   },
   "kernels_config": {
    "python": {
     "delete_cmd_postfix": "",
     "delete_cmd_prefix": "del ",
     "library": "var_list.py",
     "varRefreshCmd": "print(var_dic_list())"
    },
    "r": {
     "delete_cmd_postfix": ") ",
     "delete_cmd_prefix": "rm(",
     "library": "var_list.r",
     "varRefreshCmd": "cat(var_dic_list()) "
    }
   },
   "types_to_exclude": [
    "module",
    "function",
    "builtin_function_or_method",
    "instance",
    "_Feature"
   ],
   "window_display": false
  }
 },
 "nbformat": 4,
 "nbformat_minor": 2
}
