{
 "cells": [
  {
   "cell_type": "code",
   "execution_count": 4,
   "metadata": {
    "collapsed": true
   },
   "outputs": [],
   "source": [
    "data.raw = read.table(\"crabs.dat.txt\", header = TRUE)"
   ]
  },
  {
   "cell_type": "code",
   "execution_count": 5,
   "metadata": {
    "collapsed": true
   },
   "outputs": [],
   "source": [
    "data.raw$color = factor(data.raw$color)\n",
    "data.raw$y = factor(data.raw$y)"
   ]
  },
  {
   "cell_type": "code",
   "execution_count": 6,
   "metadata": {},
   "outputs": [
    {
     "data": {
      "text/plain": [
       "\n",
       "Call:\n",
       "glm.nb(formula = spine ~ sat + y + weight + width + color, data = data.raw, \n",
       "    init.theta = 182421.4628, link = log)\n",
       "\n",
       "Deviance Residuals: \n",
       "    Min       1Q   Median       3Q      Max  \n",
       "-1.2842  -0.2786   0.1515   0.3177   1.3208  \n",
       "\n",
       "Coefficients:\n",
       "             Estimate Std. Error z value Pr(>|z|)   \n",
       "(Intercept) -0.009537   0.978631  -0.010  0.99222   \n",
       "sat         -0.007227   0.022171  -0.326  0.74444   \n",
       "y1           0.091759   0.147522   0.622  0.53394   \n",
       "weight      -0.132128   0.180488  -0.732  0.46413   \n",
       "width        0.022427   0.049338   0.455  0.64942   \n",
       "color2       0.581651   0.259188   2.244  0.02482 * \n",
       "color3       0.716702   0.268607   2.668  0.00763 **\n",
       "color4       0.766032   0.284859   2.689  0.00716 **\n",
       "---\n",
       "Signif. codes:  0 '***' 0.001 '**' 0.01 '*' 0.05 '.' 0.1 ' ' 1\n",
       "\n",
       "(Dispersion parameter for Negative Binomial(182421.5) family taken to be 1)\n",
       "\n",
       "    Null deviance: 56.156  on 172  degrees of freedom\n",
       "Residual deviance: 44.604  on 165  degrees of freedom\n",
       "AIC: 537.83\n",
       "\n",
       "Number of Fisher Scoring iterations: 1\n",
       "\n",
       "\n",
       "              Theta:  182421 \n",
       "          Std. Err.:  2305048 \n",
       "Warning while fitting theta: iteration limit reached \n",
       "\n",
       " 2 x log-likelihood:  -519.825 "
      ]
     },
     "metadata": {},
     "output_type": "display_data"
    }
   ],
   "source": [
    "library(MASS)\n",
    "model.all_variables = glm.nb(spine ~ sat + y + weight + width + color, data = data.raw)\n",
    "summary(model.all_variables)"
   ]
  },
  {
   "cell_type": "code",
   "execution_count": 7,
   "metadata": {},
   "outputs": [
    {
     "name": "stdout",
     "output_type": "stream",
     "text": [
      "Start:  AIC=535.83\n",
      "spine ~ sat + y + weight + width + color\n",
      "\n",
      "         Df    AIC\n",
      "- sat     1 533.93\n",
      "- width   1 534.03\n",
      "- y       1 534.21\n",
      "- weight  1 534.36\n",
      "<none>      535.83\n",
      "- color   3 539.62\n",
      "\n",
      "Step:  AIC=533.93\n",
      "spine ~ y + weight + width + color\n",
      "\n",
      "         Df    AIC\n",
      "- width   1 532.16\n",
      "- y       1 532.22\n",
      "- weight  1 532.55\n",
      "<none>      533.93\n",
      "- color   3 537.86\n",
      "\n",
      "Step:  AIC=532.16\n",
      "spine ~ y + weight + color\n",
      "\n",
      "         Df    AIC\n",
      "- y       1 530.52\n",
      "- weight  1 530.69\n",
      "<none>      532.16\n",
      "- color   3 535.98\n",
      "\n",
      "Step:  AIC=530.52\n",
      "spine ~ weight + color\n",
      "\n",
      "         Df    AIC\n",
      "- weight  1 528.82\n",
      "<none>      530.52\n",
      "- color   3 534.05\n",
      "\n",
      "Step:  AIC=528.82\n",
      "spine ~ color\n",
      "\n",
      "        Df    AIC\n",
      "<none>     528.82\n",
      "- color  3 533.38\n"
     ]
    }
   ],
   "source": [
    "options(warn=-1)\n",
    "model.all_variables.backwards = stepAIC(model.all_variables, direction = \"backward\")"
   ]
  },
  {
   "cell_type": "code",
   "execution_count": 8,
   "metadata": {},
   "outputs": [
    {
     "data": {
      "text/plain": [
       "\n",
       "Call:\n",
       "glm.nb(formula = spine ~ color, data = data.raw, init.theta = 183942.6653, \n",
       "    link = log)\n",
       "\n",
       "Deviance Residuals: \n",
       "    Min       1Q   Median       3Q      Max  \n",
       "-1.2740  -0.2725   0.1347   0.3656   1.2378  \n",
       "\n",
       "Coefficients:\n",
       "            Estimate Std. Error z value Pr(>|z|)   \n",
       "(Intercept)   0.2877     0.2500   1.151  0.24985   \n",
       "color2        0.5922     0.2586   2.290  0.02202 * \n",
       "color3        0.7321     0.2659   2.754  0.00589 **\n",
       "color4        0.7644     0.2800   2.730  0.00632 **\n",
       "---\n",
       "Signif. codes:  0 '***' 0.001 '**' 0.01 '*' 0.05 '.' 0.1 ' ' 1\n",
       "\n",
       "(Dispersion parameter for Negative Binomial(183942.7) family taken to be 1)\n",
       "\n",
       "    Null deviance: 56.156  on 172  degrees of freedom\n",
       "Residual deviance: 45.603  on 169  degrees of freedom\n",
       "AIC: 530.82\n",
       "\n",
       "Number of Fisher Scoring iterations: 1\n",
       "\n",
       "\n",
       "              Theta:  183943 \n",
       "          Std. Err.:  2342618 \n",
       "Warning while fitting theta: iteration limit reached \n",
       "\n",
       " 2 x log-likelihood:  -520.825 "
      ]
     },
     "metadata": {},
     "output_type": "display_data"
    }
   ],
   "source": [
    "model.color = glm.nb(spine ~ color, data = data.raw)\n",
    "summary(model.color)"
   ]
  },
  {
   "cell_type": "markdown",
   "metadata": {},
   "source": [
    "Dispersion parameter equals to one!!! This is just equivalent to the Poisson Regression model!"
   ]
  },
  {
   "cell_type": "code",
   "execution_count": 15,
   "metadata": {
    "collapsed": true
   },
   "outputs": [],
   "source": [
    "model.weight.weightcolor = glm.nb(spine ~ weight + weight:color, data = data.raw)\n",
    "model.color.weight = glm.nb(spine ~ color + weight, data = data.raw)\n",
    "model.color.width = glm.nb(spine ~ color + width, data = data.raw)\n",
    "model.color.y = glm.nb(spine ~ color + y, data = data.raw)\n",
    "model.color.sat = glm.nb(spine ~ color + sat, data = data.raw)"
   ]
  },
  {
   "cell_type": "code",
   "execution_count": 19,
   "metadata": {},
   "outputs": [
    {
     "name": "stdout",
     "output_type": "stream",
     "text": [
      "$color\n",
      "     rawCVError adjustedCVError \n",
      "         0.5716          0.5682 \n",
      "\n",
      "$all_variables\n",
      "     rawCVError adjustedCVError \n",
      "         0.6002          0.5875 \n",
      "\n",
      "$color.weight\n",
      "     rawCVError adjustedCVError \n",
      "         0.5848          0.5773 \n",
      "\n",
      "$color.width\n",
      "     rawCVError adjustedCVError \n",
      "         0.5892          0.5772 \n",
      "\n",
      "$color.y\n",
      "     rawCVError adjustedCVError \n",
      "         0.5728          0.5706 \n",
      "\n",
      "$color.sat\n",
      "     rawCVError adjustedCVError \n",
      "         0.5836          0.5723 \n",
      "\n",
      "$weight.weightcolor\n",
      "     rawCVError adjustedCVError \n",
      "         0.5854          0.5808 \n",
      "\n"
     ]
    }
   ],
   "source": [
    "require(formula.tools)\n",
    "require(boot)\n",
    "options(warn=-1)\n",
    "\n",
    "crossValidation <- function(mod) {\n",
    "    set.seed(12345)\n",
    "    rawError = signif(cv.glm(data.raw[, 2:7], mod, K = 10)$delta[1], 4)\n",
    "    adjustedError = signif(cv.glm(data.raw[, 2:7], mod, K = 10)$delta[2], 4)\n",
    "    c(rawCVError=rawError, adjustedCVError=adjustedError)\n",
    "}\n",
    "\n",
    "models = list(color = model.color, \n",
    "              all_variables = model.all_variables,\n",
    "              color.weight = model.color.weight,\n",
    "              color.width = model.color.width,\n",
    "              color.y = model.color.y,\n",
    "              color.sat = model.color.sat,\n",
    "              weight.weightcolor = model.weight.weightcolor\n",
    "             )\n",
    "\n",
    "print(sapply(models, crossValidation, simplify = FALSE))"
   ]
  },
  {
   "cell_type": "code",
   "execution_count": null,
   "metadata": {
    "collapsed": true
   },
   "outputs": [],
   "source": []
  },
  {
   "cell_type": "code",
   "execution_count": null,
   "metadata": {
    "collapsed": true
   },
   "outputs": [],
   "source": []
  },
  {
   "cell_type": "code",
   "execution_count": null,
   "metadata": {
    "collapsed": true
   },
   "outputs": [],
   "source": []
  },
  {
   "cell_type": "code",
   "execution_count": null,
   "metadata": {
    "collapsed": true
   },
   "outputs": [],
   "source": []
  },
  {
   "cell_type": "code",
   "execution_count": null,
   "metadata": {
    "collapsed": true
   },
   "outputs": [],
   "source": []
  },
  {
   "cell_type": "code",
   "execution_count": null,
   "metadata": {
    "collapsed": true
   },
   "outputs": [],
   "source": []
  }
 ],
 "metadata": {
  "kernelspec": {
   "display_name": "R",
   "language": "R",
   "name": "ir"
  },
  "language_info": {
   "codemirror_mode": "r",
   "file_extension": ".r",
   "mimetype": "text/x-r-source",
   "name": "R",
   "pygments_lexer": "r",
   "version": "3.5.0"
  },
  "varInspector": {
   "cols": {
    "lenName": 16,
    "lenType": 16,
    "lenVar": 40
   },
   "kernels_config": {
    "python": {
     "delete_cmd_postfix": "",
     "delete_cmd_prefix": "del ",
     "library": "var_list.py",
     "varRefreshCmd": "print(var_dic_list())"
    },
    "r": {
     "delete_cmd_postfix": ") ",
     "delete_cmd_prefix": "rm(",
     "library": "var_list.r",
     "varRefreshCmd": "cat(var_dic_list()) "
    }
   },
   "types_to_exclude": [
    "module",
    "function",
    "builtin_function_or_method",
    "instance",
    "_Feature"
   ],
   "window_display": false
  }
 },
 "nbformat": 4,
 "nbformat_minor": 2
}
