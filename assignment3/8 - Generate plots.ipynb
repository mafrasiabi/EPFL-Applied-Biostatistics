{
 "cells": [
  {
   "cell_type": "code",
   "execution_count": 2,
   "metadata": {
    "collapsed": true
   },
   "outputs": [],
   "source": [
    "library(xtable)\n",
    "library(arm)\n",
    "library(lmtest)\n",
    "library(kableExtra)\n",
    "library(formattable)\n",
    "library(gridExtra)\n",
    "library(grid)\n",
    "library(dplyr)\n",
    "library(ggplot2)\n",
    "library(MASS)"
   ]
  },
  {
   "cell_type": "code",
   "execution_count": 3,
   "metadata": {
    "collapsed": true
   },
   "outputs": [],
   "source": [
    "data.raw = read.table(\"crabs.dat.txt\", header = TRUE)"
   ]
  },
  {
   "cell_type": "code",
   "execution_count": 4,
   "metadata": {
    "collapsed": true
   },
   "outputs": [],
   "source": [
    "data.raw$color = factor(data.raw$color)\n",
    "data.raw$y = factor(data.raw$y)"
   ]
  },
  {
   "cell_type": "code",
   "execution_count": 5,
   "metadata": {},
   "outputs": [
    {
     "data": {
      "text/html": [
       "<table>\n",
       "<thead><tr><th scope=col>crab</th><th scope=col>sat</th><th scope=col>y</th><th scope=col>weight</th><th scope=col>width</th><th scope=col>color</th><th scope=col>spine</th></tr></thead>\n",
       "<tbody>\n",
       "\t<tr><td>1   </td><td>8   </td><td>1   </td><td>3.05</td><td>28.3</td><td>2   </td><td>3   </td></tr>\n",
       "\t<tr><td>2   </td><td>0   </td><td>0   </td><td>1.55</td><td>22.5</td><td>3   </td><td>3   </td></tr>\n",
       "\t<tr><td>3   </td><td>9   </td><td>1   </td><td>2.30</td><td>26.0</td><td>1   </td><td>1   </td></tr>\n",
       "\t<tr><td>4   </td><td>0   </td><td>0   </td><td>2.10</td><td>24.8</td><td>3   </td><td>3   </td></tr>\n",
       "\t<tr><td>5   </td><td>4   </td><td>1   </td><td>2.60</td><td>26.0</td><td>3   </td><td>3   </td></tr>\n",
       "\t<tr><td>6   </td><td>0   </td><td>0   </td><td>2.10</td><td>23.8</td><td>2   </td><td>3   </td></tr>\n",
       "</tbody>\n",
       "</table>\n"
      ],
      "text/latex": [
       "\\begin{tabular}{r|lllllll}\n",
       " crab & sat & y & weight & width & color & spine\\\\\n",
       "\\hline\n",
       "\t 1    & 8    & 1    & 3.05 & 28.3 & 2    & 3   \\\\\n",
       "\t 2    & 0    & 0    & 1.55 & 22.5 & 3    & 3   \\\\\n",
       "\t 3    & 9    & 1    & 2.30 & 26.0 & 1    & 1   \\\\\n",
       "\t 4    & 0    & 0    & 2.10 & 24.8 & 3    & 3   \\\\\n",
       "\t 5    & 4    & 1    & 2.60 & 26.0 & 3    & 3   \\\\\n",
       "\t 6    & 0    & 0    & 2.10 & 23.8 & 2    & 3   \\\\\n",
       "\\end{tabular}\n"
      ],
      "text/markdown": [
       "\n",
       "crab | sat | y | weight | width | color | spine | \n",
       "|---|---|---|---|---|---|\n",
       "| 1    | 8    | 1    | 3.05 | 28.3 | 2    | 3    | \n",
       "| 2    | 0    | 0    | 1.55 | 22.5 | 3    | 3    | \n",
       "| 3    | 9    | 1    | 2.30 | 26.0 | 1    | 1    | \n",
       "| 4    | 0    | 0    | 2.10 | 24.8 | 3    | 3    | \n",
       "| 5    | 4    | 1    | 2.60 | 26.0 | 3    | 3    | \n",
       "| 6    | 0    | 0    | 2.10 | 23.8 | 2    | 3    | \n",
       "\n",
       "\n"
      ],
      "text/plain": [
       "  crab sat y weight width color spine\n",
       "1 1    8   1 3.05   28.3  2     3    \n",
       "2 2    0   0 1.55   22.5  3     3    \n",
       "3 3    9   1 2.30   26.0  1     1    \n",
       "4 4    0   0 2.10   24.8  3     3    \n",
       "5 5    4   1 2.60   26.0  3     3    \n",
       "6 6    0   0 2.10   23.8  2     3    "
      ]
     },
     "metadata": {},
     "output_type": "display_data"
    }
   ],
   "source": [
    "head(data.raw)"
   ]
  },
  {
   "cell_type": "markdown",
   "metadata": {},
   "source": [
    "### Initial Data Analysis"
   ]
  },
  {
   "cell_type": "code",
   "execution_count": 16,
   "metadata": {},
   "outputs": [
    {
     "data": {
      "text/html": [
       "<strong>png:</strong> 2"
      ],
      "text/latex": [
       "\\textbf{png:} 2"
      ],
      "text/markdown": [
       "**png:** 2"
      ],
      "text/plain": [
       "png \n",
       "  2 "
      ]
     },
     "metadata": {},
     "output_type": "display_data"
    }
   ],
   "source": [
    "# Scatter Matrix\n",
    "png(\n",
    "  \"report/plots/Initial-Data-Analysis/scatter-matrix.png\",\n",
    "  width     = 2.80,\n",
    "  height    = 2.80,\n",
    "  units     = \"in\",\n",
    "  res       = 400,\n",
    "  pointsize = 4\n",
    ")\n",
    "\n",
    "plot(data.raw[, 2:7])\n",
    "dev.off()"
   ]
  },
  {
   "cell_type": "code",
   "execution_count": 34,
   "metadata": {},
   "outputs": [
    {
     "name": "stdout",
     "output_type": "stream",
     "text": [
      "         sat weight width spine\n",
      "sat     1.00   0.37  0.34 -0.09\n",
      "weight  0.37   1.00  0.89 -0.17\n",
      "width   0.34   0.89  1.00 -0.12\n",
      "spine  -0.09  -0.17 -0.12  1.00\n"
     ]
    },
    {
     "data": {
      "text/html": [
       "'\\'\\'\\'\\'\\'\\'\\'\\'\\'\\'\\'\\'\\'\\'\\'\\'\\'\\'\\'\\'\\'\\'\\'\\'\\'\\'\\'\\'\\'\\'\\'\\'\\'\\'\\'\\'\\'\\'\\'\\'\\'\\'\\'\\'\\'\\'\\'\\'\\'\\'\\'\\'\\'\\'\\''"
      ],
      "text/latex": [
       "'\\textbackslash{}'\\textbackslash{}'\\textbackslash{}'\\textbackslash{}'\\textbackslash{}'\\textbackslash{}'\\textbackslash{}'\\textbackslash{}'\\textbackslash{}'\\textbackslash{}'\\textbackslash{}'\\textbackslash{}'\\textbackslash{}'\\textbackslash{}'\\textbackslash{}'\\textbackslash{}'\\textbackslash{}'\\textbackslash{}'\\textbackslash{}'\\textbackslash{}'\\textbackslash{}'\\textbackslash{}'\\textbackslash{}'\\textbackslash{}'\\textbackslash{}'\\textbackslash{}'\\textbackslash{}'\\textbackslash{}'\\textbackslash{}'\\textbackslash{}'\\textbackslash{}'\\textbackslash{}'\\textbackslash{}'\\textbackslash{}'\\textbackslash{}'\\textbackslash{}'\\textbackslash{}'\\textbackslash{}'\\textbackslash{}'\\textbackslash{}'\\textbackslash{}'\\textbackslash{}'\\textbackslash{}'\\textbackslash{}'\\textbackslash{}'\\textbackslash{}'\\textbackslash{}'\\textbackslash{}'\\textbackslash{}'\\textbackslash{}'\\textbackslash{}'\\textbackslash{}'\\textbackslash{}'\\textbackslash{}'\\textbackslash{}''"
      ],
      "text/markdown": [
       "'\\'\\'\\'\\'\\'\\'\\'\\'\\'\\'\\'\\'\\'\\'\\'\\'\\'\\'\\'\\'\\'\\'\\'\\'\\'\\'\\'\\'\\'\\'\\'\\'\\'\\'\\'\\'\\'\\'\\'\\'\\'\\'\\'\\'\\'\\'\\'\\'\\'\\'\\'\\'\\'\\'\\''"
      ],
      "text/plain": [
       "[1] \"'''''''''''''''''''''''''''''''''''''''''''''''''''''''\""
      ]
     },
     "metadata": {},
     "output_type": "display_data"
    },
    {
     "name": "stdout",
     "output_type": "stream",
     "text": [
      "% latex table generated in R 3.5.0 by xtable 1.8-2 package\n",
      "% Thu Jun 07 16:17:04 2018\n",
      "\\begin{table}[ht]\n",
      "\\centering\n",
      "\\begin{tabular}{rrrrr}\n",
      "  \\hline\n",
      " & sat & weight & width & spine \\\\ \n",
      "  \\hline\n",
      "sat & 1.00 & 0.37 & 0.34 & -0.09 \\\\ \n",
      "  weight & 0.37 & 1.00 & 0.89 & -0.17 \\\\ \n",
      "  width & 0.34 & 0.89 & 1.00 & -0.12 \\\\ \n",
      "  spine & -0.09 & -0.17 & -0.12 & 1.00 \\\\ \n",
      "   \\hline\n",
      "\\end{tabular}\n",
      "\\end{table}\n"
     ]
    }
   ],
   "source": [
    "# Correlation matrix for real valued variables\n",
    "corr_matrix = signif(cor(data.raw[, c(2, 4, 5, 7)]), 2)\n",
    "print(corr_matrix)\n",
    "\n",
    "\"'''''''''''''''''''''''''''''''''''''''''''''''''''''''\"\n",
    "\n",
    "corr_matrix_latex = xtable(corr_matrix)\n",
    "print(corr_matrix_latex)"
   ]
  },
  {
   "cell_type": "code",
   "execution_count": 36,
   "metadata": {},
   "outputs": [
    {
     "data": {
      "text/html": [
       "<strong>png:</strong> 2"
      ],
      "text/latex": [
       "\\textbf{png:} 2"
      ],
      "text/markdown": [
       "**png:** 2"
      ],
      "text/plain": [
       "png \n",
       "  2 "
      ]
     },
     "metadata": {},
     "output_type": "display_data"
    }
   ],
   "source": [
    "png(\n",
    "  \"report/plots/Initial-Data-Analysis/distribution-of-spine-wrt-color.png\",\n",
    "  width     = 2.80,\n",
    "  height    = 2.80,\n",
    "  units     = \"in\",\n",
    "  res       = 400,\n",
    "  pointsize = 4\n",
    ")\n",
    "\n",
    "par(mfrow=c(2,2))\n",
    "discrete.histogram(data.raw$spine[data.raw$color==1], main = \"Distribution of spine (color = 1)\", xlab = \"spine\", freq = TRUE)\n",
    "discrete.histogram(data.raw$spine[data.raw$color==2], main = \"Distribution of spine (color = 2)\", xlab = \"spine\", freq = TRUE)\n",
    "discrete.histogram(data.raw$spine[data.raw$color==3], main = \"Distribution of spine (color = 3)\", xlab = \"spine\", freq = TRUE)\n",
    "discrete.histogram(data.raw$spine[data.raw$color==4], main = \"Distribution of spine (color = 4)\", xlab = \"spine\", freq = TRUE)\n",
    "\n",
    "dev.off()"
   ]
  },
  {
   "cell_type": "code",
   "execution_count": 39,
   "metadata": {},
   "outputs": [
    {
     "data": {
      "text/html": [
       "<strong>png:</strong> 2"
      ],
      "text/latex": [
       "\\textbf{png:} 2"
      ],
      "text/markdown": [
       "**png:** 2"
      ],
      "text/plain": [
       "png \n",
       "  2 "
      ]
     },
     "metadata": {},
     "output_type": "display_data"
    }
   ],
   "source": [
    "png(\n",
    "  \"report/plots/Initial-Data-Analysis/distribution-of-spine-wrt-y.png\",\n",
    "  width     = 2.80,\n",
    "  height    = 1.40,\n",
    "  units     = \"in\",\n",
    "  res       = 400,\n",
    "  pointsize = 4\n",
    ")\n",
    "\n",
    "par(mfrow=c(1,2))\n",
    "discrete.histogram(data.raw$spine[data.raw$y==1], main = \"Distribution of spine (y = 1)\", xlab = \"spine\", freq = TRUE)\n",
    "discrete.histogram(data.raw$spine[data.raw$y==0], main = \"Distribution of spine (y = 2)\", xlab = \"spine\", freq = TRUE)\n",
    "\n",
    "dev.off()"
   ]
  },
  {
   "cell_type": "code",
   "execution_count": 52,
   "metadata": {},
   "outputs": [
    {
     "data": {
      "text/html": [
       "<strong>png:</strong> 2"
      ],
      "text/latex": [
       "\\textbf{png:} 2"
      ],
      "text/markdown": [
       "**png:** 2"
      ],
      "text/plain": [
       "png \n",
       "  2 "
      ]
     },
     "metadata": {},
     "output_type": "display_data"
    }
   ],
   "source": [
    "png(\n",
    "  \"report/plots/Initial-Data-Analysis/distribution-of-spine-wrt-width.png\",\n",
    "  width     = 2.80,\n",
    "  height    = 2.80,\n",
    "  units     = \"in\",\n",
    "  res       = 400,\n",
    "  pointsize = 4\n",
    ")\n",
    "\n",
    "plot(data.raw$spine ~ data.raw$width, \n",
    "     type = 'p', col = 'aquamarine3', ylab = 'spine', xlab = 'width', main = \"Distribution of spine w.r.t width\")\n",
    "points(x = c(mean(data.raw$width[data.raw$spine == 3]), \n",
    "             mean(data.raw$width[data.raw$spine == 2]), \n",
    "             mean(data.raw$width[data.raw$spine == 1])), y = c(3, 2, 1), type = 'b', col = 'red')\n",
    "\n",
    "legend(\"topright\", legend = c(\"Mean\", \"Data\"), col = c(\"red\", \"aquamarine3\"), pch = c(19,19), pt.cex = 1, cex = 1.2, text.col = \"black\", horiz = F) \n",
    "\n",
    "dev.off()"
   ]
  },
  {
   "cell_type": "code",
   "execution_count": 53,
   "metadata": {},
   "outputs": [
    {
     "data": {
      "text/html": [
       "<strong>png:</strong> 2"
      ],
      "text/latex": [
       "\\textbf{png:} 2"
      ],
      "text/markdown": [
       "**png:** 2"
      ],
      "text/plain": [
       "png \n",
       "  2 "
      ]
     },
     "metadata": {},
     "output_type": "display_data"
    }
   ],
   "source": [
    "png(\n",
    "  \"report/plots/Initial-Data-Analysis/distribution-of-spine-wrt-weight.png\",\n",
    "  width     = 2.80,\n",
    "  height    = 2.80,\n",
    "  units     = \"in\",\n",
    "  res       = 400,\n",
    "  pointsize = 4\n",
    ")\n",
    "\n",
    "plot(data.raw$spine ~ data.raw$weight, type = 'p', col = 'aquamarine3', ylab = 'spine', xlab = 'weight', main = \"Distribution of spine w.r.t weight\")\n",
    "points(x = c(mean(data.raw$weight[data.raw$spine == 3]), \n",
    "             mean(data.raw$weight[data.raw$spine == 2]), \n",
    "             mean(data.raw$weight[data.raw$spine == 1])), y = c(3, 2, 1), type = 'b', col = 'red')\n",
    "\n",
    "legend(\"topright\", legend = c(\"Mean\", \"Data\"), col = c(\"red\", \"aquamarine3\"), pch = c(19,19), pt.cex = 1, cex = 1.2, text.col = \"black\", horiz = F) \n",
    "\n",
    "dev.off()"
   ]
  },
  {
   "cell_type": "code",
   "execution_count": 56,
   "metadata": {},
   "outputs": [
    {
     "data": {
      "text/html": [
       "<strong>png:</strong> 2"
      ],
      "text/latex": [
       "\\textbf{png:} 2"
      ],
      "text/markdown": [
       "**png:** 2"
      ],
      "text/plain": [
       "png \n",
       "  2 "
      ]
     },
     "metadata": {},
     "output_type": "display_data"
    }
   ],
   "source": [
    "png(\n",
    "  \"report/plots/Initial-Data-Analysis/distribution-of-spine-wrt-sat.png\",\n",
    "  width     = 2.80,\n",
    "  height    = 2.80,\n",
    "  units     = \"in\",\n",
    "  res       = 400,\n",
    "  pointsize = 4\n",
    ")\n",
    "\n",
    "plot(data.raw$spine ~ data.raw$sat, type = 'p', col = 'aquamarine3', ylab = 'spine', xlab = 'sat', main = \"Distribution of spine w.r.t sat\")\n",
    "points(x = c(mean(data.raw$sat[data.raw$spine == 3]), \n",
    "             mean(data.raw$sat[data.raw$spine == 2]), \n",
    "             mean(data.raw$sat[data.raw$spine == 1])), y = c(3, 2, 1), type = 'o', col = 'red')\n",
    "\n",
    "legend(\"topright\", legend = c(\"Mean\", \"Data\"), col = c(\"red\", \"aquamarine3\"), pch = c(19,19), pt.cex = 1, cex = 1.2, text.col = \"black\", horiz = F) \n",
    "\n",
    "dev.off()"
   ]
  },
  {
   "cell_type": "code",
   "execution_count": 58,
   "metadata": {},
   "outputs": [
    {
     "data": {
      "text/html": [
       "<strong>png:</strong> 2"
      ],
      "text/latex": [
       "\\textbf{png:} 2"
      ],
      "text/markdown": [
       "**png:** 2"
      ],
      "text/plain": [
       "png \n",
       "  2 "
      ]
     },
     "metadata": {},
     "output_type": "display_data"
    }
   ],
   "source": [
    "png(\n",
    "  \"report/plots/Initial-Data-Analysis/distribution-of-spine-wrt-weight-width.png\",\n",
    "  width     = 2.80,\n",
    "  height    = 2.80,\n",
    "  units     = \"in\",\n",
    "  res       = 400,\n",
    "  pointsize = 4\n",
    ")\n",
    "\n",
    "plot(data.raw$width ~ data.raw$weight, type = 'p', col = 'white', ylab = 'width', xlab = 'weight', main = \"Distribution of spine w.r.t width and weight\")\n",
    "points(x = data.raw$weight[data.raw$spine == 3], y = data.raw$width[data.raw$spine == 3], col = 'aquamarine3', type = 'p')\n",
    "points(x = data.raw$weight[data.raw$spine == 2], y = data.raw$width[data.raw$spine == 2], col = 'blueviolet', type = 'p')\n",
    "points(x = data.raw$weight[data.raw$spine == 1], y = data.raw$width[data.raw$spine == 1], col = 'chocolate2', type = 'p')\n",
    "\n",
    "legend(\"topright\", legend = c(\"spine = 1\", \"spine = 2\", \"spine = 3\"), col = c(\"chocolate2\", \"blueviolet\", \"aquamarine3\"), pch = c(19,19), pt.cex = 1, cex = 1.2, text.col = \"black\", horiz = F)\n",
    "\n",
    "dev.off()"
   ]
  },
  {
   "cell_type": "code",
   "execution_count": 70,
   "metadata": {},
   "outputs": [
    {
     "data": {
      "text/html": [
       "<strong>png:</strong> 2"
      ],
      "text/latex": [
       "\\textbf{png:} 2"
      ],
      "text/markdown": [
       "**png:** 2"
      ],
      "text/plain": [
       "png \n",
       "  2 "
      ]
     },
     "metadata": {},
     "output_type": "display_data"
    }
   ],
   "source": [
    "png(\n",
    "  \"report/plots/Initial-Data-Analysis/distribution-of-spine-wrt-weight-color.png\",\n",
    "  width     = 2.80,\n",
    "  height    = 2.80,\n",
    "  units     = \"in\",\n",
    "  res       = 400,\n",
    "  pointsize = 4\n",
    ")\n",
    "\n",
    "plot(as.numeric(data.raw$color) ~ data.raw$weight, type = 'p', col = 'white', ylab = 'color', xlab = 'weight', main = \"Distribution of spine w.r.t color and weight\")\n",
    "points(x = data.raw$weight[data.raw$spine == 3], y = as.numeric(data.raw$color[data.raw$spine == 3]), col = 'aquamarine3', type = 'p')\n",
    "points(x = data.raw$weight[data.raw$spine == 2], y = as.numeric(data.raw$color[data.raw$spine == 2]), col = 'blueviolet', type = 'p')\n",
    "points(x = data.raw$weight[data.raw$spine == 1], y = as.numeric(data.raw$color[data.raw$spine == 1]), col = 'chocolate2', type = 'p')\n",
    "\n",
    "legend(\"topright\", legend = c(\"spine = 1\", \"spine = 2\", \"spine = 3\"), col = c(\"chocolate2\", \"blueviolet\", \"aquamarine3\"), pch = c(19,19), pt.cex = 1, cex = 1.2, text.col = \"black\", horiz = F)\n",
    "\n",
    "dev.off()"
   ]
  },
  {
   "cell_type": "markdown",
   "metadata": {
    "collapsed": true
   },
   "source": [
    "### Poisson Regression"
   ]
  },
  {
   "cell_type": "code",
   "execution_count": 6,
   "metadata": {
    "code_folding": [],
    "scrolled": true
   },
   "outputs": [
    {
     "name": "stderr",
     "output_type": "stream",
     "text": [
      "Saving 6.67 x 6.67 in image\n",
      "Saving 6.67 x 6.67 in image\n",
      "Saving 6.67 x 6.67 in image\n",
      "Saving 6.67 x 6.67 in image\n",
      "Saving 6.67 x 6.67 in image\n",
      "Saving 6.67 x 6.67 in image\n"
     ]
    },
    {
     "name": "stdout",
     "output_type": "stream",
     "text": [
      "Likelihood ratio test\n",
      "\n",
      "Model 1: spine ~ sat + y + weight + width + color\n",
      "Model 2: spine ~ 1\n",
      "  #Df  LogLik Df  Chisq Pr(>Chisq)\n",
      "1   8 -259.91                     \n",
      "2   1 -265.69 -7 11.552     0.1163\n",
      "Likelihood ratio test\n",
      "\n",
      "Model 1: spine ~ color\n",
      "Model 2: spine ~ 1\n",
      "  #Df  LogLik Df  Chisq Pr(>Chisq)  \n",
      "1   4 -260.41                       \n",
      "2   1 -265.69 -3 10.553    0.01441 *\n",
      "---\n",
      "Signif. codes:  0 '***' 0.001 '**' 0.01 '*' 0.05 '.' 0.1 ' ' 1\n",
      "Likelihood ratio test\n",
      "\n",
      "Model 1: spine ~ weight\n",
      "Model 2: spine ~ 1\n",
      "  #Df  LogLik Df  Chisq Pr(>Chisq)\n",
      "1   2 -265.03                     \n",
      "2   1 -265.69 -1 1.3237     0.2499\n",
      "Likelihood ratio test\n",
      "\n",
      "Model 1: spine ~ width\n",
      "Model 2: spine ~ 1\n",
      "  #Df  LogLik Df  Chisq Pr(>Chisq)\n",
      "1   2 -265.34                     \n",
      "2   1 -265.69 -1 0.7038     0.4015\n",
      "Likelihood ratio test\n",
      "\n",
      "Model 1: spine ~ sat\n",
      "Model 2: spine ~ 1\n",
      "  #Df  LogLik Df  Chisq Pr(>Chisq)\n",
      "1   2 -265.50                     \n",
      "2   1 -265.69 -1 0.3858     0.5345\n",
      "Likelihood ratio test\n",
      "\n",
      "Model 1: spine ~ y\n",
      "Model 2: spine ~ 1\n",
      "  #Df  LogLik Df  Chisq Pr(>Chisq)\n",
      "1   2 -265.67                     \n",
      "2   1 -265.69 -1 0.0363     0.8489\n"
     ]
    }
   ],
   "source": [
    "# Strategy : start from a simple model and build upon it\n",
    "# Try to find the most significant variable to start with\n",
    "poisson.all_variables = glm(spine ~ sat + y + weight + width + color, family = poisson(link = log), data = data.raw)\n",
    "poisson.color = glm(spine ~ color, family = poisson(link = log), data = data.raw)\n",
    "poisson.weight = glm(spine ~ weight, family = poisson(link = log), data = data.raw)\n",
    "poisson.width = glm(spine ~ width, family = poisson(link = log), data = data.raw)\n",
    "poisson.sat = glm(spine ~ sat, family = poisson(link = log), data = data.raw)\n",
    "poisson.y = glm(spine ~ y, family = poisson(link = log), data = data.raw)\n",
    "\n",
    "generate_image = function(glm_obj, filename, rows = c(1,1), resolution = 300){\n",
    "    mytable = as.table(signif(summary(glm_obj)$coefficients, 3))\n",
    "    rows = c()\n",
    "    \n",
    "    for (i in c(1: length(summary(glm_obj)$coefficients[,4]))){\n",
    "        p = as.numeric(summary(glm_obj)$coefficients[,4])[i]\n",
    "        \n",
    "        if (p <= 0.05){\n",
    "            rows = c(rows, i)\n",
    "        }\n",
    "    }\n",
    "\n",
    "    cols <- matrix(\"black\", nrow(mytable), ncol(mytable))\n",
    "    cols[rows,1:4] <- c(\"blue\")\n",
    "    tt <- ttheme_default(core=list(fg_params = list(col = cols),\n",
    "                                    bg_params = list(col=NA)),\n",
    "                          rowhead=list(bg_params = list(col=NA)),\n",
    "                          colhead=list(bg_params = list(col=NA)))\n",
    "\n",
    "    mytable = tableGrob(mytable, theme = tt)\n",
    "    mydf = data.frame(x = 1:10,y = 1:10)\n",
    "    \n",
    "\n",
    "    ggplot(mydf, aes(x, y)) + annotation_custom(mytable)\n",
    "    ggsave(filename, dpi = resolution)\n",
    "}\n",
    "\n",
    "generate_image(poisson.all_variables, \"report/plots/poisson/poisson_all-variables.jpg\")\n",
    "generate_image(poisson.color, \"report/plots/poisson/poisson_color.jpg\")\n",
    "generate_image(poisson.weight, \"report/plots/poisson/poisson_weight.jpg\")\n",
    "generate_image(poisson.width, \"report/plots/poisson/poisson_width.jpg\")\n",
    "generate_image(poisson.sat, \"report/plots/poisson/poisson_sat.jpg\")\n",
    "generate_image(poisson.y, \"report/plots/poisson/poisson_y.jpg\")\n",
    "\n",
    "print(lrtest(poisson.all_variables))\n",
    "print(lrtest(poisson.color))\n",
    "print(lrtest(poisson.weight))\n",
    "print(lrtest(poisson.width))\n",
    "print(lrtest(poisson.sat))\n",
    "print(lrtest(poisson.y))"
   ]
  },
  {
   "cell_type": "code",
   "execution_count": 7,
   "metadata": {},
   "outputs": [
    {
     "name": "stderr",
     "output_type": "stream",
     "text": [
      "Saving 6.67 x 6.67 in image\n",
      "Saving 6.67 x 6.67 in image\n",
      "Saving 6.67 x 6.67 in image\n",
      "Saving 6.67 x 6.67 in image\n"
     ]
    },
    {
     "name": "stdout",
     "output_type": "stream",
     "text": [
      "Likelihood ratio test\n",
      "\n",
      "Model 1: spine ~ color + weight\n",
      "Model 2: spine ~ color\n",
      "  #Df  LogLik Df  Chisq Pr(>Chisq)\n",
      "1   5 -260.26                     \n",
      "2   4 -260.41 -1 0.3017     0.5828\n",
      "Likelihood ratio test\n",
      "\n",
      "Model 1: spine ~ color + width\n",
      "Model 2: spine ~ color\n",
      "  #Df  LogLik Df  Chisq Pr(>Chisq)\n",
      "1   5 -260.39                     \n",
      "2   4 -260.41 -1 0.0458     0.8306\n",
      "Likelihood ratio test\n",
      "\n",
      "Model 1: spine ~ color + sat\n",
      "Model 2: spine ~ color\n",
      "  #Df  LogLik Df  Chisq Pr(>Chisq)\n",
      "1   5 -260.41                     \n",
      "2   4 -260.41 -1 0.0072     0.9322\n",
      "Likelihood ratio test\n",
      "\n",
      "Model 1: spine ~ color + y\n",
      "Model 2: spine ~ color\n",
      "  #Df  LogLik Df  Chisq Pr(>Chisq)\n",
      "1   5 -260.34                     \n",
      "2   4 -260.41 -1 0.1369     0.7114\n"
     ]
    }
   ],
   "source": [
    "# Conclusion from previous step: color is the most important variable, we should start with the model spine ~ color\n",
    "# Now, try and see if we can add a second variable to the current model\n",
    "poisson.color.weight = glm(spine ~ color + weight, family = poisson(link = log), data = data.raw)\n",
    "poisson.color.width = glm(spine ~ color + width, family = poisson(link = log), data = data.raw)\n",
    "poisson.color.sat = glm(spine ~ color + sat, family = poisson(link = log), data = data.raw)\n",
    "poisson.color.y = glm(spine ~ color + y, family = poisson(link = log), data = data.raw)\n",
    "\n",
    "generate_image(poisson.color.weight, \"report/plots/poisson/poisson_color_weight.jpg\")\n",
    "generate_image(poisson.color.width, \"report/plots/poisson/poisson_color_width.jpg\")\n",
    "generate_image(poisson.color.sat, \"report/plots/poisson/poisson_color_sat.jpg\")\n",
    "generate_image(poisson.color.y, \"report/plots/poisson/poisson_color_y.jpg\")\n",
    "\n",
    "print(lrtest(poisson.color.weight, poisson.color))\n",
    "print(lrtest(poisson.color.width, poisson.color))\n",
    "print(lrtest(poisson.color.sat, poisson.color))\n",
    "print(lrtest(poisson.color.y, poisson.color))"
   ]
  },
  {
   "cell_type": "code",
   "execution_count": 91,
   "metadata": {
    "scrolled": true
   },
   "outputs": [
    {
     "data": {
      "text/html": [
       "0.205715609104874"
      ],
      "text/latex": [
       "0.205715609104874"
      ],
      "text/markdown": [
       "0.205715609104874"
      ],
      "text/plain": [
       "[1] 0.2057156"
      ]
     },
     "metadata": {},
     "output_type": "display_data"
    },
    {
     "data": {
      "text/html": [
       "0.0235711354449493"
      ],
      "text/latex": [
       "0.0235711354449493"
      ],
      "text/markdown": [
       "0.0235711354449493"
      ],
      "text/plain": [
       "[1] 0.02357114"
      ]
     },
     "metadata": {},
     "output_type": "display_data"
    },
    {
     "data": {
      "text/html": [
       "0.0125319356588475"
      ],
      "text/latex": [
       "0.0125319356588475"
      ],
      "text/markdown": [
       "0.0125319356588475"
      ],
      "text/plain": [
       "[1] 0.01253194"
      ]
     },
     "metadata": {},
     "output_type": "display_data"
    },
    {
     "data": {
      "text/html": [
       "0.00686974287107678"
      ],
      "text/latex": [
       "0.00686974287107678"
      ],
      "text/markdown": [
       "0.00686974287107678"
      ],
      "text/plain": [
       "[1] 0.006869743"
      ]
     },
     "metadata": {},
     "output_type": "display_data"
    },
    {
     "data": {
      "text/html": [
       "0.00064622409881121"
      ],
      "text/latex": [
       "0.00064622409881121"
      ],
      "text/markdown": [
       "0.00064622409881121"
      ],
      "text/plain": [
       "[1] 0.0006462241"
      ]
     },
     "metadata": {},
     "output_type": "display_data"
    },
    {
     "data": {
      "text/html": [
       "0.187917789554224"
      ],
      "text/latex": [
       "0.187917789554224"
      ],
      "text/markdown": [
       "0.187917789554224"
      ],
      "text/plain": [
       "[1] 0.1879178"
      ]
     },
     "metadata": {},
     "output_type": "display_data"
    },
    {
     "data": {
      "text/html": [
       "0.193290915709543"
      ],
      "text/latex": [
       "0.193290915709543"
      ],
      "text/markdown": [
       "0.193290915709543"
      ],
      "text/plain": [
       "[1] 0.1932909"
      ]
     },
     "metadata": {},
     "output_type": "display_data"
    },
    {
     "data": {
      "text/html": [
       "0.188732501454335"
      ],
      "text/latex": [
       "0.188732501454335"
      ],
      "text/markdown": [
       "0.188732501454335"
      ],
      "text/plain": [
       "[1] 0.1887325"
      ]
     },
     "metadata": {},
     "output_type": "display_data"
    },
    {
     "data": {
      "text/html": [
       "0.188046765429782"
      ],
      "text/latex": [
       "0.188046765429782"
      ],
      "text/markdown": [
       "0.188046765429782"
      ],
      "text/plain": [
       "[1] 0.1880468"
      ]
     },
     "metadata": {},
     "output_type": "display_data"
    },
    {
     "data": {
      "text/html": [
       "0.190355968399108"
      ],
      "text/latex": [
       "0.190355968399108"
      ],
      "text/markdown": [
       "0.190355968399108"
      ],
      "text/plain": [
       "[1] 0.190356"
      ]
     },
     "metadata": {},
     "output_type": "display_data"
    }
   ],
   "source": [
    "# Conclusion from previous step: cannot improve further from spine ~ color by adding another variable\n",
    "# Now, check pseudo R squared of all models. Although this is not a very useful metric, still useful to check\n",
    "pseudo_R_squared <- function(mod) {\n",
    "    return (1 - (mod$deviance)/(mod$null.deviance))\n",
    "}\n",
    "pseudo_R_squared(poisson.all_variables)\n",
    "pseudo_R_squared(poisson.weight)\n",
    "pseudo_R_squared(poisson.width)\n",
    "pseudo_R_squared(poisson.sat)\n",
    "pseudo_R_squared(poisson.y)\n",
    "pseudo_R_squared(poisson.color)\n",
    "\n",
    "pseudo_R_squared(poisson.color.weight)\n",
    "pseudo_R_squared(poisson.color.width)\n",
    "pseudo_R_squared(poisson.color.sat)\n",
    "pseudo_R_squared(poisson.color.y)"
   ]
  },
  {
   "cell_type": "code",
   "execution_count": 26,
   "metadata": {},
   "outputs": [
    {
     "data": {
      "text/plain": [
       "\n",
       "Call:\n",
       "glm(formula = spine ~ weight + weight:color, family = poisson(link = log), \n",
       "    data = data.raw)\n",
       "\n",
       "Deviance Residuals: \n",
       "    Min       1Q   Median       3Q      Max  \n",
       "-1.2632  -0.2857   0.1465   0.3297   1.2479  \n",
       "\n",
       "Coefficients:\n",
       "              Estimate Std. Error z value Pr(>|z|)    \n",
       "(Intercept)    1.05231    0.21636   4.864 1.15e-06 ***\n",
       "weight        -0.29698    0.12629  -2.352  0.01869 *  \n",
       "weight:color2  0.23164    0.09943   2.330  0.01982 *  \n",
       "weight:color3  0.27861    0.10383   2.683  0.00729 ** \n",
       "weight:color4  0.29420    0.11255   2.614  0.00895 ** \n",
       "---\n",
       "Signif. codes:  0 '***' 0.001 '**' 0.01 '*' 0.05 '.' 0.1 ' ' 1\n",
       "\n",
       "(Dispersion parameter for poisson family taken to be 1)\n",
       "\n",
       "    Null deviance: 56.157  on 172  degrees of freedom\n",
       "Residual deviance: 45.287  on 168  degrees of freedom\n",
       "AIC: 530.51\n",
       "\n",
       "Number of Fisher Scoring iterations: 4\n"
      ]
     },
     "metadata": {},
     "output_type": "display_data"
    },
    {
     "data": {
      "text/plain": [
       "\n",
       "Call:\n",
       "glm(formula = spine ~ weight:color, family = poisson(link = log), \n",
       "    data = data.raw)\n",
       "\n",
       "Deviance Residuals: \n",
       "    Min       1Q   Median       3Q      Max  \n",
       "-1.2632  -0.2857   0.1465   0.3297   1.2479  \n",
       "\n",
       "Coefficients:\n",
       "               Estimate Std. Error z value Pr(>|z|)    \n",
       "(Intercept)    1.052313   0.216365   4.864 1.15e-06 ***\n",
       "weight:color1 -0.296980   0.126287  -2.352   0.0187 *  \n",
       "weight:color2 -0.065340   0.085391  -0.765   0.4442    \n",
       "weight:color3 -0.018369   0.097346  -0.189   0.8503    \n",
       "weight:color4 -0.002778   0.111279  -0.025   0.9801    \n",
       "---\n",
       "Signif. codes:  0 '***' 0.001 '**' 0.01 '*' 0.05 '.' 0.1 ' ' 1\n",
       "\n",
       "(Dispersion parameter for poisson family taken to be 1)\n",
       "\n",
       "    Null deviance: 56.157  on 172  degrees of freedom\n",
       "Residual deviance: 45.287  on 168  degrees of freedom\n",
       "AIC: 530.51\n",
       "\n",
       "Number of Fisher Scoring iterations: 4\n"
      ]
     },
     "metadata": {},
     "output_type": "display_data"
    },
    {
     "name": "stderr",
     "output_type": "stream",
     "text": [
      "Saving 6.67 x 6.67 in image\n"
     ]
    },
    {
     "name": "stdout",
     "output_type": "stream",
     "text": [
      "Likelihood ratio test\n",
      "\n",
      "Model 1: spine ~ weight + weight:color\n",
      "Model 2: spine ~ weight\n",
      "  #Df  LogLik Df  Chisq Pr(>Chisq)  \n",
      "1   5 -260.25                       \n",
      "2   2 -265.03 -3 9.5461    0.02285 *\n",
      "---\n",
      "Signif. codes:  0 '***' 0.001 '**' 0.01 '*' 0.05 '.' 0.1 ' ' 1\n",
      "Likelihood ratio test\n",
      "\n",
      "Model 1: spine ~ weight + weight:color\n",
      "Model 2: spine ~ weight:color\n",
      "  #Df  LogLik Df Chisq Pr(>Chisq)\n",
      "1   5 -260.25                    \n",
      "2   5 -260.25  0     0          1\n"
     ]
    }
   ],
   "source": [
    "# Notable models with interactions?\n",
    "# eg. spine ~ weight + weight:color seems like a good model\n",
    "poisson.weight.weightcolor = glm(spine ~ weight + weight:color, family = poisson(link = log), data = data.raw)\n",
    "poisson.weightcolor = glm(spine ~ weight:color, family = poisson(link = log), data = data.raw)\n",
    "\n",
    "summary(poisson.weight.weightcolor)\n",
    "summary(poisson.weightcolor)\n",
    "generate_image(poisson.weight.weightcolor, \"report/plots/poisson/poisson_weight_weightcolor.jpg\")\n",
    "print(lrtest(poisson.weight.weightcolor, poisson.weight))\n",
    "print(lrtest(poisson.weight.weightcolor, poisson.weightcolor))"
   ]
  },
  {
   "cell_type": "code",
   "execution_count": 18,
   "metadata": {},
   "outputs": [
    {
     "name": "stdout",
     "output_type": "stream",
     "text": [
      "Start:  AIC=599.91\n",
      "spine ~ (sat + y + weight + width + color)^5\n",
      "\n",
      "\n",
      "Step:  AIC=599.91\n",
      "spine ~ sat + y + weight + width + color + sat:y + sat:weight + \n",
      "    sat:width + sat:color + y:weight + y:width + y:color + weight:width + \n",
      "    weight:color + width:color + sat:y:weight + sat:y:width + \n",
      "    sat:y:color + sat:weight:width + sat:weight:color + sat:width:color + \n",
      "    y:weight:width + y:weight:color + y:width:color + weight:width:color + \n",
      "    sat:y:weight:width + sat:y:weight:color + sat:y:width:color + \n",
      "    sat:weight:width:color + y:weight:width:color\n",
      "\n",
      "\n",
      "Step:  AIC=599.91\n",
      "spine ~ sat + y + weight + width + color + sat:y + sat:weight + \n",
      "    sat:width + sat:color + y:weight + y:width + y:color + weight:width + \n",
      "    weight:color + width:color + sat:y:weight + sat:y:width + \n",
      "    sat:y:color + sat:weight:width + sat:weight:color + sat:width:color + \n",
      "    y:weight:width + y:weight:color + y:width:color + weight:width:color + \n",
      "    sat:y:weight:width + sat:y:weight:color + sat:weight:width:color + \n",
      "    y:weight:width:color\n",
      "\n",
      "\n",
      "Step:  AIC=599.91\n",
      "spine ~ sat + y + weight + width + color + sat:y + sat:weight + \n",
      "    sat:width + sat:color + y:weight + y:width + y:color + weight:width + \n",
      "    weight:color + width:color + sat:y:weight + sat:y:width + \n",
      "    sat:y:color + sat:weight:width + sat:weight:color + sat:width:color + \n",
      "    y:weight:width + y:weight:color + y:width:color + weight:width:color + \n",
      "    sat:y:weight:width + sat:weight:width:color + y:weight:width:color\n",
      "\n",
      "\n",
      "Step:  AIC=599.91\n",
      "spine ~ sat + y + weight + width + color + sat:y + sat:weight + \n",
      "    sat:width + sat:color + y:weight + y:width + y:color + weight:width + \n",
      "    weight:color + width:color + sat:y:weight + sat:y:width + \n",
      "    sat:y:color + sat:weight:width + sat:weight:color + sat:width:color + \n",
      "    y:weight:width + y:weight:color + y:width:color + weight:width:color + \n",
      "    sat:weight:width:color + y:weight:width:color\n",
      "\n",
      "\n",
      "Step:  AIC=599.91\n",
      "spine ~ sat + y + weight + width + color + sat:y + sat:weight + \n",
      "    sat:width + sat:color + y:weight + y:width + y:color + weight:width + \n",
      "    weight:color + width:color + sat:y:weight + sat:y:width + \n",
      "    sat:weight:width + sat:weight:color + sat:width:color + y:weight:width + \n",
      "    y:weight:color + y:width:color + weight:width:color + sat:weight:width:color + \n",
      "    y:weight:width:color\n",
      "\n",
      "\n",
      "Step:  AIC=599.91\n",
      "spine ~ sat + y + weight + width + color + sat:y + sat:weight + \n",
      "    sat:width + sat:color + y:weight + y:width + y:color + weight:width + \n",
      "    weight:color + width:color + sat:y:weight + sat:weight:width + \n",
      "    sat:weight:color + sat:width:color + y:weight:width + y:weight:color + \n",
      "    y:width:color + weight:width:color + sat:weight:width:color + \n",
      "    y:weight:width:color\n",
      "\n",
      "\n",
      "Step:  AIC=599.91\n",
      "spine ~ sat + y + weight + width + color + sat:y + sat:weight + \n",
      "    sat:width + sat:color + y:weight + y:width + y:color + weight:width + \n",
      "    weight:color + width:color + sat:weight:width + sat:weight:color + \n",
      "    sat:width:color + y:weight:width + y:weight:color + y:width:color + \n",
      "    weight:width:color + sat:weight:width:color + y:weight:width:color\n",
      "\n",
      "\n",
      "Step:  AIC=599.91\n",
      "spine ~ sat + y + weight + width + color + sat:weight + sat:width + \n",
      "    sat:color + y:weight + y:width + y:color + weight:width + \n",
      "    weight:color + width:color + sat:weight:width + sat:weight:color + \n",
      "    sat:width:color + y:weight:width + y:weight:color + y:width:color + \n",
      "    weight:width:color + sat:weight:width:color + y:weight:width:color\n",
      "\n",
      "                         Df Deviance    AIC\n",
      "- sat:weight:width:color  2   33.185 596.40\n",
      "- y:weight:width:color    1   32.697 597.92\n",
      "<none>                        32.691 599.91\n",
      "\n",
      "Step:  AIC=596.4\n",
      "spine ~ sat + y + weight + width + color + sat:weight + sat:width + \n",
      "    sat:color + y:weight + y:width + y:color + weight:width + \n",
      "    weight:color + width:color + sat:weight:width + sat:weight:color + \n",
      "    sat:width:color + y:weight:width + y:weight:color + y:width:color + \n",
      "    weight:width:color + y:weight:width:color\n",
      "\n",
      "                         Df Deviance    AIC\n",
      "- sat:width:color         3   33.187 590.41\n",
      "- sat:weight:color        3   33.435 590.65\n",
      "- y:weight:width:color    2   33.479 592.70\n",
      "- sat:weight:width        1   33.200 594.42\n",
      "<none>                        33.185 596.40\n",
      "+ sat:weight:width:color  2   32.691 599.91\n",
      "\n",
      "Step:  AIC=590.41\n",
      "spine ~ sat + y + weight + width + color + sat:weight + sat:width + \n",
      "    sat:color + y:weight + y:width + y:color + weight:width + \n",
      "    weight:color + width:color + sat:weight:width + sat:weight:color + \n",
      "    y:weight:width + y:weight:color + y:width:color + weight:width:color + \n",
      "    y:weight:width:color\n",
      "\n",
      "                       Df Deviance    AIC\n",
      "- sat:weight:color      3   34.880 586.10\n",
      "- y:weight:width:color  2   33.485 586.70\n",
      "- sat:weight:width      1   33.202 588.42\n",
      "<none>                      33.187 590.41\n",
      "+ sat:width:color       3   33.185 596.40\n",
      "\n",
      "Step:  AIC=586.1\n",
      "spine ~ sat + y + weight + width + color + sat:weight + sat:width + \n",
      "    sat:color + y:weight + y:width + y:color + weight:width + \n",
      "    weight:color + width:color + sat:weight:width + y:weight:width + \n",
      "    y:weight:color + y:width:color + weight:width:color + y:weight:width:color\n",
      "\n",
      "                       Df Deviance    AIC\n",
      "- sat:color             3   35.038 580.26\n",
      "- y:weight:width:color  2   35.572 582.79\n",
      "- sat:weight:width      1   35.162 584.38\n",
      "<none>                      34.880 586.10\n",
      "+ sat:weight:color      3   33.187 590.41\n",
      "+ sat:width:color       3   33.435 590.65\n",
      "\n",
      "Step:  AIC=580.26\n",
      "spine ~ sat + y + weight + width + color + sat:weight + sat:width + \n",
      "    y:weight + y:width + y:color + weight:width + weight:color + \n",
      "    width:color + sat:weight:width + y:weight:width + y:weight:color + \n",
      "    y:width:color + weight:width:color + y:weight:width:color\n",
      "\n",
      "                       Df Deviance    AIC\n",
      "- y:weight:width:color  2   35.764 576.98\n",
      "- sat:weight:width      1   35.287 578.51\n",
      "<none>                      35.038 580.26\n",
      "+ sat:color             3   34.880 586.10\n",
      "\n",
      "Step:  AIC=576.98\n",
      "spine ~ sat + y + weight + width + color + sat:weight + sat:width + \n",
      "    y:weight + y:width + y:color + weight:width + weight:color + \n",
      "    width:color + sat:weight:width + y:weight:width + y:weight:color + \n",
      "    y:width:color + weight:width:color\n",
      "\n",
      "                       Df Deviance    AIC\n",
      "- y:width:color         3   36.482 571.70\n",
      "- y:weight:color        3   36.693 571.91\n",
      "- weight:width:color    3   37.235 572.45\n",
      "- y:weight:width        1   35.770 574.99\n",
      "- sat:weight:width      1   36.049 575.27\n",
      "<none>                      35.764 576.98\n",
      "+ y:weight:width:color  2   35.038 580.26\n",
      "+ sat:color             3   35.572 582.79\n",
      "\n",
      "Step:  AIC=571.7\n",
      "spine ~ sat + y + weight + width + color + sat:weight + sat:width + \n",
      "    y:weight + y:width + y:color + weight:width + weight:color + \n",
      "    width:color + sat:weight:width + y:weight:width + y:weight:color + \n",
      "    weight:width:color\n",
      "\n",
      "                     Df Deviance    AIC\n",
      "- y:weight:color      3   36.872 566.09\n",
      "- weight:width:color  3   38.080 567.30\n",
      "- y:weight:width      1   36.510 569.73\n",
      "- sat:weight:width    1   36.665 569.88\n",
      "<none>                    36.482 571.70\n",
      "+ y:width:color       3   35.764 576.98\n",
      "+ sat:color           3   36.238 577.46\n",
      "\n",
      "Step:  AIC=566.09\n",
      "spine ~ sat + y + weight + width + color + sat:weight + sat:width + \n",
      "    y:weight + y:width + y:color + weight:width + weight:color + \n",
      "    width:color + sat:weight:width + y:weight:width + weight:width:color\n",
      "\n",
      "                     Df Deviance    AIC\n",
      "- y:color             3   37.781 561.00\n",
      "- weight:width:color  3   38.969 562.19\n",
      "- y:weight:width      1   36.872 564.09\n",
      "- sat:weight:width    1   37.077 564.30\n",
      "<none>                    36.872 566.09\n",
      "+ y:weight:color      3   36.482 571.70\n",
      "+ sat:color           3   36.684 571.90\n",
      "+ y:width:color       3   36.693 571.91\n",
      "\n",
      "Step:  AIC=561\n",
      "spine ~ sat + y + weight + width + color + sat:weight + sat:width + \n",
      "    y:weight + y:width + weight:width + weight:color + width:color + \n",
      "    sat:weight:width + y:weight:width + weight:width:color\n",
      "\n",
      "                     Df Deviance    AIC\n",
      "- weight:width:color  3   39.627 556.85\n",
      "- y:weight:width      1   37.797 559.02\n",
      "- sat:weight:width    1   37.967 559.19\n",
      "<none>                    37.781 561.00\n",
      "+ y:color             3   36.872 566.09\n",
      "+ sat:color           3   37.095 566.31\n"
     ]
    },
    {
     "name": "stdout",
     "output_type": "stream",
     "text": [
      "\n",
      "Step:  AIC=556.85\n",
      "spine ~ sat + y + weight + width + color + sat:weight + sat:width + \n",
      "    y:weight + y:width + weight:width + weight:color + width:color + \n",
      "    sat:weight:width + y:weight:width\n",
      "\n",
      "                     Df Deviance    AIC\n",
      "- weight:color        3   40.166 551.38\n",
      "- width:color         3   40.667 551.89\n",
      "- y:weight:width      1   39.639 554.86\n",
      "- sat:weight:width    1   39.675 554.89\n",
      "<none>                    39.627 556.85\n",
      "+ weight:width:color  3   37.781 561.00\n",
      "+ sat:color           3   38.858 562.08\n",
      "+ y:color             3   38.969 562.19\n",
      "\n",
      "Step:  AIC=551.38\n",
      "spine ~ sat + y + weight + width + color + sat:weight + sat:width + \n",
      "    y:weight + y:width + weight:width + width:color + sat:weight:width + \n",
      "    y:weight:width\n",
      "\n",
      "                   Df Deviance    AIC\n",
      "- width:color       3   42.412 547.63\n",
      "- y:weight:width    1   40.183 549.40\n",
      "- sat:weight:width  1   40.218 549.44\n",
      "<none>                  40.166 551.38\n",
      "+ sat:color         3   39.372 556.59\n",
      "+ y:color           3   39.546 556.76\n",
      "+ weight:color      3   39.627 556.85\n",
      "\n",
      "Step:  AIC=547.63\n",
      "spine ~ sat + y + weight + width + color + sat:weight + sat:width + \n",
      "    y:weight + y:width + weight:width + sat:weight:width + y:weight:width\n",
      "\n",
      "                   Df Deviance    AIC\n",
      "- y:weight:width    1   42.508 545.73\n",
      "- sat:weight:width  1   42.517 545.74\n",
      "<none>                  42.412 547.63\n",
      "- color             3   52.059 551.28\n",
      "+ width:color       3   40.166 551.38\n",
      "+ weight:color      3   40.667 551.89\n",
      "+ y:color           3   41.064 552.28\n",
      "+ sat:color         3   41.376 552.59\n",
      "\n",
      "Step:  AIC=545.73\n",
      "spine ~ sat + y + weight + width + color + sat:weight + sat:width + \n",
      "    y:weight + y:width + weight:width + sat:weight:width\n",
      "\n",
      "                   Df Deviance    AIC\n",
      "- sat:weight:width  1   42.536 543.75\n",
      "- y:width           1   42.543 543.76\n",
      "- y:weight          1   42.579 543.80\n",
      "<none>                  42.508 545.73\n",
      "+ y:weight:width    1   42.412 547.63\n",
      "+ width:color       3   40.183 549.40\n",
      "- color             3   52.362 549.58\n",
      "+ weight:color      3   40.680 549.90\n",
      "+ y:color           3   41.184 550.40\n",
      "+ sat:color         3   41.483 550.70\n",
      "\n",
      "Step:  AIC=543.75\n",
      "spine ~ sat + y + weight + width + color + sat:weight + sat:width + \n",
      "    y:weight + y:width + weight:width\n",
      "\n",
      "                   Df Deviance    AIC\n",
      "- sat:weight        1   42.537 541.76\n",
      "- y:width           1   42.562 541.78\n",
      "- sat:width         1   42.563 541.78\n",
      "- y:weight          1   42.615 541.83\n",
      "- weight:width      1   43.953 543.17\n",
      "<none>                  42.536 543.75\n",
      "+ sat:weight:width  1   42.508 545.73\n",
      "+ y:weight:width    1   42.517 545.74\n",
      "+ width:color       3   40.218 547.44\n",
      "- color             3   52.577 547.80\n",
      "+ weight:color      3   40.712 547.93\n",
      "+ y:color           3   41.221 548.44\n",
      "+ sat:color         3   41.522 548.74\n",
      "\n",
      "Step:  AIC=541.76\n",
      "spine ~ sat + y + weight + width + color + sat:width + y:weight + \n",
      "    y:width + weight:width\n",
      "\n",
      "                 Df Deviance    AIC\n",
      "- y:width         1   42.578 539.80\n",
      "- y:weight        1   42.705 539.92\n",
      "- sat:width       1   42.817 540.04\n",
      "- weight:width    1   43.993 541.21\n",
      "<none>                42.537 541.76\n",
      "+ y:weight:width  1   42.519 543.74\n",
      "+ sat:weight      1   42.536 543.75\n",
      "+ width:color     3   40.228 545.45\n",
      "- color           3   52.582 545.80\n",
      "+ weight:color    3   40.716 545.93\n",
      "+ y:color         3   41.222 546.44\n",
      "+ sat:color       3   41.551 546.77\n",
      "\n",
      "Step:  AIC=539.8\n",
      "spine ~ sat + y + weight + width + color + sat:width + y:weight + \n",
      "    weight:width\n",
      "\n",
      "               Df Deviance    AIC\n",
      "- y:weight      1   42.721 537.94\n",
      "- sat:width     1   43.016 538.23\n",
      "- weight:width  1   44.031 539.25\n",
      "<none>              42.578 539.80\n",
      "+ y:width       1   42.537 541.76\n",
      "+ sat:weight    1   42.562 541.78\n",
      "+ width:color   3   40.239 543.46\n",
      "- color         3   52.659 543.88\n",
      "+ weight:color  3   40.740 543.96\n",
      "+ y:color       3   41.248 544.47\n",
      "+ sat:color     3   41.606 544.83\n",
      "\n",
      "Step:  AIC=537.94\n",
      "spine ~ sat + y + weight + width + color + sat:width + weight:width\n",
      "\n",
      "               Df Deviance    AIC\n",
      "- sat:width     1   43.029 536.25\n",
      "- y             1   43.286 536.51\n",
      "- weight:width  1   44.599 537.82\n",
      "<none>              42.721 537.94\n",
      "+ y:weight      1   42.578 539.80\n",
      "+ sat:weight    1   42.648 539.87\n",
      "+ y:width       1   42.705 539.92\n",
      "+ width:color   3   40.391 541.61\n",
      "- color         3   52.730 541.95\n",
      "+ weight:color  3   40.971 542.19\n",
      "+ y:color       3   41.416 542.63\n",
      "+ sat:color     3   41.709 542.93\n",
      "\n",
      "Step:  AIC=536.25\n",
      "spine ~ sat + y + weight + width + color + weight:width\n",
      "\n",
      "               Df Deviance    AIC\n",
      "- sat           1   43.155 534.37\n",
      "- y             1   43.365 534.58\n",
      "- weight:width  1   44.605 535.82\n",
      "<none>              43.029 536.25\n",
      "+ sat:width     1   42.721 537.94\n",
      "+ sat:weight    1   42.918 538.14\n",
      "+ y:width       1   42.990 538.21\n",
      "+ y:weight      1   43.016 538.23\n",
      "+ width:color   3   40.748 539.97\n",
      "+ weight:color  3   41.387 540.61\n",
      "- color         3   53.390 540.61\n",
      "+ y:color       3   41.631 540.85\n",
      "+ sat:color     3   41.817 541.04\n",
      "\n",
      "Step:  AIC=534.37\n",
      "spine ~ y + weight + width + color + weight:width\n",
      "\n",
      "               Df Deviance    AIC\n",
      "- y             1   43.365 532.58\n",
      "- weight:width  1   44.712 533.93\n",
      "<none>              43.155 534.37\n",
      "+ sat           1   43.029 536.25\n",
      "+ y:width       1   43.125 536.34\n",
      "+ y:weight      1   43.125 536.34\n",
      "+ width:color   3   41.044 538.26\n",
      "+ weight:color  3   41.659 538.88\n",
      "- color         3   53.670 538.89\n",
      "+ y:color       3   41.828 539.05\n",
      "\n",
      "Step:  AIC=532.58\n",
      "spine ~ weight + width + color + weight:width\n",
      "\n",
      "               Df Deviance    AIC\n",
      "- weight:width  1   45.001 532.22\n",
      "<none>              43.365 532.58\n",
      "+ y             1   43.155 534.37\n",
      "+ sat           1   43.365 534.58\n",
      "+ width:color   3   41.332 536.55\n",
      "- color         3   53.700 536.92\n",
      "+ weight:color  3   41.976 537.19\n",
      "\n",
      "Step:  AIC=532.22\n",
      "spine ~ weight + width + color\n",
      "\n",
      "               Df Deviance    AIC\n",
      "- width         1   45.302 530.52\n",
      "- weight        1   45.558 530.78\n",
      "<none>              45.001 532.22\n",
      "+ weight:width  1   43.365 532.58\n",
      "+ y             1   44.712 533.93\n",
      "+ sat           1   44.991 534.21\n",
      "- color         3   54.690 535.91\n",
      "+ width:color   3   43.529 536.75\n",
      "+ weight:color  3   44.389 537.61\n",
      "\n",
      "Step:  AIC=530.52\n",
      "spine ~ weight + color\n",
      "\n",
      "               Df Deviance    AIC\n",
      "- weight        1   45.604 528.82\n",
      "<none>              45.302 530.52\n",
      "+ y             1   44.941 532.16\n",
      "+ width         1   45.001 532.22\n",
      "+ sat           1   45.289 532.51\n",
      "- color         3   54.833 534.05\n",
      "+ weight:color  3   44.696 535.91\n",
      "\n",
      "Step:  AIC=528.82\n",
      "spine ~ color\n",
      "\n",
      "         Df Deviance    AIC\n",
      "<none>        45.604 528.82\n",
      "+ weight  1   45.302 530.52\n",
      "+ y       1   45.467 530.69\n",
      "+ width   1   45.558 530.78\n",
      "+ sat     1   45.597 530.82\n",
      "- color   3   56.157 533.38\n"
     ]
    }
   ],
   "source": [
    "poisson.secondorder.all_variables = glm(spine ~ (sat + y + weight + width + color)^5, family = poisson(link = log), data = data.raw)\n",
    "model.all_variables.forwardbackward =  stepAIC(poisson.secondorder.all_variables, direction = \"both\")\n"
   ]
  },
  {
   "cell_type": "code",
   "execution_count": 5,
   "metadata": {
    "collapsed": true
   },
   "outputs": [],
   "source": [
    "# The way we arrived at spine ~ color in the previous steps are actually a forward selection procedure\n",
    "# We can also perform backwards elimination on the model spine ~ sat + y + weight + width + color\n",
    "# Show that, no matter we perform forward selection, backwards elimination or (forwards + backwards), we actually end up to spine ~ color as well!"
   ]
  },
  {
   "cell_type": "code",
   "execution_count": null,
   "metadata": {
    "collapsed": true
   },
   "outputs": [],
   "source": [
    "# We can take this even further, using the GLMulti package\n",
    "# GLMulti is not iterative, it enumerates ALL possible models, including all possible interactions\n",
    "# This is not an elegant approach, but since we have already done considerable amount of manual analysis, it is better to use this for further confirmation\n",
    "# result: using AIC as criteria, spine ~ color wins! "
   ]
  },
  {
   "cell_type": "code",
   "execution_count": 21,
   "metadata": {},
   "outputs": [
    {
     "name": "stdout",
     "output_type": "stream",
     "text": [
      "Initialization...\n",
      "TASK: Exhaustive screening of candidate set.\n",
      "Fitting...\n",
      "\n",
      "After 50 models:\n",
      "Best model: spine~1+weight+color:weight\n",
      "Crit= 530.505904028689\n",
      "Mean crit= 536.274946505494\n",
      "\n",
      "After 100 models:\n",
      "Best model: spine~1+weight+color:weight\n",
      "Crit= 530.505904028689\n",
      "Mean crit= 536.462021765085\n",
      "\n",
      "After 150 models:\n",
      "Best model: spine~1+weight+color:weight\n",
      "Crit= 530.505904028689\n",
      "Mean crit= 535.921258900688\n",
      "\n",
      "After 200 models:\n",
      "Best model: spine~1+weight+color:weight\n",
      "Crit= 530.505904028689\n",
      "Mean crit= 535.717137987019\n",
      "\n",
      "After 250 models:\n",
      "Best model: spine~1+weight+color:weight\n",
      "Crit= 530.505904028689\n",
      "Mean crit= 535.002577682271\n",
      "\n",
      "After 300 models:\n",
      "Best model: spine~1+weight+color:weight\n",
      "Crit= 530.505904028689\n",
      "Mean crit= 534.677730170719\n",
      "\n",
      "After 350 models:\n",
      "Best model: spine~1+weight+color:weight\n",
      "Crit= 530.505904028689\n",
      "Mean crit= 534.638221667749\n",
      "\n",
      "After 400 models:\n",
      "Best model: spine~1+weight+color:weight\n",
      "Crit= 530.505904028689\n",
      "Mean crit= 534.307165000222\n",
      "\n",
      "After 450 models:\n",
      "Best model: spine~1+weight+color:weight\n",
      "Crit= 530.505904028689\n",
      "Mean crit= 534.203034003725\n",
      "\n",
      "After 500 models:\n",
      "Best model: spine~1+weight+color:weight\n",
      "Crit= 530.505904028689\n",
      "Mean crit= 534.153928647493\n",
      "\n",
      "After 550 models:\n",
      "Best model: spine~1+weight+color:weight\n",
      "Crit= 530.505904028689\n",
      "Mean crit= 534.104291283062\n",
      "\n",
      "After 600 models:\n",
      "Best model: spine~1+weight+color:weight\n",
      "Crit= 530.505904028689\n",
      "Mean crit= 534.083468120811\n",
      "\n",
      "After 650 models:\n",
      "Best model: spine~1+weight+color:weight\n",
      "Crit= 530.505904028689\n",
      "Mean crit= 534.056855575144\n",
      "\n",
      "After 700 models:\n",
      "Best model: spine~1+weight+color:weight\n",
      "Crit= 530.505904028689\n",
      "Mean crit= 534.056855575144\n",
      "\n",
      "After 750 models:\n",
      "Best model: spine~1+weight+color:weight\n",
      "Crit= 530.505904028689\n",
      "Mean crit= 534.056855575144\n",
      "\n",
      "After 800 models:\n",
      "Best model: spine~1+weight+color:weight\n",
      "Crit= 530.505904028689\n",
      "Mean crit= 534.056855575144\n",
      "\n",
      "After 850 models:\n",
      "Best model: spine~1+weight+color:weight\n",
      "Crit= 530.505904028689\n",
      "Mean crit= 534.056855575144\n",
      "\n",
      "After 900 models:\n",
      "Best model: spine~1+weight+color:weight\n",
      "Crit= 530.505904028689\n",
      "Mean crit= 534.056855575144\n",
      "\n",
      "After 950 models:\n",
      "Best model: spine~1+weight+color:weight\n",
      "Crit= 530.505904028689\n",
      "Mean crit= 534.056855575144\n",
      "\n",
      "After 1000 models:\n",
      "Best model: spine~1+weight+color:weight\n",
      "Crit= 530.505904028689\n",
      "Mean crit= 534.056855575144\n",
      "\n",
      "After 1050 models:\n",
      "Best model: spine~1+weight+color:weight\n",
      "Crit= 530.505904028689\n",
      "Mean crit= 534.054647833435\n",
      "\n",
      "After 1100 models:\n",
      "Best model: spine~1+weight+color:weight\n",
      "Crit= 530.505904028689\n",
      "Mean crit= 533.979821624596\n",
      "\n",
      "After 1150 models:\n",
      "Best model: spine~1+weight+color:weight\n",
      "Crit= 530.505904028689\n",
      "Mean crit= 533.953313508326\n",
      "\n",
      "After 1200 models:\n",
      "Best model: spine~1+weight+color:weight\n",
      "Crit= 530.505904028689\n",
      "Mean crit= 533.940522041627\n",
      "\n",
      "After 1250 models:\n",
      "Best model: spine~1+weight+color:weight\n",
      "Crit= 530.505904028689\n",
      "Mean crit= 533.910598456526\n",
      "\n",
      "After 1300 models:\n",
      "Best model: spine~1+weight+color:weight\n",
      "Crit= 530.505904028689\n",
      "Mean crit= 533.843597221406\n",
      "\n",
      "After 1350 models:\n",
      "Best model: spine~1+weight+color:weight\n",
      "Crit= 530.505904028689\n",
      "Mean crit= 533.833120836578\n",
      "\n",
      "After 1400 models:\n",
      "Best model: spine~1+weight+color:weight\n",
      "Crit= 530.505904028689\n",
      "Mean crit= 533.833120836578\n",
      "\n",
      "After 1450 models:\n",
      "Best model: spine~1+weight+color:weight\n",
      "Crit= 530.505904028689\n",
      "Mean crit= 533.801435476592\n",
      "\n",
      "After 1500 models:\n",
      "Best model: spine~1+weight+color:weight\n",
      "Crit= 530.505904028689\n",
      "Mean crit= 533.801435476592\n",
      "\n",
      "After 1550 models:\n",
      "Best model: spine~1+weight+color:weight\n",
      "Crit= 530.505904028689\n",
      "Mean crit= 533.801435476592\n",
      "\n",
      "After 1600 models:\n",
      "Best model: spine~1+weight+color:weight\n",
      "Crit= 530.505904028689\n",
      "Mean crit= 533.801435476592\n",
      "\n",
      "After 1650 models:\n",
      "Best model: spine~1+weight+color:weight\n",
      "Crit= 530.505904028689\n",
      "Mean crit= 533.801435476592\n",
      "\n",
      "After 1700 models:\n",
      "Best model: spine~1+weight+color:weight\n",
      "Crit= 530.505904028689\n",
      "Mean crit= 533.801435476592\n",
      "\n",
      "After 1750 models:\n",
      "Best model: spine~1+weight+color:weight\n",
      "Crit= 530.505904028689\n",
      "Mean crit= 533.801435476592\n",
      "\n",
      "After 1800 models:\n",
      "Best model: spine~1+weight+color:weight\n",
      "Crit= 530.505904028689\n",
      "Mean crit= 533.801435476592\n",
      "\n",
      "After 1850 models:\n",
      "Best model: spine~1+weight+color:weight\n",
      "Crit= 530.505904028689\n",
      "Mean crit= 533.801435476592\n",
      "\n",
      "After 1900 models:\n",
      "Best model: spine~1+weight+color:weight\n",
      "Crit= 530.505904028689\n",
      "Mean crit= 533.801435476592\n",
      "\n",
      "After 1950 models:\n",
      "Best model: spine~1+weight+color:weight\n",
      "Crit= 530.505904028689\n",
      "Mean crit= 533.801435476592\n",
      "\n",
      "After 2000 models:\n",
      "Best model: spine~1+weight+color:weight\n",
      "Crit= 530.505904028689\n",
      "Mean crit= 533.801435476592\n",
      "\n",
      "After 2050 models:\n",
      "Best model: spine~1+weight+color:weight\n",
      "Crit= 530.505904028689\n",
      "Mean crit= 533.801435476592\n",
      "\n",
      "After 2100 models:\n",
      "Best model: spine~1+color\n",
      "Crit= 528.822828735692\n",
      "Mean crit= 533.306084783985\n",
      "\n",
      "After 2150 models:\n",
      "Best model: spine~1+color\n",
      "Crit= 528.822828735692\n",
      "Mean crit= 533.160770851969\n",
      "\n",
      "After 2200 models:\n",
      "Best model: spine~1+color\n",
      "Crit= 528.822828735692\n",
      "Mean crit= 533.142955615297\n",
      "\n",
      "After 2250 models:\n",
      "Best model: spine~1+color\n",
      "Crit= 528.822828735692\n",
      "Mean crit= 533.142955615297\n",
      "\n",
      "After 2300 models:\n",
      "Best model: spine~1+color\n",
      "Crit= 528.822828735692\n",
      "Mean crit= 533.019689613247\n",
      "\n",
      "After 2350 models:\n",
      "Best model: spine~1+color\n",
      "Crit= 528.822828735692\n",
      "Mean crit= 532.982268245521\n",
      "\n",
      "After 2400 models:\n",
      "Best model: spine~1+color\n",
      "Crit= 528.822828735692\n",
      "Mean crit= 532.982268245521\n",
      "\n",
      "After 2450 models:\n",
      "Best model: spine~1+color\n",
      "Crit= 528.822828735692\n",
      "Mean crit= 532.946888912046\n",
      "\n",
      "After 2500 models:\n",
      "Best model: spine~1+color\n",
      "Crit= 528.822828735692\n",
      "Mean crit= 532.946309798336\n",
      "\n",
      "After 2550 models:\n",
      "Best model: spine~1+color\n",
      "Crit= 528.822828735692\n",
      "Mean crit= 532.944463628289\n",
      "\n",
      "After 2600 models:\n",
      "Best model: spine~1+color\n",
      "Crit= 528.822828735692\n",
      "Mean crit= 532.944463628289\n",
      "\n",
      "After 2650 models:\n",
      "Best model: spine~1+color\n",
      "Crit= 528.822828735692\n",
      "Mean crit= 532.944463628289\n",
      "\n",
      "After 2700 models:\n",
      "Best model: spine~1+color\n",
      "Crit= 528.822828735692\n",
      "Mean crit= 532.944463628289\n",
      "\n",
      "After 2750 models:\n",
      "Best model: spine~1+color\n",
      "Crit= 528.822828735692\n",
      "Mean crit= 532.944463628289\n",
      "\n",
      "After 2800 models:\n",
      "Best model: spine~1+color\n",
      "Crit= 528.822828735692\n",
      "Mean crit= 532.944463628289\n",
      "\n",
      "After 2850 models:\n",
      "Best model: spine~1+color\n",
      "Crit= 528.822828735692\n",
      "Mean crit= 532.944463628289\n",
      "\n",
      "After 2900 models:\n",
      "Best model: spine~1+color\n",
      "Crit= 528.822828735692\n",
      "Mean crit= 532.944463628289\n",
      "\n",
      "After 2950 models:\n",
      "Best model: spine~1+color\n",
      "Crit= 528.822828735692\n",
      "Mean crit= 532.944463628289\n",
      "\n",
      "After 3000 models:\n",
      "Best model: spine~1+color\n",
      "Crit= 528.822828735692\n",
      "Mean crit= 532.944463628289\n",
      "\n",
      "After 3050 models:\n",
      "Best model: spine~1+color\n",
      "Crit= 528.822828735692\n",
      "Mean crit= 532.944463628289\n",
      "\n",
      "After 3100 models:\n",
      "Best model: spine~1+color\n",
      "Crit= 528.822828735692\n",
      "Mean crit= 532.944463628289\n",
      "\n",
      "After 3150 models:\n",
      "Best model: spine~1+color\n",
      "Crit= 528.822828735692\n",
      "Mean crit= 532.812972247131\n",
      "\n",
      "After 3200 models:\n",
      "Best model: spine~1+color\n",
      "Crit= 528.822828735692\n",
      "Mean crit= 532.793650101872\n",
      "\n",
      "After 3250 models:\n",
      "Best model: spine~1+color\n",
      "Crit= 528.822828735692\n",
      "Mean crit= 532.791165473327\n",
      "\n",
      "After 3300 models:\n",
      "Best model: spine~1+color\n",
      "Crit= 528.822828735692\n",
      "Mean crit= 532.791165473327\n",
      "\n",
      "After 3350 models:\n",
      "Best model: spine~1+color\n",
      "Crit= 528.822828735692\n",
      "Mean crit= 532.791165473327\n",
      "\n",
      "After 3400 models:\n",
      "Best model: spine~1+color\n",
      "Crit= 528.822828735692\n",
      "Mean crit= 532.791165473327\n",
      "\n",
      "After 3450 models:\n",
      "Best model: spine~1+color\n",
      "Crit= 528.822828735692\n",
      "Mean crit= 532.791165473327\n",
      "\n",
      "After 3500 models:\n",
      "Best model: spine~1+color\n",
      "Crit= 528.822828735692\n",
      "Mean crit= 532.791165473327\n",
      "\n",
      "After 3550 models:\n",
      "Best model: spine~1+color\n",
      "Crit= 528.822828735692\n",
      "Mean crit= 532.771860330129\n",
      "\n",
      "After 3600 models:\n",
      "Best model: spine~1+color\n",
      "Crit= 528.822828735692\n",
      "Mean crit= 532.771860330129\n",
      "\n",
      "After 3650 models:\n",
      "Best model: spine~1+color\n",
      "Crit= 528.822828735692\n",
      "Mean crit= 532.771860330129\n",
      "\n",
      "After 3700 models:\n",
      "Best model: spine~1+color\n",
      "Crit= 528.822828735692\n",
      "Mean crit= 532.771860330129\n",
      "\n",
      "After 3750 models:\n",
      "Best model: spine~1+color\n",
      "Crit= 528.822828735692\n",
      "Mean crit= 532.771860330129\n",
      "\n",
      "After 3800 models:\n",
      "Best model: spine~1+color\n",
      "Crit= 528.822828735692\n",
      "Mean crit= 532.771860330129\n",
      "\n",
      "After 3850 models:\n",
      "Best model: spine~1+color\n",
      "Crit= 528.822828735692\n",
      "Mean crit= 532.771257709653\n",
      "\n",
      "After 3900 models:\n",
      "Best model: spine~1+color\n",
      "Crit= 528.822828735692\n",
      "Mean crit= 532.771257709653\n"
     ]
    },
    {
     "name": "stdout",
     "output_type": "stream",
     "text": [
      "\n",
      "After 3950 models:\n",
      "Best model: spine~1+color\n",
      "Crit= 528.822828735692\n",
      "Mean crit= 532.771257709653\n",
      "\n",
      "After 4000 models:\n",
      "Best model: spine~1+color\n",
      "Crit= 528.822828735692\n",
      "Mean crit= 532.771257709653\n",
      "\n",
      "After 4050 models:\n",
      "Best model: spine~1+color\n",
      "Crit= 528.822828735692\n",
      "Mean crit= 532.771257709653\n",
      "\n",
      "After 4100 models:\n",
      "Best model: spine~1+color\n",
      "Crit= 528.822828735692\n",
      "Mean crit= 532.771257709653\n",
      "\n",
      "After 4150 models:\n",
      "Best model: spine~1+color\n",
      "Crit= 528.822828735692\n",
      "Mean crit= 532.771257709653\n",
      "\n",
      "After 4200 models:\n",
      "Best model: spine~1+color\n",
      "Crit= 528.822828735692\n",
      "Mean crit= 532.771257709653\n",
      "\n",
      "After 4250 models:\n",
      "Best model: spine~1+color\n",
      "Crit= 528.822828735692\n",
      "Mean crit= 532.771257709653\n",
      "\n",
      "After 4300 models:\n",
      "Best model: spine~1+color\n",
      "Crit= 528.822828735692\n",
      "Mean crit= 532.771257709653\n",
      "\n",
      "After 4350 models:\n",
      "Best model: spine~1+color\n",
      "Crit= 528.822828735692\n",
      "Mean crit= 532.771257709653\n",
      "\n",
      "After 4400 models:\n",
      "Best model: spine~1+color\n",
      "Crit= 528.822828735692\n",
      "Mean crit= 532.771257709653\n",
      "\n",
      "After 4450 models:\n",
      "Best model: spine~1+color\n",
      "Crit= 528.822828735692\n",
      "Mean crit= 532.771257709653\n",
      "\n",
      "After 4500 models:\n",
      "Best model: spine~1+color\n",
      "Crit= 528.822828735692\n",
      "Mean crit= 532.771257709653\n",
      "\n",
      "After 4550 models:\n",
      "Best model: spine~1+color\n",
      "Crit= 528.822828735692\n",
      "Mean crit= 532.771257709653\n",
      "\n",
      "After 4600 models:\n",
      "Best model: spine~1+color\n",
      "Crit= 528.822828735692\n",
      "Mean crit= 532.771257709653\n",
      "\n",
      "After 4650 models:\n",
      "Best model: spine~1+color\n",
      "Crit= 528.822828735692\n",
      "Mean crit= 532.771257709653\n",
      "\n",
      "After 4700 models:\n",
      "Best model: spine~1+color\n",
      "Crit= 528.822828735692\n",
      "Mean crit= 532.771257709653\n",
      "\n",
      "After 4750 models:\n",
      "Best model: spine~1+color\n",
      "Crit= 528.822828735692\n",
      "Mean crit= 532.771257709653\n",
      "\n",
      "After 4800 models:\n",
      "Best model: spine~1+color\n",
      "Crit= 528.822828735692\n",
      "Mean crit= 532.771257709653\n",
      "\n",
      "After 4850 models:\n",
      "Best model: spine~1+color\n",
      "Crit= 528.822828735692\n",
      "Mean crit= 532.771257709653\n",
      "\n",
      "After 4900 models:\n",
      "Best model: spine~1+color\n",
      "Crit= 528.822828735692\n",
      "Mean crit= 532.771257709653\n",
      "\n",
      "After 4950 models:\n",
      "Best model: spine~1+color\n",
      "Crit= 528.822828735692\n",
      "Mean crit= 532.771257709653\n",
      "\n",
      "After 5000 models:\n",
      "Best model: spine~1+color\n",
      "Crit= 528.822828735692\n",
      "Mean crit= 532.771257709653\n",
      "\n",
      "After 5050 models:\n",
      "Best model: spine~1+color\n",
      "Crit= 528.822828735692\n",
      "Mean crit= 532.771257709653\n",
      "\n",
      "After 5100 models:\n",
      "Best model: spine~1+color\n",
      "Crit= 528.822828735692\n",
      "Mean crit= 532.771257709653\n",
      "\n",
      "After 5150 models:\n",
      "Best model: spine~1+color\n",
      "Crit= 528.822828735692\n",
      "Mean crit= 532.771257709653\n",
      "Completed.\n"
     ]
    }
   ],
   "source": [
    "require(glmulti)\n",
    "\n",
    "bestaic = glmulti(\"spine\", c(\"sat\", \"y\", \"weight\", \"width\", \"color\"), crit = \"aic\", data.raw[, 2:7], level = 2, plotty = FALSE, \n",
    "                   family = poisson)"
   ]
  },
  {
   "cell_type": "code",
   "execution_count": 3,
   "metadata": {
    "collapsed": true
   },
   "outputs": [],
   "source": [
    "# Should we only consider AIC?\n",
    "# Based on AIC, spine ~ color is better, but based on pseudo R squared, spine ~ weight + weight:color has better predictive power\n",
    "# Is there another metric we can use to confirm that spine ~ color is indeed the best poisson model?"
   ]
  },
  {
   "cell_type": "code",
   "execution_count": 92,
   "metadata": {
    "collapsed": true
   },
   "outputs": [],
   "source": [
    "# Before we settle for spine ~ color, let's make some goodness of fit tests\n",
    "# 1. Pearson Chi square test\n",
    "# 2. Deviance Test"
   ]
  },
  {
   "cell_type": "code",
   "execution_count": 4,
   "metadata": {
    "collapsed": true
   },
   "outputs": [],
   "source": [
    "# GLMulti, stepAIC are only based on AIC, can we measure performance using another metric?\n",
    "# Cross Validation error is good, because it also considers how well the model generalizes to unseen data\n",
    "# define error as RMSE, explain why RMSE makes sense\n",
    "# explain raw CV error and adjusted CV"
   ]
  },
  {
   "cell_type": "code",
   "execution_count": 7,
   "metadata": {
    "collapsed": true
   },
   "outputs": [],
   "source": [
    "# Diagnostic plots of spine ~ color\n",
    "# Cook's distance plot shows that 32th data point might be an outlier because it has huge influence\n",
    "# Check for overdispersion -> seems to be mild and almost negligible\n",
    "# Let's now move on to quasipoisson models"
   ]
  },
  {
   "cell_type": "code",
   "execution_count": 33,
   "metadata": {},
   "outputs": [
    {
     "data": {
      "text/html": [
       "<strong>png:</strong> 2"
      ],
      "text/latex": [
       "\\textbf{png:} 2"
      ],
      "text/markdown": [
       "**png:** 2"
      ],
      "text/plain": [
       "png \n",
       "  2 "
      ]
     },
     "metadata": {},
     "output_type": "display_data"
    }
   ],
   "source": [
    "png(\n",
    "  \"report/plots/poisson/poisson_color_residualsVSfitted.png\",\n",
    "  width     = 2.80,\n",
    "  height    = 2.80,\n",
    "  units     = \"in\",\n",
    "  res       = 400,\n",
    "  pointsize = 4\n",
    ")\n",
    "\n",
    "plot(poisson.color, which = 1)\n",
    "dev.off()"
   ]
  },
  {
   "cell_type": "code",
   "execution_count": 40,
   "metadata": {},
   "outputs": [
    {
     "data": {
      "text/html": [
       "<strong>png:</strong> 2"
      ],
      "text/latex": [
       "\\textbf{png:} 2"
      ],
      "text/markdown": [
       "**png:** 2"
      ],
      "text/plain": [
       "png \n",
       "  2 "
      ]
     },
     "metadata": {},
     "output_type": "display_data"
    }
   ],
   "source": [
    "png(\n",
    "  \"report/plots/poisson/poisson_color_qqplot.png\",\n",
    "  width     = 2.80,\n",
    "  height    = 2.80,\n",
    "  units     = \"in\",\n",
    "  res       = 400,\n",
    "  pointsize = 4\n",
    ")\n",
    "plot(poisson.color, which = 2)\n",
    "dev.off()"
   ]
  },
  {
   "cell_type": "code",
   "execution_count": 38,
   "metadata": {},
   "outputs": [
    {
     "data": {
      "text/html": [
       "<strong>png:</strong> 2"
      ],
      "text/latex": [
       "\\textbf{png:} 2"
      ],
      "text/markdown": [
       "**png:** 2"
      ],
      "text/plain": [
       "png \n",
       "  2 "
      ]
     },
     "metadata": {},
     "output_type": "display_data"
    }
   ],
   "source": [
    "png(\n",
    "  \"report/plots/poisson/poisson_color_cooksdistance.png\",\n",
    "  width     = 2.80,\n",
    "  height    = 2.80,\n",
    "  units     = \"in\",\n",
    "  res       = 400,\n",
    "  pointsize = 4\n",
    ")\n",
    "\n",
    "plot(poisson.color, which = 4)\n",
    "dev.off()"
   ]
  },
  {
   "cell_type": "code",
   "execution_count": 57,
   "metadata": {},
   "outputs": [
    {
     "data": {
      "text/html": [
       "<strong>png:</strong> 2"
      ],
      "text/latex": [
       "\\textbf{png:} 2"
      ],
      "text/markdown": [
       "**png:** 2"
      ],
      "text/plain": [
       "png \n",
       "  2 "
      ]
     },
     "metadata": {},
     "output_type": "display_data"
    }
   ],
   "source": [
    "png(\n",
    "  \"report/plots/quasipoisson/quasipoisson_color_cooksdistance2.png\",\n",
    "  width     = 2.80,\n",
    "  height    = 2.80,\n",
    "  units     = \"in\",\n",
    "  res       = 400,\n",
    "  pointsize = 4\n",
    ")\n",
    "\n",
    "plot(quasipoisson.color, which = 6)\n",
    "dev.off()"
   ]
  },
  {
   "cell_type": "code",
   "execution_count": 40,
   "metadata": {},
   "outputs": [
    {
     "data": {
      "text/html": [
       "<strong>png:</strong> 2"
      ],
      "text/latex": [
       "\\textbf{png:} 2"
      ],
      "text/markdown": [
       "**png:** 2"
      ],
      "text/plain": [
       "png \n",
       "  2 "
      ]
     },
     "metadata": {},
     "output_type": "display_data"
    }
   ],
   "source": [
    "png(\n",
    "  \"report/plots/poisson/poisson_color_standardpearson.png\",\n",
    "  width     = 2.80,\n",
    "  height    = 2.80,\n",
    "  units     = \"in\",\n",
    "  res       = 400,\n",
    "  pointsize = 4\n",
    ")\n",
    "\n",
    "\n",
    "plot(poisson.color, which = 5)\n",
    "dev.off()"
   ]
  },
  {
   "cell_type": "code",
   "execution_count": 12,
   "metadata": {},
   "outputs": [
    {
     "name": "stderr",
     "output_type": "stream",
     "text": [
      "Loading required package: car\n",
      "Loading required package: carData\n",
      "\n",
      "Attaching package: 'car'\n",
      "\n",
      "The following object is masked from 'package:dplyr':\n",
      "\n",
      "    recode\n",
      "\n",
      "The following object is masked from 'package:arm':\n",
      "\n",
      "    logit\n",
      "\n",
      "Loading required package: sandwich\n",
      "Loading required package: survival\n"
     ]
    },
    {
     "name": "stdout",
     "output_type": "stream",
     "text": [
      "\n",
      "\tDispersion test\n",
      "\n",
      "data:  poisson.color\n",
      "z = -17.89, p-value < 2.2e-16\n",
      "alternative hypothesis: true alpha is not equal to 0\n",
      "sample estimates:\n",
      "     alpha \n",
      "-0.3077086 \n",
      "\n",
      "\n",
      "\tDispersion test\n",
      "\n",
      "data:  poisson.color\n",
      "z = -17.795, p-value < 2.2e-16\n",
      "alternative hypothesis: true alpha is not equal to 0\n",
      "sample estimates:\n",
      "     alpha \n",
      "-0.7716545 \n",
      "\n",
      "\n",
      "\tUnderdispersion test\n",
      "\n",
      "data:  poisson.color\n",
      "z = -17.89, p-value < 2.2e-16\n",
      "alternative hypothesis: true alpha is less than 0\n",
      "sample estimates:\n",
      "     alpha \n",
      "-0.3077086 \n",
      "\n",
      "\n",
      "\tUnderdispersion test\n",
      "\n",
      "data:  poisson.color\n",
      "z = -17.795, p-value < 2.2e-16\n",
      "alternative hypothesis: true alpha is less than 0\n",
      "sample estimates:\n",
      "     alpha \n",
      "-0.7716545 \n",
      "\n",
      "\n",
      "\tOverdispersion test\n",
      "\n",
      "data:  poisson.color\n",
      "z = -17.89, p-value = 1\n",
      "alternative hypothesis: true alpha is greater than 0\n",
      "sample estimates:\n",
      "     alpha \n",
      "-0.3077086 \n",
      "\n",
      "\n",
      "\tOverdispersion test\n",
      "\n",
      "data:  poisson.color\n",
      "z = -17.795, p-value = 1\n",
      "alternative hypothesis: true alpha is greater than 0\n",
      "sample estimates:\n",
      "     alpha \n",
      "-0.7716545 \n",
      "\n"
     ]
    }
   ],
   "source": [
    "library(AER)\n",
    "\n",
    "print(dispersiontest(poisson.color,trafo=2, alternative = 'two.sided'))\n",
    "print(dispersiontest(poisson.color,trafo=1, alternative = 'two.sided'))\n",
    "\n",
    "print(dispersiontest(poisson.color,trafo=2, alternative = 'less'))\n",
    "print(dispersiontest(poisson.color,trafo=1, alternative = 'less'))\n",
    "\n",
    "print(dispersiontest(poisson.color,trafo=2, alternative = 'greater'))\n",
    "print(dispersiontest(poisson.color,trafo=1, alternative = 'greater'))"
   ]
  },
  {
   "cell_type": "markdown",
   "metadata": {},
   "source": [
    "### Quasi-poisson regression"
   ]
  },
  {
   "cell_type": "code",
   "execution_count": 8,
   "metadata": {},
   "outputs": [
    {
     "name": "stderr",
     "output_type": "stream",
     "text": [
      "Saving 6.67 x 6.67 in image\n",
      "Saving 6.67 x 6.67 in image\n",
      "Saving 6.67 x 6.67 in image\n",
      "Saving 6.67 x 6.67 in image\n",
      "Saving 6.67 x 6.67 in image\n",
      "Saving 6.67 x 6.67 in image\n",
      "Saving 6.67 x 6.67 in image\n"
     ]
    }
   ],
   "source": [
    "quasipoisson.all_variables = glm(spine ~ sat + y + weight + width + color, family = quasipoisson(link = log), data = data.raw)\n",
    "quasipoisson.color = glm(spine ~ color, family = quasipoisson(link = log), data = data.raw)\n",
    "quasipoisson.weight = glm(spine ~ weight, family = quasipoisson(link = log), data = data.raw)\n",
    "quasipoisson.width = glm(spine ~ width, family = quasipoisson(link = log), data = data.raw)\n",
    "quasipoisson.sat = glm(spine ~ sat, family = quasipoisson(link = log), data = data.raw)\n",
    "quasipoisson.y = glm(spine ~ y, family = quasipoisson(link = log), data = data.raw)\n",
    "quasipoisson.weight.weightcolor = glm(spine ~ weight + weight:color, family = quasipoisson(link = log), data = data.raw)\n",
    "\n",
    "generate_image(quasipoisson.all_variables, \"report/plots/quasipoisson/poisson_all-variables.jpg\")\n",
    "generate_image(quasipoisson.color, \"report/plots/quasipoisson/poisson_color.jpg\")\n",
    "generate_image(quasipoisson.weight, \"report/plots/quasipoisson/poisson_weight.jpg\")\n",
    "generate_image(quasipoisson.width, \"report/plots/quasipoisson/poisson_width.jpg\")\n",
    "generate_image(quasipoisson.sat, \"report/plots/quasipoisson/poisson_sat.jpg\")\n",
    "generate_image(quasipoisson.y, \"report/plots/quasipoisson/poisson_y.jpg\")\n",
    "generate_image(quasipoisson.weight.weightcolor, \"report/plots/quasipoisson/poisson_weight_weightcolor.jpg\")"
   ]
  },
  {
   "cell_type": "code",
   "execution_count": 42,
   "metadata": {},
   "outputs": [
    {
     "data": {
      "text/plain": [
       "\n",
       "Call:\n",
       "glm(formula = spine ~ color, family = quasipoisson(link = log), \n",
       "    data = data.raw)\n",
       "\n",
       "Deviance Residuals: \n",
       "    Min       1Q   Median       3Q      Max  \n",
       "-1.2740  -0.2725   0.1347   0.3656   1.2378  \n",
       "\n",
       "Coefficients:\n",
       "            Estimate Std. Error t value Pr(>|t|)    \n",
       "(Intercept)   0.2877     0.1209   2.380   0.0184 *  \n",
       "color2        0.5922     0.1250   4.737 4.58e-06 ***\n",
       "color3        0.7321     0.1286   5.695 5.35e-08 ***\n",
       "color4        0.7644     0.1354   5.648 6.76e-08 ***\n",
       "---\n",
       "Signif. codes:  0 '***' 0.001 '**' 0.01 '*' 0.05 '.' 0.1 ' ' 1\n",
       "\n",
       "(Dispersion parameter for quasipoisson family taken to be 0.2337508)\n",
       "\n",
       "    Null deviance: 56.157  on 172  degrees of freedom\n",
       "Residual deviance: 45.604  on 169  degrees of freedom\n",
       "AIC: NA\n",
       "\n",
       "Number of Fisher Scoring iterations: 4\n"
      ]
     },
     "metadata": {},
     "output_type": "display_data"
    }
   ],
   "source": [
    "summary(quasipoisson.color)"
   ]
  },
  {
   "cell_type": "code",
   "execution_count": 44,
   "metadata": {},
   "outputs": [
    {
     "data": {
      "text/plain": [
       "\n",
       "Call:\n",
       "glm(formula = spine ~ weight + weight:color, family = quasipoisson(link = log), \n",
       "    data = data.raw)\n",
       "\n",
       "Deviance Residuals: \n",
       "    Min       1Q   Median       3Q      Max  \n",
       "-1.2632  -0.2857   0.1465   0.3297   1.2479  \n",
       "\n",
       "Coefficients:\n",
       "              Estimate Std. Error t value Pr(>|t|)    \n",
       "(Intercept)    1.05231    0.10443  10.077  < 2e-16 ***\n",
       "weight        -0.29698    0.06095  -4.872 2.54e-06 ***\n",
       "weight:color2  0.23164    0.04799   4.827 3.10e-06 ***\n",
       "weight:color3  0.27861    0.05012   5.559 1.05e-07 ***\n",
       "weight:color4  0.29420    0.05432   5.416 2.08e-07 ***\n",
       "---\n",
       "Signif. codes:  0 '***' 0.001 '**' 0.01 '*' 0.05 '.' 0.1 ' ' 1\n",
       "\n",
       "(Dispersion parameter for quasipoisson family taken to be 0.2329614)\n",
       "\n",
       "    Null deviance: 56.157  on 172  degrees of freedom\n",
       "Residual deviance: 45.287  on 168  degrees of freedom\n",
       "AIC: NA\n",
       "\n",
       "Number of Fisher Scoring iterations: 4\n"
      ]
     },
     "metadata": {},
     "output_type": "display_data"
    }
   ],
   "source": [
    "summary(quasipoisson.weight.weightcolor)"
   ]
  },
  {
   "cell_type": "markdown",
   "metadata": {},
   "source": [
    "### Negative binomial regression"
   ]
  },
  {
   "cell_type": "code",
   "execution_count": 50,
   "metadata": {},
   "outputs": [
    {
     "name": "stderr",
     "output_type": "stream",
     "text": [
      "Warning message in theta.ml(Y, mu, sum(w), w, limit = control$maxit, trace = control$trace > :\n",
      "\"iteration limit reached\"Warning message in theta.ml(Y, mu, sum(w), w, limit = control$maxit, trace = control$trace > :\n",
      "\"iteration limit reached\"Warning message in theta.ml(Y, mu, sum(w), w, limit = control$maxit, trace = control$trace > :\n",
      "\"iteration limit reached\"Warning message in theta.ml(Y, mu, sum(w), w, limit = control$maxit, trace = control$trace > :\n",
      "\"iteration limit reached\"Warning message in theta.ml(Y, mu, sum(w), w, limit = control$maxit, trace = control$trace > :\n",
      "\"iteration limit reached\"Warning message in theta.ml(Y, mu, sum(w), w, limit = control$maxit, trace = control$trace > :\n",
      "\"iteration limit reached\"Warning message in theta.ml(Y, mu, sum(w), w, limit = control$maxit, trace = control$trace > :\n",
      "\"iteration limit reached\"Warning message in theta.ml(Y, mu, sum(w), w, limit = control$maxit, trace = control$trace > :\n",
      "\"iteration limit reached\"Warning message in theta.ml(Y, mu, sum(w), w, limit = control$maxit, trace = control$trace > :\n",
      "\"iteration limit reached\"Warning message in theta.ml(Y, mu, sum(w), w, limit = control$maxit, trace = control$trace > :\n",
      "\"iteration limit reached\"Warning message in theta.ml(Y, mu, sum(w), w, limit = control$maxit, trace = control$trace > :\n",
      "\"iteration limit reached\"Warning message in theta.ml(Y, mu, sum(w), w, limit = control$maxit, trace = control$trace > :\n",
      "\"iteration limit reached\"Warning message in theta.ml(Y, mu, sum(w), w, limit = control$maxit, trace = control$trace > :\n",
      "\"iteration limit reached\"Warning message in theta.ml(Y, mu, sum(w), w, limit = control$maxit, trace = control$trace > :\n",
      "\"iteration limit reached\"Saving 6.67 x 6.67 in image\n",
      "Saving 6.67 x 6.67 in image\n",
      "Saving 6.67 x 6.67 in image\n",
      "Saving 6.67 x 6.67 in image\n",
      "Saving 6.67 x 6.67 in image\n",
      "Saving 6.67 x 6.67 in image\n",
      "Saving 6.67 x 6.67 in image\n"
     ]
    }
   ],
   "source": [
    "require(MASS)\n",
    "\n",
    "nb.all_variables = glm.nb(spine ~ sat + y + weight + width + color, data = data.raw)\n",
    "nb.color = glm.nb(spine ~ color, data = data.raw)\n",
    "nb.weight = glm.nb(spine ~ weight, data = data.raw)\n",
    "nb.width = glm.nb(spine ~ width, data = data.raw)\n",
    "nb.sat = glm.nb(spine ~ sat, data = data.raw)\n",
    "nb.y = glm.nb(spine ~ y, data = data.raw)\n",
    "nb.weight.weightcolor = glm.nb(spine ~ weight + weight:color, data = data.raw)\n",
    "\n",
    "generate_image(nb.all_variables, \"report/plots/nb/nb_all-variables.jpg\")\n",
    "generate_image(nb.color, \"report/plots/nb/nb_color.jpg\")\n",
    "generate_image(nb.weight, \"report/plots/nb/nb_weight.jpg\")\n",
    "generate_image(nb.width, \"report/plots/nb/nb_width.jpg\")\n",
    "generate_image(nb.sat, \"report/plots/nb/nb_sat.jpg\")\n",
    "generate_image(nb.y, \"report/plots/nb/nb_y.jpg\")\n",
    "generate_image(nb.weight.weightcolor, \"report/plots/nb/nb_weight_weightcolor.jpg\")"
   ]
  },
  {
   "cell_type": "code",
   "execution_count": 53,
   "metadata": {},
   "outputs": [
    {
     "name": "stderr",
     "output_type": "stream",
     "text": [
      "Warning message in modelUpdate(objects[[i - 1]], objects[[i]]):\n",
      "\"original model was of class \"negbin\", updated model is of class \"glm\"\""
     ]
    },
    {
     "name": "stdout",
     "output_type": "stream",
     "text": [
      "Likelihood ratio test\n",
      "\n",
      "Model 1: spine ~ color\n",
      "Model 2: spine ~ color\n",
      "  #Df  LogLik Df  Chisq Pr(>Chisq)\n",
      "1   5 -260.41                     \n",
      "2   4 -260.41 -1 0.0018     0.9659\n"
     ]
    }
   ],
   "source": [
    "print(lrtest(nb.color, poisson.color))"
   ]
  },
  {
   "cell_type": "code",
   "execution_count": 54,
   "metadata": {},
   "outputs": [
    {
     "data": {
      "text/plain": [
       "\n",
       "Call:\n",
       "glm.nb(formula = spine ~ color, data = data.raw, init.theta = 183942.6653, \n",
       "    link = log)\n",
       "\n",
       "Deviance Residuals: \n",
       "    Min       1Q   Median       3Q      Max  \n",
       "-1.2740  -0.2725   0.1347   0.3656   1.2378  \n",
       "\n",
       "Coefficients:\n",
       "            Estimate Std. Error z value Pr(>|z|)   \n",
       "(Intercept)   0.2877     0.2500   1.151  0.24985   \n",
       "color2        0.5922     0.2586   2.290  0.02202 * \n",
       "color3        0.7321     0.2659   2.754  0.00589 **\n",
       "color4        0.7644     0.2800   2.730  0.00632 **\n",
       "---\n",
       "Signif. codes:  0 '***' 0.001 '**' 0.01 '*' 0.05 '.' 0.1 ' ' 1\n",
       "\n",
       "(Dispersion parameter for Negative Binomial(183942.7) family taken to be 1)\n",
       "\n",
       "    Null deviance: 56.156  on 172  degrees of freedom\n",
       "Residual deviance: 45.603  on 169  degrees of freedom\n",
       "AIC: 530.82\n",
       "\n",
       "Number of Fisher Scoring iterations: 1\n",
       "\n",
       "\n",
       "              Theta:  183943 \n",
       "          Std. Err.:  2342618 \n",
       "Warning while fitting theta: iteration limit reached \n",
       "\n",
       " 2 x log-likelihood:  -520.825 "
      ]
     },
     "metadata": {},
     "output_type": "display_data"
    }
   ],
   "source": [
    "summary(nb.color)"
   ]
  },
  {
   "cell_type": "code",
   "execution_count": 58,
   "metadata": {},
   "outputs": [
    {
     "data": {
      "text/html": [
       "173"
      ],
      "text/latex": [
       "173"
      ],
      "text/markdown": [
       "173"
      ],
      "text/plain": [
       "[1] 173"
      ]
     },
     "metadata": {},
     "output_type": "display_data"
    }
   ],
   "source": [
    "nrow(data.raw)"
   ]
  },
  {
   "cell_type": "markdown",
   "metadata": {},
   "source": [
    "### Outlier"
   ]
  },
  {
   "cell_type": "code",
   "execution_count": 10,
   "metadata": {},
   "outputs": [
    {
     "data": {
      "text/html": [
       "<table>\n",
       "<thead><tr><th></th><th scope=col>crab</th><th scope=col>sat</th><th scope=col>y</th><th scope=col>weight</th><th scope=col>width</th><th scope=col>color</th><th scope=col>spine</th></tr></thead>\n",
       "<tbody>\n",
       "\t<tr><th scope=row>3</th><td>  3  </td><td>9    </td><td>1    </td><td>2.300</td><td>26.0 </td><td>1    </td><td>1    </td></tr>\n",
       "\t<tr><th scope=row>7</th><td>  7  </td><td>0    </td><td>0    </td><td>2.350</td><td>26.5 </td><td>1    </td><td>1    </td></tr>\n",
       "\t<tr><th scope=row>16</th><td> 16  </td><td>8    </td><td>1    </td><td>2.950</td><td>27.1 </td><td>1    </td><td>1    </td></tr>\n",
       "\t<tr><th scope=row>22</th><td> 22  </td><td>3    </td><td>1    </td><td>2.300</td><td>25.0 </td><td>1    </td><td>2    </td></tr>\n",
       "\t<tr><th scope=row>31</th><td> 31  </td><td>4    </td><td>1    </td><td>3.200</td><td>29.3 </td><td>1    </td><td>1    </td></tr>\n",
       "\t<tr><th scope=row>32</th><td> 32  </td><td>0    </td><td>0    </td><td>2.600</td><td>25.8 </td><td>1    </td><td>3    </td></tr>\n",
       "\t<tr><th scope=row>42</th><td> 42  </td><td>5    </td><td>1    </td><td>2.800</td><td>26.1 </td><td>1    </td><td>1    </td></tr>\n",
       "\t<tr><th scope=row>43</th><td> 43  </td><td>6    </td><td>1    </td><td>2.500</td><td>27.7 </td><td>1    </td><td>1    </td></tr>\n",
       "\t<tr><th scope=row>53</th><td> 53  </td><td>6    </td><td>1    </td><td>2.700</td><td>27.4 </td><td>1    </td><td>1    </td></tr>\n",
       "\t<tr><th scope=row>122</th><td>122  </td><td>2    </td><td>1    </td><td>3.275</td><td>30.2 </td><td>1    </td><td>1    </td></tr>\n",
       "\t<tr><th scope=row>131</th><td>131  </td><td>6    </td><td>1    </td><td>1.950</td><td>24.5 </td><td>1    </td><td>2    </td></tr>\n",
       "\t<tr><th scope=row>171</th><td>171  </td><td>0    </td><td>0    </td><td>2.625</td><td>28.0 </td><td>1    </td><td>1    </td></tr>\n",
       "</tbody>\n",
       "</table>\n"
      ],
      "text/latex": [
       "\\begin{tabular}{r|lllllll}\n",
       "  & crab & sat & y & weight & width & color & spine\\\\\n",
       "\\hline\n",
       "\t3 &   3   & 9     & 1     & 2.300 & 26.0  & 1     & 1    \\\\\n",
       "\t7 &   7   & 0     & 0     & 2.350 & 26.5  & 1     & 1    \\\\\n",
       "\t16 &  16   & 8     & 1     & 2.950 & 27.1  & 1     & 1    \\\\\n",
       "\t22 &  22   & 3     & 1     & 2.300 & 25.0  & 1     & 2    \\\\\n",
       "\t31 &  31   & 4     & 1     & 3.200 & 29.3  & 1     & 1    \\\\\n",
       "\t32 &  32   & 0     & 0     & 2.600 & 25.8  & 1     & 3    \\\\\n",
       "\t42 &  42   & 5     & 1     & 2.800 & 26.1  & 1     & 1    \\\\\n",
       "\t43 &  43   & 6     & 1     & 2.500 & 27.7  & 1     & 1    \\\\\n",
       "\t53 &  53   & 6     & 1     & 2.700 & 27.4  & 1     & 1    \\\\\n",
       "\t122 & 122   & 2     & 1     & 3.275 & 30.2  & 1     & 1    \\\\\n",
       "\t131 & 131   & 6     & 1     & 1.950 & 24.5  & 1     & 2    \\\\\n",
       "\t171 & 171   & 0     & 0     & 2.625 & 28.0  & 1     & 1    \\\\\n",
       "\\end{tabular}\n"
      ],
      "text/markdown": [
       "\n",
       "| <!--/--> | crab | sat | y | weight | width | color | spine | \n",
       "|---|---|---|---|---|---|---|---|---|---|---|---|\n",
       "| 3 |   3   | 9     | 1     | 2.300 | 26.0  | 1     | 1     | \n",
       "| 7 |   7   | 0     | 0     | 2.350 | 26.5  | 1     | 1     | \n",
       "| 16 |  16   | 8     | 1     | 2.950 | 27.1  | 1     | 1     | \n",
       "| 22 |  22   | 3     | 1     | 2.300 | 25.0  | 1     | 2     | \n",
       "| 31 |  31   | 4     | 1     | 3.200 | 29.3  | 1     | 1     | \n",
       "| 32 |  32   | 0     | 0     | 2.600 | 25.8  | 1     | 3     | \n",
       "| 42 |  42   | 5     | 1     | 2.800 | 26.1  | 1     | 1     | \n",
       "| 43 |  43   | 6     | 1     | 2.500 | 27.7  | 1     | 1     | \n",
       "| 53 |  53   | 6     | 1     | 2.700 | 27.4  | 1     | 1     | \n",
       "| 122 | 122   | 2     | 1     | 3.275 | 30.2  | 1     | 1     | \n",
       "| 131 | 131   | 6     | 1     | 1.950 | 24.5  | 1     | 2     | \n",
       "| 171 | 171   | 0     | 0     | 2.625 | 28.0  | 1     | 1     | \n",
       "\n",
       "\n"
      ],
      "text/plain": [
       "    crab sat y weight width color spine\n",
       "3     3  9   1 2.300  26.0  1     1    \n",
       "7     7  0   0 2.350  26.5  1     1    \n",
       "16   16  8   1 2.950  27.1  1     1    \n",
       "22   22  3   1 2.300  25.0  1     2    \n",
       "31   31  4   1 3.200  29.3  1     1    \n",
       "32   32  0   0 2.600  25.8  1     3    \n",
       "42   42  5   1 2.800  26.1  1     1    \n",
       "43   43  6   1 2.500  27.7  1     1    \n",
       "53   53  6   1 2.700  27.4  1     1    \n",
       "122 122  2   1 3.275  30.2  1     1    \n",
       "131 131  6   1 1.950  24.5  1     2    \n",
       "171 171  0   0 2.625  28.0  1     1    "
      ]
     },
     "metadata": {},
     "output_type": "display_data"
    }
   ],
   "source": [
    "data.raw[which(data.raw$color == 1), ]"
   ]
  },
  {
   "cell_type": "code",
   "execution_count": 15,
   "metadata": {
    "collapsed": true
   },
   "outputs": [],
   "source": [
    "data.raw.without32 = data.raw[-c(32), ] "
   ]
  },
  {
   "cell_type": "code",
   "execution_count": 19,
   "metadata": {
    "collapsed": true
   },
   "outputs": [],
   "source": [
    "poisson.color.without32 = glm(spine ~ color, family = poisson(link = log), data = data.raw.without32)\n",
    "quasipoisson.color.without32 = glm(spine ~ color, family = quasipoisson(link = log), data = data.raw.without32)"
   ]
  },
  {
   "cell_type": "code",
   "execution_count": 62,
   "metadata": {},
   "outputs": [
    {
     "name": "stderr",
     "output_type": "stream",
     "text": [
      "Saving 6.67 x 6.67 in image\n"
     ]
    }
   ],
   "source": [
    "generate_image(quasipoisson.color.without32, \"report/plots/quasipoisson/quasipoisson_color_without32.jpg\")"
   ]
  },
  {
   "cell_type": "code",
   "execution_count": 63,
   "metadata": {},
   "outputs": [
    {
     "data": {
      "text/plain": [
       "\n",
       "Call:\n",
       "glm(formula = spine ~ color, family = quasipoisson(link = log), \n",
       "    data = data.raw.without32)\n",
       "\n",
       "Deviance Residuals: \n",
       "    Min       1Q   Median       3Q      Max  \n",
       "-1.2740  -0.1718   0.1347   0.3656   0.6841  \n",
       "\n",
       "Coefficients:\n",
       "            Estimate Std. Error t value Pr(>|t|)    \n",
       "(Intercept)   0.1671     0.1308   1.277    0.203    \n",
       "color2        0.7128     0.1345   5.299 3.61e-07 ***\n",
       "color3        0.8528     0.1376   6.196 4.32e-09 ***\n",
       "color4        0.8850     0.1437   6.159 5.24e-09 ***\n",
       "---\n",
       "Signif. codes:  0 '***' 0.001 '**' 0.01 '*' 0.05 '.' 0.1 ' ' 1\n",
       "\n",
       "(Dispersion parameter for quasipoisson family taken to be 0.2225504)\n",
       "\n",
       "    Null deviance: 56.056  on 171  degrees of freedom\n",
       "Residual deviance: 43.875  on 168  degrees of freedom\n",
       "AIC: NA\n",
       "\n",
       "Number of Fisher Scoring iterations: 4\n"
      ]
     },
     "metadata": {},
     "output_type": "display_data"
    }
   ],
   "source": [
    "summary(quasipoisson.color.without32)"
   ]
  },
  {
   "cell_type": "code",
   "execution_count": 64,
   "metadata": {},
   "outputs": [
    {
     "data": {
      "text/plain": [
       "\n",
       "Call:\n",
       "glm(formula = spine ~ color, family = quasipoisson(link = log), \n",
       "    data = data.raw)\n",
       "\n",
       "Deviance Residuals: \n",
       "    Min       1Q   Median       3Q      Max  \n",
       "-1.2740  -0.2725   0.1347   0.3656   1.2378  \n",
       "\n",
       "Coefficients:\n",
       "            Estimate Std. Error t value Pr(>|t|)    \n",
       "(Intercept)   0.2877     0.1209   2.380   0.0184 *  \n",
       "color2        0.5922     0.1250   4.737 4.58e-06 ***\n",
       "color3        0.7321     0.1286   5.695 5.35e-08 ***\n",
       "color4        0.7644     0.1354   5.648 6.76e-08 ***\n",
       "---\n",
       "Signif. codes:  0 '***' 0.001 '**' 0.01 '*' 0.05 '.' 0.1 ' ' 1\n",
       "\n",
       "(Dispersion parameter for quasipoisson family taken to be 0.2337508)\n",
       "\n",
       "    Null deviance: 56.157  on 172  degrees of freedom\n",
       "Residual deviance: 45.604  on 169  degrees of freedom\n",
       "AIC: NA\n",
       "\n",
       "Number of Fisher Scoring iterations: 4\n"
      ]
     },
     "metadata": {},
     "output_type": "display_data"
    }
   ],
   "source": [
    "summary(quasipoisson.color)"
   ]
  },
  {
   "cell_type": "code",
   "execution_count": 20,
   "metadata": {},
   "outputs": [
    {
     "data": {
      "text/plain": [
       "\n",
       "\tOverdispersion test\n",
       "\n",
       "data:  poisson.color.without32\n",
       "z = -18.029, p-value = 1\n",
       "alternative hypothesis: true dispersion is greater than 1\n",
       "sample estimates:\n",
       "dispersion \n",
       " 0.2173744 \n"
      ]
     },
     "metadata": {},
     "output_type": "display_data"
    }
   ],
   "source": [
    "dispersiontest(poisson.color.without32)"
   ]
  },
  {
   "cell_type": "code",
   "execution_count": 22,
   "metadata": {},
   "outputs": [
    {
     "data": {
      "text/html": [
       "<strong>png:</strong> 2"
      ],
      "text/latex": [
       "\\textbf{png:} 2"
      ],
      "text/markdown": [
       "**png:** 2"
      ],
      "text/plain": [
       "png \n",
       "  2 "
      ]
     },
     "metadata": {},
     "output_type": "display_data"
    }
   ],
   "source": [
    "png(\n",
    "  \"report/plots/quasipoisson/quasipoisson_color__without32_cooksdistance.png\",\n",
    "  width     = 2.80,\n",
    "  height    = 2.80,\n",
    "  units     = \"in\",\n",
    "  res       = 400,\n",
    "  pointsize = 4\n",
    ")\n",
    "\n",
    "plot(poisson.color.without32, which = 4)\n",
    "dev.off()"
   ]
  },
  {
   "cell_type": "code",
   "execution_count": 23,
   "metadata": {},
   "outputs": [
    {
     "data": {
      "text/html": [
       "<strong>png:</strong> 2"
      ],
      "text/latex": [
       "\\textbf{png:} 2"
      ],
      "text/markdown": [
       "**png:** 2"
      ],
      "text/plain": [
       "png \n",
       "  2 "
      ]
     },
     "metadata": {},
     "output_type": "display_data"
    }
   ],
   "source": [
    "png(\n",
    "  \"report/plots/quasipoisson/quasipoisson_color__without32_cooksdistance2.png\",\n",
    "  width     = 2.80,\n",
    "  height    = 2.80,\n",
    "  units     = \"in\",\n",
    "  res       = 400,\n",
    "  pointsize = 4\n",
    ")\n",
    "\n",
    "plot(poisson.color.without32, which = 6)\n",
    "dev.off()"
   ]
  },
  {
   "cell_type": "code",
   "execution_count": 27,
   "metadata": {},
   "outputs": [
    {
     "data": {
      "text/html": [
       "0.19356135289007"
      ],
      "text/latex": [
       "0.19356135289007"
      ],
      "text/markdown": [
       "0.19356135289007"
      ],
      "text/plain": [
       "[1] 0.1935614"
      ]
     },
     "metadata": {},
     "output_type": "display_data"
    }
   ],
   "source": [
    "pseudo_R_squared <- function(mod) {\n",
    "    return (1 - (mod$deviance)/(mod$null.deviance))\n",
    "}\n",
    "\n",
    "pseudo_R_squared(poisson.weight.weightcolor)"
   ]
  },
  {
   "cell_type": "code",
   "execution_count": null,
   "metadata": {
    "collapsed": true
   },
   "outputs": [],
   "source": []
  },
  {
   "cell_type": "code",
   "execution_count": null,
   "metadata": {
    "collapsed": true
   },
   "outputs": [],
   "source": []
  }
 ],
 "metadata": {
  "kernelspec": {
   "display_name": "R",
   "language": "R",
   "name": "ir"
  },
  "language_info": {
   "codemirror_mode": "r",
   "file_extension": ".r",
   "mimetype": "text/x-r-source",
   "name": "R",
   "pygments_lexer": "r",
   "version": "3.5.0"
  },
  "varInspector": {
   "cols": {
    "lenName": 16,
    "lenType": 16,
    "lenVar": 40
   },
   "kernels_config": {
    "python": {
     "delete_cmd_postfix": "",
     "delete_cmd_prefix": "del ",
     "library": "var_list.py",
     "varRefreshCmd": "print(var_dic_list())"
    },
    "r": {
     "delete_cmd_postfix": ") ",
     "delete_cmd_prefix": "rm(",
     "library": "var_list.r",
     "varRefreshCmd": "cat(var_dic_list()) "
    }
   },
   "types_to_exclude": [
    "module",
    "function",
    "builtin_function_or_method",
    "instance",
    "_Feature"
   ],
   "window_display": false
  }
 },
 "nbformat": 4,
 "nbformat_minor": 2
}
