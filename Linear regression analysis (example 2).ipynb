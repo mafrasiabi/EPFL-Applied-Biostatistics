{
 "cells": [
  {
   "cell_type": "markdown",
   "metadata": {},
   "source": [
    "# Linear regression analysis (example 2)"
   ]
  },
  {
   "cell_type": "markdown",
   "metadata": {},
   "source": [
    "### Load packages and datasets"
   ]
  },
  {
   "cell_type": "code",
   "execution_count": 26,
   "metadata": {},
   "outputs": [
    {
     "data": {
      "text/html": [
       "<ol class=list-inline>\n",
       "\t<li>'HSAUR3'</li>\n",
       "\t<li>'tools'</li>\n",
       "\t<li>'stats'</li>\n",
       "\t<li>'graphics'</li>\n",
       "\t<li>'grDevices'</li>\n",
       "\t<li>'utils'</li>\n",
       "\t<li>'datasets'</li>\n",
       "\t<li>'methods'</li>\n",
       "\t<li>'base'</li>\n",
       "</ol>\n"
      ],
      "text/latex": [
       "\\begin{enumerate*}\n",
       "\\item 'HSAUR3'\n",
       "\\item 'tools'\n",
       "\\item 'stats'\n",
       "\\item 'graphics'\n",
       "\\item 'grDevices'\n",
       "\\item 'utils'\n",
       "\\item 'datasets'\n",
       "\\item 'methods'\n",
       "\\item 'base'\n",
       "\\end{enumerate*}\n"
      ],
      "text/markdown": [
       "1. 'HSAUR3'\n",
       "2. 'tools'\n",
       "3. 'stats'\n",
       "4. 'graphics'\n",
       "5. 'grDevices'\n",
       "6. 'utils'\n",
       "7. 'datasets'\n",
       "8. 'methods'\n",
       "9. 'base'\n",
       "\n",
       "\n"
      ],
      "text/plain": [
       "[1] \"HSAUR3\"    \"tools\"     \"stats\"     \"graphics\"  \"grDevices\" \"utils\"    \n",
       "[7] \"datasets\"  \"methods\"   \"base\"     "
      ]
     },
     "metadata": {},
     "output_type": "display_data"
    }
   ],
   "source": [
    "# Load HSAUR3 package\n",
    "library(HSAUR3)\n",
    "\n",
    "# Verify \n",
    "(.packages())"
   ]
  },
  {
   "cell_type": "code",
   "execution_count": 27,
   "metadata": {
    "collapsed": true
   },
   "outputs": [],
   "source": [
    "# Load the clouds dataset\n",
    "data(\"clouds\", package = \"HSAUR3\")"
   ]
  },
  {
   "cell_type": "code",
   "execution_count": 28,
   "metadata": {},
   "outputs": [
    {
     "data": {
      "text/html": [
       "<table>\n",
       "<thead><tr><th scope=col>seeding</th><th scope=col>time</th><th scope=col>sne</th><th scope=col>cloudcover</th><th scope=col>prewetness</th><th scope=col>echomotion</th><th scope=col>rainfall</th></tr></thead>\n",
       "<tbody>\n",
       "\t<tr><td>no        </td><td> 0        </td><td>1.75      </td><td>13.4      </td><td>0.274     </td><td>stationary</td><td>12.85     </td></tr>\n",
       "\t<tr><td>yes       </td><td> 1        </td><td>2.70      </td><td>37.9      </td><td>1.267     </td><td>moving    </td><td> 5.52     </td></tr>\n",
       "\t<tr><td>yes       </td><td> 3        </td><td>4.10      </td><td> 3.9      </td><td>0.198     </td><td>stationary</td><td> 6.29     </td></tr>\n",
       "\t<tr><td>no        </td><td> 4        </td><td>2.35      </td><td> 5.3      </td><td>0.526     </td><td>moving    </td><td> 6.11     </td></tr>\n",
       "\t<tr><td>yes       </td><td> 6        </td><td>4.25      </td><td> 7.1      </td><td>0.250     </td><td>moving    </td><td> 2.45     </td></tr>\n",
       "\t<tr><td>no        </td><td> 9        </td><td>1.60      </td><td> 6.9      </td><td>0.018     </td><td>stationary</td><td> 3.61     </td></tr>\n",
       "\t<tr><td>no        </td><td>18        </td><td>1.30      </td><td> 4.6      </td><td>0.307     </td><td>moving    </td><td> 0.47     </td></tr>\n",
       "\t<tr><td>no        </td><td>25        </td><td>3.35      </td><td> 4.9      </td><td>0.194     </td><td>moving    </td><td> 4.56     </td></tr>\n",
       "\t<tr><td>no        </td><td>27        </td><td>2.85      </td><td>12.1      </td><td>0.751     </td><td>moving    </td><td> 6.35     </td></tr>\n",
       "\t<tr><td>yes       </td><td>28        </td><td>2.20      </td><td> 5.2      </td><td>0.084     </td><td>moving    </td><td> 5.06     </td></tr>\n",
       "\t<tr><td>yes       </td><td>29        </td><td>4.40      </td><td> 4.1      </td><td>0.236     </td><td>moving    </td><td> 2.76     </td></tr>\n",
       "\t<tr><td>yes       </td><td>32        </td><td>3.10      </td><td> 2.8      </td><td>0.214     </td><td>moving    </td><td> 4.05     </td></tr>\n",
       "\t<tr><td>no        </td><td>33        </td><td>3.95      </td><td> 6.8      </td><td>0.796     </td><td>moving    </td><td> 5.74     </td></tr>\n",
       "\t<tr><td>yes       </td><td>35        </td><td>2.90      </td><td> 3.0      </td><td>0.124     </td><td>moving    </td><td> 4.84     </td></tr>\n",
       "\t<tr><td>yes       </td><td>38        </td><td>2.05      </td><td> 7.0      </td><td>0.144     </td><td>moving    </td><td>11.86     </td></tr>\n",
       "\t<tr><td>no        </td><td>39        </td><td>4.00      </td><td>11.3      </td><td>0.398     </td><td>moving    </td><td> 4.45     </td></tr>\n",
       "\t<tr><td>no        </td><td>53        </td><td>3.35      </td><td> 4.2      </td><td>0.237     </td><td>stationary</td><td> 3.66     </td></tr>\n",
       "\t<tr><td>yes       </td><td>55        </td><td>3.70      </td><td> 3.3      </td><td>0.960     </td><td>moving    </td><td> 4.22     </td></tr>\n",
       "\t<tr><td>no        </td><td>56        </td><td>3.80      </td><td> 2.2      </td><td>0.230     </td><td>moving    </td><td> 1.16     </td></tr>\n",
       "\t<tr><td>yes       </td><td>59        </td><td>3.40      </td><td> 6.5      </td><td>0.142     </td><td>stationary</td><td> 5.45     </td></tr>\n",
       "\t<tr><td>yes       </td><td>65        </td><td>3.15      </td><td> 3.1      </td><td>0.073     </td><td>moving    </td><td> 2.02     </td></tr>\n",
       "\t<tr><td>no        </td><td>68        </td><td>3.15      </td><td> 2.6      </td><td>0.136     </td><td>moving    </td><td> 0.82     </td></tr>\n",
       "\t<tr><td>yes       </td><td>82        </td><td>4.01      </td><td> 8.3      </td><td>0.123     </td><td>moving    </td><td> 1.09     </td></tr>\n",
       "\t<tr><td>no        </td><td>83        </td><td>4.65      </td><td> 7.4      </td><td>0.168     </td><td>moving    </td><td> 0.28     </td></tr>\n",
       "</tbody>\n",
       "</table>\n"
      ],
      "text/latex": [
       "\\begin{tabular}{r|lllllll}\n",
       " seeding & time & sne & cloudcover & prewetness & echomotion & rainfall\\\\\n",
       "\\hline\n",
       "\t no         &  0         & 1.75       & 13.4       & 0.274      & stationary & 12.85     \\\\\n",
       "\t yes        &  1         & 2.70       & 37.9       & 1.267      & moving     &  5.52     \\\\\n",
       "\t yes        &  3         & 4.10       &  3.9       & 0.198      & stationary &  6.29     \\\\\n",
       "\t no         &  4         & 2.35       &  5.3       & 0.526      & moving     &  6.11     \\\\\n",
       "\t yes        &  6         & 4.25       &  7.1       & 0.250      & moving     &  2.45     \\\\\n",
       "\t no         &  9         & 1.60       &  6.9       & 0.018      & stationary &  3.61     \\\\\n",
       "\t no         & 18         & 1.30       &  4.6       & 0.307      & moving     &  0.47     \\\\\n",
       "\t no         & 25         & 3.35       &  4.9       & 0.194      & moving     &  4.56     \\\\\n",
       "\t no         & 27         & 2.85       & 12.1       & 0.751      & moving     &  6.35     \\\\\n",
       "\t yes        & 28         & 2.20       &  5.2       & 0.084      & moving     &  5.06     \\\\\n",
       "\t yes        & 29         & 4.40       &  4.1       & 0.236      & moving     &  2.76     \\\\\n",
       "\t yes        & 32         & 3.10       &  2.8       & 0.214      & moving     &  4.05     \\\\\n",
       "\t no         & 33         & 3.95       &  6.8       & 0.796      & moving     &  5.74     \\\\\n",
       "\t yes        & 35         & 2.90       &  3.0       & 0.124      & moving     &  4.84     \\\\\n",
       "\t yes        & 38         & 2.05       &  7.0       & 0.144      & moving     & 11.86     \\\\\n",
       "\t no         & 39         & 4.00       & 11.3       & 0.398      & moving     &  4.45     \\\\\n",
       "\t no         & 53         & 3.35       &  4.2       & 0.237      & stationary &  3.66     \\\\\n",
       "\t yes        & 55         & 3.70       &  3.3       & 0.960      & moving     &  4.22     \\\\\n",
       "\t no         & 56         & 3.80       &  2.2       & 0.230      & moving     &  1.16     \\\\\n",
       "\t yes        & 59         & 3.40       &  6.5       & 0.142      & stationary &  5.45     \\\\\n",
       "\t yes        & 65         & 3.15       &  3.1       & 0.073      & moving     &  2.02     \\\\\n",
       "\t no         & 68         & 3.15       &  2.6       & 0.136      & moving     &  0.82     \\\\\n",
       "\t yes        & 82         & 4.01       &  8.3       & 0.123      & moving     &  1.09     \\\\\n",
       "\t no         & 83         & 4.65       &  7.4       & 0.168      & moving     &  0.28     \\\\\n",
       "\\end{tabular}\n"
      ],
      "text/markdown": [
       "\n",
       "seeding | time | sne | cloudcover | prewetness | echomotion | rainfall | \n",
       "|---|---|---|---|---|---|---|---|---|---|---|---|---|---|---|---|---|---|---|---|---|---|---|---|\n",
       "| no         |  0         | 1.75       | 13.4       | 0.274      | stationary | 12.85      | \n",
       "| yes        |  1         | 2.70       | 37.9       | 1.267      | moving     |  5.52      | \n",
       "| yes        |  3         | 4.10       |  3.9       | 0.198      | stationary |  6.29      | \n",
       "| no         |  4         | 2.35       |  5.3       | 0.526      | moving     |  6.11      | \n",
       "| yes        |  6         | 4.25       |  7.1       | 0.250      | moving     |  2.45      | \n",
       "| no         |  9         | 1.60       |  6.9       | 0.018      | stationary |  3.61      | \n",
       "| no         | 18         | 1.30       |  4.6       | 0.307      | moving     |  0.47      | \n",
       "| no         | 25         | 3.35       |  4.9       | 0.194      | moving     |  4.56      | \n",
       "| no         | 27         | 2.85       | 12.1       | 0.751      | moving     |  6.35      | \n",
       "| yes        | 28         | 2.20       |  5.2       | 0.084      | moving     |  5.06      | \n",
       "| yes        | 29         | 4.40       |  4.1       | 0.236      | moving     |  2.76      | \n",
       "| yes        | 32         | 3.10       |  2.8       | 0.214      | moving     |  4.05      | \n",
       "| no         | 33         | 3.95       |  6.8       | 0.796      | moving     |  5.74      | \n",
       "| yes        | 35         | 2.90       |  3.0       | 0.124      | moving     |  4.84      | \n",
       "| yes        | 38         | 2.05       |  7.0       | 0.144      | moving     | 11.86      | \n",
       "| no         | 39         | 4.00       | 11.3       | 0.398      | moving     |  4.45      | \n",
       "| no         | 53         | 3.35       |  4.2       | 0.237      | stationary |  3.66      | \n",
       "| yes        | 55         | 3.70       |  3.3       | 0.960      | moving     |  4.22      | \n",
       "| no         | 56         | 3.80       |  2.2       | 0.230      | moving     |  1.16      | \n",
       "| yes        | 59         | 3.40       |  6.5       | 0.142      | stationary |  5.45      | \n",
       "| yes        | 65         | 3.15       |  3.1       | 0.073      | moving     |  2.02      | \n",
       "| no         | 68         | 3.15       |  2.6       | 0.136      | moving     |  0.82      | \n",
       "| yes        | 82         | 4.01       |  8.3       | 0.123      | moving     |  1.09      | \n",
       "| no         | 83         | 4.65       |  7.4       | 0.168      | moving     |  0.28      | \n",
       "\n",
       "\n"
      ],
      "text/plain": [
       "   seeding time sne  cloudcover prewetness echomotion rainfall\n",
       "1  no       0   1.75 13.4       0.274      stationary 12.85   \n",
       "2  yes      1   2.70 37.9       1.267      moving      5.52   \n",
       "3  yes      3   4.10  3.9       0.198      stationary  6.29   \n",
       "4  no       4   2.35  5.3       0.526      moving      6.11   \n",
       "5  yes      6   4.25  7.1       0.250      moving      2.45   \n",
       "6  no       9   1.60  6.9       0.018      stationary  3.61   \n",
       "7  no      18   1.30  4.6       0.307      moving      0.47   \n",
       "8  no      25   3.35  4.9       0.194      moving      4.56   \n",
       "9  no      27   2.85 12.1       0.751      moving      6.35   \n",
       "10 yes     28   2.20  5.2       0.084      moving      5.06   \n",
       "11 yes     29   4.40  4.1       0.236      moving      2.76   \n",
       "12 yes     32   3.10  2.8       0.214      moving      4.05   \n",
       "13 no      33   3.95  6.8       0.796      moving      5.74   \n",
       "14 yes     35   2.90  3.0       0.124      moving      4.84   \n",
       "15 yes     38   2.05  7.0       0.144      moving     11.86   \n",
       "16 no      39   4.00 11.3       0.398      moving      4.45   \n",
       "17 no      53   3.35  4.2       0.237      stationary  3.66   \n",
       "18 yes     55   3.70  3.3       0.960      moving      4.22   \n",
       "19 no      56   3.80  2.2       0.230      moving      1.16   \n",
       "20 yes     59   3.40  6.5       0.142      stationary  5.45   \n",
       "21 yes     65   3.15  3.1       0.073      moving      2.02   \n",
       "22 no      68   3.15  2.6       0.136      moving      0.82   \n",
       "23 yes     82   4.01  8.3       0.123      moving      1.09   \n",
       "24 no      83   4.65  7.4       0.168      moving      0.28   "
      ]
     },
     "metadata": {},
     "output_type": "display_data"
    }
   ],
   "source": [
    "# Look at the dataset\n",
    "clouds"
   ]
  },
  {
   "cell_type": "code",
   "execution_count": 29,
   "metadata": {},
   "outputs": [
    {
     "data": {
      "image/png": "[encoded data removed]",
      "text/plain": [
       "plot without title"
      ]
     },
     "metadata": {},
     "output_type": "display_data"
    }
   ],
   "source": [
    "plot(clouds)"
   ]
  },
  {
   "cell_type": "code",
   "execution_count": 30,
   "metadata": {},
   "outputs": [
    {
     "data": {
      "image/png": "[encoded data removed]",
      "text/plain": [
       "plot without title"
      ]
     },
     "metadata": {},
     "output_type": "display_data"
    }
   ],
   "source": [
    "layout(matrix(1:2, nrow = 2))\n",
    "bxpseeding <- boxplot(rainfall ~ seeding, data = clouds, ylab = \"Rainfall\", xlab = \"Seeding\") \n",
    "bxpecho <- boxplot(rainfall ~ echomotion, data = clouds, ylab = \"Rainfall\", xlab = \"Echo Motion\")"
   ]
  },
  {
   "cell_type": "code",
   "execution_count": 31,
   "metadata": {},
   "outputs": [
    {
     "data": {
      "image/png": "[encoded data removed]",
      "text/plain": [
       "plot without title"
      ]
     },
     "metadata": {},
     "output_type": "display_data"
    }
   ],
   "source": [
    "layout(matrix(1:4, nrow = 2)) \n",
    "plot(rainfall ~ time, data = clouds) \n",
    "plot(rainfall ~ cloudcover, data = clouds) \n",
    "plot(rainfall ~ sne, data = clouds) \n",
    "plot(rainfall ~ prewetness, data = clouds) "
   ]
  },
  {
   "cell_type": "code",
   "execution_count": 32,
   "metadata": {
    "collapsed": true
   },
   "outputs": [],
   "source": [
    "clouds.formula <- rainfall ~ seeding + seeding:(sne + cloudcover + prewetness + echomotion) + time "
   ]
  },
  {
   "cell_type": "code",
   "execution_count": 33,
   "metadata": {
    "collapsed": true
   },
   "outputs": [],
   "source": [
    "clouds.lm <- lm(clouds.formula, data = clouds)"
   ]
  },
  {
   "cell_type": "code",
   "execution_count": 34,
   "metadata": {},
   "outputs": [
    {
     "data": {
      "text/html": [
       "<dl class=dl-horizontal>\n",
       "\t<dt>(Intercept)</dt>\n",
       "\t\t<dd>-0.346240934314492</dd>\n",
       "\t<dt>seedingyes</dt>\n",
       "\t\t<dd>15.6829348056212</dd>\n",
       "\t<dt>time</dt>\n",
       "\t\t<dd>-0.0449742727233588</dd>\n",
       "\t<dt>seedingno:sne</dt>\n",
       "\t\t<dd>0.419813925228008</dd>\n",
       "\t<dt>seedingyes:sne</dt>\n",
       "\t\t<dd>-2.77737612987959</dd>\n",
       "\t<dt>seedingno:cloudcover</dt>\n",
       "\t\t<dd>0.387862074055528</dd>\n",
       "\t<dt>seedingyes:cloudcover</dt>\n",
       "\t\t<dd>-0.0983928450048685</dd>\n",
       "\t<dt>seedingno:prewetness</dt>\n",
       "\t\t<dd>4.10834188319922</dd>\n",
       "\t<dt>seedingyes:prewetness</dt>\n",
       "\t\t<dd>1.55127492506163</dd>\n",
       "\t<dt>seedingno:echomotionstationary</dt>\n",
       "\t\t<dd>3.15281358073041</dd>\n",
       "\t<dt>seedingyes:echomotionstationary</dt>\n",
       "\t\t<dd>2.59059512693076</dd>\n",
       "</dl>\n"
      ],
      "text/latex": [
       "\\begin{description*}\n",
       "\\item[(Intercept)] -0.346240934314492\n",
       "\\item[seedingyes] 15.6829348056212\n",
       "\\item[time] -0.0449742727233588\n",
       "\\item[seedingno:sne] 0.419813925228008\n",
       "\\item[seedingyes:sne] -2.77737612987959\n",
       "\\item[seedingno:cloudcover] 0.387862074055528\n",
       "\\item[seedingyes:cloudcover] -0.0983928450048685\n",
       "\\item[seedingno:prewetness] 4.10834188319922\n",
       "\\item[seedingyes:prewetness] 1.55127492506163\n",
       "\\item[seedingno:echomotionstationary] 3.15281358073041\n",
       "\\item[seedingyes:echomotionstationary] 2.59059512693076\n",
       "\\end{description*}\n"
      ],
      "text/markdown": [
       "(Intercept)\n",
       ":   -0.346240934314492seedingyes\n",
       ":   15.6829348056212time\n",
       ":   -0.0449742727233588seedingno:sne\n",
       ":   0.419813925228008seedingyes:sne\n",
       ":   -2.77737612987959seedingno:cloudcover\n",
       ":   0.387862074055528seedingyes:cloudcover\n",
       ":   -0.0983928450048685seedingno:prewetness\n",
       ":   4.10834188319922seedingyes:prewetness\n",
       ":   1.55127492506163seedingno:echomotionstationary\n",
       ":   3.15281358073041seedingyes:echomotionstationary\n",
       ":   2.59059512693076\n",
       "\n"
      ],
      "text/plain": [
       "                    (Intercept)                      seedingyes \n",
       "                    -0.34624093                     15.68293481 \n",
       "                           time                   seedingno:sne \n",
       "                    -0.04497427                      0.41981393 \n",
       "                 seedingyes:sne            seedingno:cloudcover \n",
       "                    -2.77737613                      0.38786207 \n",
       "          seedingyes:cloudcover            seedingno:prewetness \n",
       "                    -0.09839285                      4.10834188 \n",
       "          seedingyes:prewetness  seedingno:echomotionstationary \n",
       "                     1.55127493                      3.15281358 \n",
       "seedingyes:echomotionstationary \n",
       "                     2.59059513 "
      ]
     },
     "metadata": {},
     "output_type": "display_data"
    }
   ],
   "source": [
    "coef(clouds.lm)"
   ]
  },
  {
   "cell_type": "code",
   "execution_count": 35,
   "metadata": {},
   "outputs": [
    {
     "data": {
      "image/png": "[encoded data removed]",
      "text/plain": [
       "plot without title"
      ]
     },
     "metadata": {},
     "output_type": "display_data"
    }
   ],
   "source": [
    "clouds.resid <- residuals(clouds.lm) \n",
    "plot(clouds.resid)"
   ]
  },
  {
   "cell_type": "code",
   "execution_count": 36,
   "metadata": {},
   "outputs": [
    {
     "data": {
      "image/png": "[encoded data removed]",
      "text/plain": [
       "plot without title"
      ]
     },
     "metadata": {},
     "output_type": "display_data"
    }
   ],
   "source": [
    "clouds.fitted <- fitted(clouds.lm)\n",
    "plot(clouds.fitted)"
   ]
  },
  {
   "cell_type": "code",
   "execution_count": 37,
   "metadata": {},
   "outputs": [
    {
     "data": {
      "image/png": "[encoded data removed]",
      "text/plain": [
       "plot without title"
      ]
     },
     "metadata": {},
     "output_type": "display_data"
    }
   ],
   "source": [
    "layout(1)\n",
    "psymb <- as.numeric(clouds$seeding) \n",
    "plot(rainfall ~ sne, data = clouds, pch = psymb, xlab = \"S-Ne criterion\")\n",
    "abline(lm(rainfall ~ sne, data = clouds, subset = seeding == \"no\"))\n",
    "abline(lm(rainfall ~ sne, data = clouds, subset = seeding == \"yes\"), lty = 2) \n",
    "legend(\"topright\", legend = c(\"No seeding\", \"Seeding\"), pch = 1:2, lty = 1:2, bty = \"n\")"
   ]
  },
  {
   "cell_type": "code",
   "execution_count": null,
   "metadata": {
    "collapsed": true
   },
   "outputs": [],
   "source": []
  }
 ],
 "metadata": {
  "kernelspec": {
   "display_name": "R",
   "language": "R",
   "name": "ir"
  },
  "language_info": {
   "codemirror_mode": "r",
   "file_extension": ".r",
   "mimetype": "text/x-r-source",
   "name": "R",
   "pygments_lexer": "r",
   "version": "3.4.3"
  }
 },
 "nbformat": 4,
 "nbformat_minor": 2
}
