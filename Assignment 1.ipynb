{
 "cells": [
  {
   "cell_type": "markdown",
   "metadata": {},
   "source": [
    "# Install packages"
   ]
  },
  {
   "cell_type": "code",
   "execution_count": 550,
   "metadata": {},
   "outputs": [
    {
     "name": "stderr",
     "output_type": "stream",
     "text": [
      "Installing package into 'C:/Users/emara/Documents/R/win-library/3.4'\n",
      "(as 'lib' is unspecified)\n"
     ]
    },
    {
     "name": "stdout",
     "output_type": "stream",
     "text": [
      "package 'ggplot2' successfully unpacked and MD5 sums checked\n",
      "\n",
      "The downloaded binary packages are in\n",
      "\tC:\\Users\\emara\\AppData\\Local\\Temp\\RtmpuIWC3C\\downloaded_packages\n"
     ]
    }
   ],
   "source": [
    "# install.packages(\"fmsb\", repos = \"http://cran.us.r-project.org\") \n",
    "install.packages(\"ggplot2\", repos = \"http://cran.us.r-project.org\") "
   ]
  },
  {
   "cell_type": "markdown",
   "metadata": {},
   "source": [
    "# Understanding Source of Data"
   ]
  },
  {
   "cell_type": "code",
   "execution_count": 869,
   "metadata": {
    "collapsed": true
   },
   "outputs": [],
   "source": [
    "data(LifeCycleSavings)\n",
    "help(LifeCycleSavings)"
   ]
  },
  {
   "cell_type": "markdown",
   "metadata": {},
   "source": [
    "# Load Data"
   ]
  },
  {
   "cell_type": "code",
   "execution_count": 870,
   "metadata": {
    "collapsed": true
   },
   "outputs": [],
   "source": [
    "data(LifeCycleSavings)"
   ]
  },
  {
   "cell_type": "code",
   "execution_count": 871,
   "metadata": {},
   "outputs": [
    {
     "data": {
      "text/html": [
       "<table>\n",
       "<thead><tr><th></th><th scope=col>sr</th><th scope=col>pop15</th><th scope=col>pop75</th><th scope=col>dpi</th><th scope=col>ddpi</th></tr></thead>\n",
       "<tbody>\n",
       "\t<tr><th scope=row>Australia</th><td>11.43  </td><td>29.35  </td><td>2.87   </td><td>2329.68</td><td>2.87   </td></tr>\n",
       "\t<tr><th scope=row>Austria</th><td>12.07  </td><td>23.32  </td><td>4.41   </td><td>1507.99</td><td>3.93   </td></tr>\n",
       "\t<tr><th scope=row>Belgium</th><td>13.17  </td><td>23.80  </td><td>4.43   </td><td>2108.47</td><td>3.82   </td></tr>\n",
       "\t<tr><th scope=row>Bolivia</th><td> 5.75  </td><td>41.89  </td><td>1.67   </td><td> 189.13</td><td>0.22   </td></tr>\n",
       "\t<tr><th scope=row>Brazil</th><td>12.88  </td><td>42.19  </td><td>0.83   </td><td> 728.47</td><td>4.56   </td></tr>\n",
       "\t<tr><th scope=row>Canada</th><td> 8.79  </td><td>31.72  </td><td>2.85   </td><td>2982.88</td><td>2.43   </td></tr>\n",
       "</tbody>\n",
       "</table>\n"
      ],
      "text/latex": [
       "\\begin{tabular}{r|lllll}\n",
       "  & sr & pop15 & pop75 & dpi & ddpi\\\\\n",
       "\\hline\n",
       "\tAustralia & 11.43   & 29.35   & 2.87    & 2329.68 & 2.87   \\\\\n",
       "\tAustria & 12.07   & 23.32   & 4.41    & 1507.99 & 3.93   \\\\\n",
       "\tBelgium & 13.17   & 23.80   & 4.43    & 2108.47 & 3.82   \\\\\n",
       "\tBolivia &  5.75   & 41.89   & 1.67    &  189.13 & 0.22   \\\\\n",
       "\tBrazil & 12.88   & 42.19   & 0.83    &  728.47 & 4.56   \\\\\n",
       "\tCanada &  8.79   & 31.72   & 2.85    & 2982.88 & 2.43   \\\\\n",
       "\\end{tabular}\n"
      ],
      "text/markdown": [
       "\n",
       "| <!--/--> | sr | pop15 | pop75 | dpi | ddpi | \n",
       "|---|---|---|---|---|---|\n",
       "| Australia | 11.43   | 29.35   | 2.87    | 2329.68 | 2.87    | \n",
       "| Austria | 12.07   | 23.32   | 4.41    | 1507.99 | 3.93    | \n",
       "| Belgium | 13.17   | 23.80   | 4.43    | 2108.47 | 3.82    | \n",
       "| Bolivia |  5.75   | 41.89   | 1.67    |  189.13 | 0.22    | \n",
       "| Brazil | 12.88   | 42.19   | 0.83    |  728.47 | 4.56    | \n",
       "| Canada |  8.79   | 31.72   | 2.85    | 2982.88 | 2.43    | \n",
       "\n",
       "\n"
      ],
      "text/plain": [
       "          sr    pop15 pop75 dpi     ddpi\n",
       "Australia 11.43 29.35 2.87  2329.68 2.87\n",
       "Austria   12.07 23.32 4.41  1507.99 3.93\n",
       "Belgium   13.17 23.80 4.43  2108.47 3.82\n",
       "Bolivia    5.75 41.89 1.67   189.13 0.22\n",
       "Brazil    12.88 42.19 0.83   728.47 4.56\n",
       "Canada     8.79 31.72 2.85  2982.88 2.43"
      ]
     },
     "metadata": {},
     "output_type": "display_data"
    }
   ],
   "source": [
    "head(LifeCycleSavings)"
   ]
  },
  {
   "cell_type": "code",
   "execution_count": 872,
   "metadata": {},
   "outputs": [
    {
     "data": {
      "text/html": [
       "50"
      ],
      "text/latex": [
       "50"
      ],
      "text/markdown": [
       "50"
      ],
      "text/plain": [
       "[1] 50"
      ]
     },
     "metadata": {},
     "output_type": "display_data"
    }
   ],
   "source": [
    "nrow(LifeCycleSavings)"
   ]
  },
  {
   "cell_type": "markdown",
   "metadata": {},
   "source": [
    "# Initial Data Analysis"
   ]
  },
  {
   "cell_type": "markdown",
   "metadata": {},
   "source": [
    "### Basic Statistics"
   ]
  },
  {
   "cell_type": "code",
   "execution_count": 873,
   "metadata": {},
   "outputs": [
    {
     "data": {
      "text/plain": [
       "       sr             pop15           pop75            dpi         \n",
       " Min.   : 0.600   Min.   :21.44   Min.   :0.560   Min.   :  88.94  \n",
       " 1st Qu.: 6.970   1st Qu.:26.21   1st Qu.:1.125   1st Qu.: 288.21  \n",
       " Median :10.510   Median :32.58   Median :2.175   Median : 695.66  \n",
       " Mean   : 9.671   Mean   :35.09   Mean   :2.293   Mean   :1106.76  \n",
       " 3rd Qu.:12.617   3rd Qu.:44.06   3rd Qu.:3.325   3rd Qu.:1795.62  \n",
       " Max.   :21.100   Max.   :47.64   Max.   :4.700   Max.   :4001.89  \n",
       "      ddpi       \n",
       " Min.   : 0.220  \n",
       " 1st Qu.: 2.002  \n",
       " Median : 3.000  \n",
       " Mean   : 3.758  \n",
       " 3rd Qu.: 4.478  \n",
       " Max.   :16.710  "
      ]
     },
     "metadata": {},
     "output_type": "display_data"
    }
   ],
   "source": [
    "summary(LifeCycleSavings)"
   ]
  },
  {
   "cell_type": "markdown",
   "metadata": {},
   "source": [
    "### Scatter plot, Variance-covariance matrix, correlation matrix"
   ]
  },
  {
   "cell_type": "code",
   "execution_count": 874,
   "metadata": {},
   "outputs": [
    {
     "data": {
      "image/png": "[encoded data removed]",
      "text/plain": [
       "plot without title"
      ]
     },
     "metadata": {},
     "output_type": "display_data"
    }
   ],
   "source": [
    "plot(LifeCycleSavings)"
   ]
  },
  {
   "cell_type": "code",
   "execution_count": 875,
   "metadata": {},
   "outputs": [
    {
     "data": {
      "text/html": [
       "<table>\n",
       "<thead><tr><th></th><th scope=col>sr</th><th scope=col>pop15</th><th scope=col>pop75</th><th scope=col>dpi</th><th scope=col>ddpi</th></tr></thead>\n",
       "<tbody>\n",
       "\t<tr><th scope=row>sr</th><td> 20.074046   </td><td>  -18.678638 </td><td>   1.83049898</td><td>   978.2825  </td><td>   3.91901061</td></tr>\n",
       "\t<tr><th scope=row>pop15</th><td>-18.678638   </td><td>   83.754110 </td><td> -10.73166612</td><td> -6857.2360  </td><td>  -1.25610710</td></tr>\n",
       "\t<tr><th scope=row>pop75</th><td>  1.830499   </td><td>  -10.731666 </td><td>   1.66609082</td><td>  1006.5607  </td><td>   0.09379918</td></tr>\n",
       "\t<tr><th scope=row>dpi</th><td>978.282487   </td><td>-6857.235988 </td><td>1006.56074980</td><td>981821.1551  </td><td>-368.21350800</td></tr>\n",
       "\t<tr><th scope=row>ddpi</th><td>  3.919011   </td><td>   -1.256107 </td><td>   0.09379918</td><td>  -368.2135  </td><td>   8.23615739</td></tr>\n",
       "</tbody>\n",
       "</table>\n"
      ],
      "text/latex": [
       "\\begin{tabular}{r|lllll}\n",
       "  & sr & pop15 & pop75 & dpi & ddpi\\\\\n",
       "\\hline\n",
       "\tsr &  20.074046    &   -18.678638  &    1.83049898 &    978.2825   &    3.91901061\\\\\n",
       "\tpop15 & -18.678638    &    83.754110  &  -10.73166612 &  -6857.2360   &   -1.25610710\\\\\n",
       "\tpop75 &   1.830499    &   -10.731666  &    1.66609082 &   1006.5607   &    0.09379918\\\\\n",
       "\tdpi & 978.282487    & -6857.235988  & 1006.56074980 & 981821.1551   & -368.21350800\\\\\n",
       "\tddpi &   3.919011    &    -1.256107  &    0.09379918 &   -368.2135   &    8.23615739\\\\\n",
       "\\end{tabular}\n"
      ],
      "text/markdown": [
       "\n",
       "| <!--/--> | sr | pop15 | pop75 | dpi | ddpi | \n",
       "|---|---|---|---|---|\n",
       "| sr |  20.074046    |   -18.678638  |    1.83049898 |    978.2825   |    3.91901061 | \n",
       "| pop15 | -18.678638    |    83.754110  |  -10.73166612 |  -6857.2360   |   -1.25610710 | \n",
       "| pop75 |   1.830499    |   -10.731666  |    1.66609082 |   1006.5607   |    0.09379918 | \n",
       "| dpi | 978.282487    | -6857.235988  | 1006.56074980 | 981821.1551   | -368.21350800 | \n",
       "| ddpi |   3.919011    |    -1.256107  |    0.09379918 |   -368.2135   |    8.23615739 | \n",
       "\n",
       "\n"
      ],
      "text/plain": [
       "      sr         pop15        pop75         dpi         ddpi         \n",
       "sr     20.074046   -18.678638    1.83049898    978.2825    3.91901061\n",
       "pop15 -18.678638    83.754110  -10.73166612  -6857.2360   -1.25610710\n",
       "pop75   1.830499   -10.731666    1.66609082   1006.5607    0.09379918\n",
       "dpi   978.282487 -6857.235988 1006.56074980 981821.1551 -368.21350800\n",
       "ddpi    3.919011    -1.256107    0.09379918   -368.2135    8.23615739"
      ]
     },
     "metadata": {},
     "output_type": "display_data"
    }
   ],
   "source": [
    "cov(LifeCycleSavings)"
   ]
  },
  {
   "cell_type": "code",
   "execution_count": 876,
   "metadata": {},
   "outputs": [
    {
     "data": {
      "text/html": [
       "<table>\n",
       "<thead><tr><th></th><th scope=col>sr</th><th scope=col>pop15</th><th scope=col>pop75</th><th scope=col>dpi</th><th scope=col>ddpi</th></tr></thead>\n",
       "<tbody>\n",
       "\t<tr><th scope=row>sr</th><td> 1.0000000 </td><td>-0.45553809</td><td> 0.31652112</td><td> 0.2203589 </td><td> 0.30478716</td></tr>\n",
       "\t<tr><th scope=row>pop15</th><td>-0.4555381 </td><td> 1.00000000</td><td>-0.90847871</td><td>-0.7561881 </td><td>-0.04782569</td></tr>\n",
       "\t<tr><th scope=row>pop75</th><td> 0.3165211 </td><td>-0.90847871</td><td> 1.00000000</td><td> 0.7869995 </td><td> 0.02532138</td></tr>\n",
       "\t<tr><th scope=row>dpi</th><td> 0.2203589 </td><td>-0.75618810</td><td> 0.78699951</td><td> 1.0000000 </td><td>-0.12948552</td></tr>\n",
       "\t<tr><th scope=row>ddpi</th><td> 0.3047872 </td><td>-0.04782569</td><td> 0.02532138</td><td>-0.1294855 </td><td> 1.00000000</td></tr>\n",
       "</tbody>\n",
       "</table>\n"
      ],
      "text/latex": [
       "\\begin{tabular}{r|lllll}\n",
       "  & sr & pop15 & pop75 & dpi & ddpi\\\\\n",
       "\\hline\n",
       "\tsr &  1.0000000  & -0.45553809 &  0.31652112 &  0.2203589  &  0.30478716\\\\\n",
       "\tpop15 & -0.4555381  &  1.00000000 & -0.90847871 & -0.7561881  & -0.04782569\\\\\n",
       "\tpop75 &  0.3165211  & -0.90847871 &  1.00000000 &  0.7869995  &  0.02532138\\\\\n",
       "\tdpi &  0.2203589  & -0.75618810 &  0.78699951 &  1.0000000  & -0.12948552\\\\\n",
       "\tddpi &  0.3047872  & -0.04782569 &  0.02532138 & -0.1294855  &  1.00000000\\\\\n",
       "\\end{tabular}\n"
      ],
      "text/markdown": [
       "\n",
       "| <!--/--> | sr | pop15 | pop75 | dpi | ddpi | \n",
       "|---|---|---|---|---|\n",
       "| sr |  1.0000000  | -0.45553809 |  0.31652112 |  0.2203589  |  0.30478716 | \n",
       "| pop15 | -0.4555381  |  1.00000000 | -0.90847871 | -0.7561881  | -0.04782569 | \n",
       "| pop75 |  0.3165211  | -0.90847871 |  1.00000000 |  0.7869995  |  0.02532138 | \n",
       "| dpi |  0.2203589  | -0.75618810 |  0.78699951 |  1.0000000  | -0.12948552 | \n",
       "| ddpi |  0.3047872  | -0.04782569 |  0.02532138 | -0.1294855  |  1.00000000 | \n",
       "\n",
       "\n"
      ],
      "text/plain": [
       "      sr         pop15       pop75       dpi        ddpi       \n",
       "sr     1.0000000 -0.45553809  0.31652112  0.2203589  0.30478716\n",
       "pop15 -0.4555381  1.00000000 -0.90847871 -0.7561881 -0.04782569\n",
       "pop75  0.3165211 -0.90847871  1.00000000  0.7869995  0.02532138\n",
       "dpi    0.2203589 -0.75618810  0.78699951  1.0000000 -0.12948552\n",
       "ddpi   0.3047872 -0.04782569  0.02532138 -0.1294855  1.00000000"
      ]
     },
     "metadata": {},
     "output_type": "display_data"
    }
   ],
   "source": [
    "cor(LifeCycleSavings)"
   ]
  },
  {
   "cell_type": "markdown",
   "metadata": {},
   "source": [
    "- We can see that the variance of `pop75` and `ddpi` seems to be really small, maybe we should visualize their distributions using **Density Estimation**. For the other three variables, we can use **Boxplot**.\n",
    "\n",
    "- Strong correlation between `pop75` and `ddpi`"
   ]
  },
  {
   "cell_type": "markdown",
   "metadata": {},
   "source": [
    "### Visualizing distribution of each variable"
   ]
  },
  {
   "cell_type": "code",
   "execution_count": 877,
   "metadata": {},
   "outputs": [
    {
     "data": {
      "image/png": "[encoded data removed]",
      "text/plain": [
       "Plot with title \"Histogram of LifeCycleSavings$dpi\""
      ]
     },
     "metadata": {},
     "output_type": "display_data"
    }
   ],
   "source": [
    "layout(matrix(3:1,ncol=1))\n",
    "hist(LifeCycleSavings$sr, nclass = 6)\n",
    "hist(LifeCycleSavings$pop15, nclass = 6)\n",
    "hist(LifeCycleSavings$dpi, nclass = 6)"
   ]
  },
  {
   "cell_type": "code",
   "execution_count": 878,
   "metadata": {},
   "outputs": [
    {
     "data": {
      "image/png": "[encoded data removed]",
      "text/plain": [
       "Plot with title \"density.default(x = LifeCycleSavings$ddpi)\""
      ]
     },
     "metadata": {},
     "output_type": "display_data"
    }
   ],
   "source": [
    "layout(matrix(2:1,ncol=1))\n",
    "plot(density(LifeCycleSavings$pop15))\n",
    "plot(density(LifeCycleSavings$ddpi))"
   ]
  },
  {
   "cell_type": "markdown",
   "metadata": {},
   "source": [
    "### Remove outlier\n",
    "\n",
    "We found them from models' cook distance. "
   ]
  },
  {
   "cell_type": "code",
   "execution_count": 886,
   "metadata": {},
   "outputs": [
    {
     "data": {
      "text/html": [
       "<ol class=list-inline>\n",
       "\t<li>'Australia'</li>\n",
       "\t<li>'Austria'</li>\n",
       "\t<li>'Belgium'</li>\n",
       "\t<li>'Bolivia'</li>\n",
       "\t<li>'Brazil'</li>\n",
       "\t<li>'Canada'</li>\n",
       "\t<li>'Chile'</li>\n",
       "\t<li>'China'</li>\n",
       "\t<li>'Colombia'</li>\n",
       "\t<li>'Costa Rica'</li>\n",
       "\t<li>'Denmark'</li>\n",
       "\t<li>'Ecuador'</li>\n",
       "\t<li>'Finland'</li>\n",
       "\t<li>'France'</li>\n",
       "\t<li>'Germany'</li>\n",
       "\t<li>'Greece'</li>\n",
       "\t<li>'Guatamala'</li>\n",
       "\t<li>'Honduras'</li>\n",
       "\t<li>'Iceland'</li>\n",
       "\t<li>'India'</li>\n",
       "\t<li>'Ireland'</li>\n",
       "\t<li>'Italy'</li>\n",
       "\t<li>'Japan'</li>\n",
       "\t<li>'Korea'</li>\n",
       "\t<li>'Luxembourg'</li>\n",
       "\t<li>'Malta'</li>\n",
       "\t<li>'Norway'</li>\n",
       "\t<li>'Netherlands'</li>\n",
       "\t<li>'New Zealand'</li>\n",
       "\t<li>'Nicaragua'</li>\n",
       "\t<li>'Panama'</li>\n",
       "\t<li>'Paraguay'</li>\n",
       "\t<li>'Peru'</li>\n",
       "\t<li>'Philippines'</li>\n",
       "\t<li>'Portugal'</li>\n",
       "\t<li>'South Africa'</li>\n",
       "\t<li>'South Rhodesia'</li>\n",
       "\t<li>'Spain'</li>\n",
       "\t<li>'Sweden'</li>\n",
       "\t<li>'Switzerland'</li>\n",
       "\t<li>'Turkey'</li>\n",
       "\t<li>'Tunisia'</li>\n",
       "\t<li>'United Kingdom'</li>\n",
       "\t<li>'United States'</li>\n",
       "\t<li>'Venezuela'</li>\n",
       "\t<li>'Zambia'</li>\n",
       "\t<li>'Jamaica'</li>\n",
       "\t<li>'Uruguay'</li>\n",
       "\t<li>'Libya'</li>\n",
       "\t<li>'Malaysia'</li>\n",
       "</ol>\n"
      ],
      "text/latex": [
       "\\begin{enumerate*}\n",
       "\\item 'Australia'\n",
       "\\item 'Austria'\n",
       "\\item 'Belgium'\n",
       "\\item 'Bolivia'\n",
       "\\item 'Brazil'\n",
       "\\item 'Canada'\n",
       "\\item 'Chile'\n",
       "\\item 'China'\n",
       "\\item 'Colombia'\n",
       "\\item 'Costa Rica'\n",
       "\\item 'Denmark'\n",
       "\\item 'Ecuador'\n",
       "\\item 'Finland'\n",
       "\\item 'France'\n",
       "\\item 'Germany'\n",
       "\\item 'Greece'\n",
       "\\item 'Guatamala'\n",
       "\\item 'Honduras'\n",
       "\\item 'Iceland'\n",
       "\\item 'India'\n",
       "\\item 'Ireland'\n",
       "\\item 'Italy'\n",
       "\\item 'Japan'\n",
       "\\item 'Korea'\n",
       "\\item 'Luxembourg'\n",
       "\\item 'Malta'\n",
       "\\item 'Norway'\n",
       "\\item 'Netherlands'\n",
       "\\item 'New Zealand'\n",
       "\\item 'Nicaragua'\n",
       "\\item 'Panama'\n",
       "\\item 'Paraguay'\n",
       "\\item 'Peru'\n",
       "\\item 'Philippines'\n",
       "\\item 'Portugal'\n",
       "\\item 'South Africa'\n",
       "\\item 'South Rhodesia'\n",
       "\\item 'Spain'\n",
       "\\item 'Sweden'\n",
       "\\item 'Switzerland'\n",
       "\\item 'Turkey'\n",
       "\\item 'Tunisia'\n",
       "\\item 'United Kingdom'\n",
       "\\item 'United States'\n",
       "\\item 'Venezuela'\n",
       "\\item 'Zambia'\n",
       "\\item 'Jamaica'\n",
       "\\item 'Uruguay'\n",
       "\\item 'Libya'\n",
       "\\item 'Malaysia'\n",
       "\\end{enumerate*}\n"
      ],
      "text/markdown": [
       "1. 'Australia'\n",
       "2. 'Austria'\n",
       "3. 'Belgium'\n",
       "4. 'Bolivia'\n",
       "5. 'Brazil'\n",
       "6. 'Canada'\n",
       "7. 'Chile'\n",
       "8. 'China'\n",
       "9. 'Colombia'\n",
       "10. 'Costa Rica'\n",
       "11. 'Denmark'\n",
       "12. 'Ecuador'\n",
       "13. 'Finland'\n",
       "14. 'France'\n",
       "15. 'Germany'\n",
       "16. 'Greece'\n",
       "17. 'Guatamala'\n",
       "18. 'Honduras'\n",
       "19. 'Iceland'\n",
       "20. 'India'\n",
       "21. 'Ireland'\n",
       "22. 'Italy'\n",
       "23. 'Japan'\n",
       "24. 'Korea'\n",
       "25. 'Luxembourg'\n",
       "26. 'Malta'\n",
       "27. 'Norway'\n",
       "28. 'Netherlands'\n",
       "29. 'New Zealand'\n",
       "30. 'Nicaragua'\n",
       "31. 'Panama'\n",
       "32. 'Paraguay'\n",
       "33. 'Peru'\n",
       "34. 'Philippines'\n",
       "35. 'Portugal'\n",
       "36. 'South Africa'\n",
       "37. 'South Rhodesia'\n",
       "38. 'Spain'\n",
       "39. 'Sweden'\n",
       "40. 'Switzerland'\n",
       "41. 'Turkey'\n",
       "42. 'Tunisia'\n",
       "43. 'United Kingdom'\n",
       "44. 'United States'\n",
       "45. 'Venezuela'\n",
       "46. 'Zambia'\n",
       "47. 'Jamaica'\n",
       "48. 'Uruguay'\n",
       "49. 'Libya'\n",
       "50. 'Malaysia'\n",
       "\n",
       "\n"
      ],
      "text/plain": [
       " [1] \"Australia\"      \"Austria\"        \"Belgium\"        \"Bolivia\"       \n",
       " [5] \"Brazil\"         \"Canada\"         \"Chile\"          \"China\"         \n",
       " [9] \"Colombia\"       \"Costa Rica\"     \"Denmark\"        \"Ecuador\"       \n",
       "[13] \"Finland\"        \"France\"         \"Germany\"        \"Greece\"        \n",
       "[17] \"Guatamala\"      \"Honduras\"       \"Iceland\"        \"India\"         \n",
       "[21] \"Ireland\"        \"Italy\"          \"Japan\"          \"Korea\"         \n",
       "[25] \"Luxembourg\"     \"Malta\"          \"Norway\"         \"Netherlands\"   \n",
       "[29] \"New Zealand\"    \"Nicaragua\"      \"Panama\"         \"Paraguay\"      \n",
       "[33] \"Peru\"           \"Philippines\"    \"Portugal\"       \"South Africa\"  \n",
       "[37] \"South Rhodesia\" \"Spain\"          \"Sweden\"         \"Switzerland\"   \n",
       "[41] \"Turkey\"         \"Tunisia\"        \"United Kingdom\" \"United States\" \n",
       "[45] \"Venezuela\"      \"Zambia\"         \"Jamaica\"        \"Uruguay\"       \n",
       "[49] \"Libya\"          \"Malaysia\"      "
      ]
     },
     "metadata": {},
     "output_type": "display_data"
    }
   ],
   "source": [
    "row.names(LifeCycleSavings)"
   ]
  },
  {
   "cell_type": "code",
   "execution_count": 887,
   "metadata": {},
   "outputs": [
    {
     "data": {
      "text/html": [
       "<ol class=list-inline>\n",
       "\t<li>23</li>\n",
       "\t<li>46</li>\n",
       "\t<li>47</li>\n",
       "\t<li>49</li>\n",
       "</ol>\n"
      ],
      "text/latex": [
       "\\begin{enumerate*}\n",
       "\\item 23\n",
       "\\item 46\n",
       "\\item 47\n",
       "\\item 49\n",
       "\\end{enumerate*}\n"
      ],
      "text/markdown": [
       "1. 23\n",
       "2. 46\n",
       "3. 47\n",
       "4. 49\n",
       "\n",
       "\n"
      ],
      "text/plain": [
       "[1] 23 46 47 49"
      ]
     },
     "metadata": {},
     "output_type": "display_data"
    }
   ],
   "source": [
    "which(rownames(LifeCycleSavings) %in% c(\"Japan\", \"Libya\", \"Jamaica\", \"Zambia\"))"
   ]
  },
  {
   "cell_type": "code",
   "execution_count": 888,
   "metadata": {
    "collapsed": true
   },
   "outputs": [],
   "source": [
    "LifeCycleSavings = LifeCycleSavings[-c(23, 46, 47, 49), ] "
   ]
  },
  {
   "cell_type": "code",
   "execution_count": 889,
   "metadata": {},
   "outputs": [
    {
     "data": {
      "text/html": [],
      "text/latex": [],
      "text/markdown": [],
      "text/plain": [
       "integer(0)"
      ]
     },
     "metadata": {},
     "output_type": "display_data"
    }
   ],
   "source": [
    "# we should find nothing now\n",
    "which(rownames(LifeCycleSavings) %in% c(\"Japan\", \"Libya\", \"Jamaica\", \"Zambia\"))"
   ]
  },
  {
   "cell_type": "markdown",
   "metadata": {},
   "source": [
    "### Standardizing explanatory variables"
   ]
  },
  {
   "cell_type": "code",
   "execution_count": 565,
   "metadata": {
    "collapsed": true
   },
   "outputs": [],
   "source": [
    "# LifeCycleSavings$pop15 <- (LifeCycleSavings$pop15 - mean(LifeCycleSavings$pop15)) / sd(LifeCycleSavings$pop15)\n",
    "# LifeCycleSavings$pop75 <- (LifeCycleSavings$pop75 - mean(LifeCycleSavings$pop75)) / sd(LifeCycleSavings$pop75)\n",
    "# LifeCycleSavings$dpi <- (LifeCycleSavings$dpi - mean(LifeCycleSavings$dpi)) / sd(LifeCycleSavings$dpi)\n",
    "# LifeCycleSavings$ddpi <- (LifeCycleSavings$ddpi - mean(LifeCycleSavings$ddpi)) / sd(LifeCycleSavings$ddpi)"
   ]
  },
  {
   "cell_type": "code",
   "execution_count": 566,
   "metadata": {},
   "outputs": [
    {
     "data": {
      "image/png": "[encoded data removed]",
      "text/plain": [
       "Plot with title \"Histogram of LifeCycleSavings$dpi\""
      ]
     },
     "metadata": {},
     "output_type": "display_data"
    }
   ],
   "source": [
    "layout(matrix(3:1,ncol=1))\n",
    "hist(LifeCycleSavings$pop75, nclass = 6)\n",
    "hist(LifeCycleSavings$pop15, nclass = 6)\n",
    "hist(LifeCycleSavings$dpi, nclass = 6)"
   ]
  },
  {
   "cell_type": "markdown",
   "metadata": {},
   "source": [
    "### Modeling"
   ]
  },
  {
   "cell_type": "code",
   "execution_count": 890,
   "metadata": {
    "collapsed": true
   },
   "outputs": [],
   "source": [
    "dpi = LifeCycleSavings$dpi\n",
    "sr = LifeCycleSavings$sr\n",
    "ddpi = LifeCycleSavings$ddpi\n",
    "pop15 = LifeCycleSavings$pop15\n",
    "pop75 = LifeCycleSavings$pop75"
   ]
  },
  {
   "cell_type": "code",
   "execution_count": 1044,
   "metadata": {},
   "outputs": [],
   "source": [
    "models = new.env()\n",
    "models$default_model = lm(sr ~ pop15 + pop75 + dpi + ddpi, data = LifeCycleSavings)\n",
    "models$second_order_model = lm(sr ~ (pop15 + ddpi + pop75 + dpi)^2, data = LifeCycleSavings)\n",
    "\n",
    "models$model_ddpi = lm(sr ~ ddpi+I (ddpi^2), data = LifeCycleSavings)\n",
    "\n",
    "models$model_pop15 = lm(sr ~ exp(pop15 + 10), data = LifeCycleSavings)\n",
    "\n",
    "models$model_dpi = lm(sr ~ sqrt(50000000 - I((dpi-2100)^2)), data = LifeCycleSavings)\n",
    "# models$model_dpi = lm(sr ~ I((dpi^-1)*(exp(-1 * (log(dpi) - 1000)^2 / 5000))), data = LifeCycleSavings)\n",
    "\n",
    "models$model_ddpi_pop15 = lm(sr ~ I(pop15^2), data = LifeCycleSavings)\n",
    "\n",
    "models$model_dpi_pop75 = lm(sr ~ pop75*dpi, data = LifeCycleSavings)"
   ]
  },
  {
   "cell_type": "code",
   "execution_count": 892,
   "metadata": {},
   "outputs": [
    {
     "name": "stdout",
     "output_type": "stream",
     "text": [
      "combined_model : List of 12\n",
      "default_model : List of 12\n",
      "model_ddpi : List of 12\n",
      "model_ddpi_pop15 : List of 12\n",
      "model_dpi : List of 12\n",
      "model_dpi_pop75 : List of 12\n",
      "model_pop15 : List of 12\n",
      "model_pop75 : List of 12\n",
      "second_order_model : List of 12\n"
     ]
    }
   ],
   "source": [
    "print(ls.str(models), max.level = 0)"
   ]
  },
  {
   "cell_type": "markdown",
   "metadata": {},
   "source": [
    "### Relationship between sr and dpi"
   ]
  },
  {
   "cell_type": "code",
   "execution_count": 974,
   "metadata": {},
   "outputs": [
    {
     "data": {
      "text/plain": [
       "\n",
       "Call:\n",
       "lm(formula = sr ~ I(dpi^1e-04), data = LifeCycleSavings)\n",
       "\n",
       "Residuals:\n",
       "    Min      1Q  Median      3Q     Max \n",
       "-9.4327 -2.8377  0.3787  2.8100  6.5390 \n",
       "\n",
       "Coefficients:\n",
       "             Estimate Std. Error t value Pr(>|t|)  \n",
       "(Intercept)    -15296       5772  -2.650   0.0111 *\n",
       "I(dpi^1e-04)    15295       5768   2.652   0.0111 *\n",
       "---\n",
       "Signif. codes:  0 '***' 0.001 '**' 0.01 '*' 0.05 '.' 0.1 ' ' 1\n",
       "\n",
       "Residual standard error: 3.866 on 44 degrees of freedom\n",
       "Multiple R-squared:  0.1378,\tAdjusted R-squared:  0.1182 \n",
       "F-statistic: 7.031 on 1 and 44 DF,  p-value: 0.0111\n"
      ]
     },
     "metadata": {},
     "output_type": "display_data"
    }
   ],
   "source": [
    "# models$model_dpi = lm(sr ~ sqrt(50000000 - I((dpi-2100)^2)), data = LifeCycleSavings)\n",
    "models$model_dpi = lm(sr ~ I(dpi^0.0001), data = LifeCycleSavings)\n",
    "\n",
    "summary(models$model_dpi)"
   ]
  },
  {
   "cell_type": "code",
   "execution_count": 975,
   "metadata": {},
   "outputs": [
    {
     "data": {
      "image/png": "[encoded data removed]",
      "text/plain": [
       "plot without title"
      ]
     },
     "metadata": {},
     "output_type": "display_data"
    }
   ],
   "source": [
    "newdat = data.frame(sr, dpi)\n",
    "newdat = newdat[order(dpi),] \n",
    "pred = predict(models$model_dpi, newdata = data.frame(dpi = c(1:5000)))\n",
    "plot(sr ~ dpi, xlim = c(0, 5000), ylim = c(0, 20))\n",
    "lines(x = c(1:5000), y = pred, col = 'red')"
   ]
  },
  {
   "cell_type": "markdown",
   "metadata": {},
   "source": [
    "### Relationship between pop15 and sr"
   ]
  },
  {
   "cell_type": "code",
   "execution_count": 912,
   "metadata": {},
   "outputs": [
    {
     "data": {
      "text/plain": [
       "\n",
       "Call:\n",
       "lm(formula = sr ~ log(pop15), data = LifeCycleSavings)\n",
       "\n",
       "Residuals:\n",
       "    Min      1Q  Median      3Q     Max \n",
       "-7.8958 -2.2945  0.4243  2.0335  6.0581 \n",
       "\n",
       "Coefficients:\n",
       "            Estimate Std. Error t value Pr(>|t|)    \n",
       "(Intercept)   37.242      6.820   5.461 2.08e-06 ***\n",
       "log(pop15)    -7.960      1.936  -4.111 0.000169 ***\n",
       "---\n",
       "Signif. codes:  0 '***' 0.001 '**' 0.01 '*' 0.05 '.' 0.1 ' ' 1\n",
       "\n",
       "Residual standard error: 3.539 on 44 degrees of freedom\n",
       "Multiple R-squared:  0.2775,\tAdjusted R-squared:  0.2611 \n",
       "F-statistic:  16.9 on 1 and 44 DF,  p-value: 0.0001693\n"
      ]
     },
     "metadata": {},
     "output_type": "display_data"
    }
   ],
   "source": [
    "models$model_pop15 = lm(sr ~ log(pop15), data = LifeCycleSavings)\n",
    "summary(models$model_pop15)"
   ]
  },
  {
   "cell_type": "code",
   "execution_count": 913,
   "metadata": {},
   "outputs": [
    {
     "data": {
      "image/png": "[encoded data removed]",
      "text/plain": [
       "plot without title"
      ]
     },
     "metadata": {},
     "output_type": "display_data"
    }
   ],
   "source": [
    "newdat = data.frame(sr, pop15)\n",
    "newdat = newdat[order(pop15),] \n",
    "pred = predict(models$model_pop15, newdata = newdat)\n",
    "plot(sr ~ pop15, xlim = c(20, 50), ylim = c(0, 20))\n",
    "with(newdat, lines(x = pop15, y = pred))"
   ]
  },
  {
   "cell_type": "markdown",
   "metadata": {},
   "source": [
    "### Relationship between pop75 and sr"
   ]
  },
  {
   "cell_type": "code",
   "execution_count": 942,
   "metadata": {},
   "outputs": [
    {
     "data": {
      "text/plain": [
       "\n",
       "Call:\n",
       "lm(formula = sr ~ log(pop75), data = LifeCycleSavings)\n",
       "\n",
       "Residuals:\n",
       "    Min      1Q  Median      3Q     Max \n",
       "-9.3215 -2.9331  0.2496  2.1733  6.0844 \n",
       "\n",
       "Coefficients:\n",
       "            Estimate Std. Error t value Pr(>|t|)    \n",
       "(Intercept)   7.3350     0.8020   9.146 9.74e-12 ***\n",
       "log(pop75)    2.8948     0.8672   3.338  0.00172 ** \n",
       "---\n",
       "Signif. codes:  0 '***' 0.001 '**' 0.01 '*' 0.05 '.' 0.1 ' ' 1\n",
       "\n",
       "Residual standard error: 3.719 on 44 degrees of freedom\n",
       "Multiple R-squared:  0.2021,\tAdjusted R-squared:  0.184 \n",
       "F-statistic: 11.14 on 1 and 44 DF,  p-value: 0.001723\n"
      ]
     },
     "metadata": {},
     "output_type": "display_data"
    }
   ],
   "source": [
    "models$model_pop75 = lm(sr ~ log(pop75), data = LifeCycleSavings)\n",
    "summary(models$model_pop75)"
   ]
  },
  {
   "cell_type": "code",
   "execution_count": 943,
   "metadata": {},
   "outputs": [
    {
     "data": {
      "image/png": "[encoded data removed]",
      "text/plain": [
       "plot without title"
      ]
     },
     "metadata": {},
     "output_type": "display_data"
    }
   ],
   "source": [
    "newdat = data.frame(sr, pop75)\n",
    "newdat = newdat[order(pop75),] \n",
    "pred = predict(models$model_pop75, newdata = newdat)\n",
    "plot(sr ~ pop75, xlim = c(0, 6), ylim = c(0, 20))\n",
    "with(newdat, lines(x = pop75, y = pred, col = 'red'))"
   ]
  },
  {
   "cell_type": "markdown",
   "metadata": {},
   "source": [
    "### Relationship between ddpi and sr"
   ]
  },
  {
   "cell_type": "code",
   "execution_count": 954,
   "metadata": {},
   "outputs": [
    {
     "data": {
      "text/plain": [
       "\n",
       "Call:\n",
       "lm(formula = sr ~ ddpi, data = LifeCycleSavings)\n",
       "\n",
       "Residuals:\n",
       "   Min     1Q Median     3Q    Max \n",
       "-8.206 -2.081  1.049  2.429  6.861 \n",
       "\n",
       "Coefficients:\n",
       "            Estimate Std. Error t value Pr(>|t|)    \n",
       "(Intercept)   6.4119     1.1195   5.727 8.48e-07 ***\n",
       "ddpi          0.8966     0.3021   2.968  0.00483 ** \n",
       "---\n",
       "Signif. codes:  0 '***' 0.001 '**' 0.01 '*' 0.05 '.' 0.1 ' ' 1\n",
       "\n",
       "Residual standard error: 3.801 on 44 degrees of freedom\n",
       "Multiple R-squared:  0.1668,\tAdjusted R-squared:  0.1479 \n",
       "F-statistic: 8.811 on 1 and 44 DF,  p-value: 0.004831\n"
      ]
     },
     "metadata": {},
     "output_type": "display_data"
    }
   ],
   "source": [
    "models$model_ddpi = lm(sr ~ ddpi, data = LifeCycleSavings)\n",
    "summary(models$model_ddpi)"
   ]
  },
  {
   "cell_type": "code",
   "execution_count": 955,
   "metadata": {},
   "outputs": [
    {
     "data": {
      "image/png": "[encoded data removed]",
      "text/plain": [
       "plot without title"
      ]
     },
     "metadata": {},
     "output_type": "display_data"
    }
   ],
   "source": [
    "newdat = data.frame(sr, ddpi)\n",
    "newdat = newdat[order(ddpi),] \n",
    "pred = predict(models$model_ddpi, newdata = data.frame(ddpi = c(1:20)))\n",
    "plot(sr ~ ddpi, xlim = c(0, 20), ylim = c(0, 20))\n",
    "lines(x = c(1:20), y = pred, col = 'red')"
   ]
  },
  {
   "cell_type": "markdown",
   "metadata": {},
   "source": [
    "### Combined Model"
   ]
  },
  {
   "cell_type": "code",
   "execution_count": 1045,
   "metadata": {},
   "outputs": [],
   "source": [
    "models$combined_model = lm(sr ~ ddpi + log(pop15), data = LifeCycleSavings)"
   ]
  },
  {
   "cell_type": "code",
   "execution_count": 1046,
   "metadata": {},
   "outputs": [
    {
     "data": {
      "text/plain": [
       "\n",
       "Call:\n",
       "lm(formula = sr ~ ddpi + log(pop15), data = LifeCycleSavings)\n",
       "\n",
       "Residuals:\n",
       "   Min     1Q Median     3Q    Max \n",
       "-7.173 -2.389  0.179  2.213  6.948 \n",
       "\n",
       "Coefficients:\n",
       "            Estimate Std. Error t value Pr(>|t|)    \n",
       "(Intercept)  31.2420     6.9855   4.472 5.58e-05 ***\n",
       "ddpi          0.6475     0.2768   2.339  0.02406 *  \n",
       "log(pop15)   -6.8429     1.9056  -3.591  0.00084 ***\n",
       "---\n",
       "Signif. codes:  0 '***' 0.001 '**' 0.01 '*' 0.05 '.' 0.1 ' ' 1\n",
       "\n",
       "Residual standard error: 3.372 on 43 degrees of freedom\n",
       "Multiple R-squared:  0.359,\tAdjusted R-squared:  0.3292 \n",
       "F-statistic: 12.04 on 2 and 43 DF,  p-value: 7.027e-05\n"
      ]
     },
     "metadata": {},
     "output_type": "display_data"
    }
   ],
   "source": [
    "summary(models$combined_model)"
   ]
  },
  {
   "cell_type": "code",
   "execution_count": 1047,
   "metadata": {},
   "outputs": [
    {
     "data": {
      "text/html": [
       "1.56017869471321"
      ],
      "text/latex": [
       "1.56017869471321"
      ],
      "text/markdown": [
       "1.56017869471321"
      ],
      "text/plain": [
       "[1] 1.560179"
      ]
     },
     "metadata": {},
     "output_type": "display_data"
    }
   ],
   "source": [
    "fmsb::VIF(models$combined_model)"
   ]
  },
  {
   "cell_type": "code",
   "execution_count": 1048,
   "metadata": {},
   "outputs": [
    {
     "data": {
      "image/png": "[encoded data removed]",
      "text/plain": [
       "plot without title"
      ]
     },
     "metadata": {},
     "output_type": "display_data"
    }
   ],
   "source": [
    "newdat = data.frame(sr, ddpi, pop15)\n",
    "newdat = newdat[order(ddpi),] \n",
    "pred = predict(models$combined_model, newdata = newdat)\n",
    "plot(sr ~ ddpi, xlim = c(0, 6), ylim = c(0, 20))\n",
    "with(newdat, lines(x = ddpi, y = pred, col = 'red'))"
   ]
  },
  {
   "cell_type": "code",
   "execution_count": 1052,
   "metadata": {},
   "outputs": [
    {
     "data": {
      "image/png": "[encoded data removed]",
      "text/plain": [
       "plot without title"
      ]
     },
     "metadata": {},
     "output_type": "display_data"
    }
   ],
   "source": [
    "newdat = data.frame(sr, ddpi, pop15)\n",
    "newdat = newdat[order(pop15),] \n",
    "pred = predict(models$combined_model, newdata = newdat)\n",
    "plot(sr ~ pop15, xlim = c(20, 60), ylim = c(0, 20))\n",
    "with(newdat, lines(x = pop15, y = pred, col = 'red'))"
   ]
  },
  {
   "cell_type": "code",
   "execution_count": 1053,
   "metadata": {},
   "outputs": [
    {
     "data": {
      "image/png": "[encoded data removed]",
      "text/plain": [
       "Plot with title \"\""
      ]
     },
     "metadata": {},
     "output_type": "display_data"
    }
   ],
   "source": [
    "layout(matrix(1:2,ncol=2))\n",
    "plot(models$combined_model, which = 1)\n",
    "plot(models$combined_model, which = 2)"
   ]
  },
  {
   "cell_type": "code",
   "execution_count": 1054,
   "metadata": {},
   "outputs": [
    {
     "data": {
      "image/png": "[encoded data removed]",
      "text/plain": [
       "Plot with title \"\""
      ]
     },
     "metadata": {},
     "output_type": "display_data"
    }
   ],
   "source": [
    "layout(matrix(1:2,ncol=2))\n",
    "plot(models$combined_model, which = 3)\n",
    "plot(models$combined_model, which = 4)"
   ]
  },
  {
   "cell_type": "code",
   "execution_count": null,
   "metadata": {
    "collapsed": true
   },
   "outputs": [],
   "source": []
  },
  {
   "cell_type": "code",
   "execution_count": null,
   "metadata": {
    "collapsed": true
   },
   "outputs": [],
   "source": []
  },
  {
   "cell_type": "code",
   "execution_count": 958,
   "metadata": {},
   "outputs": [
    {
     "data": {
      "text/plain": [
       "\n",
       "Call:\n",
       "lm(formula = sr ~ pop15 + pop75 + dpi + ddpi, data = LifeCycleSavings)\n",
       "\n",
       "Residuals:\n",
       "    Min      1Q  Median      3Q     Max \n",
       "-7.4322 -2.5530  0.0013  1.8719  6.8596 \n",
       "\n",
       "Coefficients:\n",
       "              Estimate Std. Error t value Pr(>|t|)  \n",
       "(Intercept) 17.4460350  8.1259206   2.147   0.0378 *\n",
       "pop15       -0.2634010  0.1558210  -1.690   0.0985 .\n",
       "pop75       -0.1144137  1.1250593  -0.102   0.9195  \n",
       "dpi         -0.0005238  0.0008458  -0.619   0.5391  \n",
       "ddpi         0.5820956  0.2964950   1.963   0.0564 .\n",
       "---\n",
       "Signif. codes:  0 '***' 0.001 '**' 0.01 '*' 0.05 '.' 0.1 ' ' 1\n",
       "\n",
       "Residual standard error: 3.434 on 41 degrees of freedom\n",
       "Multiple R-squared:  0.3663,\tAdjusted R-squared:  0.3044 \n",
       "F-statistic: 5.924 on 4 and 41 DF,  p-value: 0.0007397\n"
      ]
     },
     "metadata": {},
     "output_type": "display_data"
    }
   ],
   "source": [
    "summary(models$default_model)"
   ]
  },
  {
   "cell_type": "code",
   "execution_count": 397,
   "metadata": {},
   "outputs": [
    {
     "name": "stderr",
     "output_type": "stream",
     "text": [
      "Warning message in abline(models$default_model):\n",
      "\"only using the first two of 5 regression coefficients\"Warning message in abline(models$default_model):\n",
      "\"only using the first two of 5 regression coefficients\""
     ]
    },
    {
     "data": {
      "image/png": "[encoded data removed]",
      "text/plain": [
       "plot without title"
      ]
     },
     "metadata": {},
     "output_type": "display_data"
    }
   ],
   "source": [
    "layout(matrix(1:2,ncol=2))\n",
    "plot(sr ~ pop15, data = LifeCycleSavings)\n",
    "abline(models$default_model)\n",
    "plot(sr ~ pop75, data = LifeCycleSavings)\n",
    "abline(models$default_model)"
   ]
  },
  {
   "cell_type": "code",
   "execution_count": 398,
   "metadata": {},
   "outputs": [
    {
     "name": "stderr",
     "output_type": "stream",
     "text": [
      "Warning message in abline(models$default_model):\n",
      "\"only using the first two of 5 regression coefficients\"Warning message in abline(models$default_model):\n",
      "\"only using the first two of 5 regression coefficients\""
     ]
    },
    {
     "data": {
      "image/png": "[encoded data removed]",
      "text/plain": [
       "plot without title"
      ]
     },
     "metadata": {},
     "output_type": "display_data"
    }
   ],
   "source": [
    "layout(matrix(1:2,ncol=2))\n",
    "plot(sr ~ dpi, data = LifeCycleSavings)\n",
    "abline(models$default_model)\n",
    "plot(sr ~ ddpi, data = LifeCycleSavings)\n",
    "abline(models$default_model)"
   ]
  },
  {
   "cell_type": "code",
   "execution_count": 399,
   "metadata": {},
   "outputs": [
    {
     "data": {
      "image/png": "[encoded data removed]",
      "text/plain": [
       "Plot with title \"\""
      ]
     },
     "metadata": {},
     "output_type": "display_data"
    }
   ],
   "source": [
    "layout(matrix(1:2,ncol=2))\n",
    "plot(models$default_model, which = 1)\n",
    "plot(models$default_model, which = 2)"
   ]
  },
  {
   "cell_type": "code",
   "execution_count": 400,
   "metadata": {},
   "outputs": [
    {
     "data": {
      "image/png": "[encoded data removed]",
      "text/plain": [
       "Plot with title \"\""
      ]
     },
     "metadata": {},
     "output_type": "display_data"
    }
   ],
   "source": [
    "layout(matrix(1:2,ncol=2))\n",
    "plot(models$default_model, which = 3)\n",
    "plot(models$default_model, which = 4)"
   ]
  },
  {
   "cell_type": "markdown",
   "metadata": {},
   "source": [
    "- Zambia, Jamaica, Japan and Libya could be **outliers**.\n",
    "\n",
    "- The threshold for cook's distance is 4/(46 - 4 - 1) which is around 0.098 "
   ]
  },
  {
   "cell_type": "code",
   "execution_count": 401,
   "metadata": {},
   "outputs": [
    {
     "data": {
      "text/html": [
       "1.57792778181713"
      ],
      "text/latex": [
       "1.57792778181713"
      ],
      "text/markdown": [
       "1.57792778181713"
      ],
      "text/plain": [
       "[1] 1.577928"
      ]
     },
     "metadata": {},
     "output_type": "display_data"
    }
   ],
   "source": [
    "# Inspect for collinearity\n",
    "fmsb::VIF(models$default_model)"
   ]
  },
  {
   "cell_type": "code",
   "execution_count": null,
   "metadata": {
    "collapsed": true
   },
   "outputs": [],
   "source": []
  },
  {
   "cell_type": "code",
   "execution_count": null,
   "metadata": {
    "collapsed": true
   },
   "outputs": [],
   "source": []
  }
 ],
 "metadata": {
  "kernelspec": {
   "display_name": "R",
   "language": "R",
   "name": "ir"
  },
  "language_info": {
   "codemirror_mode": "r",
   "file_extension": ".r",
   "mimetype": "text/x-r-source",
   "name": "R",
   "pygments_lexer": "r",
   "version": "3.4.3"
  }
 },
 "nbformat": 4,
 "nbformat_minor": 2
}
